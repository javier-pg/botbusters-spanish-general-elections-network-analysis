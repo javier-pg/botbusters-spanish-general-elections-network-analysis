{
 "cells": [
  {
   "cell_type": "markdown",
   "metadata": {},
   "source": [
    "## Configuration"
   ]
  },
  {
   "cell_type": "markdown",
   "metadata": {},
   "source": [
    "### Imports"
   ]
  },
  {
   "cell_type": "code",
   "execution_count": 3,
   "metadata": {},
   "outputs": [],
   "source": [
    "# Utilities\n",
    "from IPython.display import display\n",
    "import os\n",
    "import numpy as np\n",
    "import time\n",
    "import pandas as pd\n",
    "from fastprogress import master_bar, progress_bar\n",
    "\n",
    "# MongoDB functionality\n",
    "from pymongo import MongoClient, InsertOne, UpdateOne\n",
    "from bson import ObjectId\n",
    "from collections.abc import MutableMapping\n",
    "\n",
    "# Graphics\n",
    "import matplotlib.pyplot as plt\n",
    "from matplotlib.pyplot import text\n",
    "import seaborn as sns\n",
    "sns.set(font_scale=0.9)\n",
    "sns.set_style(\"whitegrid\")\n",
    "sns.set_style({'font.family':'monospace'})\n",
    "from mpl_toolkits.axes_grid1.inset_locator import inset_axes\n",
    "\n",
    "\n",
    "# Date Graphics\n",
    "from pandas.plotting import register_matplotlib_converters\n",
    "register_matplotlib_converters()\n",
    "import matplotlib.ticker as ticker\n",
    "import matplotlib.gridspec as gridspec\n",
    "import matplotlib.dates as mdates\n",
    "import matplotlib.pyplot as plt\n",
    "from matplotlib.dates import date2num\n",
    "\n",
    "\n",
    "# Network analysis\n",
    "import networkx as nx\n",
    "\n",
    "ROOT_DIR = \"/home/mattia/javier/botbusters-spanish-general-elections-network-analysis/\"\n",
    "\n",
    "# Change path to root\n",
    "os.chdir(ROOT_DIR)\n",
    "\n",
    "# MongoDB parameters\n",
    "mongoclient = MongoClient('localhost', 27017)\n",
    "db = mongoclient.influence"
   ]
  },
  {
   "cell_type": "markdown",
   "metadata": {},
   "source": [
    "### Support Functions"
   ]
  },
  {
   "cell_type": "code",
   "execution_count": 4,
   "metadata": {},
   "outputs": [],
   "source": [
    "def flatten(d, parent_key='', sep='_'):\n",
    "    \"\"\"Formats MongoDB results\n",
    "    \n",
    "    Keyword arguments:\n",
    "    d -- dictionary with key and uncleaned values\n",
    "    parent_key --\n",
    "    sep --\n",
    "    \"\"\"\n",
    "    items = []\n",
    "    for k, v in d.items():\n",
    "        new_key = parent_key + sep + k if parent_key else k\n",
    "        if isinstance(v, MutableMapping):\n",
    "            items.extend(flatten(v, new_key, sep=sep).items())\n",
    "        else:\n",
    "            items.append((new_key, v))\n",
    "    return dict(items)\n",
    "\n",
    "def make_objid(text):\n",
    "    \"\"\"Makes an ObjectId of 4 bytes\n",
    "    \n",
    "    Keyword arguments:\n",
    "    text -- string to be converted into Object ID\n",
    "    \"\"\"\n",
    "    text = str(text)\n",
    "    if not text.strip():\n",
    "        return None\n",
    "    try:\n",
    "        return ObjectId(text.rjust(24,\"0\"))\n",
    "    except Exception as ex:\n",
    "        print(text, ex)\n",
    "        return None\n",
    "\n",
    "LIMIT=6*500000\n",
    "    \n",
    "def get_tweets(collection):\n",
    "    \"\"\"\n",
    "    Gets tweets\n",
    "    \n",
    "    collection - Tweets MongoDB collection\n",
    "    \"\"\"\n",
    "    tweets = list(collection\n",
    "                    .find({'sampled':True},{'_id': False, 'tweet_id': True, 'user_id' : True, 'date':True})\n",
    "                   )\n",
    "    \n",
    "    print(\"Number of tweets:\", len(tweets))\n",
    "    tweets = [flatten(t) for t in tweets]\n",
    "    df_tweets = pd.DataFrame(tweets)\n",
    "    df_tweets.user_id = df_tweets.user_id.apply(lambda t : str(t))\n",
    "    df_tweets.user_id = df_tweets.user_id.astype(str)\n",
    "    df_tweets.date = df_tweets.date.astype(\"datetime64\")\n",
    "    return df_tweets\n",
    "    \n",
    "    \n",
    "def get_retweets(collection):\n",
    "    \"\"\"\n",
    "    Gets retweets\n",
    "    \n",
    "    collection - Retweets MongoDB collection\n",
    "    \"\"\"\n",
    "    retweets = list(collection\n",
    "                    .find({'sampled':True},{'_id': False, 'tweet_id': True, 'user_id' : True, 'date':True})\n",
    "                    .limit(LIMIT)\n",
    "                   )\n",
    "    \n",
    "    print(\"Number of retweets:\", len(retweets))\n",
    "    retweets = [flatten(r) for r in retweets]\n",
    "    df_retweets = pd.DataFrame(retweets)\n",
    "    df_retweets.user_id = df_retweets.user_id.apply(lambda t : str(t))\n",
    "    df_retweets.user_id = df_retweets.user_id.astype(str)\n",
    "    df_retweets.date = df_retweets.date.astype(\"datetime64\")\n",
    "    return df_retweets\n",
    "\n",
    "def get_users(collection):\n",
    "    \"\"\"\n",
    "    Gets users\n",
    "    \n",
    "    collection - Users MongoDB collection\n",
    "    \"\"\"\n",
    "    users = list(collection.find({ '$and' : [ { 'sampled': True } , { 'botscore' : { '$gte' : 0 } }]},\n",
    "                                 {'_id' : True, 'botscore' : True})\n",
    "                 #.limit(LIMIT)\n",
    "                )\n",
    "\n",
    "    print(\"Number of sampled users with botscore in DB:\", len(users))\n",
    "    users = [flatten(u) for u in users]\n",
    "    df_users = pd.DataFrame(users)\n",
    "    df_users._id = df_users._id.apply(lambda t : str(t))\n",
    "    df_users._id = df_users._id.astype(str)\n",
    "    return df_users\n",
    "\n",
    "def reindex_by_date(df):\n",
    "    \"\"\"Reindexes a DataFrame by date\n",
    "    \n",
    "    Keyword arguments:\n",
    "    df -- DataFrame to be reindexed by date\n",
    "    \"\"\"\n",
    "    dates = pd.date_range(xlim[0], xlim[1],name='created_at')\n",
    "    return df.reindex(dates,fill_value=0)\n",
    "\n",
    "def daterange(start_date, end_date):\n",
    "    \"\"\"Creates a generator of days to be used in loops\n",
    "    \n",
    "    Keyword arguments:\n",
    "    start_date -- First date to be generated\n",
    "    end_date -- Last date to be generated\n",
    "    \"\"\"\n",
    "    for n in range(int ((end_date - start_date).days)):\n",
    "        yield start_date + timedelta(n)"
   ]
  },
  {
   "cell_type": "markdown",
   "metadata": {},
   "source": [
    "## Data preparation"
   ]
  },
  {
   "cell_type": "markdown",
   "metadata": {},
   "source": [
    "#### Getting tweets from database"
   ]
  },
  {
   "cell_type": "code",
   "execution_count": 3,
   "metadata": {},
   "outputs": [
    {
     "name": "stdout",
     "output_type": "stream",
     "text": [
      "Number of tweets: 358190\n"
     ]
    },
    {
     "data": {
      "text/html": [
       "<div>\n",
       "<style scoped>\n",
       "    .dataframe tbody tr th:only-of-type {\n",
       "        vertical-align: middle;\n",
       "    }\n",
       "\n",
       "    .dataframe tbody tr th {\n",
       "        vertical-align: top;\n",
       "    }\n",
       "\n",
       "    .dataframe thead th {\n",
       "        text-align: right;\n",
       "    }\n",
       "</style>\n",
       "<table border=\"1\" class=\"dataframe\">\n",
       "  <thead>\n",
       "    <tr style=\"text-align: right;\">\n",
       "      <th></th>\n",
       "      <th>user_id</th>\n",
       "      <th>date</th>\n",
       "      <th>tweet_id</th>\n",
       "    </tr>\n",
       "  </thead>\n",
       "  <tbody>\n",
       "    <tr>\n",
       "      <th>0</th>\n",
       "      <td>000000000000000279465279</td>\n",
       "      <td>2019-11-04 21:15:49</td>\n",
       "      <td>000001191464087064109058</td>\n",
       "    </tr>\n",
       "    <tr>\n",
       "      <th>1</th>\n",
       "      <td>000000000000001266667238</td>\n",
       "      <td>2019-11-08 12:53:41</td>\n",
       "      <td>000001192787272975945729</td>\n",
       "    </tr>\n",
       "    <tr>\n",
       "      <th>2</th>\n",
       "      <td>000000000000000331220696</td>\n",
       "      <td>2019-11-04 21:28:10</td>\n",
       "      <td>000001191467194519080960</td>\n",
       "    </tr>\n",
       "  </tbody>\n",
       "</table>\n",
       "</div>"
      ],
      "text/plain": [
       "                    user_id                date                  tweet_id\n",
       "0  000000000000000279465279 2019-11-04 21:15:49  000001191464087064109058\n",
       "1  000000000000001266667238 2019-11-08 12:53:41  000001192787272975945729\n",
       "2  000000000000000331220696 2019-11-04 21:28:10  000001191467194519080960"
      ]
     },
     "execution_count": 3,
     "metadata": {},
     "output_type": "execute_result"
    }
   ],
   "source": [
    "df_tweets = get_tweets(db.tweets)\n",
    "df_tweets.head(3)"
   ]
  },
  {
   "cell_type": "code",
   "execution_count": 4,
   "metadata": {},
   "outputs": [
    {
     "name": "stdout",
     "output_type": "stream",
     "text": [
      "<class 'pandas.core.frame.DataFrame'>\n",
      "RangeIndex: 358190 entries, 0 to 358189\n",
      "Data columns (total 3 columns):\n",
      " #   Column    Non-Null Count   Dtype         \n",
      "---  ------    --------------   -----         \n",
      " 0   user_id   358190 non-null  object        \n",
      " 1   date      358190 non-null  datetime64[ns]\n",
      " 2   tweet_id  358190 non-null  object        \n",
      "dtypes: datetime64[ns](1), object(2)\n",
      "memory usage: 8.2+ MB\n"
     ]
    }
   ],
   "source": [
    "df_tweets[df_tweets.duplicated()].count()\n",
    "df_tweets.info()"
   ]
  },
  {
   "cell_type": "code",
   "execution_count": 5,
   "metadata": {},
   "outputs": [],
   "source": [
    "df_tweets.drop_duplicates(keep='first', inplace=True)"
   ]
  },
  {
   "cell_type": "markdown",
   "metadata": {},
   "source": [
    "#### Getting retweets from database"
   ]
  },
  {
   "cell_type": "code",
   "execution_count": 6,
   "metadata": {},
   "outputs": [
    {
     "name": "stdout",
     "output_type": "stream",
     "text": [
      "Number of retweets: 3000000\n"
     ]
    },
    {
     "data": {
      "text/html": [
       "<div>\n",
       "<style scoped>\n",
       "    .dataframe tbody tr th:only-of-type {\n",
       "        vertical-align: middle;\n",
       "    }\n",
       "\n",
       "    .dataframe tbody tr th {\n",
       "        vertical-align: top;\n",
       "    }\n",
       "\n",
       "    .dataframe thead th {\n",
       "        text-align: right;\n",
       "    }\n",
       "</style>\n",
       "<table border=\"1\" class=\"dataframe\">\n",
       "  <thead>\n",
       "    <tr style=\"text-align: right;\">\n",
       "      <th></th>\n",
       "      <th>tweet_id</th>\n",
       "      <th>user_id</th>\n",
       "      <th>date</th>\n",
       "    </tr>\n",
       "  </thead>\n",
       "  <tbody>\n",
       "    <tr>\n",
       "      <th>0</th>\n",
       "      <td>000001193667913368121351</td>\n",
       "      <td>000000000000004460826197</td>\n",
       "      <td>2019-11-10 23:15:43</td>\n",
       "    </tr>\n",
       "    <tr>\n",
       "      <th>1</th>\n",
       "      <td>000001192581634291355649</td>\n",
       "      <td>000001075150211725619200</td>\n",
       "      <td>2019-11-07 23:20:20</td>\n",
       "    </tr>\n",
       "    <tr>\n",
       "      <th>2</th>\n",
       "      <td>000001190659978471911424</td>\n",
       "      <td>000000000000000071190801</td>\n",
       "      <td>2019-11-02 16:54:42</td>\n",
       "    </tr>\n",
       "  </tbody>\n",
       "</table>\n",
       "</div>"
      ],
      "text/plain": [
       "                   tweet_id                   user_id                date\n",
       "0  000001193667913368121351  000000000000004460826197 2019-11-10 23:15:43\n",
       "1  000001192581634291355649  000001075150211725619200 2019-11-07 23:20:20\n",
       "2  000001190659978471911424  000000000000000071190801 2019-11-02 16:54:42"
      ]
     },
     "execution_count": 6,
     "metadata": {},
     "output_type": "execute_result"
    }
   ],
   "source": [
    "df_retweets = get_retweets(db.retweets)\n",
    "df_retweets.head(3)"
   ]
  },
  {
   "cell_type": "code",
   "execution_count": 7,
   "metadata": {},
   "outputs": [
    {
     "data": {
      "text/plain": [
       "tweet_id    0\n",
       "user_id     0\n",
       "date        0\n",
       "dtype: int64"
      ]
     },
     "execution_count": 7,
     "metadata": {},
     "output_type": "execute_result"
    }
   ],
   "source": [
    "df_retweets[df_retweets.duplicated()].count()"
   ]
  },
  {
   "cell_type": "code",
   "execution_count": 8,
   "metadata": {},
   "outputs": [
    {
     "data": {
      "text/plain": [
       "tweet_id    3000000\n",
       "user_id     3000000\n",
       "date        3000000\n",
       "dtype: int64"
      ]
     },
     "execution_count": 8,
     "metadata": {},
     "output_type": "execute_result"
    }
   ],
   "source": [
    "df_retweets.drop_duplicates(keep='first', inplace=True)\n",
    "df_retweets.count()"
   ]
  },
  {
   "cell_type": "markdown",
   "metadata": {},
   "source": [
    "#### Getting users from database"
   ]
  },
  {
   "cell_type": "code",
   "execution_count": 9,
   "metadata": {},
   "outputs": [
    {
     "name": "stdout",
     "output_type": "stream",
     "text": [
      "Number of sampled users with botscore in DB: 458072\n"
     ]
    },
    {
     "data": {
      "text/html": [
       "<div>\n",
       "<style scoped>\n",
       "    .dataframe tbody tr th:only-of-type {\n",
       "        vertical-align: middle;\n",
       "    }\n",
       "\n",
       "    .dataframe tbody tr th {\n",
       "        vertical-align: top;\n",
       "    }\n",
       "\n",
       "    .dataframe thead th {\n",
       "        text-align: right;\n",
       "    }\n",
       "</style>\n",
       "<table border=\"1\" class=\"dataframe\">\n",
       "  <thead>\n",
       "    <tr style=\"text-align: right;\">\n",
       "      <th></th>\n",
       "      <th>_id</th>\n",
       "      <th>botscore</th>\n",
       "    </tr>\n",
       "  </thead>\n",
       "  <tbody>\n",
       "    <tr>\n",
       "      <th>0</th>\n",
       "      <td>000000000000002266588688</td>\n",
       "      <td>0.16</td>\n",
       "    </tr>\n",
       "    <tr>\n",
       "      <th>1</th>\n",
       "      <td>000000000000000471028961</td>\n",
       "      <td>0.03</td>\n",
       "    </tr>\n",
       "    <tr>\n",
       "      <th>2</th>\n",
       "      <td>000000000000002792368467</td>\n",
       "      <td>0.11</td>\n",
       "    </tr>\n",
       "    <tr>\n",
       "      <th>3</th>\n",
       "      <td>000000000000004068857357</td>\n",
       "      <td>0.01</td>\n",
       "    </tr>\n",
       "    <tr>\n",
       "      <th>4</th>\n",
       "      <td>000000000000000006953012</td>\n",
       "      <td>0.03</td>\n",
       "    </tr>\n",
       "  </tbody>\n",
       "</table>\n",
       "</div>"
      ],
      "text/plain": [
       "                        _id  botscore\n",
       "0  000000000000002266588688      0.16\n",
       "1  000000000000000471028961      0.03\n",
       "2  000000000000002792368467      0.11\n",
       "3  000000000000004068857357      0.01\n",
       "4  000000000000000006953012      0.03"
      ]
     },
     "metadata": {},
     "output_type": "display_data"
    }
   ],
   "source": [
    "users = get_users(db.users)\n",
    "display(users.head(5))\n",
    "users_botscore = dict(zip(users._id, users.botscore))"
   ]
  },
  {
   "cell_type": "markdown",
   "metadata": {},
   "source": [
    "## 1. Number of interactions per day"
   ]
  },
  {
   "cell_type": "markdown",
   "metadata": {},
   "source": [
    "#### Getting retweets + tweets, date and botscores"
   ]
  },
  {
   "cell_type": "code",
   "execution_count": 10,
   "metadata": {},
   "outputs": [
    {
     "name": "stdout",
     "output_type": "stream",
     "text": [
      "<class 'pandas.core.frame.DataFrame'>\n",
      "Int64Index: 358190 entries, 0 to 358189\n",
      "Data columns (total 3 columns):\n",
      " #   Column    Non-Null Count   Dtype         \n",
      "---  ------    --------------   -----         \n",
      " 0   user_id   358190 non-null  object        \n",
      " 1   date      358190 non-null  datetime64[ns]\n",
      " 2   tweet_id  358190 non-null  object        \n",
      "dtypes: datetime64[ns](1), object(2)\n",
      "memory usage: 10.9+ MB\n"
     ]
    },
    {
     "data": {
      "text/plain": [
       "None"
      ]
     },
     "metadata": {},
     "output_type": "display_data"
    },
    {
     "name": "stdout",
     "output_type": "stream",
     "text": [
      "<class 'pandas.core.frame.DataFrame'>\n",
      "Int64Index: 3000000 entries, 0 to 2999999\n",
      "Data columns (total 3 columns):\n",
      " #   Column    Dtype         \n",
      "---  ------    -----         \n",
      " 0   tweet_id  object        \n",
      " 1   user_id   object        \n",
      " 2   date      datetime64[ns]\n",
      "dtypes: datetime64[ns](1), object(2)\n",
      "memory usage: 91.6+ MB\n"
     ]
    },
    {
     "data": {
      "text/plain": [
       "None"
      ]
     },
     "metadata": {},
     "output_type": "display_data"
    }
   ],
   "source": [
    "display(df_tweets.info())\n",
    "display(df_retweets.info())"
   ]
  },
  {
   "cell_type": "code",
   "execution_count": 11,
   "metadata": {},
   "outputs": [
    {
     "name": "stdout",
     "output_type": "stream",
     "text": [
      "<class 'pandas.core.frame.DataFrame'>\n",
      "RangeIndex: 3358190 entries, 0 to 3358189\n",
      "Data columns (total 3 columns):\n",
      " #   Column    Dtype \n",
      "---  ------    ----- \n",
      " 0   user_id   object\n",
      " 1   date      object\n",
      " 2   tweet_id  object\n",
      "dtypes: object(3)\n",
      "memory usage: 76.9+ MB\n"
     ]
    }
   ],
   "source": [
    "df_traffic = df_tweets.append(df_retweets, ignore_index=True)\n",
    "df_traffic['date'] = df_traffic.date.dt.date\n",
    "df_traffic.info()"
   ]
  },
  {
   "cell_type": "code",
   "execution_count": 12,
   "metadata": {},
   "outputs": [
    {
     "name": "stdout",
     "output_type": "stream",
     "text": [
      "2019-10-04 00:00:00 2019-11-11 00:00:00\n"
     ]
    }
   ],
   "source": [
    "start = pd.to_datetime(pd.to_datetime('10/04/2019').strftime(format='%Y-%m-%d'))\n",
    "end = pd.to_datetime(pd.to_datetime('11/11/2019').strftime(format='%Y-%m-%d'))\n",
    "print(start, end)"
   ]
  },
  {
   "cell_type": "code",
   "execution_count": 13,
   "metadata": {},
   "outputs": [
    {
     "name": "stdout",
     "output_type": "stream",
     "text": [
      "(datetime.date(2019, 10, 4), datetime.date(2019, 11, 11))\n"
     ]
    },
    {
     "data": {
      "text/html": [
       "<div>\n",
       "<style scoped>\n",
       "    .dataframe tbody tr th:only-of-type {\n",
       "        vertical-align: middle;\n",
       "    }\n",
       "\n",
       "    .dataframe tbody tr th {\n",
       "        vertical-align: top;\n",
       "    }\n",
       "\n",
       "    .dataframe thead th {\n",
       "        text-align: right;\n",
       "    }\n",
       "</style>\n",
       "<table border=\"1\" class=\"dataframe\">\n",
       "  <thead>\n",
       "    <tr style=\"text-align: right;\">\n",
       "      <th></th>\n",
       "      <th>user_id</th>\n",
       "      <th>date</th>\n",
       "      <th>tweet_id</th>\n",
       "    </tr>\n",
       "  </thead>\n",
       "  <tbody>\n",
       "    <tr>\n",
       "      <th>0</th>\n",
       "      <td>000000000000000279465279</td>\n",
       "      <td>2019-11-04</td>\n",
       "      <td>000001191464087064109058</td>\n",
       "    </tr>\n",
       "    <tr>\n",
       "      <th>1</th>\n",
       "      <td>000000000000001266667238</td>\n",
       "      <td>2019-11-08</td>\n",
       "      <td>000001192787272975945729</td>\n",
       "    </tr>\n",
       "    <tr>\n",
       "      <th>2</th>\n",
       "      <td>000000000000000331220696</td>\n",
       "      <td>2019-11-04</td>\n",
       "      <td>000001191467194519080960</td>\n",
       "    </tr>\n",
       "    <tr>\n",
       "      <th>3</th>\n",
       "      <td>000000000000001452965868</td>\n",
       "      <td>2019-10-31</td>\n",
       "      <td>000001189959990624292868</td>\n",
       "    </tr>\n",
       "    <tr>\n",
       "      <th>4</th>\n",
       "      <td>000000978377302286401537</td>\n",
       "      <td>2019-10-11</td>\n",
       "      <td>000001182607615752396800</td>\n",
       "    </tr>\n",
       "  </tbody>\n",
       "</table>\n",
       "</div>"
      ],
      "text/plain": [
       "                    user_id        date                  tweet_id\n",
       "0  000000000000000279465279  2019-11-04  000001191464087064109058\n",
       "1  000000000000001266667238  2019-11-08  000001192787272975945729\n",
       "2  000000000000000331220696  2019-11-04  000001191467194519080960\n",
       "3  000000000000001452965868  2019-10-31  000001189959990624292868\n",
       "4  000000978377302286401537  2019-10-11  000001182607615752396800"
      ]
     },
     "execution_count": 13,
     "metadata": {},
     "output_type": "execute_result"
    }
   ],
   "source": [
    "# filter days\n",
    "df_traffic = df_traffic[(df_traffic.date <= end) & (df_traffic.date >= start)]\n",
    "xlim = (df_traffic.date.min(), df_traffic.date.max())\n",
    "print(xlim)\n",
    "df_traffic.head()"
   ]
  },
  {
   "cell_type": "code",
   "execution_count": 14,
   "metadata": {},
   "outputs": [
    {
     "data": {
      "text/html": [
       "<div>\n",
       "<style scoped>\n",
       "    .dataframe tbody tr th:only-of-type {\n",
       "        vertical-align: middle;\n",
       "    }\n",
       "\n",
       "    .dataframe tbody tr th {\n",
       "        vertical-align: top;\n",
       "    }\n",
       "\n",
       "    .dataframe thead th {\n",
       "        text-align: right;\n",
       "    }\n",
       "</style>\n",
       "<table border=\"1\" class=\"dataframe\">\n",
       "  <thead>\n",
       "    <tr style=\"text-align: right;\">\n",
       "      <th></th>\n",
       "      <th>user_id</th>\n",
       "      <th>date</th>\n",
       "      <th>tweet_id</th>\n",
       "      <th>botscore</th>\n",
       "    </tr>\n",
       "  </thead>\n",
       "  <tbody>\n",
       "    <tr>\n",
       "      <th>0</th>\n",
       "      <td>000000000000000279465279</td>\n",
       "      <td>2019-11-04</td>\n",
       "      <td>000001191464087064109058</td>\n",
       "      <td>0.0</td>\n",
       "    </tr>\n",
       "    <tr>\n",
       "      <th>1</th>\n",
       "      <td>000000000000001266667238</td>\n",
       "      <td>2019-11-08</td>\n",
       "      <td>000001192787272975945729</td>\n",
       "      <td>0.2</td>\n",
       "    </tr>\n",
       "    <tr>\n",
       "      <th>2</th>\n",
       "      <td>000000000000000331220696</td>\n",
       "      <td>2019-11-04</td>\n",
       "      <td>000001191467194519080960</td>\n",
       "      <td>0.1</td>\n",
       "    </tr>\n",
       "    <tr>\n",
       "      <th>3</th>\n",
       "      <td>000000000000001452965868</td>\n",
       "      <td>2019-10-31</td>\n",
       "      <td>000001189959990624292868</td>\n",
       "      <td>0.7</td>\n",
       "    </tr>\n",
       "    <tr>\n",
       "      <th>4</th>\n",
       "      <td>000000978377302286401537</td>\n",
       "      <td>2019-10-11</td>\n",
       "      <td>000001182607615752396800</td>\n",
       "      <td>NaN</td>\n",
       "    </tr>\n",
       "  </tbody>\n",
       "</table>\n",
       "</div>"
      ],
      "text/plain": [
       "                    user_id        date                  tweet_id  botscore\n",
       "0  000000000000000279465279  2019-11-04  000001191464087064109058       0.0\n",
       "1  000000000000001266667238  2019-11-08  000001192787272975945729       0.2\n",
       "2  000000000000000331220696  2019-11-04  000001191467194519080960       0.1\n",
       "3  000000000000001452965868  2019-10-31  000001189959990624292868       0.7\n",
       "4  000000978377302286401537  2019-10-11  000001182607615752396800       NaN"
      ]
     },
     "execution_count": 14,
     "metadata": {},
     "output_type": "execute_result"
    }
   ],
   "source": [
    "df_traffic['botscore'] = df_traffic.user_id.map(users_botscore)\n",
    "df_traffic['botscore'] = df_traffic.botscore.round(decimals=1)\n",
    "df_traffic.head()"
   ]
  },
  {
   "cell_type": "code",
   "execution_count": 15,
   "metadata": {},
   "outputs": [],
   "source": [
    "df_traffic = df_traffic.dropna(axis='index', how='any').sort_values(by='date', ascending=True)"
   ]
  },
  {
   "cell_type": "code",
   "execution_count": 36,
   "metadata": {},
   "outputs": [
    {
     "name": "stdout",
     "output_type": "stream",
     "text": [
      "[0.2 0.3]\n"
     ]
    }
   ],
   "source": [
    "prs = [70,90]\n",
    "ps = np.percentile(a=df_traffic.drop_duplicates(subset='user_id').botscore, q=prs, interpolation='lower')\n",
    "print(ps)"
   ]
  },
  {
   "cell_type": "code",
   "execution_count": 37,
   "metadata": {},
   "outputs": [],
   "source": [
    "def interval(row):\n",
    "    if row['botscore'] < ps[0]:\n",
    "        return 'Likely human'\n",
    "    elif row['botscore'] < ps[1]:\n",
    "        return 'Human-Bot transition'\n",
    "    else:\n",
    "        return 'Likely bot'"
   ]
  },
  {
   "cell_type": "code",
   "execution_count": 38,
   "metadata": {},
   "outputs": [
    {
     "data": {
      "text/html": [
       "<div>\n",
       "<style scoped>\n",
       "    .dataframe tbody tr th:only-of-type {\n",
       "        vertical-align: middle;\n",
       "    }\n",
       "\n",
       "    .dataframe tbody tr th {\n",
       "        vertical-align: top;\n",
       "    }\n",
       "\n",
       "    .dataframe thead th {\n",
       "        text-align: right;\n",
       "    }\n",
       "</style>\n",
       "<table border=\"1\" class=\"dataframe\">\n",
       "  <thead>\n",
       "    <tr style=\"text-align: right;\">\n",
       "      <th></th>\n",
       "      <th>user_id</th>\n",
       "      <th>date</th>\n",
       "      <th>tweet_id</th>\n",
       "      <th>botscore</th>\n",
       "      <th>botscore interval</th>\n",
       "    </tr>\n",
       "  </thead>\n",
       "  <tbody>\n",
       "    <tr>\n",
       "      <th>1946898</th>\n",
       "      <td>000000000000000429812273</td>\n",
       "      <td>2019-10-04</td>\n",
       "      <td>000001179773821685043200</td>\n",
       "      <td>0.1</td>\n",
       "      <td>Likely human</td>\n",
       "    </tr>\n",
       "    <tr>\n",
       "      <th>1954970</th>\n",
       "      <td>000000000000000172947580</td>\n",
       "      <td>2019-10-04</td>\n",
       "      <td>000001179907028002709504</td>\n",
       "      <td>0.1</td>\n",
       "      <td>Likely human</td>\n",
       "    </tr>\n",
       "    <tr>\n",
       "      <th>1954969</th>\n",
       "      <td>000000000000000066399906</td>\n",
       "      <td>2019-10-04</td>\n",
       "      <td>000001179907028002709504</td>\n",
       "      <td>0.1</td>\n",
       "      <td>Likely human</td>\n",
       "    </tr>\n",
       "    <tr>\n",
       "      <th>1954968</th>\n",
       "      <td>000000000000002230535513</td>\n",
       "      <td>2019-10-04</td>\n",
       "      <td>000001179907028002709504</td>\n",
       "      <td>0.1</td>\n",
       "      <td>Likely human</td>\n",
       "    </tr>\n",
       "    <tr>\n",
       "      <th>1954966</th>\n",
       "      <td>000000000000000186987322</td>\n",
       "      <td>2019-10-04</td>\n",
       "      <td>000001179907028002709504</td>\n",
       "      <td>0.2</td>\n",
       "      <td>Human-Bot transition</td>\n",
       "    </tr>\n",
       "  </tbody>\n",
       "</table>\n",
       "</div>"
      ],
      "text/plain": [
       "                          user_id        date                  tweet_id  \\\n",
       "1946898  000000000000000429812273  2019-10-04  000001179773821685043200   \n",
       "1954970  000000000000000172947580  2019-10-04  000001179907028002709504   \n",
       "1954969  000000000000000066399906  2019-10-04  000001179907028002709504   \n",
       "1954968  000000000000002230535513  2019-10-04  000001179907028002709504   \n",
       "1954966  000000000000000186987322  2019-10-04  000001179907028002709504   \n",
       "\n",
       "         botscore     botscore interval  \n",
       "1946898       0.1          Likely human  \n",
       "1954970       0.1          Likely human  \n",
       "1954969       0.1          Likely human  \n",
       "1954968       0.1          Likely human  \n",
       "1954966       0.2  Human-Bot transition  "
      ]
     },
     "execution_count": 38,
     "metadata": {},
     "output_type": "execute_result"
    }
   ],
   "source": [
    "df_traffic['botscore interval'] = df_traffic.apply(lambda row : interval(row), axis=1)\n",
    "df_traffic.head()"
   ]
  },
  {
   "cell_type": "code",
   "execution_count": 39,
   "metadata": {},
   "outputs": [
    {
     "data": {
      "image/png": "[encoded data removed]",
      "text/plain": [
       "<Figure size 875.64x360 with 1 Axes>"
      ]
     },
     "metadata": {},
     "output_type": "display_data"
    }
   ],
   "source": [
    "# plot\n",
    "ax = sns.displot(data=df_traffic,\n",
    "                   x='date', \n",
    "                   hue='botscore interval',\n",
    "               hue_order=['Likely bot','Human-Bot transition', 'Likely human'],\n",
    "\n",
    "                  kde=True,\n",
    "                   multiple=\"fill\",\n",
    "                  height=5,\n",
    "                aspect=2)\n",
    "\n",
    "plt.title('Volume timeline')\n",
    "ax.set_axis_labels(\"Date\", \"Volume proportion\")\n",
    "ax.ax.xaxis.set_major_locator(mdates.DayLocator()) #bymonthday=range(1,30,3)\n",
    "ax.ax.xaxis.set_tick_params(rotation=75)\n",
    "\n",
    "\n",
    "colors={prs[0]:'green',\n",
    "        prs[1]:'saddlebrown'}\n",
    "h_xlims = ax.ax.get_xlim()\n",
    "for pr,p in zip(prs,ps):\n",
    "    ax.ax.hlines(y=pr/100, xmin=h_xlims[0], xmax=h_xlims[1], linewidth = 1, linestyles='dashed',color=colors[pr])\n",
    "    text(y=pr/100+0.01, x=h_xlims[1]+0.5, s= str(pr/100), verticalalignment='center')\n",
    "\n",
    "ax.tight_layout()\n",
    "#ax.savefig(GRAPHICS_DIR+\"timeline/\"+version+\"-traffic-timeline-original.pdf\", bbox_inches = \"tight\")"
   ]
  },
  {
   "cell_type": "code",
   "execution_count": 40,
   "metadata": {},
   "outputs": [
    {
     "data": {
      "image/png": "[encoded data removed]",
      "text/plain": [
       "<Figure size 875.64x360 with 1 Axes>"
      ]
     },
     "metadata": {},
     "output_type": "display_data"
    }
   ],
   "source": [
    "# plot\n",
    "ax = sns.displot(data=df_traffic,\n",
    "                   x='date', \n",
    "                   hue='botscore interval',\n",
    "                hue_order=['Likely bot','Human-Bot transition', 'Likely human'],\n",
    "                  kde=True,\n",
    "                   multiple=\"stack\",\n",
    "                  height=5,\n",
    "                aspect=2)\n",
    "\n",
    "plt.title('Volume timeline')\n",
    "ax.set_axis_labels(\"Date\", \"Volume\")\n",
    "ax.ax.xaxis.set_major_locator(mdates.DayLocator()) #bymonthday=range(1,30,3)\n",
    "ax.ax.xaxis.set_tick_params(rotation=75)\n",
    "ax.tight_layout()"
   ]
  },
  {
   "cell_type": "markdown",
   "metadata": {},
   "source": [
    "#### Build directed-weighted retweet graph"
   ]
  },
  {
   "cell_type": "code",
   "execution_count": 21,
   "metadata": {},
   "outputs": [
    {
     "data": {
      "text/html": [
       "<div>\n",
       "<style scoped>\n",
       "    .dataframe tbody tr th:only-of-type {\n",
       "        vertical-align: middle;\n",
       "    }\n",
       "\n",
       "    .dataframe tbody tr th {\n",
       "        vertical-align: top;\n",
       "    }\n",
       "\n",
       "    .dataframe thead th {\n",
       "        text-align: right;\n",
       "    }\n",
       "</style>\n",
       "<table border=\"1\" class=\"dataframe\">\n",
       "  <thead>\n",
       "    <tr style=\"text-align: right;\">\n",
       "      <th></th>\n",
       "      <th>date</th>\n",
       "      <th>retweeter_id</th>\n",
       "      <th>botscore</th>\n",
       "      <th>retweeted_id</th>\n",
       "    </tr>\n",
       "  </thead>\n",
       "  <tbody>\n",
       "    <tr>\n",
       "      <th>0</th>\n",
       "      <td>2019-10-22 00:28:29</td>\n",
       "      <td>000000000000001125213258</td>\n",
       "      <td>NaN</td>\n",
       "      <td>000000000000000022488241</td>\n",
       "    </tr>\n",
       "    <tr>\n",
       "      <th>1</th>\n",
       "      <td>2019-10-22 00:29:25</td>\n",
       "      <td>000000000000000250738602</td>\n",
       "      <td>NaN</td>\n",
       "      <td>000000000000000022488241</td>\n",
       "    </tr>\n",
       "    <tr>\n",
       "      <th>2</th>\n",
       "      <td>2019-10-22 00:58:21</td>\n",
       "      <td>000000000000000194176051</td>\n",
       "      <td>0.11</td>\n",
       "      <td>000000000000000022488241</td>\n",
       "    </tr>\n",
       "    <tr>\n",
       "      <th>3</th>\n",
       "      <td>2019-10-22 14:00:49</td>\n",
       "      <td>000000000000000376943216</td>\n",
       "      <td>0.00</td>\n",
       "      <td>000000000000000022488241</td>\n",
       "    </tr>\n",
       "    <tr>\n",
       "      <th>4</th>\n",
       "      <td>2019-10-22 15:21:25</td>\n",
       "      <td>000001121249610612260865</td>\n",
       "      <td>NaN</td>\n",
       "      <td>000000000000000022488241</td>\n",
       "    </tr>\n",
       "  </tbody>\n",
       "</table>\n",
       "</div>"
      ],
      "text/plain": [
       "                 date              retweeter_id  botscore  \\\n",
       "0 2019-10-22 00:28:29  000000000000001125213258       NaN   \n",
       "1 2019-10-22 00:29:25  000000000000000250738602       NaN   \n",
       "2 2019-10-22 00:58:21  000000000000000194176051      0.11   \n",
       "3 2019-10-22 14:00:49  000000000000000376943216      0.00   \n",
       "4 2019-10-22 15:21:25  000001121249610612260865       NaN   \n",
       "\n",
       "               retweeted_id  \n",
       "0  000000000000000022488241  \n",
       "1  000000000000000022488241  \n",
       "2  000000000000000022488241  \n",
       "3  000000000000000022488241  \n",
       "4  000000000000000022488241  "
      ]
     },
     "execution_count": 21,
     "metadata": {},
     "output_type": "execute_result"
    }
   ],
   "source": [
    "df_retweets['botscore'] = df_retweets.user_id.map(users_botscore)\n",
    "df_edges = df_retweets[['tweet_id','date','user_id','botscore']].rename({'user_id':'retweeter_id'}, axis='columns').set_index('tweet_id').join(df_tweets.rename({'user_id':'retweeted_id'}, axis='columns')[['tweet_id','retweeted_id']].set_index('tweet_id')).reset_index(drop=True)\n",
    "df_edges.head(5)"
   ]
  },
  {
   "cell_type": "markdown",
   "metadata": {},
   "source": [
    "### Retweet interactions in three main events"
   ]
  },
  {
   "cell_type": "code",
   "execution_count": 22,
   "metadata": {},
   "outputs": [],
   "source": [
    "situations = {\n",
    "    0 : [ pd.to_datetime(pd.to_datetime('10/19/2019').strftime(format='%Y-%m-%d')),  pd.to_datetime(pd.to_datetime('10/20/2019').strftime(format='%Y-%m-%d'))],\n",
    "    1 : [ pd.to_datetime(pd.to_datetime('11/04/2019').strftime(format='%Y-%m-%d')),  pd.to_datetime(pd.to_datetime('11/05/2019').strftime(format='%Y-%m-%d'))],\n",
    "    2 : [ pd.to_datetime(pd.to_datetime('11/10/2019').strftime(format='%Y-%m-%d')),  pd.to_datetime(pd.to_datetime('11/11/2019').strftime(format='%Y-%m-%d'))],\n",
    "}"
   ]
  },
  {
   "cell_type": "code",
   "execution_count": 23,
   "metadata": {},
   "outputs": [
    {
     "name": "stdout",
     "output_type": "stream",
     "text": [
      "Users with botscore: 67773\n",
      "Retweets with botscore: 87420\n",
      "Users with botscore: 46213\n",
      "Retweets with botscore: 62468\n",
      "Users with botscore: 47604\n",
      "Retweets with botscore: 56874\n"
     ]
    }
   ],
   "source": [
    "for sit in [0, 1, 2]:\n",
    "    df_situation = df_edges[(df_edges.date >= situations[sit][0]) & (df_edges.date <= situations[sit][1])]\n",
    "    df_situation = df_situation.groupby(['retweeter_id','retweeted_id']).size().reset_index().rename(columns={0:'weight'})\n",
    "    \n",
    "    implicated_users = []\n",
    "    implicated_users = list(set(list(df_situation.retweeter_id.unique()) + list(df_situation.retweeted_id.unique())))\n",
    "    #print(\"Implicated users:\", len(implicated_users))\n",
    "    \n",
    "    df_users = users[users._id.isin(implicated_users)]\n",
    "    print(\"Users with botscore:\", len(df_users))\n",
    "    \n",
    "    \n",
    "    df_situation = df_situation[(df_situation.retweeted_id.isin(df_users._id)) & (df_situation.retweeter_id.isin(df_users._id))]\n",
    "    print(\"Retweets with botscore:\", len(df_situation))\n",
    "    \n",
    "    #display(df_users.head())\n",
    "    #display(df_situation.head())\n",
    "    \n",
    "    G = nx.from_pandas_edgelist(df=df_situation, source='retweeted_id', target='retweeter_id', edge_attr='weight', create_using=nx.DiGraph)\n",
    "    #nx.set_node_attributes(G, values=-1, name='botscore')\n",
    "    node_attr = df_users.set_index('_id').to_dict('index')\n",
    "    nx.set_node_attributes(G, node_attr)\n",
    "    #nx.write_graphml(G, f\"graphs/2.kcore-situation{sit}.graphml\")"
   ]
  },
  {
   "cell_type": "markdown",
   "metadata": {},
   "source": [
    "## 2. Analysis of spreading cores"
   ]
  },
  {
   "cell_type": "code",
   "execution_count": 24,
   "metadata": {},
   "outputs": [
    {
     "name": "stdout",
     "output_type": "stream",
     "text": [
      "Users with botscore: 363073\n",
      "Total retweets 2561391\n",
      "Retweets with botscore: 1483832\n"
     ]
    }
   ],
   "source": [
    "df_retweets['botscore'] = df_retweets.user_id.map(users_botscore)\n",
    "\n",
    "df_edges = df_retweets[['tweet_id','date','user_id','botscore']].rename({'user_id':'retweeter_id'}, axis='columns').set_index('tweet_id').join(df_tweets.rename({'user_id':'retweeted_id'}, axis='columns')[['tweet_id','retweeted_id']].set_index('tweet_id')).reset_index(drop=True)\n",
    "df_kcore = df_edges.groupby(['retweeter_id','retweeted_id']).size().reset_index().rename(columns={0:'weight'})\n",
    "\n",
    "implicated_users = []\n",
    "implicated_users = list(set(list(df_kcore.retweeter_id.unique()) + list(df_kcore.retweeted_id.unique())))\n",
    "#print(\"Implicated users:\", len(implicated_users))\n",
    "\n",
    "df_users = users[users._id.isin(implicated_users)]\n",
    "print(\"Users with botscore:\", len(df_users))\n",
    "\n",
    "print(\"Total retweets\", len(df_kcore))\n",
    "df_kcore = df_kcore[(df_kcore.retweeted_id.isin(df_users._id)) & (df_kcore.retweeter_id.isin(df_users._id))]\n",
    "print(\"Retweets with botscore:\", len(df_kcore))\n",
    "\n",
    "#display(df_users.head())\n",
    "#display(df_situation.head())\n",
    "\n",
    "G = nx.from_pandas_edgelist(df=df_kcore, source='retweeted_id', target='retweeter_id', edge_attr='weight', create_using=nx.DiGraph)\n",
    "\n",
    "node_attr = df_users.set_index('_id').to_dict('index')\n",
    "nx.set_node_attributes(G, node_attr)"
   ]
  },
  {
   "cell_type": "code",
   "execution_count": 25,
   "metadata": {},
   "outputs": [],
   "source": [
    "#remove self loops for kshell\n",
    "G.remove_edges_from(nx.selfloop_edges(G))"
   ]
  },
  {
   "cell_type": "code",
   "execution_count": 26,
   "metadata": {},
   "outputs": [
    {
     "data": {
      "text/html": [
       "<div>\n",
       "<style scoped>\n",
       "    .dataframe tbody tr th:only-of-type {\n",
       "        vertical-align: middle;\n",
       "    }\n",
       "\n",
       "    .dataframe tbody tr th {\n",
       "        vertical-align: top;\n",
       "    }\n",
       "\n",
       "    .dataframe thead th {\n",
       "        text-align: right;\n",
       "    }\n",
       "</style>\n",
       "<table border=\"1\" class=\"dataframe\">\n",
       "  <thead>\n",
       "    <tr style=\"text-align: right;\">\n",
       "      <th></th>\n",
       "      <th>user</th>\n",
       "      <th>botscore</th>\n",
       "    </tr>\n",
       "  </thead>\n",
       "  <tbody>\n",
       "    <tr>\n",
       "      <th>0</th>\n",
       "      <td>000000000000000142395787</td>\n",
       "      <td>0.18</td>\n",
       "    </tr>\n",
       "    <tr>\n",
       "      <th>1</th>\n",
       "      <td>000000000000000000003971</td>\n",
       "      <td>0.12</td>\n",
       "    </tr>\n",
       "  </tbody>\n",
       "</table>\n",
       "</div>"
      ],
      "text/plain": [
       "                       user  botscore\n",
       "0  000000000000000142395787      0.18\n",
       "1  000000000000000000003971      0.12"
      ]
     },
     "execution_count": 26,
     "metadata": {},
     "output_type": "execute_result"
    }
   ],
   "source": [
    "df_botscores = pd.DataFrame.from_records(list(G.nodes(data='botscore')), columns=['user','botscore'])\n",
    "df_botscores.head(2)"
   ]
  },
  {
   "cell_type": "code",
   "execution_count": 27,
   "metadata": {},
   "outputs": [
    {
     "name": "stdout",
     "output_type": "stream",
     "text": [
      "CPU times: user 1min 46s, sys: 177 ms, total: 1min 46s\n",
      "Wall time: 1min 47s\n"
     ]
    },
    {
     "data": {
      "text/html": [
       "<div>\n",
       "<style scoped>\n",
       "    .dataframe tbody tr th:only-of-type {\n",
       "        vertical-align: middle;\n",
       "    }\n",
       "\n",
       "    .dataframe tbody tr th {\n",
       "        vertical-align: top;\n",
       "    }\n",
       "\n",
       "    .dataframe thead th {\n",
       "        text-align: right;\n",
       "    }\n",
       "</style>\n",
       "<table border=\"1\" class=\"dataframe\">\n",
       "  <thead>\n",
       "    <tr style=\"text-align: right;\">\n",
       "      <th></th>\n",
       "      <th>user</th>\n",
       "      <th>k-core</th>\n",
       "    </tr>\n",
       "  </thead>\n",
       "  <tbody>\n",
       "    <tr>\n",
       "      <th>0</th>\n",
       "      <td>000000000000000142395787</td>\n",
       "      <td>3</td>\n",
       "    </tr>\n",
       "    <tr>\n",
       "      <th>1</th>\n",
       "      <td>000000000000000000003971</td>\n",
       "      <td>8</td>\n",
       "    </tr>\n",
       "  </tbody>\n",
       "</table>\n",
       "</div>"
      ],
      "text/plain": [
       "                       user  k-core\n",
       "0  000000000000000142395787       3\n",
       "1  000000000000000000003971       8"
      ]
     },
     "execution_count": 27,
     "metadata": {},
     "output_type": "execute_result"
    }
   ],
   "source": [
    "%%time\n",
    "df_cores = pd.DataFrame(nx.core_number(G).items(), columns=['user','k-core'])\n",
    "df_cores.head(2)"
   ]
  },
  {
   "cell_type": "code",
   "execution_count": 28,
   "metadata": {},
   "outputs": [
    {
     "data": {
      "text/html": [
       "<div>\n",
       "<style scoped>\n",
       "    .dataframe tbody tr th:only-of-type {\n",
       "        vertical-align: middle;\n",
       "    }\n",
       "\n",
       "    .dataframe tbody tr th {\n",
       "        vertical-align: top;\n",
       "    }\n",
       "\n",
       "    .dataframe thead th {\n",
       "        text-align: right;\n",
       "    }\n",
       "</style>\n",
       "<table border=\"1\" class=\"dataframe\">\n",
       "  <thead>\n",
       "    <tr style=\"text-align: right;\">\n",
       "      <th></th>\n",
       "      <th>user</th>\n",
       "      <th>k-core</th>\n",
       "      <th>botscore</th>\n",
       "    </tr>\n",
       "  </thead>\n",
       "  <tbody>\n",
       "    <tr>\n",
       "      <th>89090</th>\n",
       "      <td>000000000000000303088914</td>\n",
       "      <td>1</td>\n",
       "      <td>0.17</td>\n",
       "    </tr>\n",
       "    <tr>\n",
       "      <th>77231</th>\n",
       "      <td>000000000000000268542242</td>\n",
       "      <td>4</td>\n",
       "      <td>0.26</td>\n",
       "    </tr>\n",
       "    <tr>\n",
       "      <th>103987</th>\n",
       "      <td>000000000000000369240600</td>\n",
       "      <td>1</td>\n",
       "      <td>0.00</td>\n",
       "    </tr>\n",
       "    <tr>\n",
       "      <th>92132</th>\n",
       "      <td>000000000000000312337748</td>\n",
       "      <td>9</td>\n",
       "      <td>0.11</td>\n",
       "    </tr>\n",
       "    <tr>\n",
       "      <th>275478</th>\n",
       "      <td>000000938069243270135809</td>\n",
       "      <td>1</td>\n",
       "      <td>0.53</td>\n",
       "    </tr>\n",
       "  </tbody>\n",
       "</table>\n",
       "</div>"
      ],
      "text/plain": [
       "                            user  k-core  botscore\n",
       "89090   000000000000000303088914       1      0.17\n",
       "77231   000000000000000268542242       4      0.26\n",
       "103987  000000000000000369240600       1      0.00\n",
       "92132   000000000000000312337748       9      0.11\n",
       "275478  000000938069243270135809       1      0.53"
      ]
     },
     "execution_count": 28,
     "metadata": {},
     "output_type": "execute_result"
    }
   ],
   "source": [
    "df_cores = df_cores.merge(df_botscores, on='user')\n",
    "df_cores.sample(5)"
   ]
  },
  {
   "cell_type": "code",
   "execution_count": 29,
   "metadata": {},
   "outputs": [
    {
     "data": {
      "text/plain": [
       "count    322145.000000\n",
       "mean          4.659538\n",
       "std           7.669085\n",
       "min           0.000000\n",
       "25%           1.000000\n",
       "50%           2.000000\n",
       "75%           4.000000\n",
       "max          56.000000\n",
       "Name: k-core, dtype: float64"
      ]
     },
     "execution_count": 29,
     "metadata": {},
     "output_type": "execute_result"
    }
   ],
   "source": [
    "df_cores['k-core'].describe()"
   ]
  },
  {
   "cell_type": "code",
   "execution_count": 30,
   "metadata": {},
   "outputs": [
    {
     "data": {
      "image/png": "[encoded data removed]",
      "text/plain": [
       "<Figure size 864x432 with 1 Axes>"
      ]
     },
     "metadata": {},
     "output_type": "display_data"
    }
   ],
   "source": [
    "fig, axs = plt.subplots(1, 1, figsize=(12,6))\n",
    "\n",
    "ax = sns.regplot(x='k-core',\n",
    "            y='botscore',\n",
    "            data=df_cores,\n",
    "            x_bins=[0,5,10,15,20,25,30,35,40,45,50,55,60],\n",
    "            scatter_kws = {'color': 'b', 's':12},\n",
    "            line_kws = {'color': '#CCCC00'},\n",
    "            order=3\n",
    "           )\n",
    "\n",
    "ax.set_ylabel(ylabel='Botscore')\n",
    "ax.set_xlabel(xlabel='K')\n",
    "fig.suptitle(\"Composition of network k-cores\", y=1.01)\n",
    "plt.tight_layout()"
   ]
  },
  {
   "cell_type": "code",
   "execution_count": 31,
   "metadata": {},
   "outputs": [
    {
     "name": "stdout",
     "output_type": "stream",
     "text": [
      "[0.18 0.33]\n"
     ]
    }
   ],
   "source": [
    "prs = [70,90]\n",
    "ps = np.percentile(a=df_cores.drop_duplicates(subset='user').botscore, q=prs, interpolation='lower')\n",
    "print(ps)"
   ]
  },
  {
   "cell_type": "code",
   "execution_count": 32,
   "metadata": {},
   "outputs": [],
   "source": [
    "def interval(row):\n",
    "    if row['botscore'] < ps[0]:\n",
    "        return 'Likely human'\n",
    "    elif row['botscore'] < ps[1]:\n",
    "        return 'Human-Bot transition'\n",
    "    else:\n",
    "        return 'Likely bot'"
   ]
  },
  {
   "cell_type": "code",
   "execution_count": 33,
   "metadata": {},
   "outputs": [
    {
     "data": {
      "text/html": [
       "<div>\n",
       "<style scoped>\n",
       "    .dataframe tbody tr th:only-of-type {\n",
       "        vertical-align: middle;\n",
       "    }\n",
       "\n",
       "    .dataframe tbody tr th {\n",
       "        vertical-align: top;\n",
       "    }\n",
       "\n",
       "    .dataframe thead th {\n",
       "        text-align: right;\n",
       "    }\n",
       "</style>\n",
       "<table border=\"1\" class=\"dataframe\">\n",
       "  <thead>\n",
       "    <tr style=\"text-align: right;\">\n",
       "      <th></th>\n",
       "      <th>user</th>\n",
       "      <th>k-core</th>\n",
       "      <th>botscore</th>\n",
       "      <th>User nature</th>\n",
       "    </tr>\n",
       "  </thead>\n",
       "  <tbody>\n",
       "    <tr>\n",
       "      <th>0</th>\n",
       "      <td>000000000000000142395787</td>\n",
       "      <td>3</td>\n",
       "      <td>0.18</td>\n",
       "      <td>Human-Bot transition</td>\n",
       "    </tr>\n",
       "    <tr>\n",
       "      <th>1</th>\n",
       "      <td>000000000000000000003971</td>\n",
       "      <td>8</td>\n",
       "      <td>0.12</td>\n",
       "      <td>Likely human</td>\n",
       "    </tr>\n",
       "    <tr>\n",
       "      <th>2</th>\n",
       "      <td>000000725285874506817536</td>\n",
       "      <td>10</td>\n",
       "      <td>0.08</td>\n",
       "      <td>Likely human</td>\n",
       "    </tr>\n",
       "    <tr>\n",
       "      <th>3</th>\n",
       "      <td>000001098576448246427649</td>\n",
       "      <td>11</td>\n",
       "      <td>0.15</td>\n",
       "      <td>Likely human</td>\n",
       "    </tr>\n",
       "    <tr>\n",
       "      <th>4</th>\n",
       "      <td>000000000000000160117488</td>\n",
       "      <td>11</td>\n",
       "      <td>0.34</td>\n",
       "      <td>Likely bot</td>\n",
       "    </tr>\n",
       "  </tbody>\n",
       "</table>\n",
       "</div>"
      ],
      "text/plain": [
       "                       user  k-core  botscore           User nature\n",
       "0  000000000000000142395787       3      0.18  Human-Bot transition\n",
       "1  000000000000000000003971       8      0.12          Likely human\n",
       "2  000000725285874506817536      10      0.08          Likely human\n",
       "3  000001098576448246427649      11      0.15          Likely human\n",
       "4  000000000000000160117488      11      0.34            Likely bot"
      ]
     },
     "execution_count": 33,
     "metadata": {},
     "output_type": "execute_result"
    }
   ],
   "source": [
    "df_cores['User nature'] = df_cores.apply(lambda row : interval(row), axis=1)\n",
    "df_cores.head()"
   ]
  },
  {
   "cell_type": "code",
   "execution_count": 34,
   "metadata": {},
   "outputs": [
    {
     "data": {
      "image/png": "[encoded data removed]",
      "text/plain": [
       "<Figure size 875.64x360 with 1 Axes>"
      ]
     },
     "metadata": {},
     "output_type": "display_data"
    }
   ],
   "source": [
    "# plot\n",
    "ax = sns.displot(data=df_cores,\n",
    "                x='k-core', \n",
    "                hue='User nature',\n",
    "                kde=True,\n",
    "                multiple=\"fill\",\n",
    "                hue_order=['Likely bot','Human-Bot transition', 'Likely human'],\n",
    "                height=5,\n",
    "                aspect=2,\n",
    "                facet_kws={'legend_out':True}\n",
    "                )\n",
    "\n",
    "plt.title('Absolute composition of network k-core')\n",
    "#ax.add_legend(loc='lower right')\n",
    "ax.set_axis_labels(\"K\", \"Absolute proportion of users\")\n",
    "\n",
    "colors={prs[0]:'green',\n",
    "        prs[1]:'saddlebrown'}\n",
    "h_xlims = ax.ax.get_xlim()\n",
    "for pr,p in zip(prs,ps):\n",
    "    ax.ax.hlines(y=pr/100, xmin=h_xlims[0], xmax=h_xlims[1], linewidth = 1, linestyles='dashed',color=colors[pr])\n",
    "    text(y=pr/100+0.01, x=h_xlims[1]+0.5, s= str(pr/100), verticalalignment='center')\n",
    "\n",
    "#ax.tight_layout()\n",
    "#ax.savefig(GRAPHICS_DIR+\"timeline/\"+version+\"-traffic-timeline-original.pdf\", bbox_inches = \"tight\")"
   ]
  },
  {
   "cell_type": "code",
   "execution_count": 5,
   "metadata": {},
   "outputs": [
    {
     "ename": "NameError",
     "evalue": "name 'df_cores' is not defined",
     "output_type": "error",
     "traceback": [
      "\u001b[0;31m---------------------------------------------------------------------------\u001b[0m",
      "\u001b[0;31mNameError\u001b[0m                                 Traceback (most recent call last)",
      "\u001b[0;32m<ipython-input-5-c049cbb218ef>\u001b[0m in \u001b[0;36m<module>\u001b[0;34m\u001b[0m\n\u001b[1;32m      1\u001b[0m \u001b[0mfig\u001b[0m\u001b[0;34m,\u001b[0m \u001b[0maxs\u001b[0m \u001b[0;34m=\u001b[0m \u001b[0mplt\u001b[0m\u001b[0;34m.\u001b[0m\u001b[0msubplots\u001b[0m\u001b[0;34m(\u001b[0m\u001b[0;36m1\u001b[0m\u001b[0;34m,\u001b[0m \u001b[0;36m1\u001b[0m\u001b[0;34m,\u001b[0m \u001b[0mfigsize\u001b[0m\u001b[0;34m=\u001b[0m\u001b[0;34m(\u001b[0m\u001b[0;36m12\u001b[0m\u001b[0;34m,\u001b[0m\u001b[0;36m6\u001b[0m\u001b[0;34m)\u001b[0m\u001b[0;34m)\u001b[0m\u001b[0;34m\u001b[0m\u001b[0;34m\u001b[0m\u001b[0m\n\u001b[1;32m      2\u001b[0m \u001b[0;34m\u001b[0m\u001b[0m\n\u001b[0;32m----> 3\u001b[0;31m ax = sns.kdeplot(data=df_cores[df_cores['k-core']>=10],\n\u001b[0m\u001b[1;32m      4\u001b[0m                    \u001b[0mx\u001b[0m\u001b[0;34m=\u001b[0m\u001b[0;34m'k-core'\u001b[0m\u001b[0;34m,\u001b[0m\u001b[0;34m\u001b[0m\u001b[0;34m\u001b[0m\u001b[0m\n\u001b[1;32m      5\u001b[0m                    \u001b[0mhue\u001b[0m\u001b[0;34m=\u001b[0m\u001b[0;34m'User nature'\u001b[0m\u001b[0;34m,\u001b[0m\u001b[0;34m\u001b[0m\u001b[0;34m\u001b[0m\u001b[0m\n",
      "\u001b[0;31mNameError\u001b[0m: name 'df_cores' is not defined"
     ]
    },
    {
     "data": {
      "image/png": "[encoded data removed]",
      "text/plain": [
       "<Figure size 864x432 with 1 Axes>"
      ]
     },
     "metadata": {},
     "output_type": "display_data"
    }
   ],
   "source": [
    "fig, axs = plt.subplots(1, 1, figsize=(12,6))\n",
    "\n",
    "ax = sns.kdeplot(data=df_cores[df_cores['k-core']>=10],\n",
    "                   x='k-core', \n",
    "                   hue='User nature',\n",
    "                   common_norm=False,\n",
    "                   #stat='probability',\n",
    "                   #kde=True,\n",
    "                   hue_order=['Likely bot','Human-Bot transition', 'Likely human'],\n",
    "                   log_scale=[False, False],\n",
    "                   multiple='stack',\n",
    "                   #height=3,\n",
    "                   #aspect=3,\n",
    "                )\n",
    "\n",
    "plt.title('Relative composition of network k-cores')\n",
    "plt.xlim(10,60)\n",
    "ax.set_xlabel(\"K\")\n",
    "ax.set_ylabel(\"Density (independently normalized and logarithmically scaled)\")\n",
    "plt.tight_layout()"
   ]
  },
  {
   "cell_type": "markdown",
   "metadata": {},
   "source": [
    "## 3. Concurrence Hashtags networks"
   ]
  }
 ],
 "metadata": {
  "kernelspec": {
   "display_name": "Python 3",
   "language": "python",
   "name": "python3"
  },
  "language_info": {
   "codemirror_mode": {
    "name": "ipython",
    "version": 3
   },
   "file_extension": ".py",
   "mimetype": "text/x-python",
   "name": "python",
   "nbconvert_exporter": "python",
   "pygments_lexer": "ipython3",
   "version": "3.7.4"
  }
 },
 "nbformat": 4,
 "nbformat_minor": 4
}
