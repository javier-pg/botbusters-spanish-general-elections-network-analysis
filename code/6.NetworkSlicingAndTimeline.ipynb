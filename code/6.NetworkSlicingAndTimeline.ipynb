{
 "cells": [
  {
   "cell_type": "markdown",
   "metadata": {},
   "source": [
    "## Configuration"
   ]
  },
  {
   "cell_type": "markdown",
   "metadata": {},
   "source": [
    "### Imports"
   ]
  },
  {
   "cell_type": "code",
   "execution_count": 2,
   "metadata": {},
   "outputs": [],
   "source": [
    "# Utilities\n",
    "from IPython.display import display\n",
    "import os\n",
    "import numpy as np\n",
    "import time\n",
    "import pandas as pd\n",
    "from fastprogress import master_bar, progress_bar\n",
    "\n",
    "# MongoDB functionality\n",
    "from pymongo import MongoClient, InsertOne, UpdateOne\n",
    "from bson import ObjectId\n",
    "from collections.abc import MutableMapping\n",
    "\n",
    "# Graphics\n",
    "import matplotlib.pyplot as plt\n",
    "from matplotlib.pyplot import text\n",
    "import seaborn as sns\n",
    "sns.set(font_scale=1.4)\n",
    "sns.set_style(\"whitegrid\")\n",
    "sns.set_style({'font.family':'monospace'})\n",
    "from mpl_toolkits.axes_grid1.inset_locator import inset_axes\n",
    "\n",
    "\n",
    "# Date Graphics\n",
    "from pandas.plotting import register_matplotlib_converters\n",
    "register_matplotlib_converters()\n",
    "import matplotlib.ticker as ticker\n",
    "import matplotlib.gridspec as gridspec\n",
    "import matplotlib.dates as mdates\n",
    "import matplotlib.pyplot as plt\n",
    "from matplotlib.dates import date2num\n",
    "\n",
    "\n",
    "# Network analysis\n",
    "import networkx as nx\n",
    "\n",
    "ROOT_DIR = \"/home/mattia/javier/botbusters-spanish-general-elections-network-analysis/\"\n",
    "\n",
    "# Change path to root\n",
    "os.chdir(ROOT_DIR)\n",
    "\n",
    "# MongoDB parameters\n",
    "mongoclient = MongoClient('localhost', 27017)\n",
    "db = mongoclient.influence"
   ]
  },
  {
   "cell_type": "markdown",
   "metadata": {},
   "source": [
    "### Support Functions"
   ]
  },
  {
   "cell_type": "code",
   "execution_count": 3,
   "metadata": {},
   "outputs": [],
   "source": [
    "def flatten(d, parent_key='', sep='_'):\n",
    "    \"\"\"Formats MongoDB results\n",
    "    \n",
    "    Keyword arguments:\n",
    "    d -- dictionary with key and uncleaned values\n",
    "    parent_key --\n",
    "    sep --\n",
    "    \"\"\"\n",
    "    items = []\n",
    "    for k, v in d.items():\n",
    "        new_key = parent_key + sep + k if parent_key else k\n",
    "        if isinstance(v, MutableMapping):\n",
    "            items.extend(flatten(v, new_key, sep=sep).items())\n",
    "        else:\n",
    "            items.append((new_key, v))\n",
    "    return dict(items)\n",
    "\n",
    "def make_objid(text):\n",
    "    \"\"\"Makes an ObjectId of 4 bytes\n",
    "    \n",
    "    Keyword arguments:\n",
    "    text -- string to be converted into Object ID\n",
    "    \"\"\"\n",
    "    text = str(text)\n",
    "    if not text.strip():\n",
    "        return None\n",
    "    try:\n",
    "        return ObjectId(text.rjust(24,\"0\"))\n",
    "    except Exception as ex:\n",
    "        print(text, ex)\n",
    "        return None\n",
    "    \n",
    "def get_tweets(collection):\n",
    "    \"\"\"\n",
    "    Gets tweets\n",
    "    \n",
    "    collection - Tweets MongoDB collection\n",
    "    \"\"\"\n",
    "    tweets = list(collection\n",
    "                    .find({'sampled':True},{'_id': False, 'tweet_id': True, 'user_id' : True, 'date':True})\n",
    "                   )\n",
    "    \n",
    "    print(\"Number of tweets:\", len(tweets))\n",
    "    tweets = [flatten(t) for t in tweets]\n",
    "    df_tweets = pd.DataFrame(tweets)\n",
    "    df_tweets.user_id = df_tweets.user_id.apply(lambda t : str(t))\n",
    "    df_tweets.user_id = df_tweets.user_id.astype(str)\n",
    "    df_tweets.date = df_tweets.date.astype(\"datetime64\")\n",
    "    return df_tweets\n",
    "    \n",
    "    \n",
    "def get_retweets(collection):\n",
    "    \"\"\"\n",
    "    Gets retweets\n",
    "    \n",
    "    collection - Retweets MongoDB collection\n",
    "    \"\"\"\n",
    "    retweets = list(collection\n",
    "                    .find({'sampled':True},{'_id': False, 'tweet_id': True, 'user_id' : True, 'date':True})\n",
    "                   )\n",
    "    \n",
    "    print(\"Number of retweets:\", len(retweets))\n",
    "    retweets = [flatten(r) for r in retweets]\n",
    "    df_retweets = pd.DataFrame(retweets)\n",
    "    df_retweets.user_id = df_retweets.user_id.apply(lambda t : str(t))\n",
    "    df_retweets.user_id = df_retweets.user_id.astype(str)\n",
    "    df_retweets.date = df_retweets.date.astype(\"datetime64\")\n",
    "    return df_retweets\n",
    "\n",
    "def get_users(collection):\n",
    "    \"\"\"\n",
    "    Gets users\n",
    "    \n",
    "    collection - Users MongoDB collection\n",
    "    \"\"\"\n",
    "    users = list(collection.find({ '$and' : [ { 'sampled': True } , { 'botscore' : { '$gte' : 0 } }]},\n",
    "                                 {'_id' : True, 'botscore' : True})\n",
    "                )\n",
    "\n",
    "    print(\"Number of sampled users with botscore in DB:\", len(users))\n",
    "    users = [flatten(u) for u in users]\n",
    "    df_users = pd.DataFrame(users)\n",
    "    df_users._id = df_users._id.apply(lambda t : str(t))\n",
    "    df_users._id = df_users._id.astype(str)\n",
    "    return df_users\n",
    "\n",
    "def reindex_by_date(df):\n",
    "    \"\"\"Reindexes a DataFrame by date\n",
    "    \n",
    "    Keyword arguments:\n",
    "    df -- DataFrame to be reindexed by date\n",
    "    \"\"\"\n",
    "    dates = pd.date_range(xlim[0], xlim[1],name='created_at')\n",
    "    return df.reindex(dates,fill_value=0)\n",
    "\n",
    "def daterange(start_date, end_date):\n",
    "    \"\"\"Creates a generator of days to be used in loops\n",
    "    \n",
    "    Keyword arguments:\n",
    "    start_date -- First date to be generated\n",
    "    end_date -- Last date to be generated\n",
    "    \"\"\"\n",
    "    for n in range(int ((end_date - start_date).days)):\n",
    "        yield start_date + timedelta(n)"
   ]
  },
  {
   "cell_type": "markdown",
   "metadata": {},
   "source": [
    "## Data preparation"
   ]
  },
  {
   "cell_type": "markdown",
   "metadata": {},
   "source": [
    "#### Getting tweets from database"
   ]
  },
  {
   "cell_type": "code",
   "execution_count": 4,
   "metadata": {},
   "outputs": [
    {
     "name": "stdout",
     "output_type": "stream",
     "text": [
      "Number of tweets: 358190\n"
     ]
    },
    {
     "data": {
      "text/html": [
       "<div>\n",
       "<style scoped>\n",
       "    .dataframe tbody tr th:only-of-type {\n",
       "        vertical-align: middle;\n",
       "    }\n",
       "\n",
       "    .dataframe tbody tr th {\n",
       "        vertical-align: top;\n",
       "    }\n",
       "\n",
       "    .dataframe thead th {\n",
       "        text-align: right;\n",
       "    }\n",
       "</style>\n",
       "<table border=\"1\" class=\"dataframe\">\n",
       "  <thead>\n",
       "    <tr style=\"text-align: right;\">\n",
       "      <th></th>\n",
       "      <th>user_id</th>\n",
       "      <th>date</th>\n",
       "      <th>tweet_id</th>\n",
       "    </tr>\n",
       "  </thead>\n",
       "  <tbody>\n",
       "    <tr>\n",
       "      <th>0</th>\n",
       "      <td>000000000000000279465279</td>\n",
       "      <td>2019-11-04 21:15:49</td>\n",
       "      <td>000001191464087064109058</td>\n",
       "    </tr>\n",
       "    <tr>\n",
       "      <th>1</th>\n",
       "      <td>000000000000001266667238</td>\n",
       "      <td>2019-11-08 12:53:41</td>\n",
       "      <td>000001192787272975945729</td>\n",
       "    </tr>\n",
       "    <tr>\n",
       "      <th>2</th>\n",
       "      <td>000000000000000331220696</td>\n",
       "      <td>2019-11-04 21:28:10</td>\n",
       "      <td>000001191467194519080960</td>\n",
       "    </tr>\n",
       "  </tbody>\n",
       "</table>\n",
       "</div>"
      ],
      "text/plain": [
       "                    user_id                date                  tweet_id\n",
       "0  000000000000000279465279 2019-11-04 21:15:49  000001191464087064109058\n",
       "1  000000000000001266667238 2019-11-08 12:53:41  000001192787272975945729\n",
       "2  000000000000000331220696 2019-11-04 21:28:10  000001191467194519080960"
      ]
     },
     "execution_count": 4,
     "metadata": {},
     "output_type": "execute_result"
    }
   ],
   "source": [
    "df_tweets = get_tweets(db.tweets)\n",
    "df_tweets.head(3)"
   ]
  },
  {
   "cell_type": "code",
   "execution_count": 5,
   "metadata": {},
   "outputs": [
    {
     "name": "stdout",
     "output_type": "stream",
     "text": [
      "<class 'pandas.core.frame.DataFrame'>\n",
      "RangeIndex: 358190 entries, 0 to 358189\n",
      "Data columns (total 3 columns):\n",
      " #   Column    Non-Null Count   Dtype         \n",
      "---  ------    --------------   -----         \n",
      " 0   user_id   358190 non-null  object        \n",
      " 1   date      358190 non-null  datetime64[ns]\n",
      " 2   tweet_id  358190 non-null  object        \n",
      "dtypes: datetime64[ns](1), object(2)\n",
      "memory usage: 8.2+ MB\n"
     ]
    }
   ],
   "source": [
    "df_tweets[df_tweets.duplicated()].count()\n",
    "df_tweets.info()"
   ]
  },
  {
   "cell_type": "code",
   "execution_count": 6,
   "metadata": {},
   "outputs": [],
   "source": [
    "df_tweets.drop_duplicates(keep='first', inplace=True)"
   ]
  },
  {
   "cell_type": "markdown",
   "metadata": {},
   "source": [
    "#### Getting retweets from database"
   ]
  },
  {
   "cell_type": "code",
   "execution_count": 7,
   "metadata": {},
   "outputs": [
    {
     "name": "stdout",
     "output_type": "stream",
     "text": [
      "Number of retweets: 7868861\n"
     ]
    },
    {
     "data": {
      "text/html": [
       "<div>\n",
       "<style scoped>\n",
       "    .dataframe tbody tr th:only-of-type {\n",
       "        vertical-align: middle;\n",
       "    }\n",
       "\n",
       "    .dataframe tbody tr th {\n",
       "        vertical-align: top;\n",
       "    }\n",
       "\n",
       "    .dataframe thead th {\n",
       "        text-align: right;\n",
       "    }\n",
       "</style>\n",
       "<table border=\"1\" class=\"dataframe\">\n",
       "  <thead>\n",
       "    <tr style=\"text-align: right;\">\n",
       "      <th></th>\n",
       "      <th>tweet_id</th>\n",
       "      <th>user_id</th>\n",
       "      <th>date</th>\n",
       "    </tr>\n",
       "  </thead>\n",
       "  <tbody>\n",
       "    <tr>\n",
       "      <th>0</th>\n",
       "      <td>000001193667913368121351</td>\n",
       "      <td>000000000000004460826197</td>\n",
       "      <td>2019-11-10 23:15:43</td>\n",
       "    </tr>\n",
       "    <tr>\n",
       "      <th>1</th>\n",
       "      <td>000001192581634291355649</td>\n",
       "      <td>000001075150211725619200</td>\n",
       "      <td>2019-11-07 23:20:20</td>\n",
       "    </tr>\n",
       "    <tr>\n",
       "      <th>2</th>\n",
       "      <td>000001190659978471911424</td>\n",
       "      <td>000000000000000071190801</td>\n",
       "      <td>2019-11-02 16:54:42</td>\n",
       "    </tr>\n",
       "  </tbody>\n",
       "</table>\n",
       "</div>"
      ],
      "text/plain": [
       "                   tweet_id                   user_id                date\n",
       "0  000001193667913368121351  000000000000004460826197 2019-11-10 23:15:43\n",
       "1  000001192581634291355649  000001075150211725619200 2019-11-07 23:20:20\n",
       "2  000001190659978471911424  000000000000000071190801 2019-11-02 16:54:42"
      ]
     },
     "execution_count": 7,
     "metadata": {},
     "output_type": "execute_result"
    }
   ],
   "source": [
    "df_retweets = get_retweets(db.retweets)\n",
    "df_retweets.head(3)"
   ]
  },
  {
   "cell_type": "code",
   "execution_count": 8,
   "metadata": {},
   "outputs": [
    {
     "data": {
      "text/plain": [
       "tweet_id    2\n",
       "user_id     2\n",
       "date        2\n",
       "dtype: int64"
      ]
     },
     "execution_count": 8,
     "metadata": {},
     "output_type": "execute_result"
    }
   ],
   "source": [
    "df_retweets[df_retweets.duplicated()].count()"
   ]
  },
  {
   "cell_type": "code",
   "execution_count": 9,
   "metadata": {},
   "outputs": [
    {
     "data": {
      "text/plain": [
       "tweet_id    7868859\n",
       "user_id     7868859\n",
       "date        7868859\n",
       "dtype: int64"
      ]
     },
     "execution_count": 9,
     "metadata": {},
     "output_type": "execute_result"
    }
   ],
   "source": [
    "df_retweets.drop_duplicates(keep='first', inplace=True)\n",
    "df_retweets.count()"
   ]
  },
  {
   "cell_type": "markdown",
   "metadata": {},
   "source": [
    "#### Getting users from database"
   ]
  },
  {
   "cell_type": "code",
   "execution_count": 10,
   "metadata": {},
   "outputs": [
    {
     "name": "stdout",
     "output_type": "stream",
     "text": [
      "Number of sampled users with botscore in DB: 1150709\n"
     ]
    },
    {
     "data": {
      "text/html": [
       "<div>\n",
       "<style scoped>\n",
       "    .dataframe tbody tr th:only-of-type {\n",
       "        vertical-align: middle;\n",
       "    }\n",
       "\n",
       "    .dataframe tbody tr th {\n",
       "        vertical-align: top;\n",
       "    }\n",
       "\n",
       "    .dataframe thead th {\n",
       "        text-align: right;\n",
       "    }\n",
       "</style>\n",
       "<table border=\"1\" class=\"dataframe\">\n",
       "  <thead>\n",
       "    <tr style=\"text-align: right;\">\n",
       "      <th></th>\n",
       "      <th>_id</th>\n",
       "      <th>botscore</th>\n",
       "    </tr>\n",
       "  </thead>\n",
       "  <tbody>\n",
       "    <tr>\n",
       "      <th>0</th>\n",
       "      <td>000000000000002266588688</td>\n",
       "      <td>0.16</td>\n",
       "    </tr>\n",
       "    <tr>\n",
       "      <th>1</th>\n",
       "      <td>000000000000000471028961</td>\n",
       "      <td>0.03</td>\n",
       "    </tr>\n",
       "    <tr>\n",
       "      <th>2</th>\n",
       "      <td>000000000000002792368467</td>\n",
       "      <td>0.11</td>\n",
       "    </tr>\n",
       "    <tr>\n",
       "      <th>3</th>\n",
       "      <td>000000000000004068857357</td>\n",
       "      <td>0.01</td>\n",
       "    </tr>\n",
       "    <tr>\n",
       "      <th>4</th>\n",
       "      <td>000000000000000006953012</td>\n",
       "      <td>0.03</td>\n",
       "    </tr>\n",
       "  </tbody>\n",
       "</table>\n",
       "</div>"
      ],
      "text/plain": [
       "                        _id  botscore\n",
       "0  000000000000002266588688      0.16\n",
       "1  000000000000000471028961      0.03\n",
       "2  000000000000002792368467      0.11\n",
       "3  000000000000004068857357      0.01\n",
       "4  000000000000000006953012      0.03"
      ]
     },
     "metadata": {},
     "output_type": "display_data"
    }
   ],
   "source": [
    "users = get_users(db.users)\n",
    "display(users.head(5))\n",
    "users_botscore = dict(zip(users._id, users.botscore))"
   ]
  },
  {
   "cell_type": "markdown",
   "metadata": {},
   "source": [
    "## 1. Number of interactions per day"
   ]
  },
  {
   "cell_type": "markdown",
   "metadata": {},
   "source": [
    "#### Getting retweets + tweets, date and botscores"
   ]
  },
  {
   "cell_type": "code",
   "execution_count": 59,
   "metadata": {},
   "outputs": [
    {
     "name": "stdout",
     "output_type": "stream",
     "text": [
      "<class 'pandas.core.frame.DataFrame'>\n",
      "Int64Index: 358190 entries, 0 to 358189\n",
      "Data columns (total 3 columns):\n",
      " #   Column    Non-Null Count   Dtype         \n",
      "---  ------    --------------   -----         \n",
      " 0   user_id   358190 non-null  object        \n",
      " 1   date      358190 non-null  datetime64[ns]\n",
      " 2   tweet_id  358190 non-null  object        \n",
      "dtypes: datetime64[ns](1), object(2)\n",
      "memory usage: 10.9+ MB\n"
     ]
    },
    {
     "data": {
      "text/plain": [
       "None"
      ]
     },
     "metadata": {},
     "output_type": "display_data"
    },
    {
     "name": "stdout",
     "output_type": "stream",
     "text": [
      "<class 'pandas.core.frame.DataFrame'>\n",
      "Int64Index: 7868859 entries, 0 to 7868860\n",
      "Data columns (total 3 columns):\n",
      " #   Column    Dtype         \n",
      "---  ------    -----         \n",
      " 0   tweet_id  object        \n",
      " 1   user_id   object        \n",
      " 2   date      datetime64[ns]\n",
      "dtypes: datetime64[ns](1), object(2)\n",
      "memory usage: 240.1+ MB\n"
     ]
    },
    {
     "data": {
      "text/plain": [
       "None"
      ]
     },
     "metadata": {},
     "output_type": "display_data"
    }
   ],
   "source": [
    "display(df_tweets.info())\n",
    "display(df_retweets.info())"
   ]
  },
  {
   "cell_type": "code",
   "execution_count": 60,
   "metadata": {},
   "outputs": [
    {
     "name": "stdout",
     "output_type": "stream",
     "text": [
      "<class 'pandas.core.frame.DataFrame'>\n",
      "RangeIndex: 8227049 entries, 0 to 8227048\n",
      "Data columns (total 3 columns):\n",
      " #   Column    Dtype \n",
      "---  ------    ----- \n",
      " 0   user_id   object\n",
      " 1   date      object\n",
      " 2   tweet_id  object\n",
      "dtypes: object(3)\n",
      "memory usage: 188.3+ MB\n"
     ]
    }
   ],
   "source": [
    "df_traffic = df_tweets.append(df_retweets, ignore_index=True)\n",
    "df_traffic['date'] = df_traffic.date.dt.date\n",
    "df_traffic.info()"
   ]
  },
  {
   "cell_type": "code",
   "execution_count": 62,
   "metadata": {},
   "outputs": [
    {
     "name": "stdout",
     "output_type": "stream",
     "text": [
      "2019-10-04 00:00:00 2019-11-11 00:00:00\n"
     ]
    }
   ],
   "source": [
    "start = pd.to_datetime(pd.to_datetime('10/04/2019').strftime(format='%Y-%m-%d'))\n",
    "end = pd.to_datetime(pd.to_datetime('11/11/2019').strftime(format='%Y-%m-%d'))\n",
    "print(start, end)"
   ]
  },
  {
   "cell_type": "code",
   "execution_count": 63,
   "metadata": {},
   "outputs": [
    {
     "name": "stdout",
     "output_type": "stream",
     "text": [
      "(datetime.date(2019, 10, 4), datetime.date(2019, 11, 11))\n"
     ]
    },
    {
     "data": {
      "text/html": [
       "<div>\n",
       "<style scoped>\n",
       "    .dataframe tbody tr th:only-of-type {\n",
       "        vertical-align: middle;\n",
       "    }\n",
       "\n",
       "    .dataframe tbody tr th {\n",
       "        vertical-align: top;\n",
       "    }\n",
       "\n",
       "    .dataframe thead th {\n",
       "        text-align: right;\n",
       "    }\n",
       "</style>\n",
       "<table border=\"1\" class=\"dataframe\">\n",
       "  <thead>\n",
       "    <tr style=\"text-align: right;\">\n",
       "      <th></th>\n",
       "      <th>user_id</th>\n",
       "      <th>date</th>\n",
       "      <th>tweet_id</th>\n",
       "    </tr>\n",
       "  </thead>\n",
       "  <tbody>\n",
       "    <tr>\n",
       "      <th>0</th>\n",
       "      <td>000000000000000279465279</td>\n",
       "      <td>2019-11-04</td>\n",
       "      <td>000001191464087064109058</td>\n",
       "    </tr>\n",
       "    <tr>\n",
       "      <th>1</th>\n",
       "      <td>000000000000001266667238</td>\n",
       "      <td>2019-11-08</td>\n",
       "      <td>000001192787272975945729</td>\n",
       "    </tr>\n",
       "    <tr>\n",
       "      <th>2</th>\n",
       "      <td>000000000000000331220696</td>\n",
       "      <td>2019-11-04</td>\n",
       "      <td>000001191467194519080960</td>\n",
       "    </tr>\n",
       "    <tr>\n",
       "      <th>3</th>\n",
       "      <td>000000000000001452965868</td>\n",
       "      <td>2019-10-31</td>\n",
       "      <td>000001189959990624292868</td>\n",
       "    </tr>\n",
       "    <tr>\n",
       "      <th>4</th>\n",
       "      <td>000000978377302286401537</td>\n",
       "      <td>2019-10-11</td>\n",
       "      <td>000001182607615752396800</td>\n",
       "    </tr>\n",
       "  </tbody>\n",
       "</table>\n",
       "</div>"
      ],
      "text/plain": [
       "                    user_id        date                  tweet_id\n",
       "0  000000000000000279465279  2019-11-04  000001191464087064109058\n",
       "1  000000000000001266667238  2019-11-08  000001192787272975945729\n",
       "2  000000000000000331220696  2019-11-04  000001191467194519080960\n",
       "3  000000000000001452965868  2019-10-31  000001189959990624292868\n",
       "4  000000978377302286401537  2019-10-11  000001182607615752396800"
      ]
     },
     "execution_count": 63,
     "metadata": {},
     "output_type": "execute_result"
    }
   ],
   "source": [
    "# filter days\n",
    "df_traffic = df_traffic[(df_traffic.date <= end) & (df_traffic.date >= start)]\n",
    "xlim = (df_traffic.date.min(), df_traffic.date.max())\n",
    "print(xlim)\n",
    "df_traffic.head()"
   ]
  },
  {
   "cell_type": "code",
   "execution_count": 65,
   "metadata": {},
   "outputs": [
    {
     "data": {
      "text/html": [
       "<div>\n",
       "<style scoped>\n",
       "    .dataframe tbody tr th:only-of-type {\n",
       "        vertical-align: middle;\n",
       "    }\n",
       "\n",
       "    .dataframe tbody tr th {\n",
       "        vertical-align: top;\n",
       "    }\n",
       "\n",
       "    .dataframe thead th {\n",
       "        text-align: right;\n",
       "    }\n",
       "</style>\n",
       "<table border=\"1\" class=\"dataframe\">\n",
       "  <thead>\n",
       "    <tr style=\"text-align: right;\">\n",
       "      <th></th>\n",
       "      <th>user_id</th>\n",
       "      <th>date</th>\n",
       "      <th>tweet_id</th>\n",
       "      <th>botscore</th>\n",
       "    </tr>\n",
       "  </thead>\n",
       "  <tbody>\n",
       "    <tr>\n",
       "      <th>0</th>\n",
       "      <td>000000000000000279465279</td>\n",
       "      <td>2019-11-04</td>\n",
       "      <td>000001191464087064109058</td>\n",
       "      <td>0.0</td>\n",
       "    </tr>\n",
       "    <tr>\n",
       "      <th>1</th>\n",
       "      <td>000000000000001266667238</td>\n",
       "      <td>2019-11-08</td>\n",
       "      <td>000001192787272975945729</td>\n",
       "      <td>0.2</td>\n",
       "    </tr>\n",
       "    <tr>\n",
       "      <th>2</th>\n",
       "      <td>000000000000000331220696</td>\n",
       "      <td>2019-11-04</td>\n",
       "      <td>000001191467194519080960</td>\n",
       "      <td>0.1</td>\n",
       "    </tr>\n",
       "    <tr>\n",
       "      <th>3</th>\n",
       "      <td>000000000000001452965868</td>\n",
       "      <td>2019-10-31</td>\n",
       "      <td>000001189959990624292868</td>\n",
       "      <td>0.7</td>\n",
       "    </tr>\n",
       "    <tr>\n",
       "      <th>4</th>\n",
       "      <td>000000978377302286401537</td>\n",
       "      <td>2019-10-11</td>\n",
       "      <td>000001182607615752396800</td>\n",
       "      <td>NaN</td>\n",
       "    </tr>\n",
       "  </tbody>\n",
       "</table>\n",
       "</div>"
      ],
      "text/plain": [
       "                    user_id        date                  tweet_id  botscore\n",
       "0  000000000000000279465279  2019-11-04  000001191464087064109058       0.0\n",
       "1  000000000000001266667238  2019-11-08  000001192787272975945729       0.2\n",
       "2  000000000000000331220696  2019-11-04  000001191467194519080960       0.1\n",
       "3  000000000000001452965868  2019-10-31  000001189959990624292868       0.7\n",
       "4  000000978377302286401537  2019-10-11  000001182607615752396800       NaN"
      ]
     },
     "execution_count": 65,
     "metadata": {},
     "output_type": "execute_result"
    }
   ],
   "source": [
    "df_traffic['botscore'] = df_traffic.user_id.map(users_botscore)\n",
    "df_traffic['botscore'] = df_traffic.botscore.round(decimals=1)\n",
    "df_traffic.head()"
   ]
  },
  {
   "cell_type": "code",
   "execution_count": 66,
   "metadata": {},
   "outputs": [],
   "source": [
    "df_traffic = df_traffic.dropna(axis='index', how='any').sort_values(by='date', ascending=True)"
   ]
  },
  {
   "cell_type": "code",
   "execution_count": 67,
   "metadata": {},
   "outputs": [
    {
     "name": "stdout",
     "output_type": "stream",
     "text": [
      "[0.2 0.4]\n"
     ]
    }
   ],
   "source": [
    "prs = [70,90]\n",
    "ps = np.percentile(a=df_traffic.drop_duplicates(subset='user_id').botscore, q=prs, interpolation='lower')\n",
    "print(ps)"
   ]
  },
  {
   "cell_type": "code",
   "execution_count": 68,
   "metadata": {},
   "outputs": [],
   "source": [
    "def interval(row):\n",
    "    if row['botscore'] < ps[0]:\n",
    "        return 'Likely Humans'\n",
    "    elif row['botscore'] < ps[1]:\n",
    "        return 'Likely Semi-Bots'\n",
    "    else:\n",
    "        return 'Likely Bots'"
   ]
  },
  {
   "cell_type": "code",
   "execution_count": 69,
   "metadata": {},
   "outputs": [
    {
     "data": {
      "text/html": [
       "<div>\n",
       "<style scoped>\n",
       "    .dataframe tbody tr th:only-of-type {\n",
       "        vertical-align: middle;\n",
       "    }\n",
       "\n",
       "    .dataframe tbody tr th {\n",
       "        vertical-align: top;\n",
       "    }\n",
       "\n",
       "    .dataframe thead th {\n",
       "        text-align: right;\n",
       "    }\n",
       "</style>\n",
       "<table border=\"1\" class=\"dataframe\">\n",
       "  <thead>\n",
       "    <tr style=\"text-align: right;\">\n",
       "      <th></th>\n",
       "      <th>user_id</th>\n",
       "      <th>date</th>\n",
       "      <th>tweet_id</th>\n",
       "      <th>botscore</th>\n",
       "      <th>Groups</th>\n",
       "    </tr>\n",
       "  </thead>\n",
       "  <tbody>\n",
       "    <tr>\n",
       "      <th>171101</th>\n",
       "      <td>000000000000002615419165</td>\n",
       "      <td>2019-10-04</td>\n",
       "      <td>000001180058636715995136</td>\n",
       "      <td>0.3</td>\n",
       "      <td>Likely Semi-Bots</td>\n",
       "    </tr>\n",
       "    <tr>\n",
       "      <th>1725656</th>\n",
       "      <td>000000000000000301536651</td>\n",
       "      <td>2019-10-04</td>\n",
       "      <td>000001180193426362585089</td>\n",
       "      <td>0.3</td>\n",
       "      <td>Likely Semi-Bots</td>\n",
       "    </tr>\n",
       "    <tr>\n",
       "      <th>1725658</th>\n",
       "      <td>000000000000000245728439</td>\n",
       "      <td>2019-10-04</td>\n",
       "      <td>000001180193426362585089</td>\n",
       "      <td>0.1</td>\n",
       "      <td>Likely Humans</td>\n",
       "    </tr>\n",
       "    <tr>\n",
       "      <th>1725659</th>\n",
       "      <td>000000908711303161708550</td>\n",
       "      <td>2019-10-04</td>\n",
       "      <td>000001180193426362585089</td>\n",
       "      <td>0.1</td>\n",
       "      <td>Likely Humans</td>\n",
       "    </tr>\n",
       "    <tr>\n",
       "      <th>1725660</th>\n",
       "      <td>000000000000000401296724</td>\n",
       "      <td>2019-10-04</td>\n",
       "      <td>000001180193426362585089</td>\n",
       "      <td>0.1</td>\n",
       "      <td>Likely Humans</td>\n",
       "    </tr>\n",
       "  </tbody>\n",
       "</table>\n",
       "</div>"
      ],
      "text/plain": [
       "                          user_id        date                  tweet_id  \\\n",
       "171101   000000000000002615419165  2019-10-04  000001180058636715995136   \n",
       "1725656  000000000000000301536651  2019-10-04  000001180193426362585089   \n",
       "1725658  000000000000000245728439  2019-10-04  000001180193426362585089   \n",
       "1725659  000000908711303161708550  2019-10-04  000001180193426362585089   \n",
       "1725660  000000000000000401296724  2019-10-04  000001180193426362585089   \n",
       "\n",
       "         botscore            Groups  \n",
       "171101        0.3  Likely Semi-Bots  \n",
       "1725656       0.3  Likely Semi-Bots  \n",
       "1725658       0.1     Likely Humans  \n",
       "1725659       0.1     Likely Humans  \n",
       "1725660       0.1     Likely Humans  "
      ]
     },
     "execution_count": 69,
     "metadata": {},
     "output_type": "execute_result"
    }
   ],
   "source": [
    "df_traffic['Groups'] = df_traffic.apply(lambda row : interval(row), axis=1)\n",
    "df_traffic.head()"
   ]
  },
  {
   "cell_type": "code",
   "execution_count": 328,
   "metadata": {},
   "outputs": [
    {
     "data": {
      "text/html": [
       "<div>\n",
       "<style scoped>\n",
       "    .dataframe tbody tr th:only-of-type {\n",
       "        vertical-align: middle;\n",
       "    }\n",
       "\n",
       "    .dataframe tbody tr th {\n",
       "        vertical-align: top;\n",
       "    }\n",
       "\n",
       "    .dataframe thead th {\n",
       "        text-align: right;\n",
       "    }\n",
       "</style>\n",
       "<table border=\"1\" class=\"dataframe\">\n",
       "  <thead>\n",
       "    <tr style=\"text-align: right;\">\n",
       "      <th></th>\n",
       "      <th>user_id</th>\n",
       "      <th>date</th>\n",
       "      <th>tweet_id</th>\n",
       "      <th>botscore</th>\n",
       "      <th>Groups</th>\n",
       "      <th>kde_date</th>\n",
       "    </tr>\n",
       "  </thead>\n",
       "  <tbody>\n",
       "    <tr>\n",
       "      <th>171101</th>\n",
       "      <td>000000000000002615419165</td>\n",
       "      <td>2019-10-04</td>\n",
       "      <td>000001180058636715995136</td>\n",
       "      <td>0.3</td>\n",
       "      <td>Likely Semi-Bots</td>\n",
       "      <td>737336</td>\n",
       "    </tr>\n",
       "    <tr>\n",
       "      <th>1725656</th>\n",
       "      <td>000000000000000301536651</td>\n",
       "      <td>2019-10-04</td>\n",
       "      <td>000001180193426362585089</td>\n",
       "      <td>0.3</td>\n",
       "      <td>Likely Semi-Bots</td>\n",
       "      <td>737336</td>\n",
       "    </tr>\n",
       "    <tr>\n",
       "      <th>1725658</th>\n",
       "      <td>000000000000000245728439</td>\n",
       "      <td>2019-10-04</td>\n",
       "      <td>000001180193426362585089</td>\n",
       "      <td>0.1</td>\n",
       "      <td>Likely Humans</td>\n",
       "      <td>737336</td>\n",
       "    </tr>\n",
       "    <tr>\n",
       "      <th>1725659</th>\n",
       "      <td>000000908711303161708550</td>\n",
       "      <td>2019-10-04</td>\n",
       "      <td>000001180193426362585089</td>\n",
       "      <td>0.1</td>\n",
       "      <td>Likely Humans</td>\n",
       "      <td>737336</td>\n",
       "    </tr>\n",
       "    <tr>\n",
       "      <th>1725660</th>\n",
       "      <td>000000000000000401296724</td>\n",
       "      <td>2019-10-04</td>\n",
       "      <td>000001180193426362585089</td>\n",
       "      <td>0.1</td>\n",
       "      <td>Likely Humans</td>\n",
       "      <td>737336</td>\n",
       "    </tr>\n",
       "  </tbody>\n",
       "</table>\n",
       "</div>"
      ],
      "text/plain": [
       "                          user_id        date                  tweet_id  \\\n",
       "171101   000000000000002615419165  2019-10-04  000001180058636715995136   \n",
       "1725656  000000000000000301536651  2019-10-04  000001180193426362585089   \n",
       "1725658  000000000000000245728439  2019-10-04  000001180193426362585089   \n",
       "1725659  000000908711303161708550  2019-10-04  000001180193426362585089   \n",
       "1725660  000000000000000401296724  2019-10-04  000001180193426362585089   \n",
       "\n",
       "         botscore            Groups  kde_date  \n",
       "171101        0.3  Likely Semi-Bots    737336  \n",
       "1725656       0.3  Likely Semi-Bots    737336  \n",
       "1725658       0.1     Likely Humans    737336  \n",
       "1725659       0.1     Likely Humans    737336  \n",
       "1725660       0.1     Likely Humans    737336  "
      ]
     },
     "execution_count": 328,
     "metadata": {},
     "output_type": "execute_result"
    }
   ],
   "source": [
    "df_traffic['kde_date'] = [x.toordinal() for x in df_traffic.date]\n",
    "df_traffic.head()"
   ]
  },
  {
   "cell_type": "code",
   "execution_count": 377,
   "metadata": {},
   "outputs": [
    {
     "data": {
      "image/png": "[encoded data removed]",
      "text/plain": [
       "<Figure size 576x324 with 1 Axes>"
      ]
     },
     "metadata": {},
     "output_type": "display_data"
    }
   ],
   "source": [
    "# plot\n",
    "import datetime \n",
    "\n",
    "\n",
    "fig = plt.figure(figsize=(8,4.5))\n",
    "\n",
    "\n",
    "ax = sns.kdeplot(data=df_traffic,\n",
    "                x='kde_date', \n",
    "                hue='Groups',\n",
    "                hue_order=['Likely Bots','Likely Semi-Bots', 'Likely Humans'],\n",
    "                palette=['red','orangered','green'],\n",
    "                multiple=\"fill\",\n",
    "                legend=False,\n",
    "                alpha=0.7\n",
    "                )\n",
    "\n",
    "\n",
    "plt.xticks(np.arange(min(df_traffic.kde_date), max(df_traffic.kde_date)+1, 1))\n",
    "\n",
    "x_ticks = ax.get_xticks()\n",
    "ax.set_xticks(x_ticks[::2])\n",
    "xlabels = [datetime.datetime.fromordinal(int(x)).strftime('%d\\n%m') for x in x_ticks[::2]]\n",
    "ax.set_xticklabels(xlabels)\n",
    "\n",
    "\n",
    "plt.xlabel(\"Date\")\n",
    "plt.ylabel(\"Proportion of interactions\")\n",
    "\n",
    "\"\"\"ax.ax.xaxis.set_major_locator(mdates.DayLocator(interval=2)) #bymonthday=range(1,30,3)\n",
    "hfmt = mdates.DateFormatter('%d\\n%m')\n",
    "ax.ax.xaxis.set_major_formatter(hfmt)\n",
    "ax.ax.xaxis.set_tick_params(rotation=290)\n",
    "\"\"\"\n",
    "\n",
    "colors={prs[0]:'black',\n",
    "        prs[1]:'black'}\n",
    "h_xlims = ax.get_xlim()\n",
    "for pr,p in zip(prs,ps):\n",
    "    ax.hlines(y=pr/100, xmin=h_xlims[0], xmax=h_xlims[1], linewidth = 2, linestyles='dashed',color=colors[pr])\n",
    "\n",
    "for position,label in zip([0.35,0.8,1.05],['Likely Humans', 'Likely Semi-Bots', 'Likely Bots']):\n",
    "    text(y=position, x=h_xlims[1]-12.5, s= label, fontsize='small', fontweight='bold', verticalalignment='center')\n",
    "\n",
    "\n",
    "plt.xlim(min(df_traffic.kde_date),max(df_traffic.kde_date))\n",
    "plt.tight_layout()\n",
    "plt.savefig(\"images/timeline-fill.svg\", bbox_inches = \"tight\")\n",
    "plt.savefig(\"images/timeline-fill.pdf\", bbox_inches = \"tight\")"
   ]
  },
  {
   "cell_type": "code",
   "execution_count": 117,
   "metadata": {},
   "outputs": [
    {
     "data": {
      "image/png": "[encoded data removed]",
      "text/plain": [
       "<Figure size 923.44x360 with 1 Axes>"
      ]
     },
     "metadata": {},
     "output_type": "display_data"
    }
   ],
   "source": [
    "# plot\n",
    "ax = sns.displot(data=df_traffic,\n",
    "                   x='date', \n",
    "                   hue='Groups',\n",
    "                hue_order=['Likely Bots','Likely Semi-Bots', 'Likely Humans'],\n",
    "                  kde=True,\n",
    "                   multiple=\"stack\",\n",
    "                  height=5,\n",
    "                aspect=2)\n",
    "\n",
    "plt.title('Volume timeline')\n",
    "ax.set_axis_labels(\"Date\", \"Volume\")\n",
    "ax.ax.xaxis.set_major_locator(mdates.DayLocator(interval=2)) #bymonthday=range(1,30,3)\n",
    "hfmt = mdates.DateFormatter('%d\\n%m')\n",
    "ax.ax.xaxis.set_major_formatter(hfmt)\n",
    "\n",
    "ax.tight_layout()\n",
    "ax.savefig(\"images/volume-timeline-stack.svg\", bbox_inches = \"tight\")"
   ]
  },
  {
   "cell_type": "markdown",
   "metadata": {},
   "source": [
    "#### Build directed-weighted retweet graph"
   ]
  },
  {
   "cell_type": "code",
   "execution_count": 118,
   "metadata": {},
   "outputs": [
    {
     "data": {
      "text/html": [
       "<div>\n",
       "<style scoped>\n",
       "    .dataframe tbody tr th:only-of-type {\n",
       "        vertical-align: middle;\n",
       "    }\n",
       "\n",
       "    .dataframe tbody tr th {\n",
       "        vertical-align: top;\n",
       "    }\n",
       "\n",
       "    .dataframe thead th {\n",
       "        text-align: right;\n",
       "    }\n",
       "</style>\n",
       "<table border=\"1\" class=\"dataframe\">\n",
       "  <thead>\n",
       "    <tr style=\"text-align: right;\">\n",
       "      <th></th>\n",
       "      <th>date</th>\n",
       "      <th>retweeter_id</th>\n",
       "      <th>botscore</th>\n",
       "      <th>retweeted_id</th>\n",
       "    </tr>\n",
       "  </thead>\n",
       "  <tbody>\n",
       "    <tr>\n",
       "      <th>0</th>\n",
       "      <td>2019-05-03 19:58:27</td>\n",
       "      <td>000001041608534734061568</td>\n",
       "      <td>0.24</td>\n",
       "      <td>000000000000000068740712</td>\n",
       "    </tr>\n",
       "    <tr>\n",
       "      <th>1</th>\n",
       "      <td>2019-05-03 20:03:37</td>\n",
       "      <td>000000000000002824508322</td>\n",
       "      <td>0.08</td>\n",
       "      <td>000000000000000068740712</td>\n",
       "    </tr>\n",
       "    <tr>\n",
       "      <th>2</th>\n",
       "      <td>2019-05-03 20:30:39</td>\n",
       "      <td>000000755192640321314817</td>\n",
       "      <td>0.21</td>\n",
       "      <td>000000000000000068740712</td>\n",
       "    </tr>\n",
       "    <tr>\n",
       "      <th>3</th>\n",
       "      <td>2019-05-03 20:49:54</td>\n",
       "      <td>000000000000000523370717</td>\n",
       "      <td>NaN</td>\n",
       "      <td>000000000000000068740712</td>\n",
       "    </tr>\n",
       "    <tr>\n",
       "      <th>4</th>\n",
       "      <td>2019-05-03 20:54:27</td>\n",
       "      <td>000000000000003610966882</td>\n",
       "      <td>0.09</td>\n",
       "      <td>000000000000000068740712</td>\n",
       "    </tr>\n",
       "  </tbody>\n",
       "</table>\n",
       "</div>"
      ],
      "text/plain": [
       "                 date              retweeter_id  botscore  \\\n",
       "0 2019-05-03 19:58:27  000001041608534734061568      0.24   \n",
       "1 2019-05-03 20:03:37  000000000000002824508322      0.08   \n",
       "2 2019-05-03 20:30:39  000000755192640321314817      0.21   \n",
       "3 2019-05-03 20:49:54  000000000000000523370717       NaN   \n",
       "4 2019-05-03 20:54:27  000000000000003610966882      0.09   \n",
       "\n",
       "               retweeted_id  \n",
       "0  000000000000000068740712  \n",
       "1  000000000000000068740712  \n",
       "2  000000000000000068740712  \n",
       "3  000000000000000068740712  \n",
       "4  000000000000000068740712  "
      ]
     },
     "execution_count": 118,
     "metadata": {},
     "output_type": "execute_result"
    }
   ],
   "source": [
    "df_retweets['botscore'] = df_retweets.user_id.map(users_botscore)\n",
    "df_edges = df_retweets[['tweet_id','date','user_id','botscore']].rename({'user_id':'retweeter_id'}, axis='columns').set_index('tweet_id').join(df_tweets.rename({'user_id':'retweeted_id'}, axis='columns')[['tweet_id','retweeted_id']].set_index('tweet_id')).reset_index(drop=True)\n",
    "df_edges.head(5)"
   ]
  },
  {
   "cell_type": "markdown",
   "metadata": {},
   "source": [
    "## 2. Analysis of spreading cores"
   ]
  },
  {
   "cell_type": "code",
   "execution_count": 11,
   "metadata": {},
   "outputs": [
    {
     "name": "stdout",
     "output_type": "stream",
     "text": [
      "Users with botscore: 1150709\n",
      "Total retweets 6037031\n",
      "Retweets with botscore: 4313219\n"
     ]
    }
   ],
   "source": [
    "df_retweets['botscore'] = df_retweets.user_id.map(users_botscore)\n",
    "\n",
    "df_edges = df_retweets[['tweet_id','date','user_id','botscore']].rename({'user_id':'retweeter_id'}, axis='columns').set_index('tweet_id').join(df_tweets.rename({'user_id':'retweeted_id'}, axis='columns')[['tweet_id','retweeted_id']].set_index('tweet_id')).reset_index(drop=True)\n",
    "df_kcore = df_edges.groupby(['retweeter_id','retweeted_id']).size().reset_index().rename(columns={0:'weight'})\n",
    "\n",
    "implicated_users = []\n",
    "implicated_users = list(set(list(df_kcore.retweeter_id.unique()) + list(df_kcore.retweeted_id.unique())))\n",
    "#print(\"Implicated users:\", len(implicated_users))\n",
    "\n",
    "df_users = users[users._id.isin(implicated_users)]\n",
    "print(\"Users with botscore:\", len(df_users))\n",
    "\n",
    "print(\"Total retweets\", len(df_kcore))\n",
    "df_kcore = df_kcore[(df_kcore.retweeted_id.isin(df_users._id)) & (df_kcore.retweeter_id.isin(df_users._id))]\n",
    "print(\"Retweets with botscore:\", len(df_kcore))"
   ]
  },
  {
   "cell_type": "code",
   "execution_count": 12,
   "metadata": {},
   "outputs": [],
   "source": [
    "G = nx.from_pandas_edgelist(df=df_kcore, source='retweeted_id', target='retweeter_id', edge_attr='weight', create_using=nx.DiGraph)\n",
    "\n",
    "node_attr = df_users.set_index('_id').to_dict('index')\n",
    "nx.set_node_attributes(G, node_attr)"
   ]
  },
  {
   "cell_type": "code",
   "execution_count": 13,
   "metadata": {},
   "outputs": [],
   "source": [
    "#remove self loops for kshell\n",
    "G.remove_edges_from(nx.selfloop_edges(G))"
   ]
  },
  {
   "cell_type": "code",
   "execution_count": 14,
   "metadata": {},
   "outputs": [
    {
     "data": {
      "text/html": [
       "<div>\n",
       "<style scoped>\n",
       "    .dataframe tbody tr th:only-of-type {\n",
       "        vertical-align: middle;\n",
       "    }\n",
       "\n",
       "    .dataframe tbody tr th {\n",
       "        vertical-align: top;\n",
       "    }\n",
       "\n",
       "    .dataframe thead th {\n",
       "        text-align: right;\n",
       "    }\n",
       "</style>\n",
       "<table border=\"1\" class=\"dataframe\">\n",
       "  <thead>\n",
       "    <tr style=\"text-align: right;\">\n",
       "      <th></th>\n",
       "      <th>user</th>\n",
       "      <th>botscore</th>\n",
       "    </tr>\n",
       "  </thead>\n",
       "  <tbody>\n",
       "    <tr>\n",
       "      <th>0</th>\n",
       "      <td>000000000000000026994875</td>\n",
       "      <td>0.06</td>\n",
       "    </tr>\n",
       "    <tr>\n",
       "      <th>1</th>\n",
       "      <td>000000000000000000002862</td>\n",
       "      <td>0.09</td>\n",
       "    </tr>\n",
       "  </tbody>\n",
       "</table>\n",
       "</div>"
      ],
      "text/plain": [
       "                       user  botscore\n",
       "0  000000000000000026994875      0.06\n",
       "1  000000000000000000002862      0.09"
      ]
     },
     "execution_count": 14,
     "metadata": {},
     "output_type": "execute_result"
    }
   ],
   "source": [
    "df_botscores = pd.DataFrame.from_records(list(G.nodes(data='botscore')), columns=['user','botscore'])\n",
    "df_botscores.head(2)"
   ]
  },
  {
   "cell_type": "code",
   "execution_count": 15,
   "metadata": {},
   "outputs": [
    {
     "name": "stdout",
     "output_type": "stream",
     "text": [
      "CPU times: user 7min 31s, sys: 469 ms, total: 7min 32s\n",
      "Wall time: 7min 32s\n"
     ]
    },
    {
     "data": {
      "text/html": [
       "<div>\n",
       "<style scoped>\n",
       "    .dataframe tbody tr th:only-of-type {\n",
       "        vertical-align: middle;\n",
       "    }\n",
       "\n",
       "    .dataframe tbody tr th {\n",
       "        vertical-align: top;\n",
       "    }\n",
       "\n",
       "    .dataframe thead th {\n",
       "        text-align: right;\n",
       "    }\n",
       "</style>\n",
       "<table border=\"1\" class=\"dataframe\">\n",
       "  <thead>\n",
       "    <tr style=\"text-align: right;\">\n",
       "      <th></th>\n",
       "      <th>user</th>\n",
       "      <th>k-core</th>\n",
       "    </tr>\n",
       "  </thead>\n",
       "  <tbody>\n",
       "    <tr>\n",
       "      <th>0</th>\n",
       "      <td>000000000000000026994875</td>\n",
       "      <td>17</td>\n",
       "    </tr>\n",
       "    <tr>\n",
       "      <th>1</th>\n",
       "      <td>000000000000000000002862</td>\n",
       "      <td>1</td>\n",
       "    </tr>\n",
       "  </tbody>\n",
       "</table>\n",
       "</div>"
      ],
      "text/plain": [
       "                       user  k-core\n",
       "0  000000000000000026994875      17\n",
       "1  000000000000000000002862       1"
      ]
     },
     "execution_count": 15,
     "metadata": {},
     "output_type": "execute_result"
    }
   ],
   "source": [
    "%%time\n",
    "df_cores = pd.DataFrame(nx.core_number(G).items(), columns=['user','k-core'])\n",
    "df_cores.head(2)"
   ]
  },
  {
   "cell_type": "code",
   "execution_count": 16,
   "metadata": {},
   "outputs": [
    {
     "data": {
      "text/html": [
       "<div>\n",
       "<style scoped>\n",
       "    .dataframe tbody tr th:only-of-type {\n",
       "        vertical-align: middle;\n",
       "    }\n",
       "\n",
       "    .dataframe tbody tr th {\n",
       "        vertical-align: top;\n",
       "    }\n",
       "\n",
       "    .dataframe thead th {\n",
       "        text-align: right;\n",
       "    }\n",
       "</style>\n",
       "<table border=\"1\" class=\"dataframe\">\n",
       "  <thead>\n",
       "    <tr style=\"text-align: right;\">\n",
       "      <th></th>\n",
       "      <th>user</th>\n",
       "      <th>k-core</th>\n",
       "      <th>botscore</th>\n",
       "    </tr>\n",
       "  </thead>\n",
       "  <tbody>\n",
       "    <tr>\n",
       "      <th>346767</th>\n",
       "      <td>000000000000000405271476</td>\n",
       "      <td>1</td>\n",
       "      <td>0.50</td>\n",
       "    </tr>\n",
       "    <tr>\n",
       "      <th>926726</th>\n",
       "      <td>000001061575310150418433</td>\n",
       "      <td>1</td>\n",
       "      <td>0.11</td>\n",
       "    </tr>\n",
       "    <tr>\n",
       "      <th>79650</th>\n",
       "      <td>000000000000000103307625</td>\n",
       "      <td>2</td>\n",
       "      <td>0.07</td>\n",
       "    </tr>\n",
       "    <tr>\n",
       "      <th>683995</th>\n",
       "      <td>000000000000003044583129</td>\n",
       "      <td>1</td>\n",
       "      <td>0.09</td>\n",
       "    </tr>\n",
       "    <tr>\n",
       "      <th>1005901</th>\n",
       "      <td>000001177579802339004417</td>\n",
       "      <td>1</td>\n",
       "      <td>0.44</td>\n",
       "    </tr>\n",
       "  </tbody>\n",
       "</table>\n",
       "</div>"
      ],
      "text/plain": [
       "                             user  k-core  botscore\n",
       "346767   000000000000000405271476       1      0.50\n",
       "926726   000001061575310150418433       1      0.11\n",
       "79650    000000000000000103307625       2      0.07\n",
       "683995   000000000000003044583129       1      0.09\n",
       "1005901  000001177579802339004417       1      0.44"
      ]
     },
     "execution_count": 16,
     "metadata": {},
     "output_type": "execute_result"
    }
   ],
   "source": [
    "df_cores = df_cores.merge(df_botscores, on='user')\n",
    "df_cores.sample(5)"
   ]
  },
  {
   "cell_type": "code",
   "execution_count": 22,
   "metadata": {},
   "outputs": [
    {
     "data": {
      "text/html": [
       "<div>\n",
       "<style scoped>\n",
       "    .dataframe tbody tr th:only-of-type {\n",
       "        vertical-align: middle;\n",
       "    }\n",
       "\n",
       "    .dataframe tbody tr th {\n",
       "        vertical-align: top;\n",
       "    }\n",
       "\n",
       "    .dataframe thead tr th {\n",
       "        text-align: left;\n",
       "    }\n",
       "\n",
       "    .dataframe thead tr:last-of-type th {\n",
       "        text-align: right;\n",
       "    }\n",
       "</style>\n",
       "<table border=\"1\" class=\"dataframe\">\n",
       "  <thead>\n",
       "    <tr>\n",
       "      <th></th>\n",
       "      <th colspan=\"8\" halign=\"left\">botscore</th>\n",
       "    </tr>\n",
       "    <tr>\n",
       "      <th></th>\n",
       "      <th>count</th>\n",
       "      <th>mean</th>\n",
       "      <th>std</th>\n",
       "      <th>min</th>\n",
       "      <th>25%</th>\n",
       "      <th>50%</th>\n",
       "      <th>75%</th>\n",
       "      <th>max</th>\n",
       "    </tr>\n",
       "    <tr>\n",
       "      <th>k-core</th>\n",
       "      <th></th>\n",
       "      <th></th>\n",
       "      <th></th>\n",
       "      <th></th>\n",
       "      <th></th>\n",
       "      <th></th>\n",
       "      <th></th>\n",
       "      <th></th>\n",
       "    </tr>\n",
       "  </thead>\n",
       "  <tbody>\n",
       "    <tr>\n",
       "      <th>0</th>\n",
       "      <td>192.0</td>\n",
       "      <td>0.233836</td>\n",
       "      <td>0.212009</td>\n",
       "      <td>0.00</td>\n",
       "      <td>0.060</td>\n",
       "      <td>0.160</td>\n",
       "      <td>0.3600</td>\n",
       "      <td>0.93</td>\n",
       "    </tr>\n",
       "    <tr>\n",
       "      <th>1</th>\n",
       "      <td>562977.0</td>\n",
       "      <td>0.161005</td>\n",
       "      <td>0.157731</td>\n",
       "      <td>0.00</td>\n",
       "      <td>0.040</td>\n",
       "      <td>0.110</td>\n",
       "      <td>0.2400</td>\n",
       "      <td>1.00</td>\n",
       "    </tr>\n",
       "    <tr>\n",
       "      <th>2</th>\n",
       "      <td>163507.0</td>\n",
       "      <td>0.145843</td>\n",
       "      <td>0.142762</td>\n",
       "      <td>0.00</td>\n",
       "      <td>0.040</td>\n",
       "      <td>0.100</td>\n",
       "      <td>0.2100</td>\n",
       "      <td>0.99</td>\n",
       "    </tr>\n",
       "    <tr>\n",
       "      <th>3</th>\n",
       "      <td>80219.0</td>\n",
       "      <td>0.141445</td>\n",
       "      <td>0.137213</td>\n",
       "      <td>0.00</td>\n",
       "      <td>0.040</td>\n",
       "      <td>0.100</td>\n",
       "      <td>0.2000</td>\n",
       "      <td>0.97</td>\n",
       "    </tr>\n",
       "    <tr>\n",
       "      <th>4</th>\n",
       "      <td>48079.0</td>\n",
       "      <td>0.141035</td>\n",
       "      <td>0.135839</td>\n",
       "      <td>0.00</td>\n",
       "      <td>0.040</td>\n",
       "      <td>0.100</td>\n",
       "      <td>0.2000</td>\n",
       "      <td>0.98</td>\n",
       "    </tr>\n",
       "    <tr>\n",
       "      <th>...</th>\n",
       "      <td>...</td>\n",
       "      <td>...</td>\n",
       "      <td>...</td>\n",
       "      <td>...</td>\n",
       "      <td>...</td>\n",
       "      <td>...</td>\n",
       "      <td>...</td>\n",
       "      <td>...</td>\n",
       "    </tr>\n",
       "    <tr>\n",
       "      <th>93</th>\n",
       "      <td>842.0</td>\n",
       "      <td>0.187253</td>\n",
       "      <td>0.151255</td>\n",
       "      <td>0.00</td>\n",
       "      <td>0.070</td>\n",
       "      <td>0.160</td>\n",
       "      <td>0.2600</td>\n",
       "      <td>0.82</td>\n",
       "    </tr>\n",
       "    <tr>\n",
       "      <th>94</th>\n",
       "      <td>22.0</td>\n",
       "      <td>0.133182</td>\n",
       "      <td>0.117611</td>\n",
       "      <td>0.01</td>\n",
       "      <td>0.055</td>\n",
       "      <td>0.095</td>\n",
       "      <td>0.1450</td>\n",
       "      <td>0.51</td>\n",
       "    </tr>\n",
       "    <tr>\n",
       "      <th>95</th>\n",
       "      <td>69.0</td>\n",
       "      <td>0.153816</td>\n",
       "      <td>0.129993</td>\n",
       "      <td>0.00</td>\n",
       "      <td>0.060</td>\n",
       "      <td>0.130</td>\n",
       "      <td>0.2200</td>\n",
       "      <td>0.78</td>\n",
       "    </tr>\n",
       "    <tr>\n",
       "      <th>96</th>\n",
       "      <td>42.0</td>\n",
       "      <td>0.132381</td>\n",
       "      <td>0.107381</td>\n",
       "      <td>0.00</td>\n",
       "      <td>0.060</td>\n",
       "      <td>0.105</td>\n",
       "      <td>0.1875</td>\n",
       "      <td>0.54</td>\n",
       "    </tr>\n",
       "    <tr>\n",
       "      <th>97</th>\n",
       "      <td>450.0</td>\n",
       "      <td>0.172347</td>\n",
       "      <td>0.146905</td>\n",
       "      <td>0.00</td>\n",
       "      <td>0.060</td>\n",
       "      <td>0.140</td>\n",
       "      <td>0.2500</td>\n",
       "      <td>0.89</td>\n",
       "    </tr>\n",
       "  </tbody>\n",
       "</table>\n",
       "<p>98 rows × 8 columns</p>\n",
       "</div>"
      ],
      "text/plain": [
       "        botscore                                                      \n",
       "           count      mean       std   min    25%    50%     75%   max\n",
       "k-core                                                                \n",
       "0          192.0  0.233836  0.212009  0.00  0.060  0.160  0.3600  0.93\n",
       "1       562977.0  0.161005  0.157731  0.00  0.040  0.110  0.2400  1.00\n",
       "2       163507.0  0.145843  0.142762  0.00  0.040  0.100  0.2100  0.99\n",
       "3        80219.0  0.141445  0.137213  0.00  0.040  0.100  0.2000  0.97\n",
       "4        48079.0  0.141035  0.135839  0.00  0.040  0.100  0.2000  0.98\n",
       "...          ...       ...       ...   ...    ...    ...     ...   ...\n",
       "93         842.0  0.187253  0.151255  0.00  0.070  0.160  0.2600  0.82\n",
       "94          22.0  0.133182  0.117611  0.01  0.055  0.095  0.1450  0.51\n",
       "95          69.0  0.153816  0.129993  0.00  0.060  0.130  0.2200  0.78\n",
       "96          42.0  0.132381  0.107381  0.00  0.060  0.105  0.1875  0.54\n",
       "97         450.0  0.172347  0.146905  0.00  0.060  0.140  0.2500  0.89\n",
       "\n",
       "[98 rows x 8 columns]"
      ]
     },
     "execution_count": 22,
     "metadata": {},
     "output_type": "execute_result"
    }
   ],
   "source": [
    "df_cores.groupby('k-core').describe()"
   ]
  },
  {
   "cell_type": "code",
   "execution_count": 21,
   "metadata": {},
   "outputs": [
    {
     "data": {
      "text/plain": [
       "<AxesSubplot:ylabel='Frequency'>"
      ]
     },
     "execution_count": 21,
     "metadata": {},
     "output_type": "execute_result"
    },
    {
     "data": {
      "image/png": "[encoded data removed]",
      "text/plain": [
       "<Figure size 432x288 with 1 Axes>"
      ]
     },
     "metadata": {},
     "output_type": "display_data"
    }
   ],
   "source": [
    "df_cores['k-core'].plot.hist()"
   ]
  },
  {
   "cell_type": "code",
   "execution_count": null,
   "metadata": {},
   "outputs": [],
   "source": [
    "%%time\n",
    "fig, axs = plt.subplots(1, 1, figsize=(8,5))\n",
    "\n",
    "ax = sns.regplot(x='k-core',\n",
    "            y='botscore',\n",
    "            data=df_cores,\n",
    "            x_bins=[0,5,10,15,20,25,30,35,40,45,50,55,60,65,70,75,80,85,90,95,100],\n",
    "            scatter_kws = {'color': 'b', 's':12},\n",
    "            line_kws = {'color': '#CCCC00'},\n",
    "            order=9\n",
    "           )\n",
    "\n",
    "ax.set_ylabel(ylabel='Botscore')\n",
    "ax.set_xlabel(xlabel='K')\n",
    "#fig.suptitle(\"Composition of network k-cores\", y=1.01)\n",
    "plt.tight_layout()\n",
    "plt.savefig(\"images/kcores.svg\")\n",
    "plt.savefig(\"images/kcores.pdf\")"
   ]
  },
  {
   "cell_type": "code",
   "execution_count": 145,
   "metadata": {},
   "outputs": [
    {
     "name": "stdout",
     "output_type": "stream",
     "text": [
      "[0.19 0.37]\n"
     ]
    }
   ],
   "source": [
    "prs = [70,90]\n",
    "ps = np.percentile(a=df_cores.drop_duplicates(subset='user').botscore, q=prs, interpolation='lower')\n",
    "print(ps)"
   ]
  },
  {
   "cell_type": "code",
   "execution_count": 146,
   "metadata": {},
   "outputs": [],
   "source": [
    "def interval(row):\n",
    "    if row['botscore'] < ps[0]:\n",
    "        return 'Likely Humans'\n",
    "    elif row['botscore'] < ps[1]:\n",
    "        return 'Likely Semi-Bots'\n",
    "    else:\n",
    "        return 'Likely Bots'"
   ]
  },
  {
   "cell_type": "code",
   "execution_count": 147,
   "metadata": {},
   "outputs": [
    {
     "data": {
      "text/html": [
       "<div>\n",
       "<style scoped>\n",
       "    .dataframe tbody tr th:only-of-type {\n",
       "        vertical-align: middle;\n",
       "    }\n",
       "\n",
       "    .dataframe tbody tr th {\n",
       "        vertical-align: top;\n",
       "    }\n",
       "\n",
       "    .dataframe thead th {\n",
       "        text-align: right;\n",
       "    }\n",
       "</style>\n",
       "<table border=\"1\" class=\"dataframe\">\n",
       "  <thead>\n",
       "    <tr style=\"text-align: right;\">\n",
       "      <th></th>\n",
       "      <th>user</th>\n",
       "      <th>k-core</th>\n",
       "      <th>botscore</th>\n",
       "      <th>Groups</th>\n",
       "    </tr>\n",
       "  </thead>\n",
       "  <tbody>\n",
       "    <tr>\n",
       "      <th>0</th>\n",
       "      <td>000000000000000026994875</td>\n",
       "      <td>17</td>\n",
       "      <td>0.06</td>\n",
       "      <td>Likely Humans</td>\n",
       "    </tr>\n",
       "    <tr>\n",
       "      <th>1</th>\n",
       "      <td>000000000000000000002862</td>\n",
       "      <td>1</td>\n",
       "      <td>0.09</td>\n",
       "      <td>Likely Humans</td>\n",
       "    </tr>\n",
       "    <tr>\n",
       "      <th>2</th>\n",
       "      <td>000000000000000014436030</td>\n",
       "      <td>93</td>\n",
       "      <td>0.01</td>\n",
       "      <td>Likely Humans</td>\n",
       "    </tr>\n",
       "    <tr>\n",
       "      <th>3</th>\n",
       "      <td>000000000000000000003968</td>\n",
       "      <td>1</td>\n",
       "      <td>0.05</td>\n",
       "      <td>Likely Humans</td>\n",
       "    </tr>\n",
       "    <tr>\n",
       "      <th>4</th>\n",
       "      <td>000000000000000035222818</td>\n",
       "      <td>22</td>\n",
       "      <td>0.24</td>\n",
       "      <td>Likely Semi-Bots</td>\n",
       "    </tr>\n",
       "  </tbody>\n",
       "</table>\n",
       "</div>"
      ],
      "text/plain": [
       "                       user  k-core  botscore            Groups\n",
       "0  000000000000000026994875      17      0.06     Likely Humans\n",
       "1  000000000000000000002862       1      0.09     Likely Humans\n",
       "2  000000000000000014436030      93      0.01     Likely Humans\n",
       "3  000000000000000000003968       1      0.05     Likely Humans\n",
       "4  000000000000000035222818      22      0.24  Likely Semi-Bots"
      ]
     },
     "execution_count": 147,
     "metadata": {},
     "output_type": "execute_result"
    }
   ],
   "source": [
    "df_cores['Groups'] = df_cores.apply(lambda row : interval(row), axis=1)\n",
    "df_cores.head()"
   ]
  },
  {
   "cell_type": "code",
   "execution_count": 244,
   "metadata": {},
   "outputs": [
    {
     "data": {
      "text/html": [
       "<div>\n",
       "<style scoped>\n",
       "    .dataframe tbody tr th:only-of-type {\n",
       "        vertical-align: middle;\n",
       "    }\n",
       "\n",
       "    .dataframe tbody tr th {\n",
       "        vertical-align: top;\n",
       "    }\n",
       "\n",
       "    .dataframe thead th {\n",
       "        text-align: right;\n",
       "    }\n",
       "</style>\n",
       "<table border=\"1\" class=\"dataframe\">\n",
       "  <thead>\n",
       "    <tr style=\"text-align: right;\">\n",
       "      <th></th>\n",
       "      <th>user</th>\n",
       "      <th>k-core</th>\n",
       "      <th>botscore</th>\n",
       "      <th>Groups</th>\n",
       "      <th>k-core-bins</th>\n",
       "    </tr>\n",
       "  </thead>\n",
       "  <tbody>\n",
       "    <tr>\n",
       "      <th>0</th>\n",
       "      <td>000000000000000026994875</td>\n",
       "      <td>17</td>\n",
       "      <td>0.06</td>\n",
       "      <td>Likely Humans</td>\n",
       "      <td>5</td>\n",
       "    </tr>\n",
       "    <tr>\n",
       "      <th>1</th>\n",
       "      <td>000000000000000000002862</td>\n",
       "      <td>1</td>\n",
       "      <td>0.09</td>\n",
       "      <td>Likely Humans</td>\n",
       "      <td>0</td>\n",
       "    </tr>\n",
       "    <tr>\n",
       "      <th>2</th>\n",
       "      <td>000000000000000014436030</td>\n",
       "      <td>93</td>\n",
       "      <td>0.01</td>\n",
       "      <td>Likely Humans</td>\n",
       "      <td>28</td>\n",
       "    </tr>\n",
       "    <tr>\n",
       "      <th>3</th>\n",
       "      <td>000000000000000000003968</td>\n",
       "      <td>1</td>\n",
       "      <td>0.05</td>\n",
       "      <td>Likely Humans</td>\n",
       "      <td>0</td>\n",
       "    </tr>\n",
       "    <tr>\n",
       "      <th>4</th>\n",
       "      <td>000000000000000035222818</td>\n",
       "      <td>22</td>\n",
       "      <td>0.24</td>\n",
       "      <td>Likely Semi-Bots</td>\n",
       "      <td>6</td>\n",
       "    </tr>\n",
       "  </tbody>\n",
       "</table>\n",
       "</div>"
      ],
      "text/plain": [
       "                       user  k-core  botscore            Groups  k-core-bins\n",
       "0  000000000000000026994875      17      0.06     Likely Humans            5\n",
       "1  000000000000000000002862       1      0.09     Likely Humans            0\n",
       "2  000000000000000014436030      93      0.01     Likely Humans           28\n",
       "3  000000000000000000003968       1      0.05     Likely Humans            0\n",
       "4  000000000000000035222818      22      0.24  Likely Semi-Bots            6"
      ]
     },
     "execution_count": 244,
     "metadata": {},
     "output_type": "execute_result"
    }
   ],
   "source": [
    "df_cores['k-core-bins'] = pd.cut(df_cores['k-core'], bins=30, labels=False)\n",
    "df_cores.head()"
   ]
  },
  {
   "cell_type": "code",
   "execution_count": 280,
   "metadata": {},
   "outputs": [
    {
     "data": {
      "text/plain": [
       "97"
      ]
     },
     "execution_count": 280,
     "metadata": {},
     "output_type": "execute_result"
    }
   ],
   "source": [
    "df_cores['k-core'].max()"
   ]
  },
  {
   "cell_type": "code",
   "execution_count": 376,
   "metadata": {},
   "outputs": [
    {
     "data": {
      "image/png": "[encoded data removed]",
      "text/plain": [
       "<Figure size 576x324 with 1 Axes>"
      ]
     },
     "metadata": {},
     "output_type": "display_data"
    }
   ],
   "source": [
    "### %%time\n",
    "\n",
    "fig = plt.figure(figsize=(8,4.5))\n",
    "\n",
    "ax = sns.kdeplot(data=df_cores,\n",
    "                x='k-core', \n",
    "                hue='Groups',\n",
    "                hue_order=['Likely Bots','Likely Semi-Bots', 'Likely Humans'],\n",
    "                palette=['red','orangered','green'],\n",
    "                multiple=\"fill\",\n",
    "                legend=False,\n",
    "                alpha=0.7\n",
    "                )\n",
    "\n",
    "#plt.title('Absolute composition of network k-core')\n",
    "#ax.add_legend(loc='lower right')\n",
    "\n",
    "#ax.set_axis_labels(\"K\", \"Proportion of users\")\n",
    "\n",
    "plt.xlabel(\"K\")\n",
    "plt.ylabel(\"Proportion of users\")\n",
    "\n",
    "colors={prs[0]:'black',\n",
    "        prs[1]:'black'}\n",
    "\n",
    "h_xlims = plt.gca().get_xlim()\n",
    "for pr,p in zip(prs,ps):\n",
    "    plt.hlines(y=pr/100, xmin=h_xlims[0], xmax=h_xlims[1], linewidth = 2, linestyles='dashed',color=colors[pr])\n",
    "    #text(y=pr/100+0.01, x=h_xlims[1]+0.5, s= str(pr/100), verticalalignment='center')\n",
    "    \n",
    "for position,label in zip([0.35,0.8,1.05],['Likely Humans', 'Likely Semi-Bots', 'Likely Bots']):\n",
    "    text(y=position, x=h_xlims[1]-30, s= label, fontsize='small', fontweight='bold', verticalalignment='center')\n",
    "\n",
    "plt.xticks(np.arange(0,97,10))\n",
    "plt.xlim(0,97)\n",
    "plt.tight_layout()\n",
    "plt.savefig('images/kcores-fill.svg', bbox_inches = \"tight\")\n",
    "plt.savefig('images/kcores-fill.pdf', bbox_inches = \"tight\")"
   ]
  },
  {
   "cell_type": "code",
   "execution_count": 149,
   "metadata": {},
   "outputs": [
    {
     "name": "stdout",
     "output_type": "stream",
     "text": [
      "CPU times: user 5.25 s, sys: 316 ms, total: 5.57 s\n",
      "Wall time: 1.21 s\n"
     ]
    },
    {
     "data": {
      "image/png": "[encoded data removed]",
      "text/plain": [
       "<Figure size 864x432 with 1 Axes>"
      ]
     },
     "metadata": {},
     "output_type": "display_data"
    }
   ],
   "source": [
    "%%time\n",
    "\n",
    "fig, axs = plt.subplots(1, 1, figsize=(12,6))\n",
    "\n",
    "ax = sns.kdeplot(data=df_cores[df_cores['k-core']>=10],\n",
    "                   x='k-core', \n",
    "                   hue='Groups',\n",
    "                   common_norm=False,\n",
    "                   #stat='probability',\n",
    "                   #kde=True,\n",
    "                hue_order=['Likely Bots','Likely Semi-Bots', 'Likely Humans'],\n",
    "                log_scale=[False, False],\n",
    "                   #multiple='stack',\n",
    "                   #height=3,\n",
    "                   #aspect=3,\n",
    "                )\n",
    "\n",
    "plt.title('Relative composition of network k-cores')\n",
    "plt.xlim(10,100)\n",
    "ax.set_xlabel(\"K\")\n",
    "ax.set_ylabel(\"Density (independently normalized and logarithmically scaled)\")\n",
    "plt.tight_layout()\n",
    "plt.savefig('images/kcores-relative.svg', bbox_inches = \"tight\")"
   ]
  }
 ],
 "metadata": {
  "kernelspec": {
   "display_name": "Python 3",
   "language": "python",
   "name": "python3"
  },
  "language_info": {
   "codemirror_mode": {
    "name": "ipython",
    "version": 3
   },
   "file_extension": ".py",
   "mimetype": "text/x-python",
   "name": "python",
   "nbconvert_exporter": "python",
   "pygments_lexer": "ipython3",
   "version": "3.7.4"
  }
 },
 "nbformat": 4,
 "nbformat_minor": 4
}
