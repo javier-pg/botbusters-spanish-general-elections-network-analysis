{
 "cells": [
  {
   "cell_type": "markdown",
   "metadata": {},
   "source": [
    "## Configuration"
   ]
  },
  {
   "cell_type": "markdown",
   "metadata": {},
   "source": [
    "### Imports"
   ]
  },
  {
   "cell_type": "code",
   "execution_count": 1,
   "metadata": {},
   "outputs": [],
   "source": [
    "# Utilities\n",
    "from IPython.display import display\n",
    "from fastprogress import master_bar, progress_bar\n",
    "from datetime import datetime\n",
    "from unidecode import unidecode\n",
    "import os\n",
    "import ntpath\n",
    "import numpy as np\n",
    "import statistics \n",
    "import re\n",
    "import math\n",
    "import random\n",
    "import datetime\n",
    "import numbers\n",
    "from collections.abc import MutableMapping\n",
    "import pandas as pd\n",
    "import time\n",
    "from random import randint\n",
    "\n",
    "# Botometer API\n",
    "import botometer\n",
    "\n",
    "# MongoDB functionality\n",
    "from pymongo import MongoClient, InsertOne\n",
    "from bson import ObjectId\n",
    "\n",
    "# Concurrency\n",
    "import concurrent.futures\n",
    "from tqdm.notebook import tqdm\n",
    "\n",
    "# Config management\n",
    "from configparser import ConfigParser\n",
    "\n",
    "\n",
    "# Directories where CSV data is stored\n",
    "ROOT_DIR = \"/home/mattia/javier/botbusters-spanish-general-elections-network-analysis\"\n",
    "\n",
    "# Change path to root\n",
    "os.chdir(ROOT_DIR)\n",
    "\n",
    "# MongoDB parameters\n",
    "mongoclient = MongoClient('localhost', 27017)\n",
    "db = mongoclient.influence"
   ]
  },
  {
   "cell_type": "markdown",
   "metadata": {},
   "source": [
    "### Available botometer keys (rapidapi key, twitter consumer key, twitter consumer secret)"
   ]
  },
  {
   "cell_type": "code",
   "execution_count": 2,
   "metadata": {},
   "outputs": [
    {
     "name": "stdout",
     "output_type": "stream",
     "text": [
      "CPU times: user 330 ms, sys: 50.1 ms, total: 380 ms\n",
      "Wall time: 8.82 s\n"
     ]
    }
   ],
   "source": [
    "%%time\n",
    "\n",
    "config_object = ConfigParser()\n",
    "config_object.read(\"config.init\")\n",
    "\n",
    "keys = {}\n",
    "k = 0\n",
    "for key in config_object.sections():\n",
    "    keys[k] = botometer.Botometer(wait_on_ratelimit=True,\n",
    "                                  rapidapi_key=config_object2.get(key,'rapidapi_key'), \n",
    "                                  **{'consumer_key':config_object2.get(key,'consumer_key'), \n",
    "                                     'consumer_secret':config_object2.get(key,'consumer_secret')})\n",
    "    k=k+1"
   ]
  },
  {
   "cell_type": "markdown",
   "metadata": {},
   "source": [
    "### Support Functions"
   ]
  },
  {
   "cell_type": "code",
   "execution_count": 3,
   "metadata": {},
   "outputs": [],
   "source": [
    "def flatten(d, parent_key='', sep='_'):\n",
    "    \"\"\"Formats MongoDB results\n",
    "    \n",
    "    Keyword arguments:\n",
    "    d -- dictionary with key and uncleaned values\n",
    "    parent_key --\n",
    "    sep --\n",
    "    \"\"\"\n",
    "    items = []\n",
    "    for k, v in d.items():\n",
    "        new_key = parent_key + sep + k if parent_key else k\n",
    "        if isinstance(v, MutableMapping):\n",
    "            items.extend(flatten(v, new_key, sep=sep).items())\n",
    "        else:\n",
    "            items.append((new_key, v))\n",
    "    return dict(items)\n",
    "\n",
    "def make_objid(text):\n",
    "    \"\"\"Makes an ObjectId of 4 bytes\n",
    "    \n",
    "    Keyword arguments:\n",
    "    text -- string to be converted into Object ID\n",
    "    \"\"\"\n",
    "    text = str(text)\n",
    "    if not text.strip():\n",
    "        return None\n",
    "    try:\n",
    "        return ObjectId(text.rjust(24,\"0\"))\n",
    "    except Exception as ex:\n",
    "        print(text, ex)\n",
    "        return None\n",
    "\n",
    "def get_botscore_by_userid(iteration, key, user_id, user_collection):\n",
    "    \"\"\"\n",
    "    \n",
    "    \"\"\"\n",
    "    try:    \n",
    "        time.sleep(randint(90,100))\n",
    "        botometer_instance = keys[key]\n",
    "        result = botometer_instance.check_account(user_id)\n",
    "        results = user_collection.update_one({'_id': make_objid(user_id)},\n",
    "                                   {'$set': { 'botscore' : result }, '$unset': {'reason':''} },\n",
    "                                    upsert=True)\n",
    "\n",
    "        #print(\"New tweet Ma:\", str(results.matched_count).rjust(8, \" \"),\" Mo:\", str(results.modified_count).rjust(8, \" \"))\n",
    "        \n",
    "        return True\n",
    "    \n",
    "    except Exception as e:\n",
    "        \n",
    "        toomany_match = re.search('Too Many Requests', str(e))\n",
    "        if toomany_match:\n",
    "            #print(\"User\", user_id, \"Key\", key, \" Too many requests\")\n",
    "            user_collection.update_one({'_id': make_objid(user_id)}, \n",
    "                                       {'$set': {'botscore': -2, 'reason': 'too many requests'}},\n",
    "                                       upsert=True)\n",
    "\n",
    "        else:\n",
    "            user_collection.update_one({'_id': make_objid(user_id)}, \n",
    "                                       {'$set': {'botscore': -3, 'reason': str(e)}},\n",
    "                                       upsert=True)\n",
    "            \n",
    "        error = str(iteration) + \" - Exception. User: \" + user_id + \"; Key: \" + str(key) + \"; Message: \" + str(e) + \"\\n\"\n",
    "        return error\n",
    "    \n",
    "def get_tweets(collection):\n",
    "    \"\"\"\n",
    "    Gets tweets\n",
    "    \n",
    "    collection - Tweets MongoDB collection\n",
    "    \"\"\"\n",
    "    tweets = list(collection.find({},\n",
    "                                 {'_id' : False, 'user_id' : True}))\n",
    "    \n",
    "    print(\"Number of tweets in DB:\", len(tweets))\n",
    "    tweets = [flatten(t) for t in tweets]\n",
    "    df_tweets = pd.DataFrame(tweets)\n",
    "    return df_tweets\n",
    "\n",
    "def get_retweets(collection):\n",
    "    \"\"\"\n",
    "    Gets retweets\n",
    "    \n",
    "    collection - Retweets MongoDB collection\n",
    "    \"\"\"\n",
    "    retweets = list(collection.find({},\n",
    "                                 {'_id': False, 'user_id' : True}))\n",
    "    \n",
    "    print(\"Number of retweets in DB:\", len(retweets))\n",
    "    retweets = [flatten(r) for r in retweets]\n",
    "    df_retweets = pd.DataFrame(retweets)\n",
    "    return df_retweets\n",
    "\n",
    "def get_users(collection):\n",
    "    \"\"\"\n",
    "    Gets users\n",
    "    \n",
    "    collection - Users MongoDB collection\n",
    "    \"\"\"\n",
    "    users = list(collection.find({ '$or' : [ { 'botscore': { '$exists' : False } }, {'botscore': -2} ]},\n",
    "                                 {'_id' : True}))\n",
    "    \n",
    "    print(\"Number of users without botscore in DB:\", len(users))\n",
    "    users = [flatten(u) for u in users]\n",
    "    df_users = pd.DataFrame(users)\n",
    "    return df_users"
   ]
  },
  {
   "cell_type": "markdown",
   "metadata": {},
   "source": [
    "## Get Botscores"
   ]
  },
  {
   "cell_type": "markdown",
   "metadata": {},
   "source": [
    "Get tweets and retweets"
   ]
  },
  {
   "cell_type": "code",
   "execution_count": 4,
   "metadata": {},
   "outputs": [
    {
     "name": "stdout",
     "output_type": "stream",
     "text": [
      "Number of retweets in DB: 39344305\n"
     ]
    },
    {
     "data": {
      "text/html": [
       "<div>\n",
       "<style scoped>\n",
       "    .dataframe tbody tr th:only-of-type {\n",
       "        vertical-align: middle;\n",
       "    }\n",
       "\n",
       "    .dataframe tbody tr th {\n",
       "        vertical-align: top;\n",
       "    }\n",
       "\n",
       "    .dataframe thead th {\n",
       "        text-align: right;\n",
       "    }\n",
       "</style>\n",
       "<table border=\"1\" class=\"dataframe\">\n",
       "  <thead>\n",
       "    <tr style=\"text-align: right;\">\n",
       "      <th></th>\n",
       "      <th>user_id</th>\n",
       "    </tr>\n",
       "  </thead>\n",
       "  <tbody>\n",
       "    <tr>\n",
       "      <td>0</td>\n",
       "      <td>000000000000004460826197</td>\n",
       "    </tr>\n",
       "    <tr>\n",
       "      <td>1</td>\n",
       "      <td>000001075150211725619200</td>\n",
       "    </tr>\n",
       "    <tr>\n",
       "      <td>2</td>\n",
       "      <td>000000000000003251522811</td>\n",
       "    </tr>\n",
       "    <tr>\n",
       "      <td>3</td>\n",
       "      <td>000000000000000904385876</td>\n",
       "    </tr>\n",
       "    <tr>\n",
       "      <td>4</td>\n",
       "      <td>000000952575694021758976</td>\n",
       "    </tr>\n",
       "  </tbody>\n",
       "</table>\n",
       "</div>"
      ],
      "text/plain": [
       "                    user_id\n",
       "0  000000000000004460826197\n",
       "1  000001075150211725619200\n",
       "2  000000000000003251522811\n",
       "3  000000000000000904385876\n",
       "4  000000952575694021758976"
      ]
     },
     "metadata": {},
     "output_type": "display_data"
    },
    {
     "name": "stdout",
     "output_type": "stream",
     "text": [
      "CPU times: user 4min 33s, sys: 18.6 s, total: 4min 52s\n",
      "Wall time: 5min 16s\n"
     ]
    }
   ],
   "source": [
    "%%time\n",
    "df_retweets = get_retweets(db.retweets)\n",
    "display(df_retweets.head(5))"
   ]
  },
  {
   "cell_type": "code",
   "execution_count": 5,
   "metadata": {},
   "outputs": [
    {
     "name": "stdout",
     "output_type": "stream",
     "text": [
      "Number of tweets in DB: 1875457\n"
     ]
    },
    {
     "data": {
      "text/html": [
       "<div>\n",
       "<style scoped>\n",
       "    .dataframe tbody tr th:only-of-type {\n",
       "        vertical-align: middle;\n",
       "    }\n",
       "\n",
       "    .dataframe tbody tr th {\n",
       "        vertical-align: top;\n",
       "    }\n",
       "\n",
       "    .dataframe thead th {\n",
       "        text-align: right;\n",
       "    }\n",
       "</style>\n",
       "<table border=\"1\" class=\"dataframe\">\n",
       "  <thead>\n",
       "    <tr style=\"text-align: right;\">\n",
       "      <th></th>\n",
       "      <th>user_id</th>\n",
       "    </tr>\n",
       "  </thead>\n",
       "  <tbody>\n",
       "    <tr>\n",
       "      <td>0</td>\n",
       "      <td>000000000000000276977398</td>\n",
       "    </tr>\n",
       "    <tr>\n",
       "      <td>1</td>\n",
       "      <td>000000000000002906096735</td>\n",
       "    </tr>\n",
       "    <tr>\n",
       "      <td>2</td>\n",
       "      <td>000000000000001620996282</td>\n",
       "    </tr>\n",
       "    <tr>\n",
       "      <td>3</td>\n",
       "      <td>000001163542858604916739</td>\n",
       "    </tr>\n",
       "    <tr>\n",
       "      <td>4</td>\n",
       "      <td>000000000000000279465279</td>\n",
       "    </tr>\n",
       "  </tbody>\n",
       "</table>\n",
       "</div>"
      ],
      "text/plain": [
       "                    user_id\n",
       "0  000000000000000276977398\n",
       "1  000000000000002906096735\n",
       "2  000000000000001620996282\n",
       "3  000001163542858604916739\n",
       "4  000000000000000279465279"
      ]
     },
     "metadata": {},
     "output_type": "display_data"
    },
    {
     "name": "stdout",
     "output_type": "stream",
     "text": [
      "CPU times: user 9.02 s, sys: 87.2 ms, total: 9.1 s\n",
      "Wall time: 10.4 s\n"
     ]
    }
   ],
   "source": [
    "%%time\n",
    "df_tweets = get_tweets(db.tweets)\n",
    "display(df_tweets.head(5))"
   ]
  },
  {
   "cell_type": "code",
   "execution_count": 6,
   "metadata": {},
   "outputs": [
    {
     "name": "stdout",
     "output_type": "stream",
     "text": [
      "Total users: 2802467\n",
      "CPU times: user 2min 52s, sys: 1.87 s, total: 2min 54s\n",
      "Wall time: 2min 37s\n"
     ]
    }
   ],
   "source": [
    "%%time\n",
    "freq = df_tweets.user_id.value_counts()\n",
    "freq2 = df_retweets.user_id.value_counts()\n",
    "fsum = freq.add(freq2, fill_value=0)\n",
    "print(\"Total users:\",len(fsum))"
   ]
  },
  {
   "cell_type": "markdown",
   "metadata": {},
   "source": [
    "Get users without botscore"
   ]
  },
  {
   "cell_type": "code",
   "execution_count": 7,
   "metadata": {},
   "outputs": [
    {
     "name": "stdout",
     "output_type": "stream",
     "text": [
      "Number of users without botscore in DB: 2601875\n",
      "CPU times: user 16.2 s, sys: 228 ms, total: 16.5 s\n",
      "Wall time: 16.4 s\n"
     ]
    }
   ],
   "source": [
    "%%time\n",
    "df_users = get_users(db.users)"
   ]
  },
  {
   "cell_type": "code",
   "execution_count": 8,
   "metadata": {},
   "outputs": [
    {
     "data": {
      "text/html": [
       "<div>\n",
       "<style scoped>\n",
       "    .dataframe tbody tr th:only-of-type {\n",
       "        vertical-align: middle;\n",
       "    }\n",
       "\n",
       "    .dataframe tbody tr th {\n",
       "        vertical-align: top;\n",
       "    }\n",
       "\n",
       "    .dataframe thead th {\n",
       "        text-align: right;\n",
       "    }\n",
       "</style>\n",
       "<table border=\"1\" class=\"dataframe\">\n",
       "  <thead>\n",
       "    <tr style=\"text-align: right;\">\n",
       "      <th></th>\n",
       "      <th>_id</th>\n",
       "    </tr>\n",
       "  </thead>\n",
       "  <tbody>\n",
       "    <tr>\n",
       "      <td>0</td>\n",
       "      <td>000000000000002266588688</td>\n",
       "    </tr>\n",
       "    <tr>\n",
       "      <td>1</td>\n",
       "      <td>000000000000000471028961</td>\n",
       "    </tr>\n",
       "  </tbody>\n",
       "</table>\n",
       "</div>"
      ],
      "text/plain": [
       "                        _id\n",
       "0  000000000000002266588688\n",
       "1  000000000000000471028961"
      ]
     },
     "execution_count": 8,
     "metadata": {},
     "output_type": "execute_result"
    }
   ],
   "source": [
    "df_users.head(2)"
   ]
  },
  {
   "cell_type": "markdown",
   "metadata": {},
   "source": [
    "Order by importance"
   ]
  },
  {
   "cell_type": "code",
   "execution_count": 9,
   "metadata": {},
   "outputs": [
    {
     "name": "stdout",
     "output_type": "stream",
     "text": [
      "2601875\n",
      "CPU times: user 9.85 s, sys: 3.69 ms, total: 9.85 s\n",
      "Wall time: 9.85 s\n"
     ]
    }
   ],
   "source": [
    "%%time\n",
    "filtered_fsum = fsum[fsum.index.isin(df_users._id)]\n",
    "print(len(filtered_fsum))"
   ]
  },
  {
   "cell_type": "code",
   "execution_count": 10,
   "metadata": {},
   "outputs": [
    {
     "data": {
      "text/plain": [
       "000001183437478914641920    117.0\n",
       "000000986284368309161984    117.0\n",
       "000000000000000186037690    117.0\n",
       "000000000000000072070959    117.0\n",
       "000000752995384125947904    117.0\n",
       "Name: user_id, dtype: float64"
      ]
     },
     "execution_count": 10,
     "metadata": {},
     "output_type": "execute_result"
    }
   ],
   "source": [
    "ordered_users = filtered_fsum.sort_values(ascending=False)\n",
    "ordered_users.head(5)"
   ]
  },
  {
   "cell_type": "code",
   "execution_count": null,
   "metadata": {},
   "outputs": [],
   "source": [
    "filename = \"error.log\"\n",
    "daily_limit = 500\n",
    "\n",
    "with concurrent.futures.ThreadPoolExecutor(max_workers=len(keys)) as executor:\n",
    "    futures = []\n",
    "    key = 0\n",
    "    it = 0\n",
    "    for user_id in ordered_users.head(len(keys)*daily_limit).index:\n",
    "        future = executor.submit(get_botscore_by_userid, it, key, str(user_id), db.users)\n",
    "        futures.append(future)\n",
    "        key = (key + 1) % len(keys)\n",
    "        it = it+1\n",
    "        \n",
    "    for f in tqdm(concurrent.futures.as_completed(futures), total=len(futures), leave=True):\n",
    "        if f.result() is not True:\n",
    "            myfile = open(ROOT_DIR+filename, 'a')\n",
    "            myfile.write(f.result())\n",
    "            myfile.close()\n",
    "        pass"
   ]
  }
 ],
 "metadata": {
  "kernelspec": {
   "display_name": "Python 3",
   "language": "python",
   "name": "python3"
  },
  "language_info": {
   "codemirror_mode": {
    "name": "ipython",
    "version": 3
   },
   "file_extension": ".py",
   "mimetype": "text/x-python",
   "name": "python",
   "nbconvert_exporter": "python",
   "pygments_lexer": "ipython3",
   "version": "3.7.4"
  }
 },
 "nbformat": 4,
 "nbformat_minor": 4
}
