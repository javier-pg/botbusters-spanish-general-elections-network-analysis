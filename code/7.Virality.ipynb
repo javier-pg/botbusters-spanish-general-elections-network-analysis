{
 "cells": [
  {
   "cell_type": "markdown",
   "metadata": {},
   "source": [
    "## Configuration"
   ]
  },
  {
   "cell_type": "markdown",
   "metadata": {},
   "source": [
    "### Imports"
   ]
  },
  {
   "cell_type": "code",
   "execution_count": 1,
   "metadata": {},
   "outputs": [],
   "source": [
    "# Utilities\n",
    "from IPython.display import display\n",
    "import os\n",
    "import numpy as np\n",
    "import time\n",
    "import pandas as pd\n",
    "\n",
    "# MongoDB functionality\n",
    "from pymongo import MongoClient, InsertOne, UpdateOne\n",
    "from bson import ObjectId\n",
    "from collections.abc import MutableMapping\n",
    "\n",
    "# Graphics\n",
    "import matplotlib.pyplot as plt\n",
    "from matplotlib.pyplot import text\n",
    "import seaborn as sns\n",
    "sns.set(font_scale=0.9)\n",
    "sns.set_style(\"whitegrid\")\n",
    "sns.set_style({'font.family':'monospace'})\n",
    "from mpl_toolkits.axes_grid1.inset_locator import inset_axes\n",
    "\n",
    "\n",
    "# Network analysis\n",
    "import networkx as nx\n",
    "\n",
    "ROOT_DIR = \"/home/mattia/javier/botbusters-spanish-general-elections-network-analysis/\"\n",
    "\n",
    "# Change path to root\n",
    "os.chdir(ROOT_DIR)\n",
    "\n",
    "# MongoDB parameters\n",
    "mongoclient = MongoClient('localhost', 27017)\n",
    "db = mongoclient.influence"
   ]
  },
  {
   "cell_type": "markdown",
   "metadata": {},
   "source": [
    "### Support Functions"
   ]
  },
  {
   "cell_type": "code",
   "execution_count": 74,
   "metadata": {},
   "outputs": [],
   "source": [
    "def flatten(d, parent_key='', sep='_'):\n",
    "    \"\"\"Formats MongoDB results\n",
    "    \n",
    "    Keyword arguments:\n",
    "    d -- dictionary with key and uncleaned values\n",
    "    parent_key --\n",
    "    sep --\n",
    "    \"\"\"\n",
    "    items = []\n",
    "    for k, v in d.items():\n",
    "        new_key = parent_key + sep + k if parent_key else k\n",
    "        if isinstance(v, MutableMapping):\n",
    "            items.extend(flatten(v, new_key, sep=sep).items())\n",
    "        else:\n",
    "            items.append((new_key, v))\n",
    "    return dict(items)\n",
    "\n",
    "def make_objid(text):\n",
    "    \"\"\"Makes an ObjectId of 4 bytes\n",
    "    \n",
    "    Keyword arguments:\n",
    "    text -- string to be converted into Object ID\n",
    "    \"\"\"\n",
    "    text = str(text)\n",
    "    if not text.strip():\n",
    "        return None\n",
    "    try:\n",
    "        return ObjectId(text.rjust(24,\"0\"))\n",
    "    except Exception as ex:\n",
    "        print(text, ex)\n",
    "        return None\n",
    "\n",
    "LIMIT=1000000\n",
    "    \n",
    "def get_tweets(collection):\n",
    "    \"\"\"\n",
    "    Gets tweets\n",
    "    \n",
    "    collection - Tweets MongoDB collection\n",
    "    \"\"\"\n",
    "    tweets = list(collection\n",
    "                    .find({'sampled':True},{'_id': True, 'tweet_id': True, 'user_id' : True})\n",
    "                   )\n",
    "    \n",
    "    print(\"Number of tweets:\", len(tweets))\n",
    "    tweets = [flatten(t) for t in tweets]\n",
    "    df_tweets = pd.DataFrame(tweets)\n",
    "    df_tweets.user_id = df_tweets.user_id.apply(lambda t : str(t))\n",
    "    df_tweets.user_id = df_tweets.user_id.astype(str)\n",
    "    df_tweets.rename(columns={'user_id':'tweet_author'},inplace=True)\n",
    "    return df_tweets\n",
    "    \n",
    "    \n",
    "def get_retweets(collection):\n",
    "    \"\"\"\n",
    "    Gets retweets\n",
    "    \n",
    "    collection - Retweets MongoDB collection\n",
    "    \"\"\"\n",
    "    retweets = list(collection\n",
    "                    .find({'sampled':True},{'_id': False, 'tweet_id': True, 'user_id' : True, 'date':True})\n",
    "                    .limit(LIMIT)\n",
    "                   )\n",
    "    \n",
    "    print(\"Number of retweets:\", len(retweets))\n",
    "    retweets = [flatten(r) for r in retweets]\n",
    "    df_retweets = pd.DataFrame(retweets)\n",
    "    df_retweets.user_id = df_retweets.user_id.apply(lambda t : str(t))\n",
    "    df_retweets.user_id = df_retweets.user_id.astype(str)\n",
    "    df_retweets.date = df_retweets.date.astype(\"datetime64\")\n",
    "    df_retweets.rename(columns={'user_id':'retweet_author'},inplace=True)\n",
    "    return df_retweets\n",
    "\n",
    "def get_users(collection):\n",
    "    \"\"\"\n",
    "    Gets users\n",
    "    \n",
    "    collection - Users MongoDB collection\n",
    "    \"\"\"\n",
    "    users = list(collection.find({ '$and' : [ { 'sampled': True } , { 'botscore' : { '$gte' : 0 } }]},\n",
    "                                 {'_id' : True, 'botscore' : True})\n",
    "                 #.limit(LIMIT)\n",
    "                )\n",
    "    print(\"Number of sampled users with botscore in DB:\", len(users))\n",
    "    users = [flatten(u) for u in users]\n",
    "    df_users = pd.DataFrame(users)\n",
    "    df_users._id = df_users._id.apply(lambda t : str(t))\n",
    "    df_users._id = df_users._id.astype(str)\n",
    "    return df_users\n",
    "\n",
    "\n",
    "def get_users(collection):\n",
    "    \"\"\"\n",
    "    Gets users\n",
    "    \n",
    "    collection - Users MongoDB collection\n",
    "    \"\"\"\n",
    "    users = list(collection.find({ '$and' : [ { 'sampled': True } , { 'botscore' : { '$gte' : 0 } }]},\n",
    "                                 {'_id' : True, 'botscore' : True})\n",
    "                 #.limit(LIMIT)\n",
    "                )\n",
    "    print(\"Number of sampled users with botscore in DB:\", len(users))\n",
    "    users = [flatten(u) for u in users]\n",
    "    df_users = pd.DataFrame(users)\n",
    "    df_users._id = df_users._id.apply(lambda t : str(t))\n",
    "    df_users._id = df_users._id.astype(str)\n",
    "    return df_users\n",
    "\n",
    "def get_hashtags(collection):\n",
    "    \"\"\"\n",
    "    Gets hashtags\n",
    "    \n",
    "    collection - Hashtags MongoDB collection\n",
    "    \"\"\"\n",
    "    hashtags = list(collection.find({},\n",
    "                                 {'_id' : False, 'tweet_id' : True, 'hashtag' : True})\n",
    "                 #.limit(LIMIT)\n",
    "                )\n",
    "    print(\"Number of hashtags in DB:\", len(hashtags))\n",
    "    df_hashtags = pd.DataFrame(hashtags)\n",
    "    return df_hashtags"
   ]
  },
  {
   "cell_type": "markdown",
   "metadata": {},
   "source": [
    "## Data preparation"
   ]
  },
  {
   "cell_type": "markdown",
   "metadata": {},
   "source": [
    "#### Getting users from DB..."
   ]
  },
  {
   "cell_type": "code",
   "execution_count": 3,
   "metadata": {},
   "outputs": [
    {
     "name": "stdout",
     "output_type": "stream",
     "text": [
      "Number of sampled users with botscore in DB: 477982\n"
     ]
    },
    {
     "data": {
      "text/html": [
       "<div>\n",
       "<style scoped>\n",
       "    .dataframe tbody tr th:only-of-type {\n",
       "        vertical-align: middle;\n",
       "    }\n",
       "\n",
       "    .dataframe tbody tr th {\n",
       "        vertical-align: top;\n",
       "    }\n",
       "\n",
       "    .dataframe thead th {\n",
       "        text-align: right;\n",
       "    }\n",
       "</style>\n",
       "<table border=\"1\" class=\"dataframe\">\n",
       "  <thead>\n",
       "    <tr style=\"text-align: right;\">\n",
       "      <th></th>\n",
       "      <th>_id</th>\n",
       "      <th>botscore</th>\n",
       "    </tr>\n",
       "  </thead>\n",
       "  <tbody>\n",
       "    <tr>\n",
       "      <th>0</th>\n",
       "      <td>000000000000002266588688</td>\n",
       "      <td>0.16</td>\n",
       "    </tr>\n",
       "    <tr>\n",
       "      <th>1</th>\n",
       "      <td>000000000000000471028961</td>\n",
       "      <td>0.03</td>\n",
       "    </tr>\n",
       "    <tr>\n",
       "      <th>2</th>\n",
       "      <td>000000000000002792368467</td>\n",
       "      <td>0.11</td>\n",
       "    </tr>\n",
       "    <tr>\n",
       "      <th>3</th>\n",
       "      <td>000000000000004068857357</td>\n",
       "      <td>0.01</td>\n",
       "    </tr>\n",
       "    <tr>\n",
       "      <th>4</th>\n",
       "      <td>000000000000000006953012</td>\n",
       "      <td>0.03</td>\n",
       "    </tr>\n",
       "  </tbody>\n",
       "</table>\n",
       "</div>"
      ],
      "text/plain": [
       "                        _id  botscore\n",
       "0  000000000000002266588688      0.16\n",
       "1  000000000000000471028961      0.03\n",
       "2  000000000000002792368467      0.11\n",
       "3  000000000000004068857357      0.01\n",
       "4  000000000000000006953012      0.03"
      ]
     },
     "metadata": {},
     "output_type": "display_data"
    }
   ],
   "source": [
    "users = get_users(db.users)\n",
    "display(users.head(5))"
   ]
  },
  {
   "cell_type": "markdown",
   "metadata": {},
   "source": [
    "#### Getting tweets from DB..."
   ]
  },
  {
   "cell_type": "code",
   "execution_count": 4,
   "metadata": {},
   "outputs": [
    {
     "name": "stdout",
     "output_type": "stream",
     "text": [
      "Number of tweets: 358190\n"
     ]
    },
    {
     "data": {
      "text/html": [
       "<div>\n",
       "<style scoped>\n",
       "    .dataframe tbody tr th:only-of-type {\n",
       "        vertical-align: middle;\n",
       "    }\n",
       "\n",
       "    .dataframe tbody tr th {\n",
       "        vertical-align: top;\n",
       "    }\n",
       "\n",
       "    .dataframe thead th {\n",
       "        text-align: right;\n",
       "    }\n",
       "</style>\n",
       "<table border=\"1\" class=\"dataframe\">\n",
       "  <thead>\n",
       "    <tr style=\"text-align: right;\">\n",
       "      <th></th>\n",
       "      <th>_id</th>\n",
       "      <th>tweet_author</th>\n",
       "      <th>tweet_id</th>\n",
       "    </tr>\n",
       "  </thead>\n",
       "  <tbody>\n",
       "    <tr>\n",
       "      <th>0</th>\n",
       "      <td>77c4e81a-46a7-11ea-9505-02420a0000af</td>\n",
       "      <td>000000000000000279465279</td>\n",
       "      <td>000001191464087064109058</td>\n",
       "    </tr>\n",
       "    <tr>\n",
       "      <th>1</th>\n",
       "      <td>f4c064c6-4c4b-11ea-954b-02420a0000f2</td>\n",
       "      <td>000000000000001266667238</td>\n",
       "      <td>000001192787272975945729</td>\n",
       "    </tr>\n",
       "    <tr>\n",
       "      <th>2</th>\n",
       "      <td>b84962c0-468a-11ea-9505-02420a0000af</td>\n",
       "      <td>000000000000000331220696</td>\n",
       "      <td>000001191467194519080960</td>\n",
       "    </tr>\n",
       "  </tbody>\n",
       "</table>\n",
       "</div>"
      ],
      "text/plain": [
       "                                    _id              tweet_author  \\\n",
       "0  77c4e81a-46a7-11ea-9505-02420a0000af  000000000000000279465279   \n",
       "1  f4c064c6-4c4b-11ea-954b-02420a0000f2  000000000000001266667238   \n",
       "2  b84962c0-468a-11ea-9505-02420a0000af  000000000000000331220696   \n",
       "\n",
       "                   tweet_id  \n",
       "0  000001191464087064109058  \n",
       "1  000001192787272975945729  \n",
       "2  000001191467194519080960  "
      ]
     },
     "execution_count": 4,
     "metadata": {},
     "output_type": "execute_result"
    }
   ],
   "source": [
    "df_tweets = get_tweets(db.tweets)\n",
    "df_tweets.head(3)"
   ]
  },
  {
   "cell_type": "code",
   "execution_count": 5,
   "metadata": {},
   "outputs": [],
   "source": [
    "df_tweets = df_tweets[df_tweets.tweet_author.isin(users._id)]"
   ]
  },
  {
   "cell_type": "code",
   "execution_count": 6,
   "metadata": {},
   "outputs": [
    {
     "name": "stdout",
     "output_type": "stream",
     "text": [
      "<class 'pandas.core.frame.DataFrame'>\n",
      "Int64Index: 296557 entries, 0 to 358189\n",
      "Data columns (total 3 columns):\n",
      " #   Column        Non-Null Count   Dtype \n",
      "---  ------        --------------   ----- \n",
      " 0   _id           296557 non-null  object\n",
      " 1   tweet_author  296557 non-null  object\n",
      " 2   tweet_id      296557 non-null  object\n",
      "dtypes: object(3)\n",
      "memory usage: 9.1+ MB\n"
     ]
    }
   ],
   "source": [
    "df_tweets[df_tweets.duplicated()].count()\n",
    "df_tweets.info()"
   ]
  },
  {
   "cell_type": "code",
   "execution_count": 7,
   "metadata": {},
   "outputs": [],
   "source": [
    "df_tweets.drop_duplicates(keep='first', inplace=True)"
   ]
  },
  {
   "cell_type": "markdown",
   "metadata": {},
   "source": [
    "#### Getting retweets from DB..."
   ]
  },
  {
   "cell_type": "code",
   "execution_count": 75,
   "metadata": {},
   "outputs": [
    {
     "name": "stdout",
     "output_type": "stream",
     "text": [
      "Number of retweets: 1000000\n"
     ]
    },
    {
     "data": {
      "text/html": [
       "<div>\n",
       "<style scoped>\n",
       "    .dataframe tbody tr th:only-of-type {\n",
       "        vertical-align: middle;\n",
       "    }\n",
       "\n",
       "    .dataframe tbody tr th {\n",
       "        vertical-align: top;\n",
       "    }\n",
       "\n",
       "    .dataframe thead th {\n",
       "        text-align: right;\n",
       "    }\n",
       "</style>\n",
       "<table border=\"1\" class=\"dataframe\">\n",
       "  <thead>\n",
       "    <tr style=\"text-align: right;\">\n",
       "      <th></th>\n",
       "      <th>tweet_id</th>\n",
       "      <th>retweet_author</th>\n",
       "      <th>date</th>\n",
       "    </tr>\n",
       "  </thead>\n",
       "  <tbody>\n",
       "    <tr>\n",
       "      <th>0</th>\n",
       "      <td>000001193667913368121351</td>\n",
       "      <td>000000000000004460826197</td>\n",
       "      <td>2019-11-10 23:15:43</td>\n",
       "    </tr>\n",
       "    <tr>\n",
       "      <th>1</th>\n",
       "      <td>000001192581634291355649</td>\n",
       "      <td>000001075150211725619200</td>\n",
       "      <td>2019-11-07 23:20:20</td>\n",
       "    </tr>\n",
       "    <tr>\n",
       "      <th>2</th>\n",
       "      <td>000001190659978471911424</td>\n",
       "      <td>000000000000000071190801</td>\n",
       "      <td>2019-11-02 16:54:42</td>\n",
       "    </tr>\n",
       "  </tbody>\n",
       "</table>\n",
       "</div>"
      ],
      "text/plain": [
       "                   tweet_id            retweet_author                date\n",
       "0  000001193667913368121351  000000000000004460826197 2019-11-10 23:15:43\n",
       "1  000001192581634291355649  000001075150211725619200 2019-11-07 23:20:20\n",
       "2  000001190659978471911424  000000000000000071190801 2019-11-02 16:54:42"
      ]
     },
     "execution_count": 75,
     "metadata": {},
     "output_type": "execute_result"
    }
   ],
   "source": [
    "df_retweets = get_retweets(db.retweets)\n",
    "df_retweets.head(3)"
   ]
  },
  {
   "cell_type": "code",
   "execution_count": 76,
   "metadata": {},
   "outputs": [],
   "source": [
    "df_retweets = df_retweets[df_retweets.retweet_author.isin(users._id)]"
   ]
  },
  {
   "cell_type": "code",
   "execution_count": 77,
   "metadata": {},
   "outputs": [
    {
     "data": {
      "text/plain": [
       "tweet_id          0\n",
       "retweet_author    0\n",
       "date              0\n",
       "dtype: int64"
      ]
     },
     "execution_count": 77,
     "metadata": {},
     "output_type": "execute_result"
    }
   ],
   "source": [
    "df_retweets[df_retweets.duplicated()].count()"
   ]
  },
  {
   "cell_type": "code",
   "execution_count": 78,
   "metadata": {},
   "outputs": [
    {
     "data": {
      "text/plain": [
       "tweet_id          698359\n",
       "retweet_author    698359\n",
       "date              698359\n",
       "dtype: int64"
      ]
     },
     "execution_count": 78,
     "metadata": {},
     "output_type": "execute_result"
    }
   ],
   "source": [
    "df_retweets.drop_duplicates(keep='first', inplace=True)\n",
    "df_retweets.count()"
   ]
  },
  {
   "cell_type": "markdown",
   "metadata": {},
   "source": [
    "## 1. Hashtag concurrence networks"
   ]
  },
  {
   "cell_type": "markdown",
   "metadata": {},
   "source": [
    "#### Getting hashtags from DB..."
   ]
  },
  {
   "cell_type": "code",
   "execution_count": 12,
   "metadata": {},
   "outputs": [
    {
     "name": "stdout",
     "output_type": "stream",
     "text": [
      "Number of hashtags in DB: 2603272\n"
     ]
    },
    {
     "data": {
      "text/html": [
       "<div>\n",
       "<style scoped>\n",
       "    .dataframe tbody tr th:only-of-type {\n",
       "        vertical-align: middle;\n",
       "    }\n",
       "\n",
       "    .dataframe tbody tr th {\n",
       "        vertical-align: top;\n",
       "    }\n",
       "\n",
       "    .dataframe thead th {\n",
       "        text-align: right;\n",
       "    }\n",
       "</style>\n",
       "<table border=\"1\" class=\"dataframe\">\n",
       "  <thead>\n",
       "    <tr style=\"text-align: right;\">\n",
       "      <th></th>\n",
       "      <th>tweet_id</th>\n",
       "      <th>hashtag</th>\n",
       "    </tr>\n",
       "  </thead>\n",
       "  <tbody>\n",
       "    <tr>\n",
       "      <th>0</th>\n",
       "      <td>f7c581e4-4681-11ea-a6d9-02420a000681</td>\n",
       "      <td>LaContracampaña</td>\n",
       "    </tr>\n",
       "    <tr>\n",
       "      <th>1</th>\n",
       "      <td>f7c581e4-4681-11ea-a6d9-02420a000681</td>\n",
       "      <td>10N</td>\n",
       "    </tr>\n",
       "    <tr>\n",
       "      <th>2</th>\n",
       "      <td>f7c581e4-4681-11ea-a6d9-02420a000681</td>\n",
       "      <td>PoderMigrante</td>\n",
       "    </tr>\n",
       "    <tr>\n",
       "      <th>3</th>\n",
       "      <td>c677460e-468b-11ea-9505-02420a0000af</td>\n",
       "      <td>España</td>\n",
       "    </tr>\n",
       "    <tr>\n",
       "      <th>4</th>\n",
       "      <td>c677460e-468b-11ea-9505-02420a0000af</td>\n",
       "      <td>AhoraSí</td>\n",
       "    </tr>\n",
       "  </tbody>\n",
       "</table>\n",
       "</div>"
      ],
      "text/plain": [
       "                               tweet_id          hashtag\n",
       "0  f7c581e4-4681-11ea-a6d9-02420a000681  LaContracampaña\n",
       "1  f7c581e4-4681-11ea-a6d9-02420a000681              10N\n",
       "2  f7c581e4-4681-11ea-a6d9-02420a000681    PoderMigrante\n",
       "3  c677460e-468b-11ea-9505-02420a0000af           España\n",
       "4  c677460e-468b-11ea-9505-02420a0000af          AhoraSí"
      ]
     },
     "metadata": {},
     "output_type": "display_data"
    }
   ],
   "source": [
    "hashtags = get_hashtags(db.hashtags)\n",
    "display(hashtags.head(5))"
   ]
  },
  {
   "cell_type": "code",
   "execution_count": 13,
   "metadata": {},
   "outputs": [
    {
     "name": "stdout",
     "output_type": "stream",
     "text": [
      "421749\n"
     ]
    }
   ],
   "source": [
    "hashtags = hashtags[hashtags.tweet_id.isin(df_tweets._id)]\n",
    "print(len(hashtags))"
   ]
  },
  {
   "cell_type": "markdown",
   "metadata": {},
   "source": [
    "#### Join hashtags with author"
   ]
  },
  {
   "cell_type": "code",
   "execution_count": 14,
   "metadata": {},
   "outputs": [
    {
     "name": "stdout",
     "output_type": "stream",
     "text": [
      "CPU times: user 4min 37s, sys: 260 ms, total: 4min 37s\n",
      "Wall time: 4min 37s\n"
     ]
    }
   ],
   "source": [
    "%%time\n",
    "df_hashtags = hashtags.set_index('tweet_id').join(df_tweets.set_index('_id'))"
   ]
  },
  {
   "cell_type": "code",
   "execution_count": 15,
   "metadata": {},
   "outputs": [
    {
     "data": {
      "text/html": [
       "<div>\n",
       "<style scoped>\n",
       "    .dataframe tbody tr th:only-of-type {\n",
       "        vertical-align: middle;\n",
       "    }\n",
       "\n",
       "    .dataframe tbody tr th {\n",
       "        vertical-align: top;\n",
       "    }\n",
       "\n",
       "    .dataframe thead th {\n",
       "        text-align: right;\n",
       "    }\n",
       "</style>\n",
       "<table border=\"1\" class=\"dataframe\">\n",
       "  <thead>\n",
       "    <tr style=\"text-align: right;\">\n",
       "      <th></th>\n",
       "      <th>hashtag</th>\n",
       "      <th>tweet_author</th>\n",
       "      <th>tweet_id</th>\n",
       "    </tr>\n",
       "  </thead>\n",
       "  <tbody>\n",
       "    <tr>\n",
       "      <th>6859223e-46ec-11ea-a6d9-02420a000681</th>\n",
       "      <td>LaMatanza</td>\n",
       "      <td>000000000000000121857577</td>\n",
       "      <td>000001184199009084293122</td>\n",
       "    </tr>\n",
       "    <tr>\n",
       "      <th>a29462d0-468b-11ea-9505-02420a0000af</th>\n",
       "      <td>10N</td>\n",
       "      <td>000000763077164514349057</td>\n",
       "      <td>000001185652743920410624</td>\n",
       "    </tr>\n",
       "    <tr>\n",
       "      <th>4d97ad1e-46db-11ea-9505-02420a0000af</th>\n",
       "      <td>PorTodoLoQueNosUne</td>\n",
       "      <td>000001010973606589992967</td>\n",
       "      <td>000001192908777261023232</td>\n",
       "    </tr>\n",
       "    <tr>\n",
       "      <th>366e1ece-46cd-11ea-9505-02420a0000af</th>\n",
       "      <td>ChileDesperto</td>\n",
       "      <td>000000000000000097572937</td>\n",
       "      <td>000001185676994538852353</td>\n",
       "    </tr>\n",
       "    <tr>\n",
       "      <th>f884a4e0-467a-11ea-9505-02420a0000af</th>\n",
       "      <td>ChicasVox</td>\n",
       "      <td>000000739752348436828161</td>\n",
       "      <td>000001191481571842363393</td>\n",
       "    </tr>\n",
       "  </tbody>\n",
       "</table>\n",
       "</div>"
      ],
      "text/plain": [
       "                                                 hashtag  \\\n",
       "6859223e-46ec-11ea-a6d9-02420a000681           LaMatanza   \n",
       "a29462d0-468b-11ea-9505-02420a0000af                 10N   \n",
       "4d97ad1e-46db-11ea-9505-02420a0000af  PorTodoLoQueNosUne   \n",
       "366e1ece-46cd-11ea-9505-02420a0000af       ChileDesperto   \n",
       "f884a4e0-467a-11ea-9505-02420a0000af           ChicasVox   \n",
       "\n",
       "                                                  tweet_author  \\\n",
       "6859223e-46ec-11ea-a6d9-02420a000681  000000000000000121857577   \n",
       "a29462d0-468b-11ea-9505-02420a0000af  000000763077164514349057   \n",
       "4d97ad1e-46db-11ea-9505-02420a0000af  000001010973606589992967   \n",
       "366e1ece-46cd-11ea-9505-02420a0000af  000000000000000097572937   \n",
       "f884a4e0-467a-11ea-9505-02420a0000af  000000739752348436828161   \n",
       "\n",
       "                                                      tweet_id  \n",
       "6859223e-46ec-11ea-a6d9-02420a000681  000001184199009084293122  \n",
       "a29462d0-468b-11ea-9505-02420a0000af  000001185652743920410624  \n",
       "4d97ad1e-46db-11ea-9505-02420a0000af  000001192908777261023232  \n",
       "366e1ece-46cd-11ea-9505-02420a0000af  000001185676994538852353  \n",
       "f884a4e0-467a-11ea-9505-02420a0000af  000001191481571842363393  "
      ]
     },
     "execution_count": 15,
     "metadata": {},
     "output_type": "execute_result"
    }
   ],
   "source": [
    "df_hashtags.sample(5)"
   ]
  },
  {
   "cell_type": "markdown",
   "metadata": {},
   "source": [
    "#### Join hashtags with botscore"
   ]
  },
  {
   "cell_type": "code",
   "execution_count": 16,
   "metadata": {},
   "outputs": [
    {
     "data": {
      "text/html": [
       "<div>\n",
       "<style scoped>\n",
       "    .dataframe tbody tr th:only-of-type {\n",
       "        vertical-align: middle;\n",
       "    }\n",
       "\n",
       "    .dataframe tbody tr th {\n",
       "        vertical-align: top;\n",
       "    }\n",
       "\n",
       "    .dataframe thead th {\n",
       "        text-align: right;\n",
       "    }\n",
       "</style>\n",
       "<table border=\"1\" class=\"dataframe\">\n",
       "  <thead>\n",
       "    <tr style=\"text-align: right;\">\n",
       "      <th></th>\n",
       "      <th>hashtag</th>\n",
       "      <th>tweet_author</th>\n",
       "      <th>tweet_id</th>\n",
       "      <th>botscore</th>\n",
       "    </tr>\n",
       "  </thead>\n",
       "  <tbody>\n",
       "    <tr>\n",
       "      <th>8aec7cf0-4689-11ea-9505-02420a0000af</th>\n",
       "      <td>debatea5RTVE</td>\n",
       "      <td>000000000000000720496988</td>\n",
       "      <td>000001191483702582353921</td>\n",
       "      <td>0.02</td>\n",
       "    </tr>\n",
       "    <tr>\n",
       "      <th>27325c04-46c3-11ea-9505-02420a0000af</th>\n",
       "      <td>EvasionMasivaTodoElDia</td>\n",
       "      <td>000000000000001974003090</td>\n",
       "      <td>000001185450345574649857</td>\n",
       "      <td>0.06</td>\n",
       "    </tr>\n",
       "    <tr>\n",
       "      <th>51ec2b24-4712-11ea-9505-02420a0000af</th>\n",
       "      <td>unboxingfranco</td>\n",
       "      <td>000000000000001288918003</td>\n",
       "      <td>000001187301962674593792</td>\n",
       "      <td>0.03</td>\n",
       "    </tr>\n",
       "    <tr>\n",
       "      <th>1d48f8cc-46a2-11ea-9505-02420a0000af</th>\n",
       "      <td>DebateElectoral</td>\n",
       "      <td>000000000000002878658775</td>\n",
       "      <td>000001191508032334782465</td>\n",
       "      <td>0.29</td>\n",
       "    </tr>\n",
       "    <tr>\n",
       "      <th>ad2257f8-4685-11ea-9505-02420a0000af</th>\n",
       "      <td>Elecciones10N</td>\n",
       "      <td>000000000000002462004186</td>\n",
       "      <td>000001193491082635546624</td>\n",
       "      <td>0.16</td>\n",
       "    </tr>\n",
       "  </tbody>\n",
       "</table>\n",
       "</div>"
      ],
      "text/plain": [
       "                                                     hashtag  \\\n",
       "8aec7cf0-4689-11ea-9505-02420a0000af            debatea5RTVE   \n",
       "27325c04-46c3-11ea-9505-02420a0000af  EvasionMasivaTodoElDia   \n",
       "51ec2b24-4712-11ea-9505-02420a0000af          unboxingfranco   \n",
       "1d48f8cc-46a2-11ea-9505-02420a0000af         DebateElectoral   \n",
       "ad2257f8-4685-11ea-9505-02420a0000af           Elecciones10N   \n",
       "\n",
       "                                                  tweet_author  \\\n",
       "8aec7cf0-4689-11ea-9505-02420a0000af  000000000000000720496988   \n",
       "27325c04-46c3-11ea-9505-02420a0000af  000000000000001974003090   \n",
       "51ec2b24-4712-11ea-9505-02420a0000af  000000000000001288918003   \n",
       "1d48f8cc-46a2-11ea-9505-02420a0000af  000000000000002878658775   \n",
       "ad2257f8-4685-11ea-9505-02420a0000af  000000000000002462004186   \n",
       "\n",
       "                                                      tweet_id  botscore  \n",
       "8aec7cf0-4689-11ea-9505-02420a0000af  000001191483702582353921      0.02  \n",
       "27325c04-46c3-11ea-9505-02420a0000af  000001185450345574649857      0.06  \n",
       "51ec2b24-4712-11ea-9505-02420a0000af  000001187301962674593792      0.03  \n",
       "1d48f8cc-46a2-11ea-9505-02420a0000af  000001191508032334782465      0.29  \n",
       "ad2257f8-4685-11ea-9505-02420a0000af  000001193491082635546624      0.16  "
      ]
     },
     "execution_count": 16,
     "metadata": {},
     "output_type": "execute_result"
    }
   ],
   "source": [
    "users_botscore = dict(zip(users._id, users.botscore))\n",
    "df_hashtags['botscore'] = df_hashtags.tweet_author.map(users_botscore)\n",
    "df_hashtags.sample(5)"
   ]
  },
  {
   "cell_type": "code",
   "execution_count": 35,
   "metadata": {},
   "outputs": [
    {
     "data": {
      "text/html": [
       "<div>\n",
       "<style scoped>\n",
       "    .dataframe tbody tr th:only-of-type {\n",
       "        vertical-align: middle;\n",
       "    }\n",
       "\n",
       "    .dataframe tbody tr th {\n",
       "        vertical-align: top;\n",
       "    }\n",
       "\n",
       "    .dataframe thead th {\n",
       "        text-align: right;\n",
       "    }\n",
       "</style>\n",
       "<table border=\"1\" class=\"dataframe\">\n",
       "  <thead>\n",
       "    <tr style=\"text-align: right;\">\n",
       "      <th></th>\n",
       "      <th>hashtag</th>\n",
       "      <th>tweet_author</th>\n",
       "      <th>tweet_id</th>\n",
       "      <th>botscore</th>\n",
       "    </tr>\n",
       "  </thead>\n",
       "  <tbody>\n",
       "    <tr>\n",
       "      <th>0</th>\n",
       "      <td>10N</td>\n",
       "      <td>000000000000000463236045</td>\n",
       "      <td>000001192571547749367808</td>\n",
       "      <td>0.10</td>\n",
       "    </tr>\n",
       "    <tr>\n",
       "      <th>1</th>\n",
       "      <td>YoVoto</td>\n",
       "      <td>000000000000000463236045</td>\n",
       "      <td>000001192571547749367808</td>\n",
       "      <td>0.10</td>\n",
       "    </tr>\n",
       "    <tr>\n",
       "      <th>2</th>\n",
       "      <td>10N</td>\n",
       "      <td>000000000000000253018975</td>\n",
       "      <td>000001192713518421815296</td>\n",
       "      <td>0.06</td>\n",
       "    </tr>\n",
       "    <tr>\n",
       "      <th>3</th>\n",
       "      <td>10N</td>\n",
       "      <td>000000000000000299235535</td>\n",
       "      <td>000001192734686839222273</td>\n",
       "      <td>0.00</td>\n",
       "    </tr>\n",
       "    <tr>\n",
       "      <th>4</th>\n",
       "      <td>Vota</td>\n",
       "      <td>000000000000000299235535</td>\n",
       "      <td>000001192734686839222273</td>\n",
       "      <td>0.00</td>\n",
       "    </tr>\n",
       "  </tbody>\n",
       "</table>\n",
       "</div>"
      ],
      "text/plain": [
       "  hashtag              tweet_author                  tweet_id  botscore\n",
       "0     10N  000000000000000463236045  000001192571547749367808      0.10\n",
       "1  YoVoto  000000000000000463236045  000001192571547749367808      0.10\n",
       "2     10N  000000000000000253018975  000001192713518421815296      0.06\n",
       "3     10N  000000000000000299235535  000001192734686839222273      0.00\n",
       "4    Vota  000000000000000299235535  000001192734686839222273      0.00"
      ]
     },
     "execution_count": 35,
     "metadata": {},
     "output_type": "execute_result"
    }
   ],
   "source": [
    "df_hashtags.reset_index(inplace=True, drop=True)\n",
    "df_hashtags.head(5)"
   ]
  },
  {
   "cell_type": "markdown",
   "metadata": {},
   "source": [
    "#### Building graph concurrence network per network 70%, 90%, 100%"
   ]
  },
  {
   "cell_type": "code",
   "execution_count": 71,
   "metadata": {},
   "outputs": [
    {
     "name": "stdout",
     "output_type": "stream",
     "text": [
      "Network 70%\n",
      "DONE!\n",
      "Network 90%\n",
      "DONE!\n",
      "Network 100%\n",
      "DONE!\n"
     ]
    }
   ],
   "source": [
    "prs = [70,90]\n",
    "ps = np.percentile(a=users.botscore, q=prs, interpolation='lower')\n",
    "\n",
    "percentile = {70: ps[0],\n",
    "              90: ps[1],\n",
    "              100: 1.01}\n",
    "\n",
    "df_concurrence = df_hashtags\n",
    "\n",
    "# filter tweets per author's botscore\n",
    "for percentage in [70, 90, 100]:\n",
    "    print(\"Network \" + str(percentage) +\"%\")\n",
    "\n",
    "    dic = {\n",
    "        'hashtag1' : [],\n",
    "        'hashtag2' : []\n",
    "    }\n",
    "    \n",
    "    df_situation = df_concurrence[df_concurrence.botscore < percentile[percentage]]\n",
    "\n",
    "    # group pairs of hashtags concurring on same tweet\n",
    "    for tweet_id, tweet_id_grp in df_situation[['hashtag','tweet_id']].groupby('tweet_id'):\n",
    "        if len(tweet_id_grp) > 1:\n",
    "            #display(tweet_id_grp)\n",
    "            tweet_id_grp_array = tweet_id_grp.hashtag.array\n",
    "            for ihast in range(0, len(tweet_id_grp_array),1):\n",
    "                for jhast in range(ihast+1, len(tweet_id_grp_array),1):\n",
    "                    dic['hashtag1'].append(tweet_id_grp_array[ihast])\n",
    "                    dic['hashtag2'].append(tweet_id_grp_array[jhast])\n",
    "\n",
    "    df_situation = pd.DataFrame.from_dict(dic, orient='columns')\n",
    "    \n",
    "    # edges from dataframe\n",
    "    df_edges = df_situation.groupby(['hashtag1','hashtag2']).size().reset_index().rename(columns={0:'weight'})   # count ocurrences of concurrent hashtag appearance\n",
    "        \n",
    "    \n",
    "    G = nx.from_pandas_edgelist(df=df_edges, source='hashtag1', target='hashtag2', edge_attr='weight', create_using=nx.Graph)\n",
    "    #nx.write_graphml(G, f\"graphs/3.hashtag-networks-{percentage}.graphml\")\n",
    "    \n",
    "    df_concurrence = df_concurrence[df_concurrence.botscore >= percentile[percentage]]\n",
    "    \n",
    "    print(\"DONE!\")"
   ]
  },
  {
   "cell_type": "markdown",
   "metadata": {},
   "source": [
    "## 2. Structural virality"
   ]
  },
  {
   "cell_type": "markdown",
   "metadata": {},
   "source": [
    "#### Getting retweets + tweets, date and botscores"
   ]
  },
  {
   "cell_type": "code",
   "execution_count": 80,
   "metadata": {},
   "outputs": [
    {
     "data": {
      "text/html": [
       "<div>\n",
       "<style scoped>\n",
       "    .dataframe tbody tr th:only-of-type {\n",
       "        vertical-align: middle;\n",
       "    }\n",
       "\n",
       "    .dataframe tbody tr th {\n",
       "        vertical-align: top;\n",
       "    }\n",
       "\n",
       "    .dataframe thead th {\n",
       "        text-align: right;\n",
       "    }\n",
       "</style>\n",
       "<table border=\"1\" class=\"dataframe\">\n",
       "  <thead>\n",
       "    <tr style=\"text-align: right;\">\n",
       "      <th></th>\n",
       "      <th>tweet_id</th>\n",
       "      <th>retweet_author</th>\n",
       "      <th>date</th>\n",
       "      <th>botscore</th>\n",
       "    </tr>\n",
       "  </thead>\n",
       "  <tbody>\n",
       "    <tr>\n",
       "      <th>1</th>\n",
       "      <td>000001192581634291355649</td>\n",
       "      <td>000001075150211725619200</td>\n",
       "      <td>2019-11-07 23:20:20</td>\n",
       "      <td>0.09</td>\n",
       "    </tr>\n",
       "    <tr>\n",
       "      <th>3</th>\n",
       "      <td>000001190659978471911424</td>\n",
       "      <td>000000000000002330405348</td>\n",
       "      <td>2019-11-04 20:59:19</td>\n",
       "      <td>0.19</td>\n",
       "    </tr>\n",
       "    <tr>\n",
       "      <th>5</th>\n",
       "      <td>000001187536717663875074</td>\n",
       "      <td>000001158948082157084674</td>\n",
       "      <td>2019-10-25 12:01:31</td>\n",
       "      <td>0.19</td>\n",
       "    </tr>\n",
       "    <tr>\n",
       "      <th>6</th>\n",
       "      <td>000001184920265953808385</td>\n",
       "      <td>000000000000001259978400</td>\n",
       "      <td>2019-10-18 08:27:25</td>\n",
       "      <td>0.20</td>\n",
       "    </tr>\n",
       "    <tr>\n",
       "      <th>7</th>\n",
       "      <td>000001191470697329102854</td>\n",
       "      <td>000000000000000542905886</td>\n",
       "      <td>2019-11-04 21:42:20</td>\n",
       "      <td>0.06</td>\n",
       "    </tr>\n",
       "    <tr>\n",
       "      <th>8</th>\n",
       "      <td>000001193641870984957953</td>\n",
       "      <td>000000000000000480847309</td>\n",
       "      <td>2019-11-10 21:30:05</td>\n",
       "      <td>0.19</td>\n",
       "    </tr>\n",
       "    <tr>\n",
       "      <th>9</th>\n",
       "      <td>000001193641870984957953</td>\n",
       "      <td>000000000000000462360790</td>\n",
       "      <td>2019-11-10 21:31:27</td>\n",
       "      <td>0.03</td>\n",
       "    </tr>\n",
       "    <tr>\n",
       "      <th>11</th>\n",
       "      <td>000001193641870984957953</td>\n",
       "      <td>000000895672877483151361</td>\n",
       "      <td>2019-11-10 22:36:05</td>\n",
       "      <td>0.02</td>\n",
       "    </tr>\n",
       "    <tr>\n",
       "      <th>12</th>\n",
       "      <td>000001193641870984957953</td>\n",
       "      <td>000000000000000856989403</td>\n",
       "      <td>2019-11-10 22:44:42</td>\n",
       "      <td>0.16</td>\n",
       "    </tr>\n",
       "    <tr>\n",
       "      <th>13</th>\n",
       "      <td>000001193641870984957953</td>\n",
       "      <td>000000000000000981470738</td>\n",
       "      <td>2019-11-12 02:44:40</td>\n",
       "      <td>0.21</td>\n",
       "    </tr>\n",
       "  </tbody>\n",
       "</table>\n",
       "</div>"
      ],
      "text/plain": [
       "                    tweet_id            retweet_author                date  \\\n",
       "1   000001192581634291355649  000001075150211725619200 2019-11-07 23:20:20   \n",
       "3   000001190659978471911424  000000000000002330405348 2019-11-04 20:59:19   \n",
       "5   000001187536717663875074  000001158948082157084674 2019-10-25 12:01:31   \n",
       "6   000001184920265953808385  000000000000001259978400 2019-10-18 08:27:25   \n",
       "7   000001191470697329102854  000000000000000542905886 2019-11-04 21:42:20   \n",
       "8   000001193641870984957953  000000000000000480847309 2019-11-10 21:30:05   \n",
       "9   000001193641870984957953  000000000000000462360790 2019-11-10 21:31:27   \n",
       "11  000001193641870984957953  000000895672877483151361 2019-11-10 22:36:05   \n",
       "12  000001193641870984957953  000000000000000856989403 2019-11-10 22:44:42   \n",
       "13  000001193641870984957953  000000000000000981470738 2019-11-12 02:44:40   \n",
       "\n",
       "    botscore  \n",
       "1       0.09  \n",
       "3       0.19  \n",
       "5       0.19  \n",
       "6       0.20  \n",
       "7       0.06  \n",
       "8       0.19  \n",
       "9       0.03  \n",
       "11      0.02  \n",
       "12      0.16  \n",
       "13      0.21  "
      ]
     },
     "execution_count": 80,
     "metadata": {},
     "output_type": "execute_result"
    }
   ],
   "source": [
    "df_retweets['botscore'] = df_retweets.retweet_author.map(users_botscore)\n",
    "df_retweets.head(10)"
   ]
  },
  {
   "cell_type": "code",
   "execution_count": 81,
   "metadata": {},
   "outputs": [
    {
     "data": {
      "text/html": [
       "<div>\n",
       "<style scoped>\n",
       "    .dataframe tbody tr th:only-of-type {\n",
       "        vertical-align: middle;\n",
       "    }\n",
       "\n",
       "    .dataframe tbody tr th {\n",
       "        vertical-align: top;\n",
       "    }\n",
       "\n",
       "    .dataframe thead th {\n",
       "        text-align: right;\n",
       "    }\n",
       "</style>\n",
       "<table border=\"1\" class=\"dataframe\">\n",
       "  <thead>\n",
       "    <tr style=\"text-align: right;\">\n",
       "      <th></th>\n",
       "      <th>tweet_id</th>\n",
       "      <th>retweet_author</th>\n",
       "      <th>date</th>\n",
       "      <th>retweet_botscore</th>\n",
       "      <th>tweet_botscore</th>\n",
       "    </tr>\n",
       "  </thead>\n",
       "  <tbody>\n",
       "    <tr>\n",
       "      <th>1</th>\n",
       "      <td>000001192581634291355649</td>\n",
       "      <td>000001075150211725619200</td>\n",
       "      <td>2019-11-07 23:20:20</td>\n",
       "      <td>0.09</td>\n",
       "      <td>0.16</td>\n",
       "    </tr>\n",
       "    <tr>\n",
       "      <th>3</th>\n",
       "      <td>000001190659978471911424</td>\n",
       "      <td>000000000000002330405348</td>\n",
       "      <td>2019-11-04 20:59:19</td>\n",
       "      <td>0.19</td>\n",
       "      <td>0.12</td>\n",
       "    </tr>\n",
       "    <tr>\n",
       "      <th>5</th>\n",
       "      <td>000001187536717663875074</td>\n",
       "      <td>000001158948082157084674</td>\n",
       "      <td>2019-10-25 12:01:31</td>\n",
       "      <td>0.19</td>\n",
       "      <td>0.14</td>\n",
       "    </tr>\n",
       "    <tr>\n",
       "      <th>6</th>\n",
       "      <td>000001184920265953808385</td>\n",
       "      <td>000000000000001259978400</td>\n",
       "      <td>2019-10-18 08:27:25</td>\n",
       "      <td>0.20</td>\n",
       "      <td>0.14</td>\n",
       "    </tr>\n",
       "    <tr>\n",
       "      <th>7</th>\n",
       "      <td>000001191470697329102854</td>\n",
       "      <td>000000000000000542905886</td>\n",
       "      <td>2019-11-04 21:42:20</td>\n",
       "      <td>0.06</td>\n",
       "      <td>0.19</td>\n",
       "    </tr>\n",
       "  </tbody>\n",
       "</table>\n",
       "</div>"
      ],
      "text/plain": [
       "                   tweet_id            retweet_author                date  \\\n",
       "1  000001192581634291355649  000001075150211725619200 2019-11-07 23:20:20   \n",
       "3  000001190659978471911424  000000000000002330405348 2019-11-04 20:59:19   \n",
       "5  000001187536717663875074  000001158948082157084674 2019-10-25 12:01:31   \n",
       "6  000001184920265953808385  000000000000001259978400 2019-10-18 08:27:25   \n",
       "7  000001191470697329102854  000000000000000542905886 2019-11-04 21:42:20   \n",
       "\n",
       "   retweet_botscore  tweet_botscore  \n",
       "1              0.09            0.16  \n",
       "3              0.19            0.12  \n",
       "5              0.19            0.14  \n",
       "6              0.20            0.14  \n",
       "7              0.06            0.19  "
      ]
     },
     "execution_count": 81,
     "metadata": {},
     "output_type": "execute_result"
    }
   ],
   "source": [
    "## join each retweet with original tweet's botscore\n",
    "df_retweets.rename(columns={'botscore':'retweet_botscore'}).join(df_tweets[['tweet_id','botscore']].rename(columns={'botscore':'tweet_botscore'}).set_index('tweet_id'), on='tweet_id').head()"
   ]
  },
  {
   "cell_type": "markdown",
   "metadata": {},
   "source": [
    "### 2.1. Retweet network cascade with timestamps"
   ]
  },
  {
   "cell_type": "markdown",
   "metadata": {},
   "source": [
    "#### Three situations to compare. We sort users in ascending order of botscore:\n",
    "##### 1. users < 70th percentile (legitimate network)\n",
    "##### 2. users < 90th (shady network)\n",
    "##### 3. all network (bot-interfered network)"
   ]
  },
  {
   "cell_type": "code",
   "execution_count": null,
   "metadata": {},
   "outputs": [],
   "source": [
    "prs = [70,90]\n",
    "ps = np.percentile(a=users.botscore, q=prs, interpolation='lower')\n",
    "\n",
    "percentile = {70: ps[0],\n",
    "              90: ps[1],\n",
    "              100: 1.01}\n",
    "\n",
    "df_virality = df_retweets\n",
    "\n",
    "\n",
    "# filter tweets per author's botscore\n",
    "for percentage_tweet in [70, 90, 100]:\n",
    "    print(\"Content generated until \" + str(percentage_tweet) +\"% of the network\")\n",
    "\n",
    "\n",
    "    df_situation = df_virality[df_virality.tweet_botscore < percentile[percentage_tweet]]\n",
    "\n",
    "    \n",
    "    #### calculate virality\n",
    "    for percentage_retweet in [70, 90, 100]:\n",
    "        print(\"Content retweeted until \" + str(percentage_retweet) +\"% of the network\")\n",
    "\n",
    "        df_situation2 = df_virality[df_virality.retweet_botscore < percentile[percentage_tweet]]\n",
    "        \n",
    "        \n",
    "        \n",
    "        break\n",
    "        \n",
    "    #df_virality = df_virality[df_virality.tweet_botscore >= percentile[percentage_tweet]]\n",
    "    \n",
    "    print(\"DONE!\")\n",
    "    break"
   ]
  },
  {
   "cell_type": "markdown",
   "metadata": {},
   "source": [
    "### 3. Retweet cascades"
   ]
  }
 ],
 "metadata": {
  "kernelspec": {
   "display_name": "Python 3",
   "language": "python",
   "name": "python3"
  },
  "language_info": {
   "codemirror_mode": {
    "name": "ipython",
    "version": 3
   },
   "file_extension": ".py",
   "mimetype": "text/x-python",
   "name": "python",
   "nbconvert_exporter": "python",
   "pygments_lexer": "ipython3",
   "version": "3.7.4"
  }
 },
 "nbformat": 4,
 "nbformat_minor": 4
}
