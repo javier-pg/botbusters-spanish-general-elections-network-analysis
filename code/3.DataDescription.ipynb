{
 "cells": [
  {
   "cell_type": "markdown",
   "metadata": {},
   "source": [
    "## Configuration"
   ]
  },
  {
   "cell_type": "markdown",
   "metadata": {},
   "source": [
    "### Imports"
   ]
  },
  {
   "cell_type": "code",
   "execution_count": 95,
   "metadata": {},
   "outputs": [],
   "source": [
    "# Utilities\n",
    "from IPython.display import display\n",
    "import os\n",
    "import numpy as np\n",
    "import time\n",
    "import pandas as pd\n",
    "\n",
    "# MongoDB functionality\n",
    "from pymongo import MongoClient, InsertOne, UpdateOne\n",
    "from bson import ObjectId\n",
    "from collections.abc import MutableMapping\n",
    "\n",
    "# Graphics\n",
    "import matplotlib.pyplot as plt\n",
    "from matplotlib.pyplot import text\n",
    "import seaborn as sns\n",
    "sns.set(font_scale=1.4)\n",
    "sns.set_style(\"whitegrid\")\n",
    "sns.set_style({'font.family':'monospace'})\n",
    "from mpl_toolkits.axes_grid1.inset_locator import inset_axes\n",
    "import matplotlib.patches as mpatches\n",
    "\n",
    "\n",
    "# Network analysis\n",
    "import networkx as nx\n",
    "#import graph_tool.all as gt\n",
    "\n",
    "ROOT_DIR = \"/home/mattia/javier/botbusters-spanish-general-elections-network-analysis/\"\n",
    "\n",
    "# Change path to root\n",
    "os.chdir(ROOT_DIR)\n",
    "\n",
    "# MongoDB parameters\n",
    "mongoclient = MongoClient('localhost', 27017)\n",
    "db = mongoclient.influence"
   ]
  },
  {
   "cell_type": "code",
   "execution_count": 9,
   "metadata": {},
   "outputs": [
    {
     "data": {
      "text/plain": [
       "'2.5'"
      ]
     },
     "execution_count": 9,
     "metadata": {},
     "output_type": "execute_result"
    }
   ],
   "source": [
    "sns.__version__\n",
    "nx.__version__"
   ]
  },
  {
   "cell_type": "markdown",
   "metadata": {},
   "source": [
    "### Support Functions"
   ]
  },
  {
   "cell_type": "code",
   "execution_count": 3,
   "metadata": {},
   "outputs": [],
   "source": [
    "def flatten(d, parent_key='', sep='_'):\n",
    "    \"\"\"Formats MongoDB results\n",
    "    \n",
    "    Keyword arguments:\n",
    "    d -- dictionary with key and uncleaned values\n",
    "    parent_key --\n",
    "    sep --\n",
    "    \"\"\"\n",
    "    items = []\n",
    "    for k, v in d.items():\n",
    "        new_key = parent_key + sep + k if parent_key else k\n",
    "        if isinstance(v, MutableMapping):\n",
    "            items.extend(flatten(v, new_key, sep=sep).items())\n",
    "        else:\n",
    "            items.append((new_key, v))\n",
    "    return dict(items)\n",
    "\n",
    "def make_objid(text):\n",
    "    \"\"\"Makes an ObjectId of 4 bytes\n",
    "    \n",
    "    Keyword arguments:\n",
    "    text -- string to be converted into Object ID\n",
    "    \"\"\"\n",
    "    text = str(text)\n",
    "    if not text.strip():\n",
    "        return None\n",
    "    try:\n",
    "        return ObjectId(text.rjust(24,\"0\"))\n",
    "    except Exception as ex:\n",
    "        print(text, ex)\n",
    "        return None\n",
    "\n",
    "    \n",
    "def get_tweets(collection):\n",
    "    \"\"\"\n",
    "    Gets tweets\n",
    "    \n",
    "    collection - Tweets MongoDB collection\n",
    "    \"\"\"\n",
    "    tweets = list(collection\n",
    "                    .find({'sampled':True},{'_id': False, 'tweet_id': True, 'user_id' : True})\n",
    "                   )\n",
    "    \n",
    "    print(\"Number of tweets:\", len(tweets))\n",
    "    tweets = [flatten(t) for t in tweets]\n",
    "    df_tweets = pd.DataFrame(tweets)\n",
    "    df_tweets.user_id = df_tweets.user_id.apply(lambda t : str(t))\n",
    "    df_tweets.user_id = df_tweets.user_id.astype(str)\n",
    "    df_tweets.rename(columns={'user_id':'tweet_author'},inplace=True)\n",
    "    return df_tweets\n",
    "    \n",
    "    \n",
    "def get_retweets(collection):\n",
    "    \"\"\"\n",
    "    Gets retweets\n",
    "    \n",
    "    collection - Retweets MongoDB collection\n",
    "    \"\"\"\n",
    "    retweets = list(collection\n",
    "                    .find({'sampled':True},{'_id': False, 'tweet_id': True, 'user_id' : True})\n",
    "                   )\n",
    "    \n",
    "    print(\"Number of retweets:\", len(retweets))\n",
    "    retweets = [flatten(r) for r in retweets]\n",
    "    df_retweets = pd.DataFrame(retweets)\n",
    "    df_retweets.user_id = df_retweets.user_id.apply(lambda t : str(t))\n",
    "    df_retweets.user_id = df_retweets.user_id.astype(str)\n",
    "    df_retweets.rename(columns={'user_id':'retweet_author'},inplace=True)\n",
    "    return df_retweets\n",
    "\n",
    "def get_users(collection):\n",
    "    \"\"\"\n",
    "    Gets users\n",
    "    \n",
    "    collection - Users MongoDB collection\n",
    "    \"\"\"\n",
    "    users = list(collection.find({ '$and' : [ { 'sampled': True } , { 'botscore' : { '$gte' : 0 } }]},\n",
    "                                 {'_id' : True, 'botscore' : True})\n",
    "                )\n",
    "    print(\"Number of sampled users with botscore in DB:\", len(users))\n",
    "    users = [flatten(u) for u in users]\n",
    "    df_users = pd.DataFrame(users)\n",
    "    df_users._id = df_users._id.apply(lambda t : str(t))\n",
    "    df_users._id = df_users._id.astype(str)\n",
    "    return df_users"
   ]
  },
  {
   "cell_type": "markdown",
   "metadata": {},
   "source": [
    "## Data preparation"
   ]
  },
  {
   "cell_type": "markdown",
   "metadata": {},
   "source": [
    "#### Getting tweets from DB..."
   ]
  },
  {
   "cell_type": "code",
   "execution_count": 4,
   "metadata": {},
   "outputs": [
    {
     "name": "stdout",
     "output_type": "stream",
     "text": [
      "Number of tweets: 358190\n"
     ]
    },
    {
     "data": {
      "text/html": [
       "<div>\n",
       "<style scoped>\n",
       "    .dataframe tbody tr th:only-of-type {\n",
       "        vertical-align: middle;\n",
       "    }\n",
       "\n",
       "    .dataframe tbody tr th {\n",
       "        vertical-align: top;\n",
       "    }\n",
       "\n",
       "    .dataframe thead th {\n",
       "        text-align: right;\n",
       "    }\n",
       "</style>\n",
       "<table border=\"1\" class=\"dataframe\">\n",
       "  <thead>\n",
       "    <tr style=\"text-align: right;\">\n",
       "      <th></th>\n",
       "      <th>tweet_author</th>\n",
       "      <th>tweet_id</th>\n",
       "    </tr>\n",
       "  </thead>\n",
       "  <tbody>\n",
       "    <tr>\n",
       "      <th>0</th>\n",
       "      <td>000000000000000279465279</td>\n",
       "      <td>000001191464087064109058</td>\n",
       "    </tr>\n",
       "    <tr>\n",
       "      <th>1</th>\n",
       "      <td>000000000000001266667238</td>\n",
       "      <td>000001192787272975945729</td>\n",
       "    </tr>\n",
       "    <tr>\n",
       "      <th>2</th>\n",
       "      <td>000000000000000331220696</td>\n",
       "      <td>000001191467194519080960</td>\n",
       "    </tr>\n",
       "  </tbody>\n",
       "</table>\n",
       "</div>"
      ],
      "text/plain": [
       "               tweet_author                  tweet_id\n",
       "0  000000000000000279465279  000001191464087064109058\n",
       "1  000000000000001266667238  000001192787272975945729\n",
       "2  000000000000000331220696  000001191467194519080960"
      ]
     },
     "execution_count": 4,
     "metadata": {},
     "output_type": "execute_result"
    }
   ],
   "source": [
    "df_tweets = get_tweets(db.tweets)\n",
    "df_tweets.head(3)"
   ]
  },
  {
   "cell_type": "code",
   "execution_count": 5,
   "metadata": {},
   "outputs": [
    {
     "name": "stdout",
     "output_type": "stream",
     "text": [
      "<class 'pandas.core.frame.DataFrame'>\n",
      "RangeIndex: 358190 entries, 0 to 358189\n",
      "Data columns (total 2 columns):\n",
      " #   Column        Non-Null Count   Dtype \n",
      "---  ------        --------------   ----- \n",
      " 0   tweet_author  358190 non-null  object\n",
      " 1   tweet_id      358190 non-null  object\n",
      "dtypes: object(2)\n",
      "memory usage: 5.5+ MB\n"
     ]
    }
   ],
   "source": [
    "df_tweets[df_tweets.duplicated()].count()\n",
    "df_tweets.info()"
   ]
  },
  {
   "cell_type": "code",
   "execution_count": 6,
   "metadata": {},
   "outputs": [],
   "source": [
    "df_tweets.drop_duplicates(keep='first', inplace=True)"
   ]
  },
  {
   "cell_type": "markdown",
   "metadata": {},
   "source": [
    "#### Getting retweets from DB..."
   ]
  },
  {
   "cell_type": "code",
   "execution_count": null,
   "metadata": {},
   "outputs": [],
   "source": [
    "df_retweets = get_retweets(db.retweets)\n",
    "df_retweets.head(3)"
   ]
  },
  {
   "cell_type": "code",
   "execution_count": null,
   "metadata": {},
   "outputs": [],
   "source": [
    "df_retweets[df_retweets.duplicated()].count()"
   ]
  },
  {
   "cell_type": "code",
   "execution_count": null,
   "metadata": {},
   "outputs": [],
   "source": [
    "df_retweets.drop_duplicates(keep='first', inplace=True)\n",
    "df_retweets.count()"
   ]
  },
  {
   "cell_type": "markdown",
   "metadata": {},
   "source": [
    "#### Getting users from DB..."
   ]
  },
  {
   "cell_type": "code",
   "execution_count": 11,
   "metadata": {},
   "outputs": [
    {
     "name": "stdout",
     "output_type": "stream",
     "text": [
      "Number of sampled users with botscore in DB: 1150709\n"
     ]
    },
    {
     "data": {
      "text/html": [
       "<div>\n",
       "<style scoped>\n",
       "    .dataframe tbody tr th:only-of-type {\n",
       "        vertical-align: middle;\n",
       "    }\n",
       "\n",
       "    .dataframe tbody tr th {\n",
       "        vertical-align: top;\n",
       "    }\n",
       "\n",
       "    .dataframe thead th {\n",
       "        text-align: right;\n",
       "    }\n",
       "</style>\n",
       "<table border=\"1\" class=\"dataframe\">\n",
       "  <thead>\n",
       "    <tr style=\"text-align: right;\">\n",
       "      <th></th>\n",
       "      <th>_id</th>\n",
       "      <th>botscore</th>\n",
       "    </tr>\n",
       "  </thead>\n",
       "  <tbody>\n",
       "    <tr>\n",
       "      <th>0</th>\n",
       "      <td>000000000000002266588688</td>\n",
       "      <td>0.16</td>\n",
       "    </tr>\n",
       "    <tr>\n",
       "      <th>1</th>\n",
       "      <td>000000000000000471028961</td>\n",
       "      <td>0.03</td>\n",
       "    </tr>\n",
       "    <tr>\n",
       "      <th>2</th>\n",
       "      <td>000000000000002792368467</td>\n",
       "      <td>0.11</td>\n",
       "    </tr>\n",
       "    <tr>\n",
       "      <th>3</th>\n",
       "      <td>000000000000004068857357</td>\n",
       "      <td>0.01</td>\n",
       "    </tr>\n",
       "    <tr>\n",
       "      <th>4</th>\n",
       "      <td>000000000000000006953012</td>\n",
       "      <td>0.03</td>\n",
       "    </tr>\n",
       "  </tbody>\n",
       "</table>\n",
       "</div>"
      ],
      "text/plain": [
       "                        _id  botscore\n",
       "0  000000000000002266588688      0.16\n",
       "1  000000000000000471028961      0.03\n",
       "2  000000000000002792368467      0.11\n",
       "3  000000000000004068857357      0.01\n",
       "4  000000000000000006953012      0.03"
      ]
     },
     "metadata": {},
     "output_type": "display_data"
    }
   ],
   "source": [
    "users = get_users(db.users)\n",
    "display(users.head(5))"
   ]
  },
  {
   "cell_type": "markdown",
   "metadata": {},
   "source": [
    "## 1. Botscore distribution"
   ]
  },
  {
   "cell_type": "code",
   "execution_count": 12,
   "metadata": {},
   "outputs": [
    {
     "name": "stderr",
     "output_type": "stream",
     "text": [
      "WARNING:matplotlib.legend:No handles with labels found to put in legend.\n"
     ]
    },
    {
     "name": "stdout",
     "output_type": "stream",
     "text": [
      "0.19\n",
      "0.37\n"
     ]
    },
    {
     "data": {
      "image/png": "[encoded data removed]",
      "text/plain": [
       "<Figure size 576x288 with 1 Axes>"
      ]
     },
     "metadata": {},
     "output_type": "display_data"
    }
   ],
   "source": [
    "fig, axs = plt.subplots(1, 1, figsize=(8,4))\n",
    "\n",
    "h = sns.histplot(users.botscore, \n",
    "                 #bins=40,\n",
    "                 #hist=False, \n",
    "                 #kde=True,  \n",
    "                 element=\"poly\",\n",
    "                 cumulative=True,\n",
    "                 cbar=True\n",
    "                )\n",
    "\n",
    "h.set_ylabel(ylabel='Cumulative number of users')\n",
    "h.set_xlabel(xlabel='User\\'s Botscore')\n",
    "\n",
    "# vertical lines for percentiles\n",
    "h_ylims = h.get_ylim()\n",
    "prs = [70,90]\n",
    "ps = np.percentile(a=users.botscore, q=prs, interpolation='lower')\n",
    "\n",
    "colors = {70 : 'green',\n",
    "          90 : 'orangered'}\n",
    "\n",
    "for pr,p in zip(prs,ps):\n",
    "    print(p)\n",
    "    label = str(pr) + \"th Perc.\"\n",
    "    h.vlines(x=p, ymin=h_ylims[0], ymax=h_ylims[1], linewidth = 3, linestyles='dotted', color=colors[pr])\n",
    "    text(x=p-0.11, y=h_ylims[1]*0.1, s= str(p), fontstyle='italic', verticalalignment='center')\n",
    "    text(x=p-0.09, y=h_ylims[1]*1.09, s= label, fontstyle='normal', fontsize=13, verticalalignment='center', color=colors[pr])\n",
    "    \n",
    "\n",
    "    \n",
    "# common legend\n",
    "h.legend(loc=\"upper right\")\n",
    "\n",
    "#fig.suptitle(\"Botscore distribution\", y=1.01)\n",
    "plt.tight_layout()\n",
    "\n",
    "#plt.savefig(\"images/distribution.svg\")\n",
    "plt.show()"
   ]
  },
  {
   "cell_type": "code",
   "execution_count": 167,
   "metadata": {},
   "outputs": [
    {
     "name": "stderr",
     "output_type": "stream",
     "text": [
      "/home/mattia/anaconda3/lib/python3.7/site-packages/seaborn/distributions.py:2551: FutureWarning: `distplot` is a deprecated function and will be removed in a future version. Please adapt your code to use either `displot` (a figure-level function with similar flexibility) or `histplot` (an axes-level function for histograms).\n",
      "  warnings.warn(msg, FutureWarning)\n"
     ]
    },
    {
     "name": "stdout",
     "output_type": "stream",
     "text": [
      "0.19\n",
      "0.37\n"
     ]
    },
    {
     "data": {
      "image/png": "[encoded data removed]",
      "text/plain": [
       "<Figure size 576x360 with 2 Axes>"
      ]
     },
     "metadata": {},
     "output_type": "display_data"
    }
   ],
   "source": [
    "# subfigure 1\n",
    "fig, axs = plt.subplots(1, 1, figsize=(8,5))\n",
    "\n",
    "\n",
    "# distplot\n",
    "\n",
    "g = sns.distplot(users.botscore,\n",
    "                 color='black',\n",
    "                 bins=50,\n",
    "                 hist=True, \n",
    "                 kde=False, \n",
    "                 ax=axs)\n",
    "\n",
    "\n",
    "g.set_ylabel(ylabel='Number of accounts')\n",
    "g.set_xlabel(xlabel='User\\'s Botscore')\n",
    "g.grid(False)\n",
    "    \n",
    "ax2 = axs.twinx()\n",
    "\n",
    "\n",
    "\n",
    "# cumulative\n",
    "\n",
    "\n",
    "h = sns.histplot(users.botscore, \n",
    "                 color='black',\n",
    "                 element=\"poly\",\n",
    "                 cumulative=True,\n",
    "                 cbar=True,\n",
    "                 ax = ax2,\n",
    "                 fill=False,\n",
    "                 stat=\"density\"\n",
    "                )\n",
    "\n",
    "h.set_ylabel(ylabel='Percentiles', rotation=270, labelpad=25)\n",
    "h.set_yticks(np.arange(0.1, 1.0, step=0.2))\n",
    "h.set_yticklabels(np.arange(10, 100, step=20))\n",
    "\n",
    "h.set_xticks(np.arange(0.0, 1.1, step=0.2))\n",
    "\n",
    "# vertical lines for percentiles\n",
    "h_ylims = h.get_ylim()\n",
    "prs = [70,90]\n",
    "ps = np.percentile(a=users.botscore, q=prs, interpolation='lower')\n",
    "\n",
    "colors = {70 : 'green',\n",
    "          90 : 'orangered'}\n",
    "\n",
    "for pr,p in zip(prs,ps):\n",
    "    print(p)\n",
    "    label = str(pr) + \"th Perc.\"\n",
    "    h.vlines(x=p, ymin=h_ylims[0], ymax=h_ylims[1]*pr*0.0097, linewidth = 3, linestyles='dotted', color=colors[pr])\n",
    "    #text(x=p-0.11, y=h_ylims[1]*0.1, s= str(p), fontstyle='italic', verticalalignment='center')\n",
    "    #text(x=p-0.09, y=h_ylims[1]*1.09, s= label, fontstyle='normal', fontsize=13, verticalalignment='center', color=colors[pr])\n",
    "    \n",
    "\n",
    "h = mpatches.Patch(color='green', label='Likely Humans')\n",
    "sb = mpatches.Patch(color='orangered', label='Likely Semi-Bots')\n",
    "b = mpatches.Patch(color='red', label='Likely Bots')\n",
    "plt.legend(handles=[h,sb,b], loc='upper left', ncol=3, mode='expand', borderaxespad=0.1, bbox_to_anchor=(-0.20, 1.1, 1.35, .1))\n",
    "    \n",
    "\n",
    "#fig.suptitle(\"Botscore distribution\", y=1.01)\n",
    "plt.tight_layout()\n",
    "\n",
    "plt.savefig(\"images/distribution-v2.svg\")\n",
    "plt.show()"
   ]
  },
  {
   "cell_type": "markdown",
   "metadata": {},
   "source": [
    "## 2. Graph properties"
   ]
  },
  {
   "cell_type": "markdown",
   "metadata": {},
   "source": [
    "#### Building directed-weighted retweet graph..."
   ]
  },
  {
   "cell_type": "code",
   "execution_count": 13,
   "metadata": {},
   "outputs": [
    {
     "data": {
      "text/html": [
       "<div>\n",
       "<style scoped>\n",
       "    .dataframe tbody tr th:only-of-type {\n",
       "        vertical-align: middle;\n",
       "    }\n",
       "\n",
       "    .dataframe tbody tr th {\n",
       "        vertical-align: top;\n",
       "    }\n",
       "\n",
       "    .dataframe thead th {\n",
       "        text-align: right;\n",
       "    }\n",
       "</style>\n",
       "<table border=\"1\" class=\"dataframe\">\n",
       "  <thead>\n",
       "    <tr style=\"text-align: right;\">\n",
       "      <th></th>\n",
       "      <th>retweet_author</th>\n",
       "      <th>tweet_author</th>\n",
       "    </tr>\n",
       "  </thead>\n",
       "  <tbody>\n",
       "    <tr>\n",
       "      <th>0</th>\n",
       "      <td>000001041608534734061568</td>\n",
       "      <td>000000000000000068740712</td>\n",
       "    </tr>\n",
       "    <tr>\n",
       "      <th>1</th>\n",
       "      <td>000000000000002824508322</td>\n",
       "      <td>000000000000000068740712</td>\n",
       "    </tr>\n",
       "    <tr>\n",
       "      <th>2</th>\n",
       "      <td>000000755192640321314817</td>\n",
       "      <td>000000000000000068740712</td>\n",
       "    </tr>\n",
       "    <tr>\n",
       "      <th>3</th>\n",
       "      <td>000000000000000523370717</td>\n",
       "      <td>000000000000000068740712</td>\n",
       "    </tr>\n",
       "    <tr>\n",
       "      <th>4</th>\n",
       "      <td>000000000000003610966882</td>\n",
       "      <td>000000000000000068740712</td>\n",
       "    </tr>\n",
       "  </tbody>\n",
       "</table>\n",
       "</div>"
      ],
      "text/plain": [
       "             retweet_author              tweet_author\n",
       "0  000001041608534734061568  000000000000000068740712\n",
       "1  000000000000002824508322  000000000000000068740712\n",
       "2  000000755192640321314817  000000000000000068740712\n",
       "3  000000000000000523370717  000000000000000068740712\n",
       "4  000000000000003610966882  000000000000000068740712"
      ]
     },
     "execution_count": 13,
     "metadata": {},
     "output_type": "execute_result"
    }
   ],
   "source": [
    "df_edges = df_retweets.set_index('tweet_id').join(df_tweets.set_index('tweet_id')).reset_index(drop=True)\n",
    "df_edges.head(5)"
   ]
  },
  {
   "cell_type": "code",
   "execution_count": 14,
   "metadata": {},
   "outputs": [
    {
     "data": {
      "text/html": [
       "<div>\n",
       "<style scoped>\n",
       "    .dataframe tbody tr th:only-of-type {\n",
       "        vertical-align: middle;\n",
       "    }\n",
       "\n",
       "    .dataframe tbody tr th {\n",
       "        vertical-align: top;\n",
       "    }\n",
       "\n",
       "    .dataframe thead th {\n",
       "        text-align: right;\n",
       "    }\n",
       "</style>\n",
       "<table border=\"1\" class=\"dataframe\">\n",
       "  <thead>\n",
       "    <tr style=\"text-align: right;\">\n",
       "      <th></th>\n",
       "      <th>retweet_author</th>\n",
       "      <th>tweet_author</th>\n",
       "      <th>weight</th>\n",
       "    </tr>\n",
       "  </thead>\n",
       "  <tbody>\n",
       "    <tr>\n",
       "      <th>0</th>\n",
       "      <td>000000000000000000002862</td>\n",
       "      <td>000000000000000026994875</td>\n",
       "      <td>1</td>\n",
       "    </tr>\n",
       "    <tr>\n",
       "      <th>1</th>\n",
       "      <td>000000000000000000003065</td>\n",
       "      <td>000000000000000016409683</td>\n",
       "      <td>1</td>\n",
       "    </tr>\n",
       "    <tr>\n",
       "      <th>2</th>\n",
       "      <td>000000000000000000003065</td>\n",
       "      <td>000000000000000121385551</td>\n",
       "      <td>1</td>\n",
       "    </tr>\n",
       "    <tr>\n",
       "      <th>3</th>\n",
       "      <td>000000000000000000003065</td>\n",
       "      <td>000000000000000207741909</td>\n",
       "      <td>1</td>\n",
       "    </tr>\n",
       "    <tr>\n",
       "      <th>4</th>\n",
       "      <td>000000000000000000003968</td>\n",
       "      <td>000000000000000014436030</td>\n",
       "      <td>1</td>\n",
       "    </tr>\n",
       "  </tbody>\n",
       "</table>\n",
       "</div>"
      ],
      "text/plain": [
       "             retweet_author              tweet_author  weight\n",
       "0  000000000000000000002862  000000000000000026994875       1\n",
       "1  000000000000000000003065  000000000000000016409683       1\n",
       "2  000000000000000000003065  000000000000000121385551       1\n",
       "3  000000000000000000003065  000000000000000207741909       1\n",
       "4  000000000000000000003968  000000000000000014436030       1"
      ]
     },
     "execution_count": 14,
     "metadata": {},
     "output_type": "execute_result"
    }
   ],
   "source": [
    "df_edges = df_edges.groupby(['retweet_author','tweet_author']).size().reset_index().rename(columns={0:'weight'})\n",
    "df_edges.head(5)"
   ]
  },
  {
   "cell_type": "code",
   "execution_count": 15,
   "metadata": {},
   "outputs": [
    {
     "name": "stdout",
     "output_type": "stream",
     "text": [
      "<class 'pandas.core.frame.DataFrame'>\n",
      "RangeIndex: 6037031 entries, 0 to 6037030\n",
      "Data columns (total 3 columns):\n",
      " #   Column          Dtype \n",
      "---  ------          ----- \n",
      " 0   retweet_author  object\n",
      " 1   tweet_author    object\n",
      " 2   weight          int64 \n",
      "dtypes: int64(1), object(2)\n",
      "memory usage: 138.2+ MB\n"
     ]
    }
   ],
   "source": [
    "df_edges.info()"
   ]
  },
  {
   "cell_type": "code",
   "execution_count": 16,
   "metadata": {},
   "outputs": [
    {
     "name": "stdout",
     "output_type": "stream",
     "text": [
      "Users with botscore: 1150709\n",
      "Retweets without botscore: 6037031\n",
      "Retweets with botscore: 4313219\n",
      "CPU times: user 8.71 s, sys: 445 ms, total: 9.16 s\n",
      "Wall time: 9.12 s\n"
     ]
    }
   ],
   "source": [
    "%%time\n",
    "implicated_users = []\n",
    "implicated_users = list(set(list(df_edges.retweet_author.unique()) + list(df_edges.tweet_author.unique())))\n",
    "#print(\"Implicated users:\", len(implicated_users))\n",
    "\n",
    "df_users = users[users._id.isin(implicated_users)]\n",
    "print(\"Users with botscore:\", len(df_users))\n",
    "\n",
    "print(\"Retweets without botscore:\", len(df_edges))\n",
    "df_edges = df_edges[(df_edges.retweet_author.isin(df_users._id)) & (df_edges.tweet_author.isin(df_users._id))]\n",
    "print(\"Retweets with botscore:\", len(df_edges))"
   ]
  },
  {
   "cell_type": "markdown",
   "metadata": {},
   "source": [
    "### Using networkx"
   ]
  },
  {
   "cell_type": "code",
   "execution_count": 17,
   "metadata": {},
   "outputs": [
    {
     "name": "stdout",
     "output_type": "stream",
     "text": [
      "CPU times: user 16.8 s, sys: 456 ms, total: 17.3 s\n",
      "Wall time: 17.3 s\n"
     ]
    }
   ],
   "source": [
    "%%time\n",
    "G = nx.from_pandas_edgelist(df=df_edges, source='tweet_author', target='retweet_author', edge_attr='weight', create_using=nx.DiGraph)"
   ]
  },
  {
   "cell_type": "code",
   "execution_count": 18,
   "metadata": {},
   "outputs": [
    {
     "data": {
      "text/plain": [
       "1027305"
      ]
     },
     "execution_count": 18,
     "metadata": {},
     "output_type": "execute_result"
    }
   ],
   "source": [
    "G.number_of_nodes()"
   ]
  },
  {
   "cell_type": "code",
   "execution_count": 19,
   "metadata": {},
   "outputs": [
    {
     "name": "stdout",
     "output_type": "stream",
     "text": [
      "CPU times: user 12 µs, sys: 1e+03 ns, total: 13 µs\n",
      "Wall time: 15.7 µs\n"
     ]
    }
   ],
   "source": [
    "%%time\n",
    "degs = G.degree()"
   ]
  },
  {
   "cell_type": "raw",
   "metadata": {},
   "source": [
    "FILTERING_DEGREE = 100\n",
    "to_remove = [n for (n, deg) in degs if deg < FILTERING_DEGREE]\n",
    "print(\"To remove:\", len(to_remove))"
   ]
  },
  {
   "cell_type": "raw",
   "metadata": {},
   "source": [
    "G.remove_nodes_from(to_remove)"
   ]
  },
  {
   "cell_type": "code",
   "execution_count": 22,
   "metadata": {},
   "outputs": [],
   "source": [
    "node_attr = df_users.set_index('_id').to_dict('index')\n",
    "nx.set_node_attributes(G, node_attr)"
   ]
  },
  {
   "cell_type": "code",
   "execution_count": 23,
   "metadata": {},
   "outputs": [],
   "source": [
    "nx.write_graphml(G, \"graphs/filtered-general-network.graphml\")"
   ]
  },
  {
   "cell_type": "code",
   "execution_count": 21,
   "metadata": {},
   "outputs": [
    {
     "data": {
      "text/html": [
       "<div>\n",
       "<style scoped>\n",
       "    .dataframe tbody tr th:only-of-type {\n",
       "        vertical-align: middle;\n",
       "    }\n",
       "\n",
       "    .dataframe tbody tr th {\n",
       "        vertical-align: top;\n",
       "    }\n",
       "\n",
       "    .dataframe thead th {\n",
       "        text-align: right;\n",
       "    }\n",
       "</style>\n",
       "<table border=\"1\" class=\"dataframe\">\n",
       "  <thead>\n",
       "    <tr style=\"text-align: right;\">\n",
       "      <th></th>\n",
       "      <th>retweet_author</th>\n",
       "      <th>tweet_author</th>\n",
       "      <th>weight</th>\n",
       "    </tr>\n",
       "  </thead>\n",
       "  <tbody>\n",
       "    <tr>\n",
       "      <th>0</th>\n",
       "      <td>000000000000000000002862</td>\n",
       "      <td>000000000000000026994875</td>\n",
       "      <td>1</td>\n",
       "    </tr>\n",
       "    <tr>\n",
       "      <th>4</th>\n",
       "      <td>000000000000000000003968</td>\n",
       "      <td>000000000000000014436030</td>\n",
       "      <td>1</td>\n",
       "    </tr>\n",
       "    <tr>\n",
       "      <th>6</th>\n",
       "      <td>000000000000000000003971</td>\n",
       "      <td>000000000000000035222818</td>\n",
       "      <td>1</td>\n",
       "    </tr>\n",
       "    <tr>\n",
       "      <th>7</th>\n",
       "      <td>000000000000000000003971</td>\n",
       "      <td>000000000000000046529156</td>\n",
       "      <td>1</td>\n",
       "    </tr>\n",
       "    <tr>\n",
       "      <th>8</th>\n",
       "      <td>000000000000000000003971</td>\n",
       "      <td>000000000000000057662387</td>\n",
       "      <td>1</td>\n",
       "    </tr>\n",
       "  </tbody>\n",
       "</table>\n",
       "</div>"
      ],
      "text/plain": [
       "             retweet_author              tweet_author  weight\n",
       "0  000000000000000000002862  000000000000000026994875       1\n",
       "4  000000000000000000003968  000000000000000014436030       1\n",
       "6  000000000000000000003971  000000000000000035222818       1\n",
       "7  000000000000000000003971  000000000000000046529156       1\n",
       "8  000000000000000000003971  000000000000000057662387       1"
      ]
     },
     "execution_count": 21,
     "metadata": {},
     "output_type": "execute_result"
    }
   ],
   "source": [
    "df_edges.head()"
   ]
  },
  {
   "cell_type": "markdown",
   "metadata": {},
   "source": [
    "### Using graph-tool"
   ]
  },
  {
   "cell_type": "code",
   "execution_count": 22,
   "metadata": {},
   "outputs": [
    {
     "name": "stdout",
     "output_type": "stream",
     "text": [
      "CPU times: user 15.5 s, sys: 325 ms, total: 15.9 s\n",
      "Wall time: 15.7 s\n"
     ]
    }
   ],
   "source": [
    "%%time\n",
    "\n",
    "X = gt.Graph(directed=True)\n",
    "eweight = X.new_edge_property('int')\n",
    "user_ids = X.add_edge_list(df_edges.values, hashed=True, hash_type='string', eprops=[eweight])"
   ]
  },
  {
   "cell_type": "code",
   "execution_count": 23,
   "metadata": {},
   "outputs": [
    {
     "name": "stdout",
     "output_type": "stream",
     "text": [
      "CPU times: user 5.53 s, sys: 327 ms, total: 5.86 s\n",
      "Wall time: 5.86 s\n"
     ]
    }
   ],
   "source": [
    "%%time\n",
    "\n",
    "# botscore for nodes\n",
    "user_botscores_dic = df_users.set_index('_id').to_dict('index')\n",
    "node_botscores = []\n",
    "for user_id in user_ids:\n",
    "    node_botscore = user_botscores_dic[user_id]['botscore']\n",
    "    node_botscores.append(node_botscore)"
   ]
  },
  {
   "cell_type": "code",
   "execution_count": 24,
   "metadata": {},
   "outputs": [
    {
     "name": "stdout",
     "output_type": "stream",
     "text": [
      "CPU times: user 293 ms, sys: 251 µs, total: 293 ms\n",
      "Wall time: 289 ms\n"
     ]
    }
   ],
   "source": [
    "%%time\n",
    "vbotscores = X.new_vertex_property(value_type='float', vals=node_botscores)"
   ]
  },
  {
   "cell_type": "code",
   "execution_count": 25,
   "metadata": {},
   "outputs": [
    {
     "name": "stdout",
     "output_type": "stream",
     "text": [
      "000000000000000000003968\n",
      "0.05\n"
     ]
    }
   ],
   "source": [
    "print(user_ids[2])\n",
    "print(vbotscores[2])"
   ]
  },
  {
   "cell_type": "markdown",
   "metadata": {},
   "source": [
    "#### Three situations to compare. We sort users in ascending order of botscore:\n",
    "##### 1. users < 70th percentile (legitimate network)\n",
    "##### 2. users < 90th (shady network)\n",
    "##### 3. all network (bot-interfered network)"
   ]
  },
  {
   "cell_type": "code",
   "execution_count": 26,
   "metadata": {},
   "outputs": [
    {
     "name": "stdout",
     "output_type": "stream",
     "text": [
      "Network 70%\n",
      "--------------\n",
      "Number of vertices: 709212\n",
      "Number of edges: 2407485\n"
     ]
    },
    {
     "data": {
      "text/html": [
       "<div>\n",
       "<style scoped>\n",
       "    .dataframe tbody tr th:only-of-type {\n",
       "        vertical-align: middle;\n",
       "    }\n",
       "\n",
       "    .dataframe tbody tr th {\n",
       "        vertical-align: top;\n",
       "    }\n",
       "\n",
       "    .dataframe thead th {\n",
       "        text-align: right;\n",
       "    }\n",
       "</style>\n",
       "<table border=\"1\" class=\"dataframe\">\n",
       "  <thead>\n",
       "    <tr style=\"text-align: right;\">\n",
       "      <th></th>\n",
       "      <th>out-degree</th>\n",
       "      <th>in-degree</th>\n",
       "      <th>out-strenght</th>\n",
       "      <th>in-strenght</th>\n",
       "      <th>betweenness</th>\n",
       "      <th>closeness</th>\n",
       "    </tr>\n",
       "  </thead>\n",
       "  <tbody>\n",
       "    <tr>\n",
       "      <th>count</th>\n",
       "      <td>709212.000000</td>\n",
       "      <td>709212.000000</td>\n",
       "      <td>709212.000000</td>\n",
       "      <td>709212.000000</td>\n",
       "      <td>7.092120e+05</td>\n",
       "      <td>646942.000000</td>\n",
       "    </tr>\n",
       "    <tr>\n",
       "      <th>mean</th>\n",
       "      <td>3.394591</td>\n",
       "      <td>3.394591</td>\n",
       "      <td>4.460672</td>\n",
       "      <td>4.460672</td>\n",
       "      <td>1.394929e-07</td>\n",
       "      <td>0.386851</td>\n",
       "    </tr>\n",
       "    <tr>\n",
       "      <th>std</th>\n",
       "      <td>8.199816</td>\n",
       "      <td>95.062469</td>\n",
       "      <td>15.397376</td>\n",
       "      <td>175.531703</td>\n",
       "      <td>4.990982e-06</td>\n",
       "      <td>0.382903</td>\n",
       "    </tr>\n",
       "    <tr>\n",
       "      <th>min</th>\n",
       "      <td>0.000000</td>\n",
       "      <td>0.000000</td>\n",
       "      <td>0.000000</td>\n",
       "      <td>0.000000</td>\n",
       "      <td>0.000000e+00</td>\n",
       "      <td>0.035354</td>\n",
       "    </tr>\n",
       "    <tr>\n",
       "      <th>25%</th>\n",
       "      <td>1.000000</td>\n",
       "      <td>0.000000</td>\n",
       "      <td>1.000000</td>\n",
       "      <td>0.000000</td>\n",
       "      <td>0.000000e+00</td>\n",
       "      <td>0.112347</td>\n",
       "    </tr>\n",
       "    <tr>\n",
       "      <th>50%</th>\n",
       "      <td>1.000000</td>\n",
       "      <td>0.000000</td>\n",
       "      <td>1.000000</td>\n",
       "      <td>0.000000</td>\n",
       "      <td>0.000000e+00</td>\n",
       "      <td>0.134364</td>\n",
       "    </tr>\n",
       "    <tr>\n",
       "      <th>75%</th>\n",
       "      <td>3.000000</td>\n",
       "      <td>0.000000</td>\n",
       "      <td>3.000000</td>\n",
       "      <td>0.000000</td>\n",
       "      <td>0.000000e+00</td>\n",
       "      <td>1.000000</td>\n",
       "    </tr>\n",
       "    <tr>\n",
       "      <th>max</th>\n",
       "      <td>364.000000</td>\n",
       "      <td>18487.000000</td>\n",
       "      <td>1018.000000</td>\n",
       "      <td>51656.000000</td>\n",
       "      <td>1.419432e-03</td>\n",
       "      <td>1.000000</td>\n",
       "    </tr>\n",
       "  </tbody>\n",
       "</table>\n",
       "</div>"
      ],
      "text/plain": [
       "          out-degree      in-degree   out-strenght    in-strenght  \\\n",
       "count  709212.000000  709212.000000  709212.000000  709212.000000   \n",
       "mean        3.394591       3.394591       4.460672       4.460672   \n",
       "std         8.199816      95.062469      15.397376     175.531703   \n",
       "min         0.000000       0.000000       0.000000       0.000000   \n",
       "25%         1.000000       0.000000       1.000000       0.000000   \n",
       "50%         1.000000       0.000000       1.000000       0.000000   \n",
       "75%         3.000000       0.000000       3.000000       0.000000   \n",
       "max       364.000000   18487.000000    1018.000000   51656.000000   \n",
       "\n",
       "        betweenness      closeness  \n",
       "count  7.092120e+05  646942.000000  \n",
       "mean   1.394929e-07       0.386851  \n",
       "std    4.990982e-06       0.382903  \n",
       "min    0.000000e+00       0.035354  \n",
       "25%    0.000000e+00       0.112347  \n",
       "50%    0.000000e+00       0.134364  \n",
       "75%    0.000000e+00       1.000000  \n",
       "max    1.419432e-03       1.000000  "
      ]
     },
     "metadata": {},
     "output_type": "display_data"
    },
    {
     "name": "stdout",
     "output_type": "stream",
     "text": [
      "\n",
      "Network 90%\n",
      "--------------\n",
      "Number of vertices: 918048\n",
      "Number of edges: 3742115\n"
     ]
    },
    {
     "data": {
      "text/html": [
       "<div>\n",
       "<style scoped>\n",
       "    .dataframe tbody tr th:only-of-type {\n",
       "        vertical-align: middle;\n",
       "    }\n",
       "\n",
       "    .dataframe tbody tr th {\n",
       "        vertical-align: top;\n",
       "    }\n",
       "\n",
       "    .dataframe thead th {\n",
       "        text-align: right;\n",
       "    }\n",
       "</style>\n",
       "<table border=\"1\" class=\"dataframe\">\n",
       "  <thead>\n",
       "    <tr style=\"text-align: right;\">\n",
       "      <th></th>\n",
       "      <th>out-degree</th>\n",
       "      <th>in-degree</th>\n",
       "      <th>out-strenght</th>\n",
       "      <th>in-strenght</th>\n",
       "      <th>betweenness</th>\n",
       "      <th>closeness</th>\n",
       "    </tr>\n",
       "  </thead>\n",
       "  <tbody>\n",
       "    <tr>\n",
       "      <th>count</th>\n",
       "      <td>918048.000000</td>\n",
       "      <td>918048.000000</td>\n",
       "      <td>918048.000000</td>\n",
       "      <td>918048.000000</td>\n",
       "      <td>9.180480e+05</td>\n",
       "      <td>884839.000000</td>\n",
       "    </tr>\n",
       "    <tr>\n",
       "      <th>mean</th>\n",
       "      <td>4.076165</td>\n",
       "      <td>4.076165</td>\n",
       "      <td>5.390199</td>\n",
       "      <td>5.390199</td>\n",
       "      <td>1.315907e-07</td>\n",
       "      <td>0.377378</td>\n",
       "    </tr>\n",
       "    <tr>\n",
       "      <th>std</th>\n",
       "      <td>11.028117</td>\n",
       "      <td>115.960270</td>\n",
       "      <td>20.753911</td>\n",
       "      <td>218.581074</td>\n",
       "      <td>4.413099e-06</td>\n",
       "      <td>0.375421</td>\n",
       "    </tr>\n",
       "    <tr>\n",
       "      <th>min</th>\n",
       "      <td>0.000000</td>\n",
       "      <td>0.000000</td>\n",
       "      <td>0.000000</td>\n",
       "      <td>0.000000</td>\n",
       "      <td>0.000000e+00</td>\n",
       "      <td>0.030303</td>\n",
       "    </tr>\n",
       "    <tr>\n",
       "      <th>25%</th>\n",
       "      <td>1.000000</td>\n",
       "      <td>0.000000</td>\n",
       "      <td>1.000000</td>\n",
       "      <td>0.000000</td>\n",
       "      <td>0.000000e+00</td>\n",
       "      <td>0.119009</td>\n",
       "    </tr>\n",
       "    <tr>\n",
       "      <th>50%</th>\n",
       "      <td>1.000000</td>\n",
       "      <td>0.000000</td>\n",
       "      <td>1.000000</td>\n",
       "      <td>0.000000</td>\n",
       "      <td>0.000000e+00</td>\n",
       "      <td>0.141432</td>\n",
       "    </tr>\n",
       "    <tr>\n",
       "      <th>75%</th>\n",
       "      <td>3.000000</td>\n",
       "      <td>0.000000</td>\n",
       "      <td>3.000000</td>\n",
       "      <td>0.000000</td>\n",
       "      <td>0.000000e+00</td>\n",
       "      <td>0.700000</td>\n",
       "    </tr>\n",
       "    <tr>\n",
       "      <th>max</th>\n",
       "      <td>721.000000</td>\n",
       "      <td>23819.000000</td>\n",
       "      <td>2664.000000</td>\n",
       "      <td>73447.000000</td>\n",
       "      <td>1.180857e-03</td>\n",
       "      <td>1.000000</td>\n",
       "    </tr>\n",
       "  </tbody>\n",
       "</table>\n",
       "</div>"
      ],
      "text/plain": [
       "          out-degree      in-degree   out-strenght    in-strenght  \\\n",
       "count  918048.000000  918048.000000  918048.000000  918048.000000   \n",
       "mean        4.076165       4.076165       5.390199       5.390199   \n",
       "std        11.028117     115.960270      20.753911     218.581074   \n",
       "min         0.000000       0.000000       0.000000       0.000000   \n",
       "25%         1.000000       0.000000       1.000000       0.000000   \n",
       "50%         1.000000       0.000000       1.000000       0.000000   \n",
       "75%         3.000000       0.000000       3.000000       0.000000   \n",
       "max       721.000000   23819.000000    2664.000000   73447.000000   \n",
       "\n",
       "        betweenness      closeness  \n",
       "count  9.180480e+05  884839.000000  \n",
       "mean   1.315907e-07       0.377378  \n",
       "std    4.413099e-06       0.375421  \n",
       "min    0.000000e+00       0.030303  \n",
       "25%    0.000000e+00       0.119009  \n",
       "50%    0.000000e+00       0.141432  \n",
       "75%    0.000000e+00       0.700000  \n",
       "max    1.180857e-03       1.000000  "
      ]
     },
     "metadata": {},
     "output_type": "display_data"
    },
    {
     "name": "stdout",
     "output_type": "stream",
     "text": [
      "\n",
      "Network 100%\n",
      "--------------\n",
      "Number of vertices: 1027305\n",
      "Number of edges: 4313219\n"
     ]
    },
    {
     "data": {
      "text/html": [
       "<div>\n",
       "<style scoped>\n",
       "    .dataframe tbody tr th:only-of-type {\n",
       "        vertical-align: middle;\n",
       "    }\n",
       "\n",
       "    .dataframe tbody tr th {\n",
       "        vertical-align: top;\n",
       "    }\n",
       "\n",
       "    .dataframe thead th {\n",
       "        text-align: right;\n",
       "    }\n",
       "</style>\n",
       "<table border=\"1\" class=\"dataframe\">\n",
       "  <thead>\n",
       "    <tr style=\"text-align: right;\">\n",
       "      <th></th>\n",
       "      <th>out-degree</th>\n",
       "      <th>in-degree</th>\n",
       "      <th>out-strenght</th>\n",
       "      <th>in-strenght</th>\n",
       "      <th>betweenness</th>\n",
       "      <th>closeness</th>\n",
       "    </tr>\n",
       "  </thead>\n",
       "  <tbody>\n",
       "    <tr>\n",
       "      <th>count</th>\n",
       "      <td>1.027305e+06</td>\n",
       "      <td>1.027305e+06</td>\n",
       "      <td>1.027305e+06</td>\n",
       "      <td>1.027305e+06</td>\n",
       "      <td>1.027305e+06</td>\n",
       "      <td>1.006198e+06</td>\n",
       "    </tr>\n",
       "    <tr>\n",
       "      <th>mean</th>\n",
       "      <td>4.198577e+00</td>\n",
       "      <td>4.198577e+00</td>\n",
       "      <td>5.535806e+00</td>\n",
       "      <td>5.535806e+00</td>\n",
       "      <td>1.148991e-07</td>\n",
       "      <td>3.798974e-01</td>\n",
       "    </tr>\n",
       "    <tr>\n",
       "      <th>std</th>\n",
       "      <td>1.198663e+01</td>\n",
       "      <td>1.211918e+02</td>\n",
       "      <td>2.234184e+01</td>\n",
       "      <td>2.264189e+02</td>\n",
       "      <td>3.887970e-06</td>\n",
       "      <td>3.730897e-01</td>\n",
       "    </tr>\n",
       "    <tr>\n",
       "      <th>min</th>\n",
       "      <td>0.000000e+00</td>\n",
       "      <td>0.000000e+00</td>\n",
       "      <td>0.000000e+00</td>\n",
       "      <td>0.000000e+00</td>\n",
       "      <td>0.000000e+00</td>\n",
       "      <td>3.030303e-02</td>\n",
       "    </tr>\n",
       "    <tr>\n",
       "      <th>25%</th>\n",
       "      <td>1.000000e+00</td>\n",
       "      <td>0.000000e+00</td>\n",
       "      <td>1.000000e+00</td>\n",
       "      <td>0.000000e+00</td>\n",
       "      <td>0.000000e+00</td>\n",
       "      <td>1.229882e-01</td>\n",
       "    </tr>\n",
       "    <tr>\n",
       "      <th>50%</th>\n",
       "      <td>1.000000e+00</td>\n",
       "      <td>0.000000e+00</td>\n",
       "      <td>1.000000e+00</td>\n",
       "      <td>0.000000e+00</td>\n",
       "      <td>0.000000e+00</td>\n",
       "      <td>1.468714e-01</td>\n",
       "    </tr>\n",
       "    <tr>\n",
       "      <th>75%</th>\n",
       "      <td>3.000000e+00</td>\n",
       "      <td>0.000000e+00</td>\n",
       "      <td>3.000000e+00</td>\n",
       "      <td>0.000000e+00</td>\n",
       "      <td>0.000000e+00</td>\n",
       "      <td>6.666667e-01</td>\n",
       "    </tr>\n",
       "    <tr>\n",
       "      <th>max</th>\n",
       "      <td>7.850000e+02</td>\n",
       "      <td>2.555200e+04</td>\n",
       "      <td>2.707000e+03</td>\n",
       "      <td>8.031100e+04</td>\n",
       "      <td>8.372104e-04</td>\n",
       "      <td>1.000000e+00</td>\n",
       "    </tr>\n",
       "  </tbody>\n",
       "</table>\n",
       "</div>"
      ],
      "text/plain": [
       "         out-degree     in-degree  out-strenght   in-strenght   betweenness  \\\n",
       "count  1.027305e+06  1.027305e+06  1.027305e+06  1.027305e+06  1.027305e+06   \n",
       "mean   4.198577e+00  4.198577e+00  5.535806e+00  5.535806e+00  1.148991e-07   \n",
       "std    1.198663e+01  1.211918e+02  2.234184e+01  2.264189e+02  3.887970e-06   \n",
       "min    0.000000e+00  0.000000e+00  0.000000e+00  0.000000e+00  0.000000e+00   \n",
       "25%    1.000000e+00  0.000000e+00  1.000000e+00  0.000000e+00  0.000000e+00   \n",
       "50%    1.000000e+00  0.000000e+00  1.000000e+00  0.000000e+00  0.000000e+00   \n",
       "75%    3.000000e+00  0.000000e+00  3.000000e+00  0.000000e+00  0.000000e+00   \n",
       "max    7.850000e+02  2.555200e+04  2.707000e+03  8.031100e+04  8.372104e-04   \n",
       "\n",
       "          closeness  \n",
       "count  1.006198e+06  \n",
       "mean   3.798974e-01  \n",
       "std    3.730897e-01  \n",
       "min    3.030303e-02  \n",
       "25%    1.229882e-01  \n",
       "50%    1.468714e-01  \n",
       "75%    6.666667e-01  \n",
       "max    1.000000e+00  "
      ]
     },
     "metadata": {},
     "output_type": "display_data"
    },
    {
     "name": "stdout",
     "output_type": "stream",
     "text": [
      "\n",
      "CPU times: user 3d 10h 36min 21s, sys: 6min 18s, total: 3d 10h 42min 39s\n",
      "Wall time: 4h 28min 51s\n"
     ]
    }
   ],
   "source": [
    "%%time\n",
    "\n",
    "df = pd.DataFrame()\n",
    "\n",
    "prs = [70,90]\n",
    "ps = np.percentile(a=users.botscore, q=prs, interpolation='lower')\n",
    "\n",
    "percentile = {70: ps[0],\n",
    "              90: ps[1],\n",
    "              100: 1.01}\n",
    "\n",
    "for percentage in [70, 90, 100]:\n",
    "    print(\"Network \" + str(percentage) +\"%\")\n",
    "    print(\"--------------\")\n",
    "    \n",
    "   \n",
    "    filtering_properties = []\n",
    "    for b in node_botscores:\n",
    "        if b < percentile[percentage]:\n",
    "            filtering_properties.append(True)\n",
    "        else:\n",
    "            filtering_properties.append(False)\n",
    "\n",
    "\n",
    "\n",
    "    X.set_vertex_filter(X.new_vertex_property(value_type='bool', vals=filtering_properties))\n",
    "    \n",
    "    print(\"Number of vertices:\", X.num_vertices())\n",
    "    print(\"Number of edges:\", X.num_edges())\n",
    "\n",
    "    df_percentile = pd.DataFrame.from_dict({'out-degree':X.get_out_degrees(X.get_vertices()),\n",
    "                                      'in-degree':X.get_in_degrees(X.get_vertices()),\n",
    "                                      'out-strenght':X.get_out_degrees(X.get_vertices(),eweight),\n",
    "                                      'in-strenght':X.get_in_degrees(X.get_vertices(),eweight),\n",
    "                                      'betweenness':gt.betweenness(g=X, weight=eweight)[0],\n",
    "                                      'closeness':gt.closeness(g=X, weight=eweight)\n",
    "                                     },\n",
    "                                      orient='columns')\n",
    "    \n",
    "    display(df_percentile.describe())\n",
    "    \n",
    "    df_percentile['network'] = str(percentage)+'%'\n",
    "    \n",
    "    if percentage == 70:\n",
    "        df = df_percentile\n",
    "    else:\n",
    "        df = df.append(df_percentile, ignore_index=True)\n",
    "    \n",
    "    X.set_vertex_filter(None)\n",
    "    print()"
   ]
  },
  {
   "cell_type": "code",
   "execution_count": 27,
   "metadata": {},
   "outputs": [
    {
     "name": "stdout",
     "output_type": "stream",
     "text": [
      "CPU times: user 5.86 s, sys: 2.97 s, total: 8.82 s\n",
      "Wall time: 5.16 s\n"
     ]
    },
    {
     "data": {
      "image/png": "[encoded data removed]",
      "text/plain": [
       "<Figure size 1080x576 with 6 Axes>"
      ]
     },
     "metadata": {},
     "output_type": "display_data"
    }
   ],
   "source": [
    "%%time\n",
    "\n",
    "rows = 3\n",
    "columns = 2\n",
    "\n",
    "fig, axs = plt.subplots(rows, columns, figsize=(15,8))\n",
    "\n",
    "row=0\n",
    "column=0\n",
    "for cat in ['out-degree','in-degree','out-strenght','in-strenght', 'betweenness', 'closeness']:\n",
    "    ax = axs[row][column]\n",
    "    ax = sns.boxenplot(data=df,\n",
    "                       x='network',\n",
    "                       y=cat,\n",
    "                       order=['70%','90%','100%'],\n",
    "                       ax=ax,\n",
    "                       showfliers=False,\n",
    "                       dodge=False,\n",
    "                       k_depth=8,\n",
    "                       scale='linear'\n",
    "                    )\n",
    "    \n",
    "    column=(column+1)%columns\n",
    "    if column==0:\n",
    "        row=row+1\n",
    "\n",
    "plt.tight_layout()\n",
    "plt.savefig(\"images/description-networks.svg\")"
   ]
  },
  {
   "cell_type": "markdown",
   "metadata": {},
   "source": [
    "### 3. Graph properties per botscore"
   ]
  },
  {
   "cell_type": "code",
   "execution_count": 28,
   "metadata": {},
   "outputs": [
    {
     "data": {
      "text/html": [
       "<div>\n",
       "<style scoped>\n",
       "    .dataframe tbody tr th:only-of-type {\n",
       "        vertical-align: middle;\n",
       "    }\n",
       "\n",
       "    .dataframe tbody tr th {\n",
       "        vertical-align: top;\n",
       "    }\n",
       "\n",
       "    .dataframe thead th {\n",
       "        text-align: right;\n",
       "    }\n",
       "</style>\n",
       "<table border=\"1\" class=\"dataframe\">\n",
       "  <thead>\n",
       "    <tr style=\"text-align: right;\">\n",
       "      <th></th>\n",
       "      <th>out-degree</th>\n",
       "      <th>in-degree</th>\n",
       "      <th>out-strenght</th>\n",
       "      <th>in-strenght</th>\n",
       "      <th>betweenness</th>\n",
       "      <th>closeness</th>\n",
       "      <th>network</th>\n",
       "      <th>botscore</th>\n",
       "    </tr>\n",
       "  </thead>\n",
       "  <tbody>\n",
       "    <tr>\n",
       "      <th>1627260</th>\n",
       "      <td>1</td>\n",
       "      <td>0</td>\n",
       "      <td>1</td>\n",
       "      <td>0</td>\n",
       "      <td>0.000000e+00</td>\n",
       "      <td>0.107573</td>\n",
       "      <td>100%</td>\n",
       "      <td>0.09</td>\n",
       "    </tr>\n",
       "    <tr>\n",
       "      <th>1627261</th>\n",
       "      <td>20</td>\n",
       "      <td>4</td>\n",
       "      <td>25</td>\n",
       "      <td>4</td>\n",
       "      <td>7.735646e-08</td>\n",
       "      <td>0.120536</td>\n",
       "      <td>100%</td>\n",
       "      <td>0.06</td>\n",
       "    </tr>\n",
       "    <tr>\n",
       "      <th>1627262</th>\n",
       "      <td>1</td>\n",
       "      <td>0</td>\n",
       "      <td>1</td>\n",
       "      <td>0</td>\n",
       "      <td>0.000000e+00</td>\n",
       "      <td>0.103589</td>\n",
       "      <td>100%</td>\n",
       "      <td>0.05</td>\n",
       "    </tr>\n",
       "    <tr>\n",
       "      <th>1627263</th>\n",
       "      <td>10</td>\n",
       "      <td>10184</td>\n",
       "      <td>16</td>\n",
       "      <td>14987</td>\n",
       "      <td>6.377108e-05</td>\n",
       "      <td>0.115555</td>\n",
       "      <td>100%</td>\n",
       "      <td>0.01</td>\n",
       "    </tr>\n",
       "    <tr>\n",
       "      <th>1627264</th>\n",
       "      <td>13</td>\n",
       "      <td>44</td>\n",
       "      <td>13</td>\n",
       "      <td>44</td>\n",
       "      <td>4.645568e-06</td>\n",
       "      <td>0.133785</td>\n",
       "      <td>100%</td>\n",
       "      <td>0.12</td>\n",
       "    </tr>\n",
       "  </tbody>\n",
       "</table>\n",
       "</div>"
      ],
      "text/plain": [
       "         out-degree  in-degree  out-strenght  in-strenght   betweenness  \\\n",
       "1627260           1          0             1            0  0.000000e+00   \n",
       "1627261          20          4            25            4  7.735646e-08   \n",
       "1627262           1          0             1            0  0.000000e+00   \n",
       "1627263          10      10184            16        14987  6.377108e-05   \n",
       "1627264          13         44            13           44  4.645568e-06   \n",
       "\n",
       "         closeness network  botscore  \n",
       "1627260   0.107573    100%      0.09  \n",
       "1627261   0.120536    100%      0.06  \n",
       "1627262   0.103589    100%      0.05  \n",
       "1627263   0.115555    100%      0.01  \n",
       "1627264   0.133785    100%      0.12  "
      ]
     },
     "execution_count": 28,
     "metadata": {},
     "output_type": "execute_result"
    }
   ],
   "source": [
    "df_all = df[df.network=='100%']\n",
    "df_all = pd.DataFrame(df_all)\n",
    "df_all['botscore'] = node_botscores\n",
    "df_all.head()"
   ]
  },
  {
   "cell_type": "code",
   "execution_count": 29,
   "metadata": {},
   "outputs": [
    {
     "name": "stdout",
     "output_type": "stream",
     "text": [
      "0.0 332439\n",
      "0.1 296448\n",
      "0.2 182103\n",
      "0.3 90726\n",
      "0.4 73969\n",
      "0.5 29966\n",
      "0.6 13050\n",
      "0.7 4471\n",
      "0.8 3218\n",
      "0.9 810\n",
      "1.0 105\n"
     ]
    }
   ],
   "source": [
    "BINS=20\n",
    "\n",
    "rows = 3\n",
    "columns = 2\n",
    "\n",
    "## balance dataset for regression\n",
    "df_balanced=df_all\n",
    "df_balanced['botscore']=df_balanced['botscore'].round(decimals=1)\n",
    "max_size = df_balanced['botscore'].value_counts().max()\n",
    "lst = [df_balanced]\n",
    "\n",
    "for botscore, botscore_group in df_balanced.groupby('botscore'):\n",
    "    print(botscore, len(botscore_group))\n",
    "    lst.append(botscore_group.sample(max_size-len(botscore_group), replace=True))\n",
    "    \n",
    "df_balanced = pd.concat(lst, ignore_index=True).reset_index(drop=True)"
   ]
  },
  {
   "cell_type": "code",
   "execution_count": 30,
   "metadata": {},
   "outputs": [
    {
     "name": "stdout",
     "output_type": "stream",
     "text": [
      "CPU times: user 4h 17min 46s, sys: 7h 51min 28s, total: 12h 9min 14s\n",
      "Wall time: 1h 56min 28s\n"
     ]
    },
    {
     "data": {
      "image/png": "[encoded data removed]",
      "text/plain": [
       "<Figure size 1080x576 with 6 Axes>"
      ]
     },
     "metadata": {},
     "output_type": "display_data"
    }
   ],
   "source": [
    "%%time\n",
    "fig, axs = plt.subplots(rows, columns, figsize=(15,8))\n",
    "\n",
    "row=0\n",
    "column=0\n",
    "for cat in ['out-degree','in-degree','out-strenght','in-strenght', 'betweenness', 'closeness']:\n",
    "    \n",
    "    ax = axs[row][column]\n",
    "\n",
    "    ## plot regression\n",
    "    \n",
    "    ax = sns.regplot(x='botscore',\n",
    "            y=cat,\n",
    "            x_bins=100,\n",
    "            #data=df_all,\n",
    "            data=df_balanced,\n",
    "            scatter_kws = {'color': 'b', 's':12},\n",
    "            line_kws = {'color': '#CCCC00'},\n",
    "            ax = ax,\n",
    "            order=5\n",
    "            )\n",
    "    \n",
    "    column=(column+1)%columns\n",
    "    if column==0:\n",
    "        row=row+1\n",
    "    \n",
    "    fig.suptitle(\"Average network properties per botscore\", y=1.01)\n",
    "    plt.tight_layout()\n",
    "    plt.savefig(\"images/description-botscore.svg\")"
   ]
  }
 ],
 "metadata": {
  "kernelspec": {
   "display_name": "Python 3",
   "language": "python",
   "name": "python3"
  },
  "language_info": {
   "codemirror_mode": {
    "name": "ipython",
    "version": 3
   },
   "file_extension": ".py",
   "mimetype": "text/x-python",
   "name": "python",
   "nbconvert_exporter": "python",
   "pygments_lexer": "ipython3",
   "version": "3.7.4"
  }
 },
 "nbformat": 4,
 "nbformat_minor": 4
}
