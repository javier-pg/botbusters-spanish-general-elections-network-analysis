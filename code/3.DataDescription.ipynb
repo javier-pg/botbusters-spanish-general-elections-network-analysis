{
 "cells": [
  {
   "cell_type": "markdown",
   "metadata": {},
   "source": [
    "## Configuration"
   ]
  },
  {
   "cell_type": "markdown",
   "metadata": {},
   "source": [
    "### Imports"
   ]
  },
  {
   "cell_type": "code",
   "execution_count": 30,
   "metadata": {},
   "outputs": [],
   "source": [
    "# Utilities\n",
    "from IPython.display import display\n",
    "import os\n",
    "import numpy as np\n",
    "import time\n",
    "import pandas as pd\n",
    "\n",
    "# MongoDB functionality\n",
    "from pymongo import MongoClient, InsertOne, UpdateOne\n",
    "from bson import ObjectId\n",
    "from collections.abc import MutableMapping\n",
    "\n",
    "# Graphics\n",
    "import matplotlib.pyplot as plt\n",
    "from matplotlib.pyplot import text\n",
    "import seaborn as sns\n",
    "sns.set(font_scale=0.9)\n",
    "sns.set_style(\"whitegrid\")\n",
    "sns.set_style({'font.family':'monospace'})\n",
    "from mpl_toolkits.axes_grid1.inset_locator import inset_axes\n",
    "\n",
    "\n",
    "# Regression\n",
    "from sklearn.linear_model import LinearRegression\n",
    "from sklearn.preprocessing import PolynomialFeatures\n",
    "from sklearn.metrics import mean_squared_error\n",
    "from sklearn.model_selection import train_test_split\n",
    "\n",
    "# Network analysis\n",
    "import networkx as nx\n",
    "\n",
    "ROOT_DIR = \"/home/mattia/javier/botbusters-spanish-general-elections-network-analysis/\"\n",
    "\n",
    "# Change path to root\n",
    "os.chdir(ROOT_DIR)\n",
    "\n",
    "# MongoDB parameters\n",
    "mongoclient = MongoClient('localhost', 27017)\n",
    "db = mongoclient.influence"
   ]
  },
  {
   "cell_type": "code",
   "execution_count": 31,
   "metadata": {},
   "outputs": [
    {
     "data": {
      "text/plain": [
       "'2.5'"
      ]
     },
     "execution_count": 31,
     "metadata": {},
     "output_type": "execute_result"
    }
   ],
   "source": [
    "sns.__version__\n",
    "nx.__version__"
   ]
  },
  {
   "cell_type": "markdown",
   "metadata": {},
   "source": [
    "### Support Functions"
   ]
  },
  {
   "cell_type": "code",
   "execution_count": 32,
   "metadata": {},
   "outputs": [],
   "source": [
    "def flatten(d, parent_key='', sep='_'):\n",
    "    \"\"\"Formats MongoDB results\n",
    "    \n",
    "    Keyword arguments:\n",
    "    d -- dictionary with key and uncleaned values\n",
    "    parent_key --\n",
    "    sep --\n",
    "    \"\"\"\n",
    "    items = []\n",
    "    for k, v in d.items():\n",
    "        new_key = parent_key + sep + k if parent_key else k\n",
    "        if isinstance(v, MutableMapping):\n",
    "            items.extend(flatten(v, new_key, sep=sep).items())\n",
    "        else:\n",
    "            items.append((new_key, v))\n",
    "    return dict(items)\n",
    "\n",
    "def make_objid(text):\n",
    "    \"\"\"Makes an ObjectId of 4 bytes\n",
    "    \n",
    "    Keyword arguments:\n",
    "    text -- string to be converted into Object ID\n",
    "    \"\"\"\n",
    "    text = str(text)\n",
    "    if not text.strip():\n",
    "        return None\n",
    "    try:\n",
    "        return ObjectId(text.rjust(24,\"0\"))\n",
    "    except Exception as ex:\n",
    "        print(text, ex)\n",
    "        return None\n",
    "\n",
    "LIMIT=1000000\n",
    "    \n",
    "def get_tweets(collection):\n",
    "    \"\"\"\n",
    "    Gets tweets\n",
    "    \n",
    "    collection - Tweets MongoDB collection\n",
    "    \"\"\"\n",
    "    tweets = list(collection\n",
    "                    .find({'sampled':True},{'_id': False, 'tweet_id': True, 'user_id' : True})\n",
    "                   )\n",
    "    \n",
    "    print(\"Number of tweets:\", len(tweets))\n",
    "    tweets = [flatten(t) for t in tweets]\n",
    "    df_tweets = pd.DataFrame(tweets)\n",
    "    df_tweets.user_id = df_tweets.user_id.apply(lambda t : str(t))\n",
    "    df_tweets.user_id = df_tweets.user_id.astype(str)\n",
    "    df_tweets.rename(columns={'user_id':'tweet_author'},inplace=True)\n",
    "    return df_tweets\n",
    "    \n",
    "    \n",
    "def get_retweets(collection):\n",
    "    \"\"\"\n",
    "    Gets retweets\n",
    "    \n",
    "    collection - Retweets MongoDB collection\n",
    "    \"\"\"\n",
    "    retweets = list(collection\n",
    "                    .find({'sampled':True},{'_id': False, 'tweet_id': True, 'user_id' : True})\n",
    "                    .limit(LIMIT)\n",
    "                   )\n",
    "    \n",
    "    print(\"Number of retweets:\", len(retweets))\n",
    "    retweets = [flatten(r) for r in retweets]\n",
    "    df_retweets = pd.DataFrame(retweets)\n",
    "    df_retweets.user_id = df_retweets.user_id.apply(lambda t : str(t))\n",
    "    df_retweets.user_id = df_retweets.user_id.astype(str)\n",
    "    df_retweets.rename(columns={'user_id':'retweet_author'},inplace=True)\n",
    "    return df_retweets\n",
    "\n",
    "def get_users(collection):\n",
    "    \"\"\"\n",
    "    Gets users\n",
    "    \n",
    "    collection - Users MongoDB collection\n",
    "    \"\"\"\n",
    "    users = list(collection.find({ '$and' : [ { 'sampled': True } , { 'botscore' : { '$gte' : 0 } }]},\n",
    "                                 {'_id' : True, 'botscore' : True})\n",
    "                 #.limit(LIMIT)\n",
    "                )\n",
    "    print(\"Number of sampled users with botscore in DB:\", len(users))\n",
    "    users = [flatten(u) for u in users]\n",
    "    df_users = pd.DataFrame(users)\n",
    "    df_users._id = df_users._id.apply(lambda t : str(t))\n",
    "    df_users._id = df_users._id.astype(str)\n",
    "    return df_users"
   ]
  },
  {
   "cell_type": "markdown",
   "metadata": {},
   "source": [
    "## Data preparation"
   ]
  },
  {
   "cell_type": "markdown",
   "metadata": {},
   "source": [
    "#### Getting tweets from DB..."
   ]
  },
  {
   "cell_type": "code",
   "execution_count": 4,
   "metadata": {},
   "outputs": [
    {
     "name": "stdout",
     "output_type": "stream",
     "text": [
      "Number of tweets: 358190\n"
     ]
    },
    {
     "data": {
      "text/html": [
       "<div>\n",
       "<style scoped>\n",
       "    .dataframe tbody tr th:only-of-type {\n",
       "        vertical-align: middle;\n",
       "    }\n",
       "\n",
       "    .dataframe tbody tr th {\n",
       "        vertical-align: top;\n",
       "    }\n",
       "\n",
       "    .dataframe thead th {\n",
       "        text-align: right;\n",
       "    }\n",
       "</style>\n",
       "<table border=\"1\" class=\"dataframe\">\n",
       "  <thead>\n",
       "    <tr style=\"text-align: right;\">\n",
       "      <th></th>\n",
       "      <th>tweet_author</th>\n",
       "      <th>tweet_id</th>\n",
       "    </tr>\n",
       "  </thead>\n",
       "  <tbody>\n",
       "    <tr>\n",
       "      <th>0</th>\n",
       "      <td>000000000000000279465279</td>\n",
       "      <td>000001191464087064109058</td>\n",
       "    </tr>\n",
       "    <tr>\n",
       "      <th>1</th>\n",
       "      <td>000000000000001266667238</td>\n",
       "      <td>000001192787272975945729</td>\n",
       "    </tr>\n",
       "    <tr>\n",
       "      <th>2</th>\n",
       "      <td>000000000000000331220696</td>\n",
       "      <td>000001191467194519080960</td>\n",
       "    </tr>\n",
       "  </tbody>\n",
       "</table>\n",
       "</div>"
      ],
      "text/plain": [
       "               tweet_author                  tweet_id\n",
       "0  000000000000000279465279  000001191464087064109058\n",
       "1  000000000000001266667238  000001192787272975945729\n",
       "2  000000000000000331220696  000001191467194519080960"
      ]
     },
     "execution_count": 4,
     "metadata": {},
     "output_type": "execute_result"
    }
   ],
   "source": [
    "df_tweets = get_tweets(db.tweets)\n",
    "df_tweets.head(3)"
   ]
  },
  {
   "cell_type": "code",
   "execution_count": 5,
   "metadata": {},
   "outputs": [
    {
     "name": "stdout",
     "output_type": "stream",
     "text": [
      "<class 'pandas.core.frame.DataFrame'>\n",
      "RangeIndex: 358190 entries, 0 to 358189\n",
      "Data columns (total 2 columns):\n",
      " #   Column        Non-Null Count   Dtype \n",
      "---  ------        --------------   ----- \n",
      " 0   tweet_author  358190 non-null  object\n",
      " 1   tweet_id      358190 non-null  object\n",
      "dtypes: object(2)\n",
      "memory usage: 5.5+ MB\n"
     ]
    }
   ],
   "source": [
    "df_tweets[df_tweets.duplicated()].count()\n",
    "df_tweets.info()"
   ]
  },
  {
   "cell_type": "code",
   "execution_count": 6,
   "metadata": {},
   "outputs": [],
   "source": [
    "df_tweets.drop_duplicates(keep='first', inplace=True)"
   ]
  },
  {
   "cell_type": "markdown",
   "metadata": {},
   "source": [
    "#### Getting retweets from DB..."
   ]
  },
  {
   "cell_type": "code",
   "execution_count": 7,
   "metadata": {},
   "outputs": [
    {
     "name": "stdout",
     "output_type": "stream",
     "text": [
      "Number of retweets: 1000000\n"
     ]
    },
    {
     "data": {
      "text/html": [
       "<div>\n",
       "<style scoped>\n",
       "    .dataframe tbody tr th:only-of-type {\n",
       "        vertical-align: middle;\n",
       "    }\n",
       "\n",
       "    .dataframe tbody tr th {\n",
       "        vertical-align: top;\n",
       "    }\n",
       "\n",
       "    .dataframe thead th {\n",
       "        text-align: right;\n",
       "    }\n",
       "</style>\n",
       "<table border=\"1\" class=\"dataframe\">\n",
       "  <thead>\n",
       "    <tr style=\"text-align: right;\">\n",
       "      <th></th>\n",
       "      <th>tweet_id</th>\n",
       "      <th>retweet_author</th>\n",
       "    </tr>\n",
       "  </thead>\n",
       "  <tbody>\n",
       "    <tr>\n",
       "      <th>0</th>\n",
       "      <td>000001193667913368121351</td>\n",
       "      <td>000000000000004460826197</td>\n",
       "    </tr>\n",
       "    <tr>\n",
       "      <th>1</th>\n",
       "      <td>000001192581634291355649</td>\n",
       "      <td>000001075150211725619200</td>\n",
       "    </tr>\n",
       "    <tr>\n",
       "      <th>2</th>\n",
       "      <td>000001190659978471911424</td>\n",
       "      <td>000000000000000071190801</td>\n",
       "    </tr>\n",
       "  </tbody>\n",
       "</table>\n",
       "</div>"
      ],
      "text/plain": [
       "                   tweet_id            retweet_author\n",
       "0  000001193667913368121351  000000000000004460826197\n",
       "1  000001192581634291355649  000001075150211725619200\n",
       "2  000001190659978471911424  000000000000000071190801"
      ]
     },
     "execution_count": 7,
     "metadata": {},
     "output_type": "execute_result"
    }
   ],
   "source": [
    "df_retweets = get_retweets(db.retweets)\n",
    "df_retweets.head(3)"
   ]
  },
  {
   "cell_type": "code",
   "execution_count": 8,
   "metadata": {},
   "outputs": [
    {
     "data": {
      "text/plain": [
       "tweet_id          417\n",
       "retweet_author    417\n",
       "dtype: int64"
      ]
     },
     "execution_count": 8,
     "metadata": {},
     "output_type": "execute_result"
    }
   ],
   "source": [
    "df_retweets[df_retweets.duplicated()].count()"
   ]
  },
  {
   "cell_type": "code",
   "execution_count": 9,
   "metadata": {},
   "outputs": [
    {
     "data": {
      "text/plain": [
       "tweet_id          999583\n",
       "retweet_author    999583\n",
       "dtype: int64"
      ]
     },
     "execution_count": 9,
     "metadata": {},
     "output_type": "execute_result"
    }
   ],
   "source": [
    "df_retweets.drop_duplicates(keep='first', inplace=True)\n",
    "df_retweets.count()"
   ]
  },
  {
   "cell_type": "markdown",
   "metadata": {},
   "source": [
    "#### Getting users from DB..."
   ]
  },
  {
   "cell_type": "code",
   "execution_count": 10,
   "metadata": {},
   "outputs": [
    {
     "name": "stdout",
     "output_type": "stream",
     "text": [
      "Number of sampled users with botscore in DB: 458072\n"
     ]
    },
    {
     "data": {
      "text/html": [
       "<div>\n",
       "<style scoped>\n",
       "    .dataframe tbody tr th:only-of-type {\n",
       "        vertical-align: middle;\n",
       "    }\n",
       "\n",
       "    .dataframe tbody tr th {\n",
       "        vertical-align: top;\n",
       "    }\n",
       "\n",
       "    .dataframe thead th {\n",
       "        text-align: right;\n",
       "    }\n",
       "</style>\n",
       "<table border=\"1\" class=\"dataframe\">\n",
       "  <thead>\n",
       "    <tr style=\"text-align: right;\">\n",
       "      <th></th>\n",
       "      <th>_id</th>\n",
       "      <th>botscore</th>\n",
       "    </tr>\n",
       "  </thead>\n",
       "  <tbody>\n",
       "    <tr>\n",
       "      <th>0</th>\n",
       "      <td>000000000000002266588688</td>\n",
       "      <td>0.16</td>\n",
       "    </tr>\n",
       "    <tr>\n",
       "      <th>1</th>\n",
       "      <td>000000000000000471028961</td>\n",
       "      <td>0.03</td>\n",
       "    </tr>\n",
       "    <tr>\n",
       "      <th>2</th>\n",
       "      <td>000000000000002792368467</td>\n",
       "      <td>0.11</td>\n",
       "    </tr>\n",
       "    <tr>\n",
       "      <th>3</th>\n",
       "      <td>000000000000004068857357</td>\n",
       "      <td>0.01</td>\n",
       "    </tr>\n",
       "    <tr>\n",
       "      <th>4</th>\n",
       "      <td>000000000000000006953012</td>\n",
       "      <td>0.03</td>\n",
       "    </tr>\n",
       "  </tbody>\n",
       "</table>\n",
       "</div>"
      ],
      "text/plain": [
       "                        _id  botscore\n",
       "0  000000000000002266588688      0.16\n",
       "1  000000000000000471028961      0.03\n",
       "2  000000000000002792368467      0.11\n",
       "3  000000000000004068857357      0.01\n",
       "4  000000000000000006953012      0.03"
      ]
     },
     "metadata": {},
     "output_type": "display_data"
    }
   ],
   "source": [
    "users = get_users(db.users)\n",
    "display(users.head(5))"
   ]
  },
  {
   "cell_type": "markdown",
   "metadata": {},
   "source": [
    "#### Building directed-weighted retweet graph..."
   ]
  },
  {
   "cell_type": "code",
   "execution_count": 11,
   "metadata": {},
   "outputs": [
    {
     "data": {
      "text/html": [
       "<div>\n",
       "<style scoped>\n",
       "    .dataframe tbody tr th:only-of-type {\n",
       "        vertical-align: middle;\n",
       "    }\n",
       "\n",
       "    .dataframe tbody tr th {\n",
       "        vertical-align: top;\n",
       "    }\n",
       "\n",
       "    .dataframe thead th {\n",
       "        text-align: right;\n",
       "    }\n",
       "</style>\n",
       "<table border=\"1\" class=\"dataframe\">\n",
       "  <thead>\n",
       "    <tr style=\"text-align: right;\">\n",
       "      <th></th>\n",
       "      <th>retweet_author</th>\n",
       "      <th>tweet_author</th>\n",
       "    </tr>\n",
       "  </thead>\n",
       "  <tbody>\n",
       "    <tr>\n",
       "      <th>0</th>\n",
       "      <td>000000000000001125213258</td>\n",
       "      <td>000000000000000022488241</td>\n",
       "    </tr>\n",
       "    <tr>\n",
       "      <th>1</th>\n",
       "      <td>000000000000000250738602</td>\n",
       "      <td>000000000000000022488241</td>\n",
       "    </tr>\n",
       "    <tr>\n",
       "      <th>2</th>\n",
       "      <td>000000000000000194176051</td>\n",
       "      <td>000000000000000022488241</td>\n",
       "    </tr>\n",
       "    <tr>\n",
       "      <th>3</th>\n",
       "      <td>000000000000000376943216</td>\n",
       "      <td>000000000000000022488241</td>\n",
       "    </tr>\n",
       "    <tr>\n",
       "      <th>4</th>\n",
       "      <td>000001121249610612260865</td>\n",
       "      <td>000000000000000022488241</td>\n",
       "    </tr>\n",
       "  </tbody>\n",
       "</table>\n",
       "</div>"
      ],
      "text/plain": [
       "             retweet_author              tweet_author\n",
       "0  000000000000001125213258  000000000000000022488241\n",
       "1  000000000000000250738602  000000000000000022488241\n",
       "2  000000000000000194176051  000000000000000022488241\n",
       "3  000000000000000376943216  000000000000000022488241\n",
       "4  000001121249610612260865  000000000000000022488241"
      ]
     },
     "execution_count": 11,
     "metadata": {},
     "output_type": "execute_result"
    }
   ],
   "source": [
    "df_edges = df_retweets.set_index('tweet_id').join(df_tweets.set_index('tweet_id')).reset_index(drop=True)\n",
    "df_edges.head(5)"
   ]
  },
  {
   "cell_type": "code",
   "execution_count": 12,
   "metadata": {},
   "outputs": [
    {
     "data": {
      "text/html": [
       "<div>\n",
       "<style scoped>\n",
       "    .dataframe tbody tr th:only-of-type {\n",
       "        vertical-align: middle;\n",
       "    }\n",
       "\n",
       "    .dataframe tbody tr th {\n",
       "        vertical-align: top;\n",
       "    }\n",
       "\n",
       "    .dataframe thead th {\n",
       "        text-align: right;\n",
       "    }\n",
       "</style>\n",
       "<table border=\"1\" class=\"dataframe\">\n",
       "  <thead>\n",
       "    <tr style=\"text-align: right;\">\n",
       "      <th></th>\n",
       "      <th>retweet_author</th>\n",
       "      <th>tweet_author</th>\n",
       "      <th>weight</th>\n",
       "    </tr>\n",
       "  </thead>\n",
       "  <tbody>\n",
       "    <tr>\n",
       "      <th>0</th>\n",
       "      <td>000000000000000000003065</td>\n",
       "      <td>000000000000000016409683</td>\n",
       "      <td>1</td>\n",
       "    </tr>\n",
       "    <tr>\n",
       "      <th>1</th>\n",
       "      <td>000000000000000000003971</td>\n",
       "      <td>000000000000000142395787</td>\n",
       "      <td>1</td>\n",
       "    </tr>\n",
       "    <tr>\n",
       "      <th>2</th>\n",
       "      <td>000000000000000000012864</td>\n",
       "      <td>000000000000000055086343</td>\n",
       "      <td>1</td>\n",
       "    </tr>\n",
       "    <tr>\n",
       "      <th>3</th>\n",
       "      <td>000000000000000000012913</td>\n",
       "      <td>000000000000000198677200</td>\n",
       "      <td>1</td>\n",
       "    </tr>\n",
       "    <tr>\n",
       "      <th>4</th>\n",
       "      <td>000000000000000000013519</td>\n",
       "      <td>000000000000000050333404</td>\n",
       "      <td>1</td>\n",
       "    </tr>\n",
       "  </tbody>\n",
       "</table>\n",
       "</div>"
      ],
      "text/plain": [
       "             retweet_author              tweet_author  weight\n",
       "0  000000000000000000003065  000000000000000016409683       1\n",
       "1  000000000000000000003971  000000000000000142395787       1\n",
       "2  000000000000000000012864  000000000000000055086343       1\n",
       "3  000000000000000000012913  000000000000000198677200       1\n",
       "4  000000000000000000013519  000000000000000050333404       1"
      ]
     },
     "execution_count": 12,
     "metadata": {},
     "output_type": "execute_result"
    }
   ],
   "source": [
    "df_edges = df_edges.groupby(['retweet_author','tweet_author']).size().reset_index().rename(columns={0:'weight'})\n",
    "df_edges.head(5)"
   ]
  },
  {
   "cell_type": "code",
   "execution_count": 13,
   "metadata": {},
   "outputs": [
    {
     "name": "stdout",
     "output_type": "stream",
     "text": [
      "Users with botscore: 222555\n",
      "Retweets without botscore: 924022\n",
      "Retweets with botscore: 564212\n"
     ]
    }
   ],
   "source": [
    "implicated_users = []\n",
    "implicated_users = list(set(list(df_edges.retweet_author.unique()) + list(df_edges.tweet_author.unique())))\n",
    "#print(\"Implicated users:\", len(implicated_users))\n",
    "\n",
    "df_users = users[users._id.isin(implicated_users)]\n",
    "print(\"Users with botscore:\", len(df_users))\n",
    "\n",
    "print(\"Retweets without botscore:\", len(df_edges))\n",
    "df_edges = df_edges[(df_edges.retweet_author.isin(df_users._id)) & (df_edges.tweet_author.isin(df_users._id))]\n",
    "print(\"Retweets with botscore:\", len(df_edges))"
   ]
  },
  {
   "cell_type": "code",
   "execution_count": 14,
   "metadata": {},
   "outputs": [],
   "source": [
    "G = nx.from_pandas_edgelist(df=df_edges, source='tweet_author', target='retweet_author', edge_attr='weight', create_using=nx.DiGraph)"
   ]
  },
  {
   "cell_type": "code",
   "execution_count": 15,
   "metadata": {},
   "outputs": [],
   "source": [
    "node_attr = df_users.set_index('_id').to_dict('index')\n",
    "nx.set_node_attributes(G, node_attr)"
   ]
  },
  {
   "cell_type": "code",
   "execution_count": 16,
   "metadata": {},
   "outputs": [],
   "source": [
    "nx.write_graphml(G, \"graphs/1.general-network.graphml\")"
   ]
  },
  {
   "cell_type": "markdown",
   "metadata": {},
   "source": [
    "## 1. Botscore distribution"
   ]
  },
  {
   "cell_type": "code",
   "execution_count": 15,
   "metadata": {},
   "outputs": [
    {
     "name": "stdout",
     "output_type": "stream",
     "text": [
      "0.17\n",
      "0.34\n"
     ]
    },
    {
     "data": {
      "image/png": "[encoded data removed]",
      "text/plain": [
       "<Figure size 720x288 with 1 Axes>"
      ]
     },
     "metadata": {},
     "output_type": "display_data"
    }
   ],
   "source": [
    "fig, axs = plt.subplots(1, 1, figsize=(10,4))\n",
    "palette = sns.diverging_palette(133, 10, as_cmap=True)\n",
    "\n",
    "h = sns.histplot(users.botscore, \n",
    "                 #bins=40,\n",
    "                 #hist=False, \n",
    "                 #kde=True,  \n",
    "                 element=\"poly\",\n",
    "                 cumulative=True,\n",
    "                 palette=palette,\n",
    "                 cbar=True\n",
    "                )\n",
    "\n",
    "h.set_ylabel(fontsize=\"small\", ylabel='Cumulative number of accounts')\n",
    "h.set_xlabel(fontsize=\"small\", xlabel='User\\'s Botscore')\n",
    "\n",
    "# vertical lines for percentiles\n",
    "h_ylims = h.get_ylim()\n",
    "prs = [70,90]\n",
    "ps = np.percentile(a=users.botscore, q=prs, interpolation='lower')\n",
    "\n",
    "for pr,p in zip(prs,ps):\n",
    "    print(p)\n",
    "    label = str(pr) + \"th Perc.\"\n",
    "    h.vlines(x=p, ymin=h_ylims[0], ymax=h_ylims[1], linewidth = 2, label=label, linestyles='dotted')\n",
    "    text(x=p+0.01, y=h_ylims[1], s= str(p), verticalalignment='center')\n",
    "    \n",
    "\n",
    "    \n",
    "# common legend\n",
    "h.legend(loc=\"upper right\")\n",
    "\n",
    "fig.suptitle(\"Botscore distribution\", y=1.01)\n",
    "plt.tight_layout()\n",
    "\n",
    "#plt.savefig(\"images/distribution.svg\")\n",
    "plt.show()"
   ]
  },
  {
   "cell_type": "markdown",
   "metadata": {},
   "source": [
    "## 2. Graph properties"
   ]
  },
  {
   "cell_type": "markdown",
   "metadata": {},
   "source": [
    "#### Three situations to compare. We sort users in ascending order of botscore:\n",
    "##### 1. users < 70th percentile (legitimate network)\n",
    "##### 2. users < 90th (shady network)\n",
    "##### 3. all network (bot-interfered network)"
   ]
  },
  {
   "cell_type": "code",
   "execution_count": 31,
   "metadata": {},
   "outputs": [
    {
     "name": "stdout",
     "output_type": "stream",
     "text": [
      "Network 70%\n",
      "--------------\n",
      "Name: \n",
      "Type: DiGraph\n",
      "Number of nodes: 133308\n",
      "Number of edges: 281885\n",
      "Average in degree:   2.1145\n",
      "Average out degree:   2.1145\n"
     ]
    },
    {
     "data": {
      "text/html": [
       "<div>\n",
       "<style scoped>\n",
       "    .dataframe tbody tr th:only-of-type {\n",
       "        vertical-align: middle;\n",
       "    }\n",
       "\n",
       "    .dataframe tbody tr th {\n",
       "        vertical-align: top;\n",
       "    }\n",
       "\n",
       "    .dataframe thead th {\n",
       "        text-align: right;\n",
       "    }\n",
       "</style>\n",
       "<table border=\"1\" class=\"dataframe\">\n",
       "  <thead>\n",
       "    <tr style=\"text-align: right;\">\n",
       "      <th></th>\n",
       "      <th>out-degree</th>\n",
       "      <th>in-degree</th>\n",
       "      <th>out-strenght</th>\n",
       "      <th>in-strenght</th>\n",
       "      <th>eigenvector</th>\n",
       "      <th>closeness</th>\n",
       "    </tr>\n",
       "  </thead>\n",
       "  <tbody>\n",
       "    <tr>\n",
       "      <th>count</th>\n",
       "      <td>133308.000000</td>\n",
       "      <td>133308.000000</td>\n",
       "      <td>133308.000000</td>\n",
       "      <td>133308.000000</td>\n",
       "      <td>1.333080e+05</td>\n",
       "      <td>133308.000000</td>\n",
       "    </tr>\n",
       "    <tr>\n",
       "      <th>mean</th>\n",
       "      <td>2.114539</td>\n",
       "      <td>2.114539</td>\n",
       "      <td>2.329815</td>\n",
       "      <td>2.329815</td>\n",
       "      <td>2.388727e-04</td>\n",
       "      <td>0.000351</td>\n",
       "    </tr>\n",
       "    <tr>\n",
       "      <th>std</th>\n",
       "      <td>37.516182</td>\n",
       "      <td>3.072212</td>\n",
       "      <td>46.647824</td>\n",
       "      <td>3.965869</td>\n",
       "      <td>2.728447e-03</td>\n",
       "      <td>0.000494</td>\n",
       "    </tr>\n",
       "    <tr>\n",
       "      <th>min</th>\n",
       "      <td>0.000000</td>\n",
       "      <td>0.000000</td>\n",
       "      <td>0.000000</td>\n",
       "      <td>0.000000</td>\n",
       "      <td>1.349189e-43</td>\n",
       "      <td>0.000000</td>\n",
       "    </tr>\n",
       "    <tr>\n",
       "      <th>25%</th>\n",
       "      <td>0.000000</td>\n",
       "      <td>1.000000</td>\n",
       "      <td>0.000000</td>\n",
       "      <td>1.000000</td>\n",
       "      <td>4.991998e-42</td>\n",
       "      <td>0.000008</td>\n",
       "    </tr>\n",
       "    <tr>\n",
       "      <th>50%</th>\n",
       "      <td>0.000000</td>\n",
       "      <td>1.000000</td>\n",
       "      <td>0.000000</td>\n",
       "      <td>1.000000</td>\n",
       "      <td>1.053311e-39</td>\n",
       "      <td>0.000015</td>\n",
       "    </tr>\n",
       "    <tr>\n",
       "      <th>75%</th>\n",
       "      <td>0.000000</td>\n",
       "      <td>2.000000</td>\n",
       "      <td>0.000000</td>\n",
       "      <td>2.000000</td>\n",
       "      <td>3.493174e-14</td>\n",
       "      <td>0.000861</td>\n",
       "    </tr>\n",
       "    <tr>\n",
       "      <th>max</th>\n",
       "      <td>3110.000000</td>\n",
       "      <td>87.000000</td>\n",
       "      <td>5053.000000</td>\n",
       "      <td>138.000000</td>\n",
       "      <td>2.813710e-01</td>\n",
       "      <td>0.002471</td>\n",
       "    </tr>\n",
       "  </tbody>\n",
       "</table>\n",
       "</div>"
      ],
      "text/plain": [
       "          out-degree      in-degree   out-strenght    in-strenght  \\\n",
       "count  133308.000000  133308.000000  133308.000000  133308.000000   \n",
       "mean        2.114539       2.114539       2.329815       2.329815   \n",
       "std        37.516182       3.072212      46.647824       3.965869   \n",
       "min         0.000000       0.000000       0.000000       0.000000   \n",
       "25%         0.000000       1.000000       0.000000       1.000000   \n",
       "50%         0.000000       1.000000       0.000000       1.000000   \n",
       "75%         0.000000       2.000000       0.000000       2.000000   \n",
       "max      3110.000000      87.000000    5053.000000     138.000000   \n",
       "\n",
       "        eigenvector      closeness  \n",
       "count  1.333080e+05  133308.000000  \n",
       "mean   2.388727e-04       0.000351  \n",
       "std    2.728447e-03       0.000494  \n",
       "min    1.349189e-43       0.000000  \n",
       "25%    4.991998e-42       0.000008  \n",
       "50%    1.053311e-39       0.000015  \n",
       "75%    3.493174e-14       0.000861  \n",
       "max    2.813710e-01       0.002471  "
      ]
     },
     "metadata": {},
     "output_type": "display_data"
    },
    {
     "name": "stdout",
     "output_type": "stream",
     "text": [
      "\n",
      "Network 90%\n",
      "--------------\n",
      "Name: \n",
      "Type: DiGraph\n",
      "Number of nodes: 178200\n",
      "Number of edges: 476334\n",
      "Average in degree:   2.6730\n",
      "Average out degree:   2.6730\n"
     ]
    },
    {
     "data": {
      "text/html": [
       "<div>\n",
       "<style scoped>\n",
       "    .dataframe tbody tr th:only-of-type {\n",
       "        vertical-align: middle;\n",
       "    }\n",
       "\n",
       "    .dataframe tbody tr th {\n",
       "        vertical-align: top;\n",
       "    }\n",
       "\n",
       "    .dataframe thead th {\n",
       "        text-align: right;\n",
       "    }\n",
       "</style>\n",
       "<table border=\"1\" class=\"dataframe\">\n",
       "  <thead>\n",
       "    <tr style=\"text-align: right;\">\n",
       "      <th></th>\n",
       "      <th>out-degree</th>\n",
       "      <th>in-degree</th>\n",
       "      <th>out-strenght</th>\n",
       "      <th>in-strenght</th>\n",
       "      <th>eigenvector</th>\n",
       "      <th>closeness</th>\n",
       "    </tr>\n",
       "  </thead>\n",
       "  <tbody>\n",
       "    <tr>\n",
       "      <th>count</th>\n",
       "      <td>178200.000000</td>\n",
       "      <td>178200.000000</td>\n",
       "      <td>178200.000000</td>\n",
       "      <td>178200.000000</td>\n",
       "      <td>1.782000e+05</td>\n",
       "      <td>178200.000000</td>\n",
       "    </tr>\n",
       "    <tr>\n",
       "      <th>mean</th>\n",
       "      <td>2.673030</td>\n",
       "      <td>2.673030</td>\n",
       "      <td>2.941852</td>\n",
       "      <td>2.941852</td>\n",
       "      <td>1.836725e-04</td>\n",
       "      <td>0.000761</td>\n",
       "    </tr>\n",
       "    <tr>\n",
       "      <th>std</th>\n",
       "      <td>48.106122</td>\n",
       "      <td>4.214797</td>\n",
       "      <td>59.905045</td>\n",
       "      <td>5.371112</td>\n",
       "      <td>2.361772e-03</td>\n",
       "      <td>0.000957</td>\n",
       "    </tr>\n",
       "    <tr>\n",
       "      <th>min</th>\n",
       "      <td>0.000000</td>\n",
       "      <td>0.000000</td>\n",
       "      <td>0.000000</td>\n",
       "      <td>0.000000</td>\n",
       "      <td>1.331193e-49</td>\n",
       "      <td>0.000000</td>\n",
       "    </tr>\n",
       "    <tr>\n",
       "      <th>25%</th>\n",
       "      <td>0.000000</td>\n",
       "      <td>1.000000</td>\n",
       "      <td>0.000000</td>\n",
       "      <td>1.000000</td>\n",
       "      <td>5.324770e-48</td>\n",
       "      <td>0.000006</td>\n",
       "    </tr>\n",
       "    <tr>\n",
       "      <th>50%</th>\n",
       "      <td>0.000000</td>\n",
       "      <td>1.000000</td>\n",
       "      <td>0.000000</td>\n",
       "      <td>1.000000</td>\n",
       "      <td>1.463662e-37</td>\n",
       "      <td>0.000019</td>\n",
       "    </tr>\n",
       "    <tr>\n",
       "      <th>75%</th>\n",
       "      <td>0.000000</td>\n",
       "      <td>3.000000</td>\n",
       "      <td>0.000000</td>\n",
       "      <td>3.000000</td>\n",
       "      <td>1.190613e-08</td>\n",
       "      <td>0.001772</td>\n",
       "    </tr>\n",
       "    <tr>\n",
       "      <th>max</th>\n",
       "      <td>4591.000000</td>\n",
       "      <td>161.000000</td>\n",
       "      <td>7493.000000</td>\n",
       "      <td>229.000000</td>\n",
       "      <td>3.161184e-01</td>\n",
       "      <td>0.004003</td>\n",
       "    </tr>\n",
       "  </tbody>\n",
       "</table>\n",
       "</div>"
      ],
      "text/plain": [
       "          out-degree      in-degree   out-strenght    in-strenght  \\\n",
       "count  178200.000000  178200.000000  178200.000000  178200.000000   \n",
       "mean        2.673030       2.673030       2.941852       2.941852   \n",
       "std        48.106122       4.214797      59.905045       5.371112   \n",
       "min         0.000000       0.000000       0.000000       0.000000   \n",
       "25%         0.000000       1.000000       0.000000       1.000000   \n",
       "50%         0.000000       1.000000       0.000000       1.000000   \n",
       "75%         0.000000       3.000000       0.000000       3.000000   \n",
       "max      4591.000000     161.000000    7493.000000     229.000000   \n",
       "\n",
       "        eigenvector      closeness  \n",
       "count  1.782000e+05  178200.000000  \n",
       "mean   1.836725e-04       0.000761  \n",
       "std    2.361772e-03       0.000957  \n",
       "min    1.331193e-49       0.000000  \n",
       "25%    5.324770e-48       0.000006  \n",
       "50%    1.463662e-37       0.000019  \n",
       "75%    1.190613e-08       0.001772  \n",
       "max    3.161184e-01       0.004003  "
      ]
     },
     "metadata": {},
     "output_type": "display_data"
    },
    {
     "name": "stdout",
     "output_type": "stream",
     "text": [
      "\n",
      "Network 100%\n",
      "--------------\n",
      "Name: \n",
      "Type: DiGraph\n",
      "Number of nodes: 197289\n",
      "Number of edges: 564212\n",
      "Average in degree:   2.8598\n",
      "Average out degree:   2.8598\n"
     ]
    },
    {
     "data": {
      "text/html": [
       "<div>\n",
       "<style scoped>\n",
       "    .dataframe tbody tr th:only-of-type {\n",
       "        vertical-align: middle;\n",
       "    }\n",
       "\n",
       "    .dataframe tbody tr th {\n",
       "        vertical-align: top;\n",
       "    }\n",
       "\n",
       "    .dataframe thead th {\n",
       "        text-align: right;\n",
       "    }\n",
       "</style>\n",
       "<table border=\"1\" class=\"dataframe\">\n",
       "  <thead>\n",
       "    <tr style=\"text-align: right;\">\n",
       "      <th></th>\n",
       "      <th>out-degree</th>\n",
       "      <th>in-degree</th>\n",
       "      <th>out-strenght</th>\n",
       "      <th>in-strenght</th>\n",
       "      <th>eigenvector</th>\n",
       "      <th>closeness</th>\n",
       "    </tr>\n",
       "  </thead>\n",
       "  <tbody>\n",
       "    <tr>\n",
       "      <th>count</th>\n",
       "      <td>197289.000000</td>\n",
       "      <td>197289.000000</td>\n",
       "      <td>197289.000000</td>\n",
       "      <td>197289.000000</td>\n",
       "      <td>1.972890e+05</td>\n",
       "      <td>197289.000000</td>\n",
       "    </tr>\n",
       "    <tr>\n",
       "      <th>mean</th>\n",
       "      <td>2.859825</td>\n",
       "      <td>2.859825</td>\n",
       "      <td>3.143145</td>\n",
       "      <td>3.143145</td>\n",
       "      <td>2.102814e-04</td>\n",
       "      <td>0.001072</td>\n",
       "    </tr>\n",
       "    <tr>\n",
       "      <th>std</th>\n",
       "      <td>51.156131</td>\n",
       "      <td>4.792913</td>\n",
       "      <td>63.625928</td>\n",
       "      <td>6.083669</td>\n",
       "      <td>2.241543e-03</td>\n",
       "      <td>0.001240</td>\n",
       "    </tr>\n",
       "    <tr>\n",
       "      <th>min</th>\n",
       "      <td>0.000000</td>\n",
       "      <td>0.000000</td>\n",
       "      <td>0.000000</td>\n",
       "      <td>0.000000</td>\n",
       "      <td>2.313000e-32</td>\n",
       "      <td>0.000000</td>\n",
       "    </tr>\n",
       "    <tr>\n",
       "      <th>25%</th>\n",
       "      <td>0.000000</td>\n",
       "      <td>1.000000</td>\n",
       "      <td>0.000000</td>\n",
       "      <td>1.000000</td>\n",
       "      <td>5.319899e-31</td>\n",
       "      <td>0.000005</td>\n",
       "    </tr>\n",
       "    <tr>\n",
       "      <th>50%</th>\n",
       "      <td>0.000000</td>\n",
       "      <td>1.000000</td>\n",
       "      <td>0.000000</td>\n",
       "      <td>1.000000</td>\n",
       "      <td>1.260241e-24</td>\n",
       "      <td>0.000020</td>\n",
       "    </tr>\n",
       "    <tr>\n",
       "      <th>75%</th>\n",
       "      <td>0.000000</td>\n",
       "      <td>3.000000</td>\n",
       "      <td>0.000000</td>\n",
       "      <td>3.000000</td>\n",
       "      <td>1.510381e-07</td>\n",
       "      <td>0.002339</td>\n",
       "    </tr>\n",
       "    <tr>\n",
       "      <th>max</th>\n",
       "      <td>5184.000000</td>\n",
       "      <td>209.000000</td>\n",
       "      <td>8414.000000</td>\n",
       "      <td>365.000000</td>\n",
       "      <td>2.017697e-01</td>\n",
       "      <td>0.004806</td>\n",
       "    </tr>\n",
       "  </tbody>\n",
       "</table>\n",
       "</div>"
      ],
      "text/plain": [
       "          out-degree      in-degree   out-strenght    in-strenght  \\\n",
       "count  197289.000000  197289.000000  197289.000000  197289.000000   \n",
       "mean        2.859825       2.859825       3.143145       3.143145   \n",
       "std        51.156131       4.792913      63.625928       6.083669   \n",
       "min         0.000000       0.000000       0.000000       0.000000   \n",
       "25%         0.000000       1.000000       0.000000       1.000000   \n",
       "50%         0.000000       1.000000       0.000000       1.000000   \n",
       "75%         0.000000       3.000000       0.000000       3.000000   \n",
       "max      5184.000000     209.000000    8414.000000     365.000000   \n",
       "\n",
       "        eigenvector      closeness  \n",
       "count  1.972890e+05  197289.000000  \n",
       "mean   2.102814e-04       0.001072  \n",
       "std    2.241543e-03       0.001240  \n",
       "min    2.313000e-32       0.000000  \n",
       "25%    5.319899e-31       0.000005  \n",
       "50%    1.260241e-24       0.000020  \n",
       "75%    1.510381e-07       0.002339  \n",
       "max    2.017697e-01       0.004806  "
      ]
     },
     "metadata": {},
     "output_type": "display_data"
    },
    {
     "name": "stdout",
     "output_type": "stream",
     "text": [
      "\n",
      "CPU times: user 32min 50s, sys: 3.43 s, total: 32min 53s\n",
      "Wall time: 32min 53s\n"
     ]
    }
   ],
   "source": [
    "%%time\n",
    "\n",
    "df = pd.DataFrame()\n",
    "\n",
    "prs = [70,90]\n",
    "ps = np.percentile(a=users.botscore, q=prs, interpolation='lower')\n",
    "\n",
    "percentile = {70: ps[0],\n",
    "              90: ps[1],\n",
    "              100: 1.01}\n",
    "\n",
    "for percentage in [70, 90, 100]:\n",
    "    print(\"Network \" + str(percentage) +\"%\")\n",
    "    print(\"--------------\")\n",
    "    \n",
    "    nodes = (\n",
    "        node\n",
    "        for node, data\n",
    "        in G.nodes(data=True)\n",
    "        if data.get(\"botscore\") < percentile[percentage] and data.get(\"botscore\") >= 0\n",
    "    )\n",
    "\n",
    "    H = G.subgraph(nodes)\n",
    "    \n",
    "    print(nx.info(H))\n",
    "    df_percentile = pd.DataFrame.from_dict({'out-degree':list(dict(H.out_degree()).values()),\n",
    "                                      'in-degree':list(dict(H.in_degree()).values()),\n",
    "                                      'out-strenght':list(dict(H.out_degree(weight='weight')).values()),\n",
    "                                      'in-strenght':list(dict(H.in_degree(weight='weight')).values()),\n",
    "                                      'eigenvector':list(dict(nx.eigenvector_centrality(H, weight='weight')).values()),\n",
    "                                      'closeness':list(dict(nx.closeness_centrality(H)).values())\n",
    "                                     },\n",
    "                                      orient='columns')\n",
    "    \n",
    "    display(df_percentile.describe())\n",
    "    \n",
    "    df_percentile['network'] = str(percentage)+'%'\n",
    "    \n",
    "    if percentage == 70:\n",
    "        df = df_percentile\n",
    "    else:\n",
    "        df = df.append(df_percentile, ignore_index=True)\n",
    "    \n",
    "    print()"
   ]
  },
  {
   "cell_type": "code",
   "execution_count": 32,
   "metadata": {},
   "outputs": [
    {
     "data": {
      "image/png": "[encoded data removed]",
      "text/plain": [
       "<Figure size 1080x576 with 6 Axes>"
      ]
     },
     "metadata": {},
     "output_type": "display_data"
    }
   ],
   "source": [
    "rows = 3\n",
    "columns = 2\n",
    "\n",
    "fig, axs = plt.subplots(rows, columns, figsize=(15,8))\n",
    "\n",
    "row=0\n",
    "column=0\n",
    "for cat in ['out-degree','in-degree','out-strenght','in-strenght', 'eigenvector', 'closeness']:\n",
    "    ax = axs[row][column]\n",
    "    ax = sns.boxenplot(data=df,\n",
    "                       x='network',\n",
    "                       y=cat,\n",
    "                       order=['70%','90%','100%'],\n",
    "                       ax=ax,\n",
    "                       showfliers=False,\n",
    "                       dodge=False,\n",
    "                       k_depth=6,\n",
    "                       scale='linear'\n",
    "                    )\n",
    "    \n",
    "    column=(column+1)%columns\n",
    "    if column==0:\n",
    "        row=row+1"
   ]
  },
  {
   "cell_type": "markdown",
   "metadata": {},
   "source": [
    "### 3. Graph properties per botscore"
   ]
  },
  {
   "cell_type": "code",
   "execution_count": 17,
   "metadata": {},
   "outputs": [
    {
     "name": "stdout",
     "output_type": "stream",
     "text": [
      "CPU times: user 16min 37s, sys: 2.19 s, total: 16min 39s\n",
      "Wall time: 16min 39s\n"
     ]
    },
    {
     "data": {
      "text/html": [
       "<div>\n",
       "<style scoped>\n",
       "    .dataframe tbody tr th:only-of-type {\n",
       "        vertical-align: middle;\n",
       "    }\n",
       "\n",
       "    .dataframe tbody tr th {\n",
       "        vertical-align: top;\n",
       "    }\n",
       "\n",
       "    .dataframe thead th {\n",
       "        text-align: right;\n",
       "    }\n",
       "</style>\n",
       "<table border=\"1\" class=\"dataframe\">\n",
       "  <thead>\n",
       "    <tr style=\"text-align: right;\">\n",
       "      <th></th>\n",
       "      <th>out-degree</th>\n",
       "      <th>in-degree</th>\n",
       "      <th>out-strenght</th>\n",
       "      <th>in-strenght</th>\n",
       "      <th>eigenvector</th>\n",
       "      <th>closeness</th>\n",
       "      <th>botscore</th>\n",
       "    </tr>\n",
       "  </thead>\n",
       "  <tbody>\n",
       "    <tr>\n",
       "      <th>0</th>\n",
       "      <td>4</td>\n",
       "      <td>0</td>\n",
       "      <td>4</td>\n",
       "      <td>0</td>\n",
       "      <td>2.313000e-32</td>\n",
       "      <td>0.000000</td>\n",
       "      <td>0.18</td>\n",
       "    </tr>\n",
       "    <tr>\n",
       "      <th>1</th>\n",
       "      <td>0</td>\n",
       "      <td>1</td>\n",
       "      <td>0</td>\n",
       "      <td>1</td>\n",
       "      <td>5.319899e-31</td>\n",
       "      <td>0.000005</td>\n",
       "      <td>0.12</td>\n",
       "    </tr>\n",
       "    <tr>\n",
       "      <th>2</th>\n",
       "      <td>111</td>\n",
       "      <td>0</td>\n",
       "      <td>111</td>\n",
       "      <td>0</td>\n",
       "      <td>2.313000e-32</td>\n",
       "      <td>0.000000</td>\n",
       "      <td>0.01</td>\n",
       "    </tr>\n",
       "    <tr>\n",
       "      <th>3</th>\n",
       "      <td>0</td>\n",
       "      <td>1</td>\n",
       "      <td>0</td>\n",
       "      <td>1</td>\n",
       "      <td>5.319899e-31</td>\n",
       "      <td>0.000005</td>\n",
       "      <td>0.06</td>\n",
       "    </tr>\n",
       "    <tr>\n",
       "      <th>4</th>\n",
       "      <td>106</td>\n",
       "      <td>0</td>\n",
       "      <td>106</td>\n",
       "      <td>0</td>\n",
       "      <td>2.313000e-32</td>\n",
       "      <td>0.000000</td>\n",
       "      <td>0.32</td>\n",
       "    </tr>\n",
       "  </tbody>\n",
       "</table>\n",
       "</div>"
      ],
      "text/plain": [
       "   out-degree  in-degree  out-strenght  in-strenght   eigenvector  closeness  \\\n",
       "0           4          0             4            0  2.313000e-32   0.000000   \n",
       "1           0          1             0            1  5.319899e-31   0.000005   \n",
       "2         111          0           111            0  2.313000e-32   0.000000   \n",
       "3           0          1             0            1  5.319899e-31   0.000005   \n",
       "4         106          0           106            0  2.313000e-32   0.000000   \n",
       "\n",
       "   botscore  \n",
       "0      0.18  \n",
       "1      0.12  \n",
       "2      0.01  \n",
       "3      0.06  \n",
       "4      0.32  "
      ]
     },
     "execution_count": 17,
     "metadata": {},
     "output_type": "execute_result"
    }
   ],
   "source": [
    "%%time\n",
    "\n",
    "nodes = (\n",
    "    node\n",
    "    for node, data\n",
    "    in G.nodes(data=True)\n",
    "    if data.get(\"botscore\") <= 1 and data.get(\"botscore\") >= 0\n",
    ")\n",
    "\n",
    "H = G.subgraph(nodes)\n",
    "\n",
    "df_all = pd.DataFrame.from_dict({'out-degree':list(dict(H.out_degree()).values()),\n",
    "                                  'in-degree':list(dict(H.in_degree()).values()),\n",
    "                                  'out-strenght':list(dict(H.out_degree(weight='weight')).values()),\n",
    "                                  'in-strenght':list(dict(H.in_degree(weight='weight')).values()),\n",
    "                                  'eigenvector':list(dict(nx.eigenvector_centrality(H, weight='weight')).values()),\n",
    "                                  'closeness':list(dict(nx.closeness_centrality(H)).values()),\n",
    "                                  'botscore':list(dict(H.nodes(data='botscore')).values()),\n",
    "                                 },\n",
    "                                  orient='columns')\n",
    "df_all.head()"
   ]
  },
  {
   "cell_type": "code",
   "execution_count": 18,
   "metadata": {},
   "outputs": [
    {
     "name": "stdout",
     "output_type": "stream",
     "text": [
      "0.0 60006\n",
      "0.1 63803\n",
      "0.2 39113\n",
      "0.3 16754\n",
      "0.4 10910\n",
      "0.5 4056\n",
      "0.6 1673\n",
      "0.7 518\n",
      "0.8 367\n",
      "0.9 83\n",
      "1.0 6\n"
     ]
    }
   ],
   "source": [
    "BINS=20\n",
    "\n",
    "rows = 3\n",
    "columns = 2\n",
    "\n",
    "## balance dataset for regression\n",
    "df_balanced=df_all\n",
    "df_balanced['botscore']=df_balanced['botscore'].round(decimals=1)\n",
    "max_size = df_balanced['botscore'].value_counts().max()\n",
    "lst = [df_balanced]\n",
    "\n",
    "for botscore, botscore_group in df_balanced.groupby('botscore'):\n",
    "    print(botscore, len(botscore_group))\n",
    "    lst.append(botscore_group.sample(max_size-len(botscore_group), replace=True))\n",
    "    \n",
    "df_balanced = pd.concat(lst, ignore_index=True).reset_index(drop=True)"
   ]
  },
  {
   "cell_type": "code",
   "execution_count": 29,
   "metadata": {},
   "outputs": [
    {
     "name": "stdout",
     "output_type": "stream",
     "text": [
      "CPU times: user 1h 49min 49s, sys: 7min 36s, total: 1h 57min 25s\n",
      "Wall time: 6min 35s\n"
     ]
    },
    {
     "data": {
      "image/png": "[encoded data removed]",
      "text/plain": [
       "<Figure size 1080x576 with 6 Axes>"
      ]
     },
     "metadata": {},
     "output_type": "display_data"
    }
   ],
   "source": [
    "%%time\n",
    "fig, axs = plt.subplots(rows, columns, figsize=(15,8))\n",
    "\n",
    "row=0\n",
    "column=0\n",
    "for cat in ['out-degree','in-degree','out-strenght','in-strenght', 'eigenvector', 'closeness']:\n",
    "    \n",
    "    ax = axs[row][column]\n",
    "\n",
    "    ## plot regression\n",
    "    \n",
    "    ax = sns.regplot(x='botscore',\n",
    "            y=cat,\n",
    "            x_bins=100,\n",
    "            #data=df_all,\n",
    "            data=df_balanced.sample(frac=.1),\n",
    "            scatter_kws = {'color': 'b', 's':12},\n",
    "            line_kws = {'color': '#CCCC00'},\n",
    "            ax = ax,\n",
    "            order=5\n",
    "            )\n",
    "    \n",
    "    column=(column+1)%columns\n",
    "    if column==0:\n",
    "        row=row+1\n",
    "    \n",
    "    fig.suptitle(\"Average network properties per botscore\", y=1.01)\n",
    "    plt.tight_layout()\n",
    "\n",
    "    #break"
   ]
  },
  {
   "cell_type": "code",
   "execution_count": null,
   "metadata": {},
   "outputs": [],
   "source": []
  }
 ],
 "metadata": {
  "kernelspec": {
   "display_name": "Python 3",
   "language": "python",
   "name": "python3"
  },
  "language_info": {
   "codemirror_mode": {
    "name": "ipython",
    "version": 3
   },
   "file_extension": ".py",
   "mimetype": "text/x-python",
   "name": "python",
   "nbconvert_exporter": "python",
   "pygments_lexer": "ipython3",
   "version": "3.7.4"
  }
 },
 "nbformat": 4,
 "nbformat_minor": 4
}
