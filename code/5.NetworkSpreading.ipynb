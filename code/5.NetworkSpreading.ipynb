{
 "cells": [
  {
   "cell_type": "markdown",
   "metadata": {},
   "source": [
    "## Configuration"
   ]
  },
  {
   "cell_type": "markdown",
   "metadata": {},
   "source": [
    "### Imports"
   ]
  },
  {
   "cell_type": "code",
   "execution_count": 1,
   "metadata": {},
   "outputs": [],
   "source": [
    "# Utilities\n",
    "from IPython.display import display\n",
    "import os\n",
    "import numpy as np\n",
    "import time\n",
    "import pandas as pd\n",
    "from fastprogress import master_bar, progress_bar\n",
    "\n",
    "# MongoDB functionality\n",
    "from pymongo import MongoClient, InsertOne, UpdateOne\n",
    "from bson import ObjectId\n",
    "from collections.abc import MutableMapping\n",
    "\n",
    "# Graphics\n",
    "import matplotlib.pyplot as plt\n",
    "from matplotlib.pyplot import text\n",
    "import seaborn as sns\n",
    "sns.set(font_scale=1.4)\n",
    "sns.set_style(\"whitegrid\")\n",
    "sns.set_style({'font.family':'monospace'})\n",
    "from mpl_toolkits.axes_grid1.inset_locator import inset_axes\n",
    "\n",
    "\n",
    "# Network analysis\n",
    "import networkx as nx\n",
    "import graph_tool.all as gt\n",
    "\n",
    "ROOT_DIR = \"/home/mattia/javier/botbusters-spanish-general-elections-network-analysis/\"\n",
    "\n",
    "# Change path to root\n",
    "os.chdir(ROOT_DIR)\n",
    "\n",
    "# MongoDB parameters\n",
    "mongoclient = MongoClient('localhost', 27017)\n",
    "db = mongoclient.influence"
   ]
  },
  {
   "cell_type": "markdown",
   "metadata": {},
   "source": [
    "### Support Functions"
   ]
  },
  {
   "cell_type": "code",
   "execution_count": 2,
   "metadata": {},
   "outputs": [],
   "source": [
    "def flatten(d, parent_key='', sep='_'):\n",
    "    \"\"\"Formats MongoDB results\n",
    "    \n",
    "    Keyword arguments:\n",
    "    d -- dictionary with key and uncleaned values\n",
    "    parent_key --\n",
    "    sep --\n",
    "    \"\"\"\n",
    "    items = []\n",
    "    for k, v in d.items():\n",
    "        new_key = parent_key + sep + k if parent_key else k\n",
    "        if isinstance(v, MutableMapping):\n",
    "            items.extend(flatten(v, new_key, sep=sep).items())\n",
    "        else:\n",
    "            items.append((new_key, v))\n",
    "    return dict(items)\n",
    "\n",
    "def make_objid(text):\n",
    "    \"\"\"Makes an ObjectId of 4 bytes\n",
    "    \n",
    "    Keyword arguments:\n",
    "    text -- string to be converted into Object ID\n",
    "    \"\"\"\n",
    "    text = str(text)\n",
    "    if not text.strip():\n",
    "        return None\n",
    "    try:\n",
    "        return ObjectId(text.rjust(24,\"0\"))\n",
    "    except Exception as ex:\n",
    "        print(text, ex)\n",
    "        return None\n",
    "\n",
    "    \n",
    "def get_tweets(collection):\n",
    "    \"\"\"\n",
    "    Gets tweets\n",
    "    \n",
    "    collection - Tweets MongoDB collection\n",
    "    \"\"\"\n",
    "    tweets = list(collection\n",
    "                    .find({'sampled':True},{'_id': False, 'tweet_id': True, 'user_id' : True})\n",
    "                   )\n",
    "    \n",
    "    print(\"Number of tweets:\", len(tweets))\n",
    "    tweets = [flatten(t) for t in tweets]\n",
    "    df_tweets = pd.DataFrame(tweets)\n",
    "    df_tweets.user_id = df_tweets.user_id.apply(lambda t : str(t))\n",
    "    df_tweets.user_id = df_tweets.user_id.astype(str)\n",
    "    df_tweets.rename(columns={'user_id':'tweet_author'},inplace=True)\n",
    "    return df_tweets\n",
    "    \n",
    "    \n",
    "def get_retweets(collection):\n",
    "    \"\"\"\n",
    "    Gets retweets\n",
    "    \n",
    "    collection - Retweets MongoDB collection\n",
    "    \"\"\"\n",
    "    retweets = list(collection\n",
    "                    .find({'sampled':True},{'_id': False, 'tweet_id': True, 'user_id' : True})\n",
    "                   )\n",
    "    \n",
    "    print(\"Number of retweets:\", len(retweets))\n",
    "    retweets = [flatten(r) for r in retweets]\n",
    "    df_retweets = pd.DataFrame(retweets)\n",
    "    df_retweets.user_id = df_retweets.user_id.apply(lambda t : str(t))\n",
    "    df_retweets.user_id = df_retweets.user_id.astype(str)\n",
    "    df_retweets.rename(columns={'user_id':'retweet_author'},inplace=True)\n",
    "    return df_retweets\n",
    "\n",
    "def get_users(collection):\n",
    "    \"\"\"\n",
    "    Gets users\n",
    "    \n",
    "    collection - Users MongoDB collection\n",
    "    \"\"\"\n",
    "    users = list(collection.find({ '$and' : [ { 'sampled': True } , { 'botscore' : { '$gte' : 0 } }]},\n",
    "                                 {'_id' : True, 'botscore' : True})\n",
    "                )\n",
    "    print(\"Number of sampled users with botscore in DB:\", len(users))\n",
    "    users = [flatten(u) for u in users]\n",
    "    df_users = pd.DataFrame(users)\n",
    "    df_users._id = df_users._id.apply(lambda t : str(t))\n",
    "    df_users._id = df_users._id.astype(str)\n",
    "    return df_users"
   ]
  },
  {
   "cell_type": "markdown",
   "metadata": {},
   "source": [
    "## Data Preparation"
   ]
  },
  {
   "cell_type": "markdown",
   "metadata": {},
   "source": [
    "#### Getting tweets from DB..."
   ]
  },
  {
   "cell_type": "code",
   "execution_count": 3,
   "metadata": {},
   "outputs": [
    {
     "name": "stdout",
     "output_type": "stream",
     "text": [
      "Number of tweets: 358190\n"
     ]
    },
    {
     "data": {
      "text/html": [
       "<div>\n",
       "<style scoped>\n",
       "    .dataframe tbody tr th:only-of-type {\n",
       "        vertical-align: middle;\n",
       "    }\n",
       "\n",
       "    .dataframe tbody tr th {\n",
       "        vertical-align: top;\n",
       "    }\n",
       "\n",
       "    .dataframe thead th {\n",
       "        text-align: right;\n",
       "    }\n",
       "</style>\n",
       "<table border=\"1\" class=\"dataframe\">\n",
       "  <thead>\n",
       "    <tr style=\"text-align: right;\">\n",
       "      <th></th>\n",
       "      <th>tweet_author</th>\n",
       "      <th>tweet_id</th>\n",
       "    </tr>\n",
       "  </thead>\n",
       "  <tbody>\n",
       "    <tr>\n",
       "      <th>0</th>\n",
       "      <td>000000000000000279465279</td>\n",
       "      <td>000001191464087064109058</td>\n",
       "    </tr>\n",
       "    <tr>\n",
       "      <th>1</th>\n",
       "      <td>000000000000001266667238</td>\n",
       "      <td>000001192787272975945729</td>\n",
       "    </tr>\n",
       "    <tr>\n",
       "      <th>2</th>\n",
       "      <td>000000000000000331220696</td>\n",
       "      <td>000001191467194519080960</td>\n",
       "    </tr>\n",
       "  </tbody>\n",
       "</table>\n",
       "</div>"
      ],
      "text/plain": [
       "               tweet_author                  tweet_id\n",
       "0  000000000000000279465279  000001191464087064109058\n",
       "1  000000000000001266667238  000001192787272975945729\n",
       "2  000000000000000331220696  000001191467194519080960"
      ]
     },
     "execution_count": 3,
     "metadata": {},
     "output_type": "execute_result"
    }
   ],
   "source": [
    "df_tweets = get_tweets(db.tweets)\n",
    "df_tweets.head(3)"
   ]
  },
  {
   "cell_type": "code",
   "execution_count": 4,
   "metadata": {},
   "outputs": [
    {
     "name": "stdout",
     "output_type": "stream",
     "text": [
      "<class 'pandas.core.frame.DataFrame'>\n",
      "RangeIndex: 358190 entries, 0 to 358189\n",
      "Data columns (total 2 columns):\n",
      " #   Column        Non-Null Count   Dtype \n",
      "---  ------        --------------   ----- \n",
      " 0   tweet_author  358190 non-null  object\n",
      " 1   tweet_id      358190 non-null  object\n",
      "dtypes: object(2)\n",
      "memory usage: 5.5+ MB\n"
     ]
    }
   ],
   "source": [
    "df_tweets[df_tweets.duplicated()].count()\n",
    "df_tweets.info()"
   ]
  },
  {
   "cell_type": "code",
   "execution_count": 5,
   "metadata": {},
   "outputs": [],
   "source": [
    "df_tweets.drop_duplicates(keep='first', inplace=True)"
   ]
  },
  {
   "cell_type": "markdown",
   "metadata": {},
   "source": [
    "#### Getting retweets from DB..."
   ]
  },
  {
   "cell_type": "code",
   "execution_count": 6,
   "metadata": {},
   "outputs": [
    {
     "name": "stdout",
     "output_type": "stream",
     "text": [
      "Number of retweets: 7868861\n"
     ]
    },
    {
     "data": {
      "text/html": [
       "<div>\n",
       "<style scoped>\n",
       "    .dataframe tbody tr th:only-of-type {\n",
       "        vertical-align: middle;\n",
       "    }\n",
       "\n",
       "    .dataframe tbody tr th {\n",
       "        vertical-align: top;\n",
       "    }\n",
       "\n",
       "    .dataframe thead th {\n",
       "        text-align: right;\n",
       "    }\n",
       "</style>\n",
       "<table border=\"1\" class=\"dataframe\">\n",
       "  <thead>\n",
       "    <tr style=\"text-align: right;\">\n",
       "      <th></th>\n",
       "      <th>tweet_id</th>\n",
       "      <th>retweet_author</th>\n",
       "    </tr>\n",
       "  </thead>\n",
       "  <tbody>\n",
       "    <tr>\n",
       "      <th>0</th>\n",
       "      <td>000001193667913368121351</td>\n",
       "      <td>000000000000004460826197</td>\n",
       "    </tr>\n",
       "    <tr>\n",
       "      <th>1</th>\n",
       "      <td>000001192581634291355649</td>\n",
       "      <td>000001075150211725619200</td>\n",
       "    </tr>\n",
       "    <tr>\n",
       "      <th>2</th>\n",
       "      <td>000001190659978471911424</td>\n",
       "      <td>000000000000000071190801</td>\n",
       "    </tr>\n",
       "  </tbody>\n",
       "</table>\n",
       "</div>"
      ],
      "text/plain": [
       "                   tweet_id            retweet_author\n",
       "0  000001193667913368121351  000000000000004460826197\n",
       "1  000001192581634291355649  000001075150211725619200\n",
       "2  000001190659978471911424  000000000000000071190801"
      ]
     },
     "execution_count": 6,
     "metadata": {},
     "output_type": "execute_result"
    }
   ],
   "source": [
    "df_retweets = get_retweets(db.retweets)\n",
    "df_retweets.head(3)"
   ]
  },
  {
   "cell_type": "code",
   "execution_count": 7,
   "metadata": {},
   "outputs": [
    {
     "data": {
      "text/plain": [
       "tweet_id          3525\n",
       "retweet_author    3525\n",
       "dtype: int64"
      ]
     },
     "execution_count": 7,
     "metadata": {},
     "output_type": "execute_result"
    }
   ],
   "source": [
    "df_retweets[df_retweets.duplicated()].count()"
   ]
  },
  {
   "cell_type": "code",
   "execution_count": 8,
   "metadata": {},
   "outputs": [
    {
     "data": {
      "text/plain": [
       "tweet_id          7865336\n",
       "retweet_author    7865336\n",
       "dtype: int64"
      ]
     },
     "execution_count": 8,
     "metadata": {},
     "output_type": "execute_result"
    }
   ],
   "source": [
    "df_retweets.drop_duplicates(keep='first', inplace=True)\n",
    "df_retweets.count()"
   ]
  },
  {
   "cell_type": "markdown",
   "metadata": {},
   "source": [
    "#### Getting users from DB..."
   ]
  },
  {
   "cell_type": "code",
   "execution_count": 9,
   "metadata": {},
   "outputs": [
    {
     "name": "stdout",
     "output_type": "stream",
     "text": [
      "Number of sampled users with botscore in DB: 1150709\n"
     ]
    },
    {
     "data": {
      "text/html": [
       "<div>\n",
       "<style scoped>\n",
       "    .dataframe tbody tr th:only-of-type {\n",
       "        vertical-align: middle;\n",
       "    }\n",
       "\n",
       "    .dataframe tbody tr th {\n",
       "        vertical-align: top;\n",
       "    }\n",
       "\n",
       "    .dataframe thead th {\n",
       "        text-align: right;\n",
       "    }\n",
       "</style>\n",
       "<table border=\"1\" class=\"dataframe\">\n",
       "  <thead>\n",
       "    <tr style=\"text-align: right;\">\n",
       "      <th></th>\n",
       "      <th>_id</th>\n",
       "      <th>botscore</th>\n",
       "    </tr>\n",
       "  </thead>\n",
       "  <tbody>\n",
       "    <tr>\n",
       "      <th>0</th>\n",
       "      <td>000000000000002266588688</td>\n",
       "      <td>0.16</td>\n",
       "    </tr>\n",
       "    <tr>\n",
       "      <th>1</th>\n",
       "      <td>000000000000000471028961</td>\n",
       "      <td>0.03</td>\n",
       "    </tr>\n",
       "    <tr>\n",
       "      <th>2</th>\n",
       "      <td>000000000000002792368467</td>\n",
       "      <td>0.11</td>\n",
       "    </tr>\n",
       "    <tr>\n",
       "      <th>3</th>\n",
       "      <td>000000000000004068857357</td>\n",
       "      <td>0.01</td>\n",
       "    </tr>\n",
       "    <tr>\n",
       "      <th>4</th>\n",
       "      <td>000000000000000006953012</td>\n",
       "      <td>0.03</td>\n",
       "    </tr>\n",
       "  </tbody>\n",
       "</table>\n",
       "</div>"
      ],
      "text/plain": [
       "                        _id  botscore\n",
       "0  000000000000002266588688      0.16\n",
       "1  000000000000000471028961      0.03\n",
       "2  000000000000002792368467      0.11\n",
       "3  000000000000004068857357      0.01\n",
       "4  000000000000000006953012      0.03"
      ]
     },
     "metadata": {},
     "output_type": "display_data"
    }
   ],
   "source": [
    "users = get_users(db.users)\n",
    "display(users.head(5))"
   ]
  },
  {
   "cell_type": "code",
   "execution_count": 10,
   "metadata": {},
   "outputs": [
    {
     "data": {
      "text/plain": [
       "1150709"
      ]
     },
     "execution_count": 10,
     "metadata": {},
     "output_type": "execute_result"
    }
   ],
   "source": [
    "len(users._id.unique())"
   ]
  },
  {
   "cell_type": "markdown",
   "metadata": {},
   "source": [
    "### Build directed-weighted retweet graph"
   ]
  },
  {
   "cell_type": "code",
   "execution_count": 11,
   "metadata": {},
   "outputs": [
    {
     "data": {
      "text/html": [
       "<div>\n",
       "<style scoped>\n",
       "    .dataframe tbody tr th:only-of-type {\n",
       "        vertical-align: middle;\n",
       "    }\n",
       "\n",
       "    .dataframe tbody tr th {\n",
       "        vertical-align: top;\n",
       "    }\n",
       "\n",
       "    .dataframe thead th {\n",
       "        text-align: right;\n",
       "    }\n",
       "</style>\n",
       "<table border=\"1\" class=\"dataframe\">\n",
       "  <thead>\n",
       "    <tr style=\"text-align: right;\">\n",
       "      <th></th>\n",
       "      <th>retweet_author</th>\n",
       "      <th>tweet_author</th>\n",
       "    </tr>\n",
       "  </thead>\n",
       "  <tbody>\n",
       "    <tr>\n",
       "      <th>0</th>\n",
       "      <td>000001041608534734061568</td>\n",
       "      <td>000000000000000068740712</td>\n",
       "    </tr>\n",
       "    <tr>\n",
       "      <th>1</th>\n",
       "      <td>000000000000002824508322</td>\n",
       "      <td>000000000000000068740712</td>\n",
       "    </tr>\n",
       "    <tr>\n",
       "      <th>2</th>\n",
       "      <td>000000755192640321314817</td>\n",
       "      <td>000000000000000068740712</td>\n",
       "    </tr>\n",
       "    <tr>\n",
       "      <th>3</th>\n",
       "      <td>000000000000000523370717</td>\n",
       "      <td>000000000000000068740712</td>\n",
       "    </tr>\n",
       "    <tr>\n",
       "      <th>4</th>\n",
       "      <td>000000000000003610966882</td>\n",
       "      <td>000000000000000068740712</td>\n",
       "    </tr>\n",
       "  </tbody>\n",
       "</table>\n",
       "</div>"
      ],
      "text/plain": [
       "             retweet_author              tweet_author\n",
       "0  000001041608534734061568  000000000000000068740712\n",
       "1  000000000000002824508322  000000000000000068740712\n",
       "2  000000755192640321314817  000000000000000068740712\n",
       "3  000000000000000523370717  000000000000000068740712\n",
       "4  000000000000003610966882  000000000000000068740712"
      ]
     },
     "execution_count": 11,
     "metadata": {},
     "output_type": "execute_result"
    }
   ],
   "source": [
    "df_edges = df_retweets.set_index('tweet_id').join(df_tweets.set_index('tweet_id')).reset_index(drop=True)\n",
    "df_edges.head(5)"
   ]
  },
  {
   "cell_type": "code",
   "execution_count": 12,
   "metadata": {},
   "outputs": [
    {
     "data": {
      "text/html": [
       "<div>\n",
       "<style scoped>\n",
       "    .dataframe tbody tr th:only-of-type {\n",
       "        vertical-align: middle;\n",
       "    }\n",
       "\n",
       "    .dataframe tbody tr th {\n",
       "        vertical-align: top;\n",
       "    }\n",
       "\n",
       "    .dataframe thead th {\n",
       "        text-align: right;\n",
       "    }\n",
       "</style>\n",
       "<table border=\"1\" class=\"dataframe\">\n",
       "  <thead>\n",
       "    <tr style=\"text-align: right;\">\n",
       "      <th></th>\n",
       "      <th>retweet_author</th>\n",
       "      <th>tweet_author</th>\n",
       "      <th>weight</th>\n",
       "    </tr>\n",
       "  </thead>\n",
       "  <tbody>\n",
       "    <tr>\n",
       "      <th>0</th>\n",
       "      <td>000000000000000000002862</td>\n",
       "      <td>000000000000000026994875</td>\n",
       "      <td>1</td>\n",
       "    </tr>\n",
       "    <tr>\n",
       "      <th>1</th>\n",
       "      <td>000000000000000000003065</td>\n",
       "      <td>000000000000000016409683</td>\n",
       "      <td>1</td>\n",
       "    </tr>\n",
       "    <tr>\n",
       "      <th>2</th>\n",
       "      <td>000000000000000000003065</td>\n",
       "      <td>000000000000000121385551</td>\n",
       "      <td>1</td>\n",
       "    </tr>\n",
       "    <tr>\n",
       "      <th>3</th>\n",
       "      <td>000000000000000000003065</td>\n",
       "      <td>000000000000000207741909</td>\n",
       "      <td>1</td>\n",
       "    </tr>\n",
       "    <tr>\n",
       "      <th>4</th>\n",
       "      <td>000000000000000000003968</td>\n",
       "      <td>000000000000000014436030</td>\n",
       "      <td>1</td>\n",
       "    </tr>\n",
       "  </tbody>\n",
       "</table>\n",
       "</div>"
      ],
      "text/plain": [
       "             retweet_author              tweet_author  weight\n",
       "0  000000000000000000002862  000000000000000026994875       1\n",
       "1  000000000000000000003065  000000000000000016409683       1\n",
       "2  000000000000000000003065  000000000000000121385551       1\n",
       "3  000000000000000000003065  000000000000000207741909       1\n",
       "4  000000000000000000003968  000000000000000014436030       1"
      ]
     },
     "execution_count": 12,
     "metadata": {},
     "output_type": "execute_result"
    }
   ],
   "source": [
    "df_edges = df_edges.groupby(['retweet_author','tweet_author']).size().reset_index().rename(columns={0:'weight'})\n",
    "df_edges.head(5)"
   ]
  },
  {
   "cell_type": "code",
   "execution_count": 13,
   "metadata": {},
   "outputs": [
    {
     "name": "stdout",
     "output_type": "stream",
     "text": [
      "Users with botscore: 1150709\n",
      "Retweets without botscore: 6037031\n",
      "Retweets with botscore: 4313219\n"
     ]
    }
   ],
   "source": [
    "implicated_users = []\n",
    "implicated_users = list(set(list(df_edges.retweet_author.unique()) + list(df_edges.tweet_author.unique())))\n",
    "#print(\"Implicated users:\", len(implicated_users))\n",
    "\n",
    "df_users = users[users._id.isin(implicated_users)]\n",
    "print(\"Users with botscore:\", len(df_users))\n",
    "\n",
    "print(\"Retweets without botscore:\", len(df_edges))\n",
    "df_edges = df_edges[(df_edges.retweet_author.isin(df_users._id)) & (df_edges.tweet_author.isin(df_users._id))]\n",
    "print(\"Retweets with botscore:\", len(df_edges))"
   ]
  },
  {
   "cell_type": "markdown",
   "metadata": {},
   "source": [
    "### Networkx"
   ]
  },
  {
   "cell_type": "code",
   "execution_count": 14,
   "metadata": {},
   "outputs": [],
   "source": [
    "G = nx.from_pandas_edgelist(df=df_edges, source='tweet_author', target='retweet_author', edge_attr='weight', create_using=nx.DiGraph)\n",
    "node_attr = df_users.set_index('_id').to_dict('index')\n",
    "nx.set_node_attributes(G, node_attr)"
   ]
  },
  {
   "cell_type": "markdown",
   "metadata": {},
   "source": [
    "### Using graph-tool"
   ]
  },
  {
   "cell_type": "code",
   "execution_count": 15,
   "metadata": {},
   "outputs": [
    {
     "name": "stdout",
     "output_type": "stream",
     "text": [
      "CPU times: user 13.2 s, sys: 272 ms, total: 13.4 s\n",
      "Wall time: 13.3 s\n"
     ]
    }
   ],
   "source": [
    "%%time\n",
    "\n",
    "X = gt.Graph(directed=True)\n",
    "eweight = X.new_edge_property('int')\n",
    "user_ids = X.add_edge_list(df_edges.values, hashed=True, hash_type='string', eprops=[eweight])"
   ]
  },
  {
   "cell_type": "code",
   "execution_count": 16,
   "metadata": {},
   "outputs": [
    {
     "name": "stdout",
     "output_type": "stream",
     "text": [
      "CPU times: user 4.71 s, sys: 168 ms, total: 4.87 s\n",
      "Wall time: 4.87 s\n"
     ]
    }
   ],
   "source": [
    "%%time\n",
    "\n",
    "# botscore for nodes\n",
    "user_botscores_dic = df_users.set_index('_id').to_dict('index')\n",
    "node_botscores = []\n",
    "for user_id in user_ids:\n",
    "    node_botscore = user_botscores_dic[user_id]['botscore']\n",
    "    node_botscores.append(node_botscore)"
   ]
  },
  {
   "cell_type": "code",
   "execution_count": 17,
   "metadata": {},
   "outputs": [
    {
     "name": "stdout",
     "output_type": "stream",
     "text": [
      "CPU times: user 175 ms, sys: 7.53 ms, total: 183 ms\n",
      "Wall time: 181 ms\n"
     ]
    }
   ],
   "source": [
    "%%time\n",
    "vbotscores = X.new_vertex_property(value_type='float', vals=node_botscores)"
   ]
  },
  {
   "cell_type": "markdown",
   "metadata": {},
   "source": [
    "## 1. Influence"
   ]
  },
  {
   "cell_type": "markdown",
   "metadata": {},
   "source": [
    "#### Relationship botscore vs influence metrics"
   ]
  },
  {
   "cell_type": "code",
   "execution_count": 18,
   "metadata": {},
   "outputs": [
    {
     "data": {
      "text/plain": [
       "1027305"
      ]
     },
     "execution_count": 18,
     "metadata": {},
     "output_type": "execute_result"
    }
   ],
   "source": [
    "X.num_vertices()"
   ]
  },
  {
   "cell_type": "code",
   "execution_count": 19,
   "metadata": {},
   "outputs": [
    {
     "name": "stdout",
     "output_type": "stream",
     "text": [
      "CPU times: user 1min 16s, sys: 605 ms, total: 1min 17s\n",
      "Wall time: 23.8 s\n"
     ]
    },
    {
     "data": {
      "text/html": [
       "<div>\n",
       "<style scoped>\n",
       "    .dataframe tbody tr th:only-of-type {\n",
       "        vertical-align: middle;\n",
       "    }\n",
       "\n",
       "    .dataframe tbody tr th {\n",
       "        vertical-align: top;\n",
       "    }\n",
       "\n",
       "    .dataframe thead th {\n",
       "        text-align: right;\n",
       "    }\n",
       "</style>\n",
       "<table border=\"1\" class=\"dataframe\">\n",
       "  <thead>\n",
       "    <tr style=\"text-align: right;\">\n",
       "      <th></th>\n",
       "      <th>Page Rank</th>\n",
       "      <th>HITS Hub</th>\n",
       "      <th>HITS Authority</th>\n",
       "      <th>Eigenvector</th>\n",
       "      <th>botscore</th>\n",
       "    </tr>\n",
       "  </thead>\n",
       "  <tbody>\n",
       "    <tr>\n",
       "      <th>0</th>\n",
       "      <td>2.590218e-07</td>\n",
       "      <td>1.087385e-14</td>\n",
       "      <td>0.000000e+00</td>\n",
       "      <td>0.000000e+00</td>\n",
       "      <td>0.09</td>\n",
       "    </tr>\n",
       "    <tr>\n",
       "      <th>1</th>\n",
       "      <td>8.173064e-07</td>\n",
       "      <td>1.447230e-07</td>\n",
       "      <td>2.099223e-11</td>\n",
       "      <td>0.000000e+00</td>\n",
       "      <td>0.06</td>\n",
       "    </tr>\n",
       "    <tr>\n",
       "      <th>2</th>\n",
       "      <td>2.590218e-07</td>\n",
       "      <td>1.310503e-06</td>\n",
       "      <td>0.000000e+00</td>\n",
       "      <td>0.000000e+00</td>\n",
       "      <td>0.05</td>\n",
       "    </tr>\n",
       "    <tr>\n",
       "      <th>3</th>\n",
       "      <td>1.580772e-03</td>\n",
       "      <td>2.314258e-06</td>\n",
       "      <td>2.529959e-03</td>\n",
       "      <td>1.918914e-02</td>\n",
       "      <td>0.01</td>\n",
       "    </tr>\n",
       "    <tr>\n",
       "      <th>4</th>\n",
       "      <td>5.150978e-06</td>\n",
       "      <td>9.789150e-09</td>\n",
       "      <td>6.147795e-09</td>\n",
       "      <td>1.726231e-17</td>\n",
       "      <td>0.12</td>\n",
       "    </tr>\n",
       "  </tbody>\n",
       "</table>\n",
       "</div>"
      ],
      "text/plain": [
       "      Page Rank      HITS Hub  HITS Authority   Eigenvector  botscore\n",
       "0  2.590218e-07  1.087385e-14    0.000000e+00  0.000000e+00      0.09\n",
       "1  8.173064e-07  1.447230e-07    2.099223e-11  0.000000e+00      0.06\n",
       "2  2.590218e-07  1.310503e-06    0.000000e+00  0.000000e+00      0.05\n",
       "3  1.580772e-03  2.314258e-06    2.529959e-03  1.918914e-02      0.01\n",
       "4  5.150978e-06  9.789150e-09    6.147795e-09  1.726231e-17      0.12"
      ]
     },
     "execution_count": 19,
     "metadata": {},
     "output_type": "execute_result"
    }
   ],
   "source": [
    "%%time\n",
    "\n",
    "eig, authorities, hubs = gt.hits(g=X, weight=eweight)\n",
    "pagerank = gt.pagerank(X, weight=eweight, damping=0.85)\n",
    "eigenvector = gt.eigenvector(g=X, weight=eweight)[1]\n",
    "\n",
    "df_if = pd.DataFrame.from_dict({'Page Rank': pagerank,\n",
    "                                'HITS Hub': hubs,\n",
    "                                'HITS Authority': authorities,\n",
    "                                'Eigenvector': eigenvector,\n",
    "                                'botscore': node_botscores,\n",
    "                               },\n",
    "                               orient='columns')\n",
    "\n",
    "df_if.head()"
   ]
  },
  {
   "cell_type": "code",
   "execution_count": 20,
   "metadata": {},
   "outputs": [
    {
     "data": {
      "text/html": [
       "<div>\n",
       "<style scoped>\n",
       "    .dataframe tbody tr th:only-of-type {\n",
       "        vertical-align: middle;\n",
       "    }\n",
       "\n",
       "    .dataframe tbody tr th {\n",
       "        vertical-align: top;\n",
       "    }\n",
       "\n",
       "    .dataframe thead th {\n",
       "        text-align: right;\n",
       "    }\n",
       "</style>\n",
       "<table border=\"1\" class=\"dataframe\">\n",
       "  <thead>\n",
       "    <tr style=\"text-align: right;\">\n",
       "      <th></th>\n",
       "      <th>Page Rank</th>\n",
       "      <th>HITS Hub</th>\n",
       "      <th>HITS Authority</th>\n",
       "      <th>Eigenvector</th>\n",
       "      <th>botscore</th>\n",
       "    </tr>\n",
       "  </thead>\n",
       "  <tbody>\n",
       "    <tr>\n",
       "      <th>0</th>\n",
       "      <td>0.000000</td>\n",
       "      <td>4.227405e-14</td>\n",
       "      <td>0.000000e+00</td>\n",
       "      <td>0.0</td>\n",
       "      <td>0.09</td>\n",
       "    </tr>\n",
       "    <tr>\n",
       "      <th>1</th>\n",
       "      <td>0.000036</td>\n",
       "      <td>5.626368e-07</td>\n",
       "      <td>2.213596e-11</td>\n",
       "      <td>0.0</td>\n",
       "      <td>0.06</td>\n",
       "    </tr>\n",
       "  </tbody>\n",
       "</table>\n",
       "</div>"
      ],
      "text/plain": [
       "   Page Rank      HITS Hub  HITS Authority  Eigenvector  botscore\n",
       "0   0.000000  4.227405e-14    0.000000e+00          0.0      0.09\n",
       "1   0.000036  5.626368e-07    2.213596e-11          0.0      0.06"
      ]
     },
     "execution_count": 20,
     "metadata": {},
     "output_type": "execute_result"
    }
   ],
   "source": [
    "normalized_df=(df_if-df_if.min())/(df_if.max()-df_if.min())\n",
    "normalized_df.head(2)"
   ]
  },
  {
   "cell_type": "code",
   "execution_count": 21,
   "metadata": {},
   "outputs": [
    {
     "data": {
      "text/html": [
       "<div>\n",
       "<style scoped>\n",
       "    .dataframe tbody tr th:only-of-type {\n",
       "        vertical-align: middle;\n",
       "    }\n",
       "\n",
       "    .dataframe tbody tr th {\n",
       "        vertical-align: top;\n",
       "    }\n",
       "\n",
       "    .dataframe thead th {\n",
       "        text-align: right;\n",
       "    }\n",
       "</style>\n",
       "<table border=\"1\" class=\"dataframe\">\n",
       "  <thead>\n",
       "    <tr style=\"text-align: right;\">\n",
       "      <th></th>\n",
       "      <th>Page Rank</th>\n",
       "      <th>HITS Hub</th>\n",
       "      <th>HITS Authority</th>\n",
       "      <th>Eigenvector</th>\n",
       "      <th>botscore</th>\n",
       "    </tr>\n",
       "  </thead>\n",
       "  <tbody>\n",
       "    <tr>\n",
       "      <th>1027300</th>\n",
       "      <td>0.0</td>\n",
       "      <td>1.329063e-10</td>\n",
       "      <td>0.0</td>\n",
       "      <td>0.0</td>\n",
       "      <td>0.15</td>\n",
       "    </tr>\n",
       "    <tr>\n",
       "      <th>1027301</th>\n",
       "      <td>0.0</td>\n",
       "      <td>1.217103e-06</td>\n",
       "      <td>0.0</td>\n",
       "      <td>0.0</td>\n",
       "      <td>0.33</td>\n",
       "    </tr>\n",
       "    <tr>\n",
       "      <th>1027302</th>\n",
       "      <td>0.0</td>\n",
       "      <td>1.420428e-10</td>\n",
       "      <td>0.0</td>\n",
       "      <td>0.0</td>\n",
       "      <td>0.40</td>\n",
       "    </tr>\n",
       "    <tr>\n",
       "      <th>1027303</th>\n",
       "      <td>0.0</td>\n",
       "      <td>2.079911e-11</td>\n",
       "      <td>0.0</td>\n",
       "      <td>0.0</td>\n",
       "      <td>0.36</td>\n",
       "    </tr>\n",
       "    <tr>\n",
       "      <th>1027304</th>\n",
       "      <td>0.0</td>\n",
       "      <td>1.280540e-09</td>\n",
       "      <td>0.0</td>\n",
       "      <td>0.0</td>\n",
       "      <td>0.60</td>\n",
       "    </tr>\n",
       "  </tbody>\n",
       "</table>\n",
       "</div>"
      ],
      "text/plain": [
       "         Page Rank      HITS Hub  HITS Authority  Eigenvector  botscore\n",
       "1027300        0.0  1.329063e-10             0.0          0.0      0.15\n",
       "1027301        0.0  1.217103e-06             0.0          0.0      0.33\n",
       "1027302        0.0  1.420428e-10             0.0          0.0      0.40\n",
       "1027303        0.0  2.079911e-11             0.0          0.0      0.36\n",
       "1027304        0.0  1.280540e-09             0.0          0.0      0.60"
      ]
     },
     "execution_count": 21,
     "metadata": {},
     "output_type": "execute_result"
    }
   ],
   "source": [
    "normalized_df.tail()"
   ]
  },
  {
   "cell_type": "code",
   "execution_count": 85,
   "metadata": {},
   "outputs": [
    {
     "name": "stdout",
     "output_type": "stream",
     "text": [
      "CPU times: user 30.8 s, sys: 326 ms, total: 31.1 s\n",
      "Wall time: 30.9 s\n"
     ]
    },
    {
     "data": {
      "image/png": "[encoded data removed]",
      "text/plain": [
       "<Figure size 576x360 with 1 Axes>"
      ]
     },
     "metadata": {},
     "output_type": "display_data"
    }
   ],
   "source": [
    "%%time\n",
    "\n",
    "df_pointplot = pd.melt(normalized_df, \n",
    "                       id_vars='botscore',\n",
    "                       var_name='Metric')\n",
    "\n",
    "df_pointplot['bins_botscore'] = pd.qcut(df_pointplot.botscore, q=10, labels=['$10^{th}$','$20^{th}$','$30^{th}$','$40^{th}$','$50^{th}$','$60^{th}$','$70^{th}$','$80^{th}$','$90^{th}$','$100^{th}$'])\n",
    "\n",
    "fig = plt.figure(figsize=(8,5))\n",
    "\n",
    "ax = sns.pointplot(data=df_pointplot,\n",
    "              x='bins_botscore',\n",
    "              y='value',\n",
    "              hue='Metric',\n",
    "              #errwidth=0.5,\n",
    "              scale=0.9,\n",
    "              markers=['*','x','o', '^'],\n",
    "              linestyles=[\"-\", \"--\", \"-.\", \"dotted\"],\n",
    "              #dodge=True,\n",
    "              join=True\n",
    "                  )\n",
    "\n",
    "plt.legend(loc='upper left', ncol=4, mode='expand', bbox_to_anchor=(-0.10, 1.1, 1.15, .1), fontsize=14, handletextpad=0.02)\n",
    "\n",
    "\n",
    "\n",
    "ax.set_ylabel(ylabel='Spreading (normalized)')\n",
    "ax.set_xlabel(xlabel='User\\'s Botscore (percentile ranges)')\n",
    "\n",
    "prs = [6,8]\n",
    "ps = [0.19, 0.37]\n",
    "\n",
    "colors = {6 : 'green',\n",
    "          8 : 'orangered'}\n",
    "\n",
    "h_ylims = ax.get_ylim()\n",
    "\n",
    "\n",
    "for pr,p in zip(prs,ps):\n",
    "    ax.vlines(x=pr, ymin=0, ymax=0.00021, linewidth = 2, linestyles='dotted', color=colors[pr])\n",
    "\n",
    "\n",
    "\n",
    "plt.setp(ax.lines,linewidth=1)\n",
    "plt.tight_layout()\n",
    "plt.savefig(\"images/spreading.pdf\")\n",
    "plt.savefig(\"images/spreading.svg\")"
   ]
  }
 ],
 "metadata": {
  "kernelspec": {
   "display_name": "Python 3",
   "language": "python",
   "name": "python3"
  },
  "language_info": {
   "codemirror_mode": {
    "name": "ipython",
    "version": 3
   },
   "file_extension": ".py",
   "mimetype": "text/x-python",
   "name": "python",
   "nbconvert_exporter": "python",
   "pygments_lexer": "ipython3",
   "version": "3.7.4"
  }
 },
 "nbformat": 4,
 "nbformat_minor": 4
}
