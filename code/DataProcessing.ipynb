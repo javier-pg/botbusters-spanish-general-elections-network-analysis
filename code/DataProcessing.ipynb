{
 "cells": [
  {
   "cell_type": "markdown",
   "metadata": {},
   "source": [
    "## Configuration"
   ]
  },
  {
   "cell_type": "markdown",
   "metadata": {},
   "source": [
    "### Imports"
   ]
  },
  {
   "cell_type": "code",
   "execution_count": 3,
   "metadata": {},
   "outputs": [],
   "source": [
    "# Utilities\n",
    "from IPython.display import display\n",
    "from fastprogress import master_bar, progress_bar\n",
    "import os\n",
    "import ntpath\n",
    "import numpy as np\n",
    "import pandas as pd\n",
    "from collections.abc import MutableMapping\n",
    "\n",
    "# MongoDB functionality\n",
    "from pymongo.errors import BulkWriteError\n",
    "from pymongo import MongoClient, InsertOne\n",
    "from pymongo.bulk import BulkOperationBuilder\n",
    "\n",
    "# Indexes\n",
    "import uuid\n",
    "from bson import ObjectId"
   ]
  },
  {
   "cell_type": "markdown",
   "metadata": {},
   "source": [
    "### Variables"
   ]
  },
  {
   "cell_type": "code",
   "execution_count": 4,
   "metadata": {},
   "outputs": [],
   "source": [
    "# Directories where CSV data is stored\n",
    "ROOT_DIR = \"/home/mattia/javier/botbusters-spanish-general-elections-network-analysis/\"\n",
    "DATA_DIR = ROOT_DIR + \"data/\"\n",
    "\n",
    "# Change path to root\n",
    "os.chdir(ROOT_DIR)\n",
    "\n",
    "\n",
    "# MongoDB parameters\n",
    "mongoclient = MongoClient('localhost', 27017)\n",
    "db = mongoclient.influence"
   ]
  },
  {
   "cell_type": "markdown",
   "metadata": {},
   "source": [
    "### Support Functions"
   ]
  },
  {
   "cell_type": "code",
   "execution_count": 5,
   "metadata": {},
   "outputs": [],
   "source": [
    "def make_uuid(uuid_str):\n",
    "    \"\"\"Makes an UUID from string\n",
    "    \n",
    "    Keyword arguments:\n",
    "    uuid_str -- uuid string to be converted into UUID\n",
    "    \"\"\"\n",
    "    uuid_str = str(uuid_str)\n",
    "    if not uuid_str.strip():\n",
    "        return None\n",
    "    try:\n",
    "        return uuid.UUID(uuid_str)\n",
    "    except Exception as ex:\n",
    "        print(uuid_str, ex)\n",
    "        return None\n",
    "    \n",
    "def make_objid(text):\n",
    "    \"\"\"Makes an ObjectId of 4 bytes\n",
    "    \n",
    "    Keyword arguments:\n",
    "    text -- string to be converted into Object ID\n",
    "    \"\"\"\n",
    "    text = str(text)\n",
    "    if not text.strip():\n",
    "        return None\n",
    "    try:\n",
    "        return ObjectId(text.rjust(24,\"0\"))\n",
    "    except Exception as ex:\n",
    "        print(text, ex)\n",
    "        return None\n",
    "    \n",
    "def df_to_mongodb(df, collection):\n",
    "    \"\"\"Saves the dataframe in a MongoDB collection\n",
    "\n",
    "    Keyword arguments:\n",
    "    df -- dataframe to dump\n",
    "    collection -- MongoDB collection to fulfill\n",
    "    \"\"\"\n",
    "    try:\n",
    " \n",
    "        if df is None:\n",
    "            return\n",
    "\n",
    "        print(\"Preparing DB operations...\", end=\" \")\n",
    "        records = df.to_dict('records')\n",
    "        \n",
    "        operations = []\n",
    "        for record in progress_bar(records):\n",
    "            operations.append(InsertOne(record))  \n",
    "\n",
    "            if len(operations) > 20000:\n",
    "                results = collection.bulk_write(operations)\n",
    "                print(\"M:\", str(results.matched_count).rjust(8, \" \"),\n",
    "                      \" I:\", str(results.inserted_count).rjust(8, \" \"),\n",
    "                      \" U:\", str(results.upserted_count).rjust(8, \" \"))\n",
    "                operations = []\n",
    "\n",
    "        if len(operations) > 0: \n",
    "            results = collection.bulk_write(operations)\n",
    "            print(\"M:\", str(results.matched_count).rjust(8, \" \"),\n",
    "                  \" I:\", str(results.inserted_count).rjust(8, \" \"),\n",
    "                  \" U:\", str(results.upserted_count).rjust(8, \" \"))\n",
    "\n",
    "    except Exception as e:\n",
    "        print(\"Exception. Message:\", e)"
   ]
  },
  {
   "cell_type": "markdown",
   "metadata": {},
   "source": [
    "## Load CSV in MongoDB"
   ]
  },
  {
   "cell_type": "markdown",
   "metadata": {},
   "source": [
    "### Tweets collection"
   ]
  },
  {
   "cell_type": "code",
   "execution_count": 4,
   "metadata": {},
   "outputs": [],
   "source": [
    "tweets_columns = {\n",
    "    # tweets\n",
    "    0: str,\n",
    "    1: str,\n",
    "    2: str,\n",
    "    3: str,\n",
    "    4: 'Int64',\n",
    "    5: str,                     \n",
    "    6: str\n",
    "}\n",
    "\n",
    "def read_tweets(filename):\n",
    "    \"\"\"Parses the tweets CSV returning a DataFrame.\n",
    "    \n",
    "    Keyword arguments:\n",
    "    filename -- name of the CSV\n",
    "    \"\"\"\n",
    "    print(\"Processing\", ntpath.basename(filename), end=\"\\t\")\n",
    "\n",
    "    df = pd.read_csv(filename, \n",
    "                     low_memory=False, \n",
    "                     keep_default_na=True, \n",
    "                     dtype=tweets_columns, \n",
    "                     usecols=[0,1,2,3,4,5,6],\n",
    "                     names=['_id', 'user_id', 'source', 'date', 'retweets', 'tweet_id', 'url'])\n",
    "\n",
    "    print(\"CSV\", end=\" \")\n",
    "\n",
    "    \n",
    "    # Discard URL entries\n",
    "    df = df[df.source=='twitter']\n",
    "    df.drop(columns=['source'],inplace=True)\n",
    "    \n",
    "    # Make index as UUID\n",
    "    df['_id'] = df['_id'].apply(make_uuid)\n",
    "    \n",
    "    # Create ObjectIDs to avoid any potential issue\n",
    "    df['user_id'] = df['user_id'].apply(make_objid)\n",
    "    df['tweet_id'] = df['tweet_id'].apply(make_objid)\n",
    "\n",
    "    # Make datetime objects\n",
    "    df['date'] = pd.to_datetime(df['date'], infer_datetime_format=False, format=\"%Y-%m-%d %H:%M:%S\")\n",
    "    \n",
    "    # Force integer\n",
    "    df['retweets'] = df['retweets'].astype('int')\n",
    "\n",
    "    print(\"OK\", end=\"; \")\n",
    "\n",
    "    print(\"#:\", len(df), end=\" entries; \")\n",
    "\n",
    "    return df"
   ]
  },
  {
   "cell_type": "code",
   "execution_count": 5,
   "metadata": {},
   "outputs": [
    {
     "name": "stdout",
     "output_type": "stream",
     "text": [
      "Processing tweets.csv\tCSV OK; #: 1875457 entries; "
     ]
    },
    {
     "data": {
      "text/html": [
       "<div>\n",
       "<style scoped>\n",
       "    .dataframe tbody tr th:only-of-type {\n",
       "        vertical-align: middle;\n",
       "    }\n",
       "\n",
       "    .dataframe tbody tr th {\n",
       "        vertical-align: top;\n",
       "    }\n",
       "\n",
       "    .dataframe thead th {\n",
       "        text-align: right;\n",
       "    }\n",
       "</style>\n",
       "<table border=\"1\" class=\"dataframe\">\n",
       "  <thead>\n",
       "    <tr style=\"text-align: right;\">\n",
       "      <th></th>\n",
       "      <th>_id</th>\n",
       "      <th>user_id</th>\n",
       "      <th>date</th>\n",
       "      <th>retweets</th>\n",
       "      <th>tweet_id</th>\n",
       "      <th>url</th>\n",
       "    </tr>\n",
       "  </thead>\n",
       "  <tbody>\n",
       "    <tr>\n",
       "      <td>36751</td>\n",
       "      <td>a86e778c-46a3-11ea-9505-02420a0000af</td>\n",
       "      <td>000000000000000276977398</td>\n",
       "      <td>2019-11-04 21:07:45</td>\n",
       "      <td>0</td>\n",
       "      <td>000001191462058602192907</td>\n",
       "      <td>https://twitter.com/nenamoni92/status/11914620...</td>\n",
       "    </tr>\n",
       "    <tr>\n",
       "      <td>36787</td>\n",
       "      <td>44a195f2-468c-11ea-9505-02420a0000af</td>\n",
       "      <td>000000000000002906096735</td>\n",
       "      <td>2019-11-04 22:25:58</td>\n",
       "      <td>0</td>\n",
       "      <td>000001191481739606183937</td>\n",
       "      <td>https://twitter.com/Fenix_Nebeda/status/119148...</td>\n",
       "    </tr>\n",
       "    <tr>\n",
       "      <td>37086</td>\n",
       "      <td>44a1996c-468c-11ea-9505-02420a0000af</td>\n",
       "      <td>000000000000001620996282</td>\n",
       "      <td>2019-11-04 22:54:41</td>\n",
       "      <td>0</td>\n",
       "      <td>000001191488966639443968</td>\n",
       "      <td>https://twitter.com/marisa0687/status/11914889...</td>\n",
       "    </tr>\n",
       "    <tr>\n",
       "      <td>37151</td>\n",
       "      <td>75dba318-46a7-11ea-9505-02420a0000af</td>\n",
       "      <td>000001163542858604916739</td>\n",
       "      <td>2019-11-04 21:17:16</td>\n",
       "      <td>0</td>\n",
       "      <td>000001191464452987772928</td>\n",
       "      <td>https://twitter.com/Hispanica16/status/1191464...</td>\n",
       "    </tr>\n",
       "    <tr>\n",
       "      <td>37282</td>\n",
       "      <td>77c4e81a-46a7-11ea-9505-02420a0000af</td>\n",
       "      <td>000000000000000279465279</td>\n",
       "      <td>2019-11-04 21:15:49</td>\n",
       "      <td>1</td>\n",
       "      <td>000001191464087064109058</td>\n",
       "      <td>https://twitter.com/SergiJioKun/status/1191464...</td>\n",
       "    </tr>\n",
       "  </tbody>\n",
       "</table>\n",
       "</div>"
      ],
      "text/plain": [
       "                                        _id                   user_id  \\\n",
       "36751  a86e778c-46a3-11ea-9505-02420a0000af  000000000000000276977398   \n",
       "36787  44a195f2-468c-11ea-9505-02420a0000af  000000000000002906096735   \n",
       "37086  44a1996c-468c-11ea-9505-02420a0000af  000000000000001620996282   \n",
       "37151  75dba318-46a7-11ea-9505-02420a0000af  000001163542858604916739   \n",
       "37282  77c4e81a-46a7-11ea-9505-02420a0000af  000000000000000279465279   \n",
       "\n",
       "                     date  retweets                  tweet_id  \\\n",
       "36751 2019-11-04 21:07:45         0  000001191462058602192907   \n",
       "36787 2019-11-04 22:25:58         0  000001191481739606183937   \n",
       "37086 2019-11-04 22:54:41         0  000001191488966639443968   \n",
       "37151 2019-11-04 21:17:16         0  000001191464452987772928   \n",
       "37282 2019-11-04 21:15:49         1  000001191464087064109058   \n",
       "\n",
       "                                                     url  \n",
       "36751  https://twitter.com/nenamoni92/status/11914620...  \n",
       "36787  https://twitter.com/Fenix_Nebeda/status/119148...  \n",
       "37086  https://twitter.com/marisa0687/status/11914889...  \n",
       "37151  https://twitter.com/Hispanica16/status/1191464...  \n",
       "37282  https://twitter.com/SergiJioKun/status/1191464...  "
      ]
     },
     "metadata": {},
     "output_type": "display_data"
    },
    {
     "name": "stdout",
     "output_type": "stream",
     "text": [
      "Preparing DB operations... "
     ]
    },
    {
     "data": {
      "text/html": [
       "\n",
       "    <div>\n",
       "        <style>\n",
       "            /* Turns off some styling */\n",
       "            progress {\n",
       "                /* gets rid of default border in Firefox and Opera. */\n",
       "                border: none;\n",
       "                /* Needs to be in here for Safari polyfill so background images work as expected. */\n",
       "                background-size: auto;\n",
       "            }\n",
       "            .progress-bar-interrupted, .progress-bar-interrupted::-webkit-progress-bar {\n",
       "                background: #F44336;\n",
       "            }\n",
       "        </style>\n",
       "      <progress value='1875457' class='' max='1875457', style='width:300px; height:20px; vertical-align: middle;'></progress>\n",
       "      100.00% [1875457/1875457 00:33<00:00]\n",
       "    </div>\n",
       "    "
      ],
      "text/plain": [
       "<IPython.core.display.HTML object>"
      ]
     },
     "metadata": {},
     "output_type": "display_data"
    },
    {
     "name": "stdout",
     "output_type": "stream",
     "text": [
      "M:        0  I:    20001  U:        0\n",
      "M:        0  I:    20001  U:        0\n",
      "M:        0  I:    20001  U:        0\n",
      "M:        0  I:    20001  U:        0\n",
      "M:        0  I:    20001  U:        0\n",
      "M:        0  I:    20001  U:        0\n",
      "M:        0  I:    20001  U:        0\n",
      "M:        0  I:    20001  U:        0\n",
      "M:        0  I:    20001  U:        0\n",
      "M:        0  I:    20001  U:        0\n",
      "M:        0  I:    20001  U:        0\n",
      "M:        0  I:    20001  U:        0\n",
      "M:        0  I:    20001  U:        0\n",
      "M:        0  I:    20001  U:        0\n",
      "M:        0  I:    20001  U:        0\n",
      "M:        0  I:    20001  U:        0\n",
      "M:        0  I:    20001  U:        0\n",
      "M:        0  I:    20001  U:        0\n",
      "M:        0  I:    20001  U:        0\n",
      "M:        0  I:    20001  U:        0\n",
      "M:        0  I:    20001  U:        0\n",
      "M:        0  I:    20001  U:        0\n",
      "M:        0  I:    20001  U:        0\n",
      "M:        0  I:    20001  U:        0\n",
      "M:        0  I:    20001  U:        0\n",
      "M:        0  I:    20001  U:        0\n",
      "M:        0  I:    20001  U:        0\n",
      "M:        0  I:    20001  U:        0\n",
      "M:        0  I:    20001  U:        0\n",
      "M:        0  I:    20001  U:        0\n",
      "M:        0  I:    20001  U:        0\n",
      "M:        0  I:    20001  U:        0\n",
      "M:        0  I:    20001  U:        0\n",
      "M:        0  I:    20001  U:        0\n",
      "M:        0  I:    20001  U:        0\n",
      "M:        0  I:    20001  U:        0\n",
      "M:        0  I:    20001  U:        0\n",
      "M:        0  I:    20001  U:        0\n",
      "M:        0  I:    20001  U:        0\n",
      "M:        0  I:    20001  U:        0\n",
      "M:        0  I:    20001  U:        0\n",
      "M:        0  I:    20001  U:        0\n",
      "M:        0  I:    20001  U:        0\n",
      "M:        0  I:    20001  U:        0\n",
      "M:        0  I:    20001  U:        0\n",
      "M:        0  I:    20001  U:        0\n",
      "M:        0  I:    20001  U:        0\n",
      "M:        0  I:    20001  U:        0\n",
      "M:        0  I:    20001  U:        0\n",
      "M:        0  I:    20001  U:        0\n",
      "M:        0  I:    20001  U:        0\n",
      "M:        0  I:    20001  U:        0\n",
      "M:        0  I:    20001  U:        0\n",
      "M:        0  I:    20001  U:        0\n",
      "M:        0  I:    20001  U:        0\n",
      "M:        0  I:    20001  U:        0\n",
      "M:        0  I:    20001  U:        0\n",
      "M:        0  I:    20001  U:        0\n",
      "M:        0  I:    20001  U:        0\n",
      "M:        0  I:    20001  U:        0\n",
      "M:        0  I:    20001  U:        0\n",
      "M:        0  I:    20001  U:        0\n",
      "M:        0  I:    20001  U:        0\n",
      "M:        0  I:    20001  U:        0\n",
      "M:        0  I:    20001  U:        0\n",
      "M:        0  I:    20001  U:        0\n",
      "M:        0  I:    20001  U:        0\n",
      "M:        0  I:    20001  U:        0\n",
      "M:        0  I:    20001  U:        0\n",
      "M:        0  I:    20001  U:        0\n",
      "M:        0  I:    20001  U:        0\n",
      "M:        0  I:    20001  U:        0\n",
      "M:        0  I:    20001  U:        0\n",
      "M:        0  I:    20001  U:        0\n",
      "M:        0  I:    20001  U:        0\n",
      "M:        0  I:    20001  U:        0\n",
      "M:        0  I:    20001  U:        0\n",
      "M:        0  I:    20001  U:        0\n",
      "M:        0  I:    20001  U:        0\n",
      "M:        0  I:    20001  U:        0\n",
      "M:        0  I:    20001  U:        0\n",
      "M:        0  I:    20001  U:        0\n",
      "M:        0  I:    20001  U:        0\n",
      "M:        0  I:    20001  U:        0\n",
      "M:        0  I:    20001  U:        0\n",
      "M:        0  I:    20001  U:        0\n",
      "M:        0  I:    20001  U:        0\n",
      "M:        0  I:    20001  U:        0\n",
      "M:        0  I:    20001  U:        0\n",
      "M:        0  I:    20001  U:        0\n",
      "M:        0  I:    20001  U:        0\n",
      "M:        0  I:    20001  U:        0\n",
      "M:        0  I:    20001  U:        0\n",
      "M:        0  I:    15364  U:        0\n",
      "CPU times: user 1min 27s, sys: 4.37 s, total: 1min 32s\n",
      "Wall time: 1min 29s\n"
     ]
    }
   ],
   "source": [
    "%%time\n",
    "df_tweets = read_tweets(DATA_DIR+'dataset/tweets.csv')\n",
    "display(df_tweets.head())\n",
    "df_to_mongodb(df_tweets, db.tweets)"
   ]
  },
  {
   "cell_type": "markdown",
   "metadata": {},
   "source": [
    "### Users collection"
   ]
  },
  {
   "cell_type": "code",
   "execution_count": 6,
   "metadata": {},
   "outputs": [],
   "source": [
    "users_columns = {\n",
    "    # users\n",
    "    0: str,\n",
    "    1: str\n",
    "}\n",
    "\n",
    "def read_users(filename):\n",
    "    \"\"\"Parses the users CSV returning a DataFrame.\n",
    "    \n",
    "    Keyword arguments:\n",
    "    filename -- name of the CSV\n",
    "    \"\"\"\n",
    "    print(\"Processing\", ntpath.basename(filename), end=\"\\t\")\n",
    "    df = pd.read_csv(filename, \n",
    "                     low_memory=False, \n",
    "                     keep_default_na=True, \n",
    "                     dtype=users_columns, \n",
    "                     names=['_id', 'username'])\n",
    "    print(\"CSV\", end=\" \")\n",
    "\n",
    "    # Make index as UUID\n",
    "    df['_id'] = df['_id'].apply(make_objid)\n",
    "    print(\"OK\", end=\"; \")\n",
    "    print(\"#:\", len(df), end=\" entries; \")\n",
    "    return df"
   ]
  },
  {
   "cell_type": "code",
   "execution_count": 7,
   "metadata": {},
   "outputs": [
    {
     "name": "stdout",
     "output_type": "stream",
     "text": [
      "Processing users.csv\tCSV OK; #: 2802467 entries; "
     ]
    },
    {
     "data": {
      "text/html": [
       "<div>\n",
       "<style scoped>\n",
       "    .dataframe tbody tr th:only-of-type {\n",
       "        vertical-align: middle;\n",
       "    }\n",
       "\n",
       "    .dataframe tbody tr th {\n",
       "        vertical-align: top;\n",
       "    }\n",
       "\n",
       "    .dataframe thead th {\n",
       "        text-align: right;\n",
       "    }\n",
       "</style>\n",
       "<table border=\"1\" class=\"dataframe\">\n",
       "  <thead>\n",
       "    <tr style=\"text-align: right;\">\n",
       "      <th></th>\n",
       "      <th>_id</th>\n",
       "      <th>username</th>\n",
       "    </tr>\n",
       "  </thead>\n",
       "  <tbody>\n",
       "    <tr>\n",
       "      <td>0</td>\n",
       "      <td>000000000000002266588688</td>\n",
       "      <td>PoderMigrante_N</td>\n",
       "    </tr>\n",
       "    <tr>\n",
       "      <td>1</td>\n",
       "      <td>000000000000000471028961</td>\n",
       "      <td>mabelsaroman</td>\n",
       "    </tr>\n",
       "    <tr>\n",
       "      <td>2</td>\n",
       "      <td>000000000000002792368467</td>\n",
       "      <td>Javi_Diaz2000</td>\n",
       "    </tr>\n",
       "    <tr>\n",
       "      <td>3</td>\n",
       "      <td>000000000000000180918124</td>\n",
       "      <td>RoblexxBlog</td>\n",
       "    </tr>\n",
       "    <tr>\n",
       "      <td>4</td>\n",
       "      <td>000001184444845047386112</td>\n",
       "      <td>ArturoFlexible</td>\n",
       "    </tr>\n",
       "  </tbody>\n",
       "</table>\n",
       "</div>"
      ],
      "text/plain": [
       "                        _id         username\n",
       "0  000000000000002266588688  PoderMigrante_N\n",
       "1  000000000000000471028961     mabelsaroman\n",
       "2  000000000000002792368467    Javi_Diaz2000\n",
       "3  000000000000000180918124      RoblexxBlog\n",
       "4  000001184444845047386112   ArturoFlexible"
      ]
     },
     "metadata": {},
     "output_type": "display_data"
    },
    {
     "name": "stdout",
     "output_type": "stream",
     "text": [
      "Preparing DB operations... "
     ]
    },
    {
     "data": {
      "text/html": [
       "\n",
       "    <div>\n",
       "        <style>\n",
       "            /* Turns off some styling */\n",
       "            progress {\n",
       "                /* gets rid of default border in Firefox and Opera. */\n",
       "                border: none;\n",
       "                /* Needs to be in here for Safari polyfill so background images work as expected. */\n",
       "                background-size: auto;\n",
       "            }\n",
       "            .progress-bar-interrupted, .progress-bar-interrupted::-webkit-progress-bar {\n",
       "                background: #F44336;\n",
       "            }\n",
       "        </style>\n",
       "      <progress value='2802467' class='' max='2802467', style='width:300px; height:20px; vertical-align: middle;'></progress>\n",
       "      100.00% [2802467/2802467 00:38<00:00]\n",
       "    </div>\n",
       "    "
      ],
      "text/plain": [
       "<IPython.core.display.HTML object>"
      ]
     },
     "metadata": {},
     "output_type": "display_data"
    },
    {
     "name": "stdout",
     "output_type": "stream",
     "text": [
      "M:        0  I:    20001  U:        0\n",
      "M:        0  I:    20001  U:        0\n",
      "M:        0  I:    20001  U:        0\n",
      "M:        0  I:    20001  U:        0\n",
      "M:        0  I:    20001  U:        0\n",
      "M:        0  I:    20001  U:        0\n",
      "M:        0  I:    20001  U:        0\n",
      "M:        0  I:    20001  U:        0\n",
      "M:        0  I:    20001  U:        0\n",
      "M:        0  I:    20001  U:        0\n",
      "M:        0  I:    20001  U:        0\n",
      "M:        0  I:    20001  U:        0\n",
      "M:        0  I:    20001  U:        0\n",
      "M:        0  I:    20001  U:        0\n",
      "M:        0  I:    20001  U:        0\n",
      "M:        0  I:    20001  U:        0\n",
      "M:        0  I:    20001  U:        0\n",
      "M:        0  I:    20001  U:        0\n",
      "M:        0  I:    20001  U:        0\n",
      "M:        0  I:    20001  U:        0\n",
      "M:        0  I:    20001  U:        0\n",
      "M:        0  I:    20001  U:        0\n",
      "M:        0  I:    20001  U:        0\n",
      "M:        0  I:    20001  U:        0\n",
      "M:        0  I:    20001  U:        0\n",
      "M:        0  I:    20001  U:        0\n",
      "M:        0  I:    20001  U:        0\n",
      "M:        0  I:    20001  U:        0\n",
      "M:        0  I:    20001  U:        0\n",
      "M:        0  I:    20001  U:        0\n",
      "M:        0  I:    20001  U:        0\n",
      "M:        0  I:    20001  U:        0\n",
      "M:        0  I:    20001  U:        0\n",
      "M:        0  I:    20001  U:        0\n",
      "M:        0  I:    20001  U:        0\n",
      "M:        0  I:    20001  U:        0\n",
      "M:        0  I:    20001  U:        0\n",
      "M:        0  I:    20001  U:        0\n",
      "M:        0  I:    20001  U:        0\n",
      "M:        0  I:    20001  U:        0\n",
      "M:        0  I:    20001  U:        0\n",
      "M:        0  I:    20001  U:        0\n",
      "M:        0  I:    20001  U:        0\n",
      "M:        0  I:    20001  U:        0\n",
      "M:        0  I:    20001  U:        0\n",
      "M:        0  I:    20001  U:        0\n",
      "M:        0  I:    20001  U:        0\n",
      "M:        0  I:    20001  U:        0\n",
      "M:        0  I:    20001  U:        0\n",
      "M:        0  I:    20001  U:        0\n",
      "M:        0  I:    20001  U:        0\n",
      "M:        0  I:    20001  U:        0\n",
      "M:        0  I:    20001  U:        0\n",
      "M:        0  I:    20001  U:        0\n",
      "M:        0  I:    20001  U:        0\n",
      "M:        0  I:    20001  U:        0\n",
      "M:        0  I:    20001  U:        0\n",
      "M:        0  I:    20001  U:        0\n",
      "M:        0  I:    20001  U:        0\n",
      "M:        0  I:    20001  U:        0\n",
      "M:        0  I:    20001  U:        0\n",
      "M:        0  I:    20001  U:        0\n",
      "M:        0  I:    20001  U:        0\n",
      "M:        0  I:    20001  U:        0\n",
      "M:        0  I:    20001  U:        0\n",
      "M:        0  I:    20001  U:        0\n",
      "M:        0  I:    20001  U:        0\n",
      "M:        0  I:    20001  U:        0\n",
      "M:        0  I:    20001  U:        0\n",
      "M:        0  I:    20001  U:        0\n",
      "M:        0  I:    20001  U:        0\n",
      "M:        0  I:    20001  U:        0\n",
      "M:        0  I:    20001  U:        0\n",
      "M:        0  I:    20001  U:        0\n",
      "M:        0  I:    20001  U:        0\n",
      "M:        0  I:    20001  U:        0\n",
      "M:        0  I:    20001  U:        0\n",
      "M:        0  I:    20001  U:        0\n",
      "M:        0  I:    20001  U:        0\n",
      "M:        0  I:    20001  U:        0\n",
      "M:        0  I:    20001  U:        0\n",
      "M:        0  I:    20001  U:        0\n",
      "M:        0  I:    20001  U:        0\n",
      "M:        0  I:    20001  U:        0\n",
      "M:        0  I:    20001  U:        0\n",
      "M:        0  I:    20001  U:        0\n",
      "M:        0  I:    20001  U:        0\n",
      "M:        0  I:    20001  U:        0\n",
      "M:        0  I:    20001  U:        0\n",
      "M:        0  I:    20001  U:        0\n",
      "M:        0  I:    20001  U:        0\n",
      "M:        0  I:    20001  U:        0\n",
      "M:        0  I:    20001  U:        0\n",
      "M:        0  I:    20001  U:        0\n",
      "M:        0  I:    20001  U:        0\n",
      "M:        0  I:    20001  U:        0\n",
      "M:        0  I:    20001  U:        0\n",
      "M:        0  I:    20001  U:        0\n",
      "M:        0  I:    20001  U:        0\n",
      "M:        0  I:    20001  U:        0\n",
      "M:        0  I:    20001  U:        0\n",
      "M:        0  I:    20001  U:        0\n",
      "M:        0  I:    20001  U:        0\n",
      "M:        0  I:    20001  U:        0\n",
      "M:        0  I:    20001  U:        0\n",
      "M:        0  I:    20001  U:        0\n",
      "M:        0  I:    20001  U:        0\n",
      "M:        0  I:    20001  U:        0\n",
      "M:        0  I:    20001  U:        0\n",
      "M:        0  I:    20001  U:        0\n",
      "M:        0  I:    20001  U:        0\n",
      "M:        0  I:    20001  U:        0\n",
      "M:        0  I:    20001  U:        0\n",
      "M:        0  I:    20001  U:        0\n",
      "M:        0  I:    20001  U:        0\n",
      "M:        0  I:    20001  U:        0\n",
      "M:        0  I:    20001  U:        0\n",
      "M:        0  I:    20001  U:        0\n",
      "M:        0  I:    20001  U:        0\n",
      "M:        0  I:    20001  U:        0\n",
      "M:        0  I:    20001  U:        0\n",
      "M:        0  I:    20001  U:        0\n",
      "M:        0  I:    20001  U:        0\n",
      "M:        0  I:    20001  U:        0\n",
      "M:        0  I:    20001  U:        0\n",
      "M:        0  I:    20001  U:        0\n",
      "M:        0  I:    20001  U:        0\n",
      "M:        0  I:    20001  U:        0\n",
      "M:        0  I:    20001  U:        0\n",
      "M:        0  I:    20001  U:        0\n",
      "M:        0  I:    20001  U:        0\n",
      "M:        0  I:    20001  U:        0\n",
      "M:        0  I:    20001  U:        0\n",
      "M:        0  I:    20001  U:        0\n",
      "M:        0  I:    20001  U:        0\n",
      "M:        0  I:    20001  U:        0\n",
      "M:        0  I:    20001  U:        0\n",
      "M:        0  I:    20001  U:        0\n",
      "M:        0  I:    20001  U:        0\n",
      "M:        0  I:    20001  U:        0\n",
      "M:        0  I:     2327  U:        0\n",
      "CPU times: user 39.6 s, sys: 1.5 s, total: 41.1 s\n",
      "Wall time: 59.7 s\n"
     ]
    }
   ],
   "source": [
    "%%time\n",
    "df_users = read_users(DATA_DIR+'dataset/users.csv')\n",
    "display(df_users.head())\n",
    "df_to_mongodb(df_users, db.users)"
   ]
  },
  {
   "cell_type": "markdown",
   "metadata": {},
   "source": [
    "### Hashtags collection"
   ]
  },
  {
   "cell_type": "code",
   "execution_count": 8,
   "metadata": {},
   "outputs": [],
   "source": [
    "hashtags_columns = {\n",
    "    # hashtags\n",
    "    0: str,\n",
    "    1: str\n",
    "}\n",
    "\n",
    "def read_hashtags(filename):\n",
    "    \"\"\"Parses the hashtags CSV returning a DataFrame.\n",
    "    \n",
    "    Keyword arguments:\n",
    "    filename -- name of the CSV\n",
    "    \"\"\"\n",
    "    print(\"Processing\", ntpath.basename(filename), end=\"\\t\")\n",
    "    df = pd.read_csv(filename, \n",
    "                     low_memory=False, \n",
    "                     keep_default_na=True, \n",
    "                     dtype=hashtags_columns, \n",
    "                     names=['tweet_id', 'hashtag'])\n",
    "    print(\"CSV\", end=\" \")\n",
    "\n",
    "    # Make index\n",
    "    df['tweet_id'] = df['tweet_id'].apply(make_uuid)\n",
    "    print(\"OK\", end=\"; \")\n",
    "    print(\"#:\", len(df), end=\" entries; \")\n",
    "    return df"
   ]
  },
  {
   "cell_type": "code",
   "execution_count": null,
   "metadata": {},
   "outputs": [],
   "source": [
    "%%time\n",
    "df_hashtags = read_hashtags(DATA_DIR+'dataset/hashtags.csv')\n",
    "display(df_hashtags.head())\n",
    "df_to_mongodb(df_hashtags, db.hashtags)"
   ]
  },
  {
   "cell_type": "markdown",
   "metadata": {},
   "source": [
    "### Mentions collection"
   ]
  },
  {
   "cell_type": "code",
   "execution_count": 10,
   "metadata": {},
   "outputs": [],
   "source": [
    "mentions_columns = {\n",
    "    # hashtags\n",
    "    0: str,\n",
    "    1: str\n",
    "}\n",
    "\n",
    "def read_mentions(filename):\n",
    "    \"\"\"Parses the mentions CSV returning a DataFrame.\n",
    "    \n",
    "    Keyword arguments:\n",
    "    filename -- name of the CSV\n",
    "    \"\"\"\n",
    "    print(\"Processing\", ntpath.basename(filename), end=\"\\t\")\n",
    "    df = pd.read_csv(filename, \n",
    "                     low_memory=False, \n",
    "                     keep_default_na=True, \n",
    "                     dtype=mentions_columns, \n",
    "                     names=['user_id','tweet_id'])\n",
    "    print(\"CSV\", end=\" \")\n",
    "\n",
    "    # Make indexes\n",
    "    df['tweet_id'] = df['tweet_id'].apply(make_uuid)\n",
    "    df['user_id'] = df['user_id'].apply(make_objid)\n",
    "\n",
    "    print(\"OK\", end=\"; \")\n",
    "    print(\"#:\", len(df), end=\" entries; \")\n",
    "    return df"
   ]
  },
  {
   "cell_type": "code",
   "execution_count": null,
   "metadata": {},
   "outputs": [],
   "source": [
    "%%time\n",
    "df_mentions = read_mentions(DATA_DIR+'dataset/mentions.csv')\n",
    "display(df_mentions.head())\n",
    "df_to_mongodb(df_mentions, db.mentions)"
   ]
  },
  {
   "cell_type": "markdown",
   "metadata": {},
   "source": [
    "### Retweets collection"
   ]
  },
  {
   "cell_type": "code",
   "execution_count": 12,
   "metadata": {},
   "outputs": [],
   "source": [
    "retweets_columns = {\n",
    "    0: str,\n",
    "    1: str,\n",
    "    2: str,\n",
    "    3: str\n",
    "}\n",
    "\n",
    "def read_retweets(filename):\n",
    "    \"\"\"Parses the retweets CSV returning a DataFrame.\n",
    "    \n",
    "    Keyword arguments:\n",
    "    filename -- name of the CSV\n",
    "    \"\"\"\n",
    "    print(\"Processing\", ntpath.basename(filename), end=\"\\t\")\n",
    "    df = pd.read_csv(filename, \n",
    "                     low_memory=False, \n",
    "                     keep_default_na=True, \n",
    "                     dtype=retweets_columns, \n",
    "                     names=['_id', 'tweet_id', 'user_id', 'date']\n",
    "                    )\n",
    "    \n",
    "    print(\"CSV\", end=\" \")\n",
    "\n",
    "    # Make index\n",
    "    df['_id'] = df['_id'].apply(make_objid)\n",
    "    df['tweet_id'] = df['tweet_id'].apply(make_objid)\n",
    "    df['user_id'] = df['user_id'].apply(make_objid)\n",
    "    \n",
    "    df['date'] = pd.to_datetime(df['date'], infer_datetime_format=False, format=\"%Y-%m-%d %H:%M:%S\")\n",
    "\n",
    "\n",
    "    print(\"OK\", end=\"; \")\n",
    "    print(\"#:\", len(df), end=\" entries; \")\n",
    "    return df"
   ]
  },
  {
   "cell_type": "code",
   "execution_count": null,
   "metadata": {},
   "outputs": [],
   "source": [
    "%%time\n",
    "df_retweets = read_retweets(DATA_DIR+'dataset/retweets.csv')\n",
    "display(df_retweets.head())\n",
    "df_to_mongodb(df_retweets, db.retweets)"
   ]
  },
  {
   "cell_type": "markdown",
   "metadata": {},
   "source": [
    "## Check data coherence"
   ]
  },
  {
   "cell_type": "code",
   "execution_count": 6,
   "metadata": {},
   "outputs": [],
   "source": [
    "def flatten(d, parent_key='', sep='_'):\n",
    "    \"\"\"Formats MongoDB results\n",
    "    \n",
    "    Keyword arguments:\n",
    "    d -- dictionary with key and uncleaned values\n",
    "    parent_key --\n",
    "    sep --\n",
    "    \"\"\"\n",
    "    items = []\n",
    "    for k, v in d.items():\n",
    "        new_key = parent_key + sep + k if parent_key else k\n",
    "        if isinstance(v, MutableMapping):\n",
    "            items.extend(flatten(v, new_key, sep=sep).items())\n",
    "        else:\n",
    "            items.append((new_key, v))\n",
    "    return dict(items)"
   ]
  },
  {
   "cell_type": "markdown",
   "metadata": {},
   "source": [
    "## Load CSV in MongoDB"
   ]
  },
  {
   "cell_type": "markdown",
   "metadata": {},
   "source": [
    "### Tweets"
   ]
  },
  {
   "cell_type": "code",
   "execution_count": 7,
   "metadata": {},
   "outputs": [],
   "source": [
    "def get_tweets(collection):\n",
    "    \"\"\"\n",
    "    Gets tweets\n",
    "    \n",
    "    collection - Tweets MongoDB collection\n",
    "    \"\"\"\n",
    "    tweets = list(collection.find({},\n",
    "                                 {'_id' : True, 'user_id' : True, 'tweet_id' : True}))\n",
    "    \n",
    "    print(\"Number of tweets in DB:\", len(tweets))\n",
    "    tweets = [flatten(t) for t in tweets]\n",
    "    df_tweets = pd.DataFrame(tweets)\n",
    "    return df_tweets"
   ]
  },
  {
   "cell_type": "code",
   "execution_count": 8,
   "metadata": {},
   "outputs": [
    {
     "name": "stdout",
     "output_type": "stream",
     "text": [
      "Number of tweets in DB: 1875457\n"
     ]
    },
    {
     "data": {
      "text/html": [
       "<div>\n",
       "<style scoped>\n",
       "    .dataframe tbody tr th:only-of-type {\n",
       "        vertical-align: middle;\n",
       "    }\n",
       "\n",
       "    .dataframe tbody tr th {\n",
       "        vertical-align: top;\n",
       "    }\n",
       "\n",
       "    .dataframe thead th {\n",
       "        text-align: right;\n",
       "    }\n",
       "</style>\n",
       "<table border=\"1\" class=\"dataframe\">\n",
       "  <thead>\n",
       "    <tr style=\"text-align: right;\">\n",
       "      <th></th>\n",
       "      <th>_id</th>\n",
       "      <th>user_id</th>\n",
       "      <th>tweet_id</th>\n",
       "    </tr>\n",
       "  </thead>\n",
       "  <tbody>\n",
       "    <tr>\n",
       "      <td>0</td>\n",
       "      <td>a86e778c-46a3-11ea-9505-02420a0000af</td>\n",
       "      <td>000000000000000276977398</td>\n",
       "      <td>000001191462058602192907</td>\n",
       "    </tr>\n",
       "    <tr>\n",
       "      <td>1</td>\n",
       "      <td>44a195f2-468c-11ea-9505-02420a0000af</td>\n",
       "      <td>000000000000002906096735</td>\n",
       "      <td>000001191481739606183937</td>\n",
       "    </tr>\n",
       "    <tr>\n",
       "      <td>2</td>\n",
       "      <td>44a1996c-468c-11ea-9505-02420a0000af</td>\n",
       "      <td>000000000000001620996282</td>\n",
       "      <td>000001191488966639443968</td>\n",
       "    </tr>\n",
       "    <tr>\n",
       "      <td>3</td>\n",
       "      <td>75dba318-46a7-11ea-9505-02420a0000af</td>\n",
       "      <td>000001163542858604916739</td>\n",
       "      <td>000001191464452987772928</td>\n",
       "    </tr>\n",
       "    <tr>\n",
       "      <td>4</td>\n",
       "      <td>77c4e81a-46a7-11ea-9505-02420a0000af</td>\n",
       "      <td>000000000000000279465279</td>\n",
       "      <td>000001191464087064109058</td>\n",
       "    </tr>\n",
       "  </tbody>\n",
       "</table>\n",
       "</div>"
      ],
      "text/plain": [
       "                                    _id                   user_id  \\\n",
       "0  a86e778c-46a3-11ea-9505-02420a0000af  000000000000000276977398   \n",
       "1  44a195f2-468c-11ea-9505-02420a0000af  000000000000002906096735   \n",
       "2  44a1996c-468c-11ea-9505-02420a0000af  000000000000001620996282   \n",
       "3  75dba318-46a7-11ea-9505-02420a0000af  000001163542858604916739   \n",
       "4  77c4e81a-46a7-11ea-9505-02420a0000af  000000000000000279465279   \n",
       "\n",
       "                   tweet_id  \n",
       "0  000001191462058602192907  \n",
       "1  000001191481739606183937  \n",
       "2  000001191488966639443968  \n",
       "3  000001191464452987772928  \n",
       "4  000001191464087064109058  "
      ]
     },
     "metadata": {},
     "output_type": "display_data"
    },
    {
     "name": "stdout",
     "output_type": "stream",
     "text": [
      "CPU times: user 26.2 s, sys: 1.89 s, total: 28.1 s\n",
      "Wall time: 29.6 s\n"
     ]
    }
   ],
   "source": [
    "%%time\n",
    "df_tweets = get_tweets(db.tweets)\n",
    "display(df_tweets.head(5))"
   ]
  },
  {
   "cell_type": "markdown",
   "metadata": {},
   "source": [
    "### Users"
   ]
  },
  {
   "cell_type": "code",
   "execution_count": 9,
   "metadata": {},
   "outputs": [],
   "source": [
    "def get_users(collection):\n",
    "    \"\"\"\n",
    "    Gets users\n",
    "    \n",
    "    collection - Users MongoDB collection\n",
    "    \"\"\"\n",
    "    users = list(collection.find({},\n",
    "                                 {'_id' : True}))\n",
    "    \n",
    "    print(\"Number of users in DB:\", len(users))\n",
    "    users = [flatten(u) for u in users]\n",
    "    df_users = pd.DataFrame(users)\n",
    "    return df_users"
   ]
  },
  {
   "cell_type": "code",
   "execution_count": 10,
   "metadata": {},
   "outputs": [
    {
     "name": "stdout",
     "output_type": "stream",
     "text": [
      "Number of users in DB: 2802467\n"
     ]
    },
    {
     "data": {
      "text/html": [
       "<div>\n",
       "<style scoped>\n",
       "    .dataframe tbody tr th:only-of-type {\n",
       "        vertical-align: middle;\n",
       "    }\n",
       "\n",
       "    .dataframe tbody tr th {\n",
       "        vertical-align: top;\n",
       "    }\n",
       "\n",
       "    .dataframe thead th {\n",
       "        text-align: right;\n",
       "    }\n",
       "</style>\n",
       "<table border=\"1\" class=\"dataframe\">\n",
       "  <thead>\n",
       "    <tr style=\"text-align: right;\">\n",
       "      <th></th>\n",
       "      <th>_id</th>\n",
       "    </tr>\n",
       "  </thead>\n",
       "  <tbody>\n",
       "    <tr>\n",
       "      <td>0</td>\n",
       "      <td>000000000000002266588688</td>\n",
       "    </tr>\n",
       "    <tr>\n",
       "      <td>1</td>\n",
       "      <td>000000000000000471028961</td>\n",
       "    </tr>\n",
       "    <tr>\n",
       "      <td>2</td>\n",
       "      <td>000000000000002792368467</td>\n",
       "    </tr>\n",
       "    <tr>\n",
       "      <td>3</td>\n",
       "      <td>000000000000000180918124</td>\n",
       "    </tr>\n",
       "    <tr>\n",
       "      <td>4</td>\n",
       "      <td>000001184444845047386112</td>\n",
       "    </tr>\n",
       "  </tbody>\n",
       "</table>\n",
       "</div>"
      ],
      "text/plain": [
       "                        _id\n",
       "0  000000000000002266588688\n",
       "1  000000000000000471028961\n",
       "2  000000000000002792368467\n",
       "3  000000000000000180918124\n",
       "4  000001184444845047386112"
      ]
     },
     "metadata": {},
     "output_type": "display_data"
    },
    {
     "name": "stdout",
     "output_type": "stream",
     "text": [
      "CPU times: user 20.5 s, sys: 1.9 s, total: 22.4 s\n",
      "Wall time: 24.1 s\n"
     ]
    }
   ],
   "source": [
    "%%time\n",
    "df_users = get_users(db.users)\n",
    "display(df_users.head(5))"
   ]
  },
  {
   "cell_type": "markdown",
   "metadata": {},
   "source": [
    "#### Checking tweets without users"
   ]
  },
  {
   "cell_type": "code",
   "execution_count": 14,
   "metadata": {},
   "outputs": [
    {
     "name": "stdout",
     "output_type": "stream",
     "text": [
      "0\n",
      "CPU times: user 4.89 s, sys: 0 ns, total: 4.89 s\n",
      "Wall time: 4.89 s\n"
     ]
    }
   ],
   "source": [
    "%%time\n",
    "tweets_without_users =  df_tweets[~df_tweets.user_id.isin(df_users._id)]\n",
    "print(len(tweets_without_users))"
   ]
  },
  {
   "cell_type": "markdown",
   "metadata": {},
   "source": [
    "#### Checking users without tweets"
   ]
  },
  {
   "cell_type": "code",
   "execution_count": 11,
   "metadata": {},
   "outputs": [
    {
     "name": "stdout",
     "output_type": "stream",
     "text": [
      "2426541\n",
      "CPU times: user 3.76 s, sys: 0 ns, total: 3.76 s\n",
      "Wall time: 3.76 s\n"
     ]
    }
   ],
   "source": [
    "%%time\n",
    "users_without_tweets =  df_users[~df_users._id.isin(df_tweets.user_id)]\n",
    "print(len(users_without_tweets))"
   ]
  },
  {
   "cell_type": "markdown",
   "metadata": {},
   "source": [
    "### Retweets"
   ]
  },
  {
   "cell_type": "code",
   "execution_count": 14,
   "metadata": {},
   "outputs": [],
   "source": [
    "def get_retweets(collection):\n",
    "    \"\"\"\n",
    "    Gets retweets\n",
    "    \n",
    "    collection - Retweets MongoDB collection\n",
    "    \"\"\"\n",
    "    retweets = list(collection.find({},\n",
    "                                 {'_id': False, 'tweet_id' : True, 'user_id' : True}))\n",
    "    \n",
    "    print(\"Number of retweets in DB:\", len(retweets))\n",
    "    retweets = [flatten(r) for r in retweets]\n",
    "    df_retweets = pd.DataFrame(retweets)\n",
    "    return df_retweets"
   ]
  },
  {
   "cell_type": "code",
   "execution_count": 15,
   "metadata": {},
   "outputs": [
    {
     "name": "stdout",
     "output_type": "stream",
     "text": [
      "Number of retweets in DB: 39344305\n"
     ]
    },
    {
     "data": {
      "text/html": [
       "<div>\n",
       "<style scoped>\n",
       "    .dataframe tbody tr th:only-of-type {\n",
       "        vertical-align: middle;\n",
       "    }\n",
       "\n",
       "    .dataframe tbody tr th {\n",
       "        vertical-align: top;\n",
       "    }\n",
       "\n",
       "    .dataframe thead th {\n",
       "        text-align: right;\n",
       "    }\n",
       "</style>\n",
       "<table border=\"1\" class=\"dataframe\">\n",
       "  <thead>\n",
       "    <tr style=\"text-align: right;\">\n",
       "      <th></th>\n",
       "      <th>_id</th>\n",
       "      <th>tweet_id</th>\n",
       "      <th>user_id</th>\n",
       "    </tr>\n",
       "  </thead>\n",
       "  <tbody>\n",
       "    <tr>\n",
       "      <td>0</td>\n",
       "      <td>000001193668589628383234</td>\n",
       "      <td>000001193667913368121351</td>\n",
       "      <td>000000000000004460826197</td>\n",
       "    </tr>\n",
       "    <tr>\n",
       "      <td>1</td>\n",
       "      <td>000001192582587753140230</td>\n",
       "      <td>000001192581634291355649</td>\n",
       "      <td>000001075150211725619200</td>\n",
       "    </tr>\n",
       "    <tr>\n",
       "      <td>2</td>\n",
       "      <td>000001185317085502738433</td>\n",
       "      <td>000001185312751301906433</td>\n",
       "      <td>000000000000003251522811</td>\n",
       "    </tr>\n",
       "    <tr>\n",
       "      <td>3</td>\n",
       "      <td>000001190660503070236672</td>\n",
       "      <td>000001190659978471911424</td>\n",
       "      <td>000000000000000904385876</td>\n",
       "    </tr>\n",
       "    <tr>\n",
       "      <td>4</td>\n",
       "      <td>000001190660746096644099</td>\n",
       "      <td>000001190659978471911424</td>\n",
       "      <td>000000952575694021758976</td>\n",
       "    </tr>\n",
       "  </tbody>\n",
       "</table>\n",
       "</div>"
      ],
      "text/plain": [
       "                        _id                  tweet_id  \\\n",
       "0  000001193668589628383234  000001193667913368121351   \n",
       "1  000001192582587753140230  000001192581634291355649   \n",
       "2  000001185317085502738433  000001185312751301906433   \n",
       "3  000001190660503070236672  000001190659978471911424   \n",
       "4  000001190660746096644099  000001190659978471911424   \n",
       "\n",
       "                    user_id  \n",
       "0  000000000000004460826197  \n",
       "1  000001075150211725619200  \n",
       "2  000000000000003251522811  \n",
       "3  000000000000000904385876  \n",
       "4  000000952575694021758976  "
      ]
     },
     "metadata": {},
     "output_type": "display_data"
    },
    {
     "name": "stdout",
     "output_type": "stream",
     "text": [
      "CPU times: user 8min 22s, sys: 44.3 s, total: 9min 7s\n",
      "Wall time: 9min 33s\n"
     ]
    }
   ],
   "source": [
    "%%time\n",
    "df_retweets = get_retweets(db.retweets)\n",
    "display(df_retweets.head(5))"
   ]
  },
  {
   "cell_type": "markdown",
   "metadata": {},
   "source": [
    "#### Checking retweets without referenced tweet"
   ]
  },
  {
   "cell_type": "code",
   "execution_count": 16,
   "metadata": {},
   "outputs": [
    {
     "name": "stdout",
     "output_type": "stream",
     "text": [
      "0\n",
      "CPU times: user 34.2 s, sys: 419 ms, total: 34.6 s\n",
      "Wall time: 34.6 s\n"
     ]
    }
   ],
   "source": [
    "%%time\n",
    "retweets_without_tweet =  df_retweets[~df_retweets.tweet_id.isin(df_tweets.tweet_id)]\n",
    "print(len(retweets_without_tweet))"
   ]
  },
  {
   "cell_type": "markdown",
   "metadata": {},
   "source": [
    "#### Checking retweets without user"
   ]
  },
  {
   "cell_type": "code",
   "execution_count": 17,
   "metadata": {},
   "outputs": [
    {
     "name": "stdout",
     "output_type": "stream",
     "text": [
      "0\n",
      "CPU times: user 55.7 s, sys: 62.4 ms, total: 55.8 s\n",
      "Wall time: 55.8 s\n"
     ]
    }
   ],
   "source": [
    "%%time\n",
    "retweets_without_user =  df_retweets[~df_retweets.user_id.isin(df_users._id)]\n",
    "print(len(retweets_without_user))"
   ]
  },
  {
   "cell_type": "markdown",
   "metadata": {},
   "source": [
    "### Mentions"
   ]
  },
  {
   "cell_type": "code",
   "execution_count": 18,
   "metadata": {},
   "outputs": [],
   "source": [
    "def get_mentions(collection):\n",
    "    \"\"\"\n",
    "    Gets mentions\n",
    "    \n",
    "    collection - Mentions MongoDB collection\n",
    "    \"\"\"\n",
    "    mentions = list(collection.find({},\n",
    "                                 {'_id': False, 'tweet_id' : True, 'user_id' : True}))\n",
    "    \n",
    "    print(\"Number of mentions in DB:\", len(mentions))\n",
    "    mentions = [flatten(m) for m in mentions]\n",
    "    df_mentions = pd.DataFrame(mentions)\n",
    "    return df_mentions"
   ]
  },
  {
   "cell_type": "code",
   "execution_count": 19,
   "metadata": {},
   "outputs": [
    {
     "name": "stdout",
     "output_type": "stream",
     "text": [
      "Number of mentions in DB: 2047447\n"
     ]
    },
    {
     "data": {
      "text/html": [
       "<div>\n",
       "<style scoped>\n",
       "    .dataframe tbody tr th:only-of-type {\n",
       "        vertical-align: middle;\n",
       "    }\n",
       "\n",
       "    .dataframe tbody tr th {\n",
       "        vertical-align: top;\n",
       "    }\n",
       "\n",
       "    .dataframe thead th {\n",
       "        text-align: right;\n",
       "    }\n",
       "</style>\n",
       "<table border=\"1\" class=\"dataframe\">\n",
       "  <thead>\n",
       "    <tr style=\"text-align: right;\">\n",
       "      <th></th>\n",
       "      <th>user_id</th>\n",
       "      <th>tweet_id</th>\n",
       "    </tr>\n",
       "  </thead>\n",
       "  <tbody>\n",
       "    <tr>\n",
       "      <td>0</td>\n",
       "      <td>000000000000000405499878</td>\n",
       "      <td>c677460e-468b-11ea-9505-02420a0000af</td>\n",
       "    </tr>\n",
       "    <tr>\n",
       "      <td>1</td>\n",
       "      <td>000000850752506972045314</td>\n",
       "      <td>c677460e-468b-11ea-9505-02420a0000af</td>\n",
       "    </tr>\n",
       "    <tr>\n",
       "      <td>2</td>\n",
       "      <td>000000000000000081553608</td>\n",
       "      <td>c677460e-468b-11ea-9505-02420a0000af</td>\n",
       "    </tr>\n",
       "    <tr>\n",
       "      <td>3</td>\n",
       "      <td>000000000000000068740712</td>\n",
       "      <td>c677460e-468b-11ea-9505-02420a0000af</td>\n",
       "    </tr>\n",
       "    <tr>\n",
       "      <td>4</td>\n",
       "      <td>000000000000000013623532</td>\n",
       "      <td>1bc32100-46cd-11ea-9505-02420a0000af</td>\n",
       "    </tr>\n",
       "  </tbody>\n",
       "</table>\n",
       "</div>"
      ],
      "text/plain": [
       "                    user_id                              tweet_id\n",
       "0  000000000000000405499878  c677460e-468b-11ea-9505-02420a0000af\n",
       "1  000000850752506972045314  c677460e-468b-11ea-9505-02420a0000af\n",
       "2  000000000000000081553608  c677460e-468b-11ea-9505-02420a0000af\n",
       "3  000000000000000068740712  c677460e-468b-11ea-9505-02420a0000af\n",
       "4  000000000000000013623532  1bc32100-46cd-11ea-9505-02420a0000af"
      ]
     },
     "metadata": {},
     "output_type": "display_data"
    },
    {
     "name": "stdout",
     "output_type": "stream",
     "text": [
      "CPU times: user 18.6 s, sys: 51.7 ms, total: 18.6 s\n",
      "Wall time: 20 s\n"
     ]
    }
   ],
   "source": [
    "%%time\n",
    "df_mentions = get_mentions(db.mentions)\n",
    "display(df_mentions.head(5))"
   ]
  },
  {
   "cell_type": "markdown",
   "metadata": {},
   "source": [
    "#### Checking mentions without referenced tweet"
   ]
  },
  {
   "cell_type": "code",
   "execution_count": 20,
   "metadata": {},
   "outputs": [
    {
     "name": "stdout",
     "output_type": "stream",
     "text": [
      "0\n",
      "CPU times: user 9min 58s, sys: 215 ms, total: 9min 58s\n",
      "Wall time: 9min 58s\n"
     ]
    }
   ],
   "source": [
    "%%time\n",
    "mentions_without_tweet =  df_mentions[~df_mentions.tweet_id.isin(df_tweets._id)]\n",
    "print(len(mentions_without_tweet))"
   ]
  },
  {
   "cell_type": "markdown",
   "metadata": {},
   "source": [
    "#### Checking mentions without user"
   ]
  },
  {
   "cell_type": "code",
   "execution_count": 21,
   "metadata": {},
   "outputs": [
    {
     "name": "stdout",
     "output_type": "stream",
     "text": [
      "124762\n",
      "CPU times: user 5.16 s, sys: 7.68 ms, total: 5.16 s\n",
      "Wall time: 5.16 s\n"
     ]
    }
   ],
   "source": [
    "%%time\n",
    "mentions_without_user =  df_mentions[~df_mentions.user_id.isin(df_users._id)]\n",
    "print(len(mentions_without_user))"
   ]
  },
  {
   "cell_type": "markdown",
   "metadata": {},
   "source": [
    "### Mentions"
   ]
  },
  {
   "cell_type": "code",
   "execution_count": 24,
   "metadata": {},
   "outputs": [],
   "source": [
    "def get_hashtags(collection):\n",
    "    \"\"\"\n",
    "    Gets mentions\n",
    "    \n",
    "    collection - Hashtags MongoDB collection\n",
    "    \"\"\"\n",
    "    hashtags = list(collection.find({},\n",
    "                                 {'_id': False, 'tweet_id' : True}))\n",
    "    \n",
    "    print(\"Number of hashtags in DB:\", len(hashtags))\n",
    "    hashtags = [flatten(h) for h in hashtags]\n",
    "    df_hashtags = pd.DataFrame(hashtags)\n",
    "    return df_hashtags"
   ]
  },
  {
   "cell_type": "code",
   "execution_count": 26,
   "metadata": {},
   "outputs": [
    {
     "name": "stdout",
     "output_type": "stream",
     "text": [
      "Number of hashtags in DB: 2603272\n"
     ]
    },
    {
     "data": {
      "text/html": [
       "<div>\n",
       "<style scoped>\n",
       "    .dataframe tbody tr th:only-of-type {\n",
       "        vertical-align: middle;\n",
       "    }\n",
       "\n",
       "    .dataframe tbody tr th {\n",
       "        vertical-align: top;\n",
       "    }\n",
       "\n",
       "    .dataframe thead th {\n",
       "        text-align: right;\n",
       "    }\n",
       "</style>\n",
       "<table border=\"1\" class=\"dataframe\">\n",
       "  <thead>\n",
       "    <tr style=\"text-align: right;\">\n",
       "      <th></th>\n",
       "      <th>tweet_id</th>\n",
       "    </tr>\n",
       "  </thead>\n",
       "  <tbody>\n",
       "    <tr>\n",
       "      <td>0</td>\n",
       "      <td>f7c581e4-4681-11ea-a6d9-02420a000681</td>\n",
       "    </tr>\n",
       "    <tr>\n",
       "      <td>1</td>\n",
       "      <td>f7c581e4-4681-11ea-a6d9-02420a000681</td>\n",
       "    </tr>\n",
       "    <tr>\n",
       "      <td>2</td>\n",
       "      <td>f7c581e4-4681-11ea-a6d9-02420a000681</td>\n",
       "    </tr>\n",
       "    <tr>\n",
       "      <td>3</td>\n",
       "      <td>c677460e-468b-11ea-9505-02420a0000af</td>\n",
       "    </tr>\n",
       "    <tr>\n",
       "      <td>4</td>\n",
       "      <td>c677460e-468b-11ea-9505-02420a0000af</td>\n",
       "    </tr>\n",
       "  </tbody>\n",
       "</table>\n",
       "</div>"
      ],
      "text/plain": [
       "                               tweet_id\n",
       "0  f7c581e4-4681-11ea-a6d9-02420a000681\n",
       "1  f7c581e4-4681-11ea-a6d9-02420a000681\n",
       "2  f7c581e4-4681-11ea-a6d9-02420a000681\n",
       "3  c677460e-468b-11ea-9505-02420a0000af\n",
       "4  c677460e-468b-11ea-9505-02420a0000af"
      ]
     },
     "metadata": {},
     "output_type": "display_data"
    },
    {
     "name": "stdout",
     "output_type": "stream",
     "text": [
      "CPU times: user 22.8 s, sys: 83.8 ms, total: 22.9 s\n",
      "Wall time: 24.4 s\n"
     ]
    }
   ],
   "source": [
    "%%time\n",
    "df_hashtags = get_hashtags(db.hashtags)\n",
    "display(df_hashtags.head(5))"
   ]
  },
  {
   "cell_type": "markdown",
   "metadata": {},
   "source": [
    "#### Checking hashtags without tweet"
   ]
  },
  {
   "cell_type": "code",
   "execution_count": 27,
   "metadata": {},
   "outputs": [
    {
     "name": "stdout",
     "output_type": "stream",
     "text": [
      "0\n",
      "CPU times: user 12min 42s, sys: 312 ms, total: 12min 42s\n",
      "Wall time: 12min 42s\n"
     ]
    }
   ],
   "source": [
    "%%time\n",
    "hashtags_without_tweet =  df_hashtags[~df_hashtags.tweet_id.isin(df_tweets._id)]\n",
    "print(len(hashtags_without_tweet))"
   ]
  },
  {
   "cell_type": "markdown",
   "metadata": {},
   "source": [
    "## Other checkings"
   ]
  },
  {
   "cell_type": "markdown",
   "metadata": {},
   "source": [
    "#### Freq of each user"
   ]
  },
  {
   "cell_type": "code",
   "execution_count": 28,
   "metadata": {},
   "outputs": [],
   "source": [
    "freq = df_tweets.user_id.value_counts()"
   ]
  },
  {
   "cell_type": "code",
   "execution_count": 31,
   "metadata": {},
   "outputs": [],
   "source": [
    "freq2 = df_retweets.user_id.value_counts()"
   ]
  },
  {
   "cell_type": "code",
   "execution_count": 32,
   "metadata": {},
   "outputs": [
    {
     "data": {
      "text/plain": [
       "000000000000002479879152    15063\n",
       "000000000000003064247597    11116\n",
       "000000000000003387713985     9539\n",
       "000001061332198266204164     9475\n",
       "000000000000001723241016     8468\n",
       "000000830507792998027266     8062\n",
       "000000000000000128534745     7859\n",
       "000000825432095577296896     7838\n",
       "000000000000002420883178     7763\n",
       "000000000000000216711237     7700\n",
       "Name: user_id, dtype: int64"
      ]
     },
     "execution_count": 32,
     "metadata": {},
     "output_type": "execute_result"
    }
   ],
   "source": [
    "freq2.head(10)"
   ]
  },
  {
   "cell_type": "code",
   "execution_count": 33,
   "metadata": {},
   "outputs": [
    {
     "data": {
      "text/plain": [
       "000000000000000000001054     1.0\n",
       "000000000000000000001059     1.0\n",
       "000000000000000000002862     1.0\n",
       "000000000000000000003065    13.0\n",
       "000000000000000000003911     1.0\n",
       "000000000000000000003968     5.0\n",
       "000000000000000000003971    60.0\n",
       "000000000000000000005748     1.0\n",
       "000000000000000000005803     3.0\n",
       "000000000000000000006490     4.0\n",
       "Name: user_id, dtype: float64"
      ]
     },
     "metadata": {},
     "output_type": "display_data"
    }
   ],
   "source": [
    "fsum = freq.add(freq2, fill_value=0)\n",
    "display(fsum.head(10))"
   ]
  },
  {
   "cell_type": "code",
   "execution_count": 50,
   "metadata": {},
   "outputs": [],
   "source": [
    "fsum.to_pickle(path=DATA_DIR+'users_freq.pickle')"
   ]
  }
 ],
 "metadata": {
  "kernelspec": {
   "display_name": "Python 3",
   "language": "python",
   "name": "python3"
  },
  "language_info": {
   "codemirror_mode": {
    "name": "ipython",
    "version": 3
   },
   "file_extension": ".py",
   "mimetype": "text/x-python",
   "name": "python",
   "nbconvert_exporter": "python",
   "pygments_lexer": "ipython3",
   "version": "3.7.4"
  }
 },
 "nbformat": 4,
 "nbformat_minor": 4
}
